{
  "nbformat": 4,
  "nbformat_minor": 0,
  "metadata": {
    "colab": {
      "provenance": [],
      "include_colab_link": true
    },
    "kernelspec": {
      "name": "python3",
      "display_name": "Python 3"
    },
    "language_info": {
      "name": "python"
    }
  },
  "cells": [
    {
      "cell_type": "markdown",
      "metadata": {
        "id": "view-in-github",
        "colab_type": "text"
      },
      "source": [
        "<a href=\"https://colab.research.google.com/github/1kaiser/test2022/blob/main/Rainfall_IMDLIB.ipynb\" target=\"_parent\"><img src=\"https://colab.research.google.com/assets/colab-badge.svg\" alt=\"Open In Colab\"/></a>"
      ]
    },
    {
      "cell_type": "markdown",
      "source": [
        "**Script to download IMD Gridded data into CSV file**\n"
      ],
      "metadata": {
        "id": "3lKIfkwzQSFm"
      }
    },
    {
      "cell_type": "code",
      "source": [
        "from google.colab import drive\n",
        "drive.mount('/content/drive')"
      ],
      "metadata": {
        "id": "8ymCHzEiP4L_"
      },
      "execution_count": null,
      "outputs": []
    },
    {
      "cell_type": "code",
      "source": [
        "!python -m pip install imdlib"
      ],
      "metadata": {
        "id": "EGD59HRi9Qls",
        "colab": {
          "base_uri": "https://localhost:8080/"
        },
        "outputId": "a7017bce-1e92-4164-f995-ccac3c433402"
      },
      "execution_count": 2,
      "outputs": [
        {
          "output_type": "stream",
          "name": "stdout",
          "text": [
            "Installing collected packages: imdlib\n",
            "Successfully installed imdlib-0.1.15\n"
          ]
        }
      ]
    },
    {
      "cell_type": "code",
      "execution_count": 4,
      "metadata": {
        "id": "xnxDLwE99JvY",
        "colab": {
          "base_uri": "https://localhost:8080/"
        },
        "outputId": "efb88da5-e9ae-4cce-f0c4-90f24301e222"
      },
      "outputs": [
        {
          "output_type": "stream",
          "name": "stdout",
          "text": [
            "Downloading: rain for year 2000\n",
            "Downloading: rain for year 2001\n",
            "Downloading: rain for year 2002\n",
            "Downloading: rain for year 2003\n",
            "Downloading: rain for year 2004\n",
            "Downloading: rain for year 2005\n",
            "Downloading: rain for year 2006\n",
            "Downloading: rain for year 2007\n",
            "Downloading: rain for year 2008\n",
            "Downloading: rain for year 2009\n",
            "Downloading: rain for year 2010\n",
            "Downloading: rain for year 2011\n",
            "Downloading: rain for year 2012\n",
            "Downloading: rain for year 2013\n",
            "Downloading: rain for year 2014\n",
            "Downloading: rain for year 2015\n",
            "Downloading: rain for year 2016\n",
            "Downloading: rain for year 2017\n",
            "Downloading: rain for year 2018\n",
            "Downloading: rain for year 2019\n",
            "Downloading: rain for year 2020\n",
            "Downloading: rain for year 2021\n",
            "Downloading: rain for year 2022\n",
            "Download Successful !!!\n",
            "<xarray.Dataset>\n",
            "Dimensions:  (time: 8401, lat: 129, lon: 135)\n",
            "Coordinates:\n",
            "  * lat      (lat) float64 6.5 6.75 7.0 7.25 7.5 ... 37.5 37.75 38.0 38.25 38.5\n",
            "  * lon      (lon) float64 66.5 66.75 67.0 67.25 67.5 ... 99.25 99.5 99.75 100.0\n",
            "  * time     (time) datetime64[ns] 2000-01-01 2000-01-02 ... 2022-12-31\n",
            "Data variables:\n",
            "    rain     (time, lat, lon) float64 -999.0 -999.0 -999.0 ... -999.0 -999.0\n",
            "Attributes:\n",
            "    Conventions:  CF-1.7\n",
            "    title:        IMD gridded data\n",
            "    source:       https://imdpune.gov.in/\n",
            "    history:      2023-02-14 09:52:52.666575 Python\n",
            "    references:   \n",
            "    comment:      \n",
            "    crs:          epsg:4326\n"
          ]
        }
      ],
      "source": [
        "import imdlib as imd\n",
        "\n",
        "path = \"/content/\"\n",
        "\n",
        "start_yr = 2000\n",
        "end_yr = 2022\n",
        "variable = 'rain' # other options are ('tmin'/ 'tmax')\n",
        "\n",
        "imd.get_data(variable, start_yr, end_yr, fn_format='yearwise', file_dir=path)\n",
        "data = imd.open_data(variable, start_yr, end_yr,'yearwise', path)\n",
        "ds = data.get_xarray()\n",
        "print(ds)\n",
        "\n",
        "\n",
        "\n",
        "lat = 31.7049 #lattitude of point\n",
        "lon = 76.5246 #longitude of point\n",
        "data.to_csv('data.csv', lat, lon, path)"
      ]
    },
    {
      "cell_type": "code",
      "source": [
        "# Save CSV files for multiple points\n",
        "\n",
        "# Provide lat and long in a list\n",
        "latLong = [[20.3,77.23],[23.5,72.5],[26.0,77,1]]\n",
        "\n",
        "for points in latLong:\n",
        "  lat = points[0]\n",
        "  lon = points[1]\n",
        "\n",
        "  data.to_csv('test.csv', lat, lon, path)\n",
        "  print (\"data save for \",points)"
      ],
      "metadata": {
        "id": "kygArbTkBPMT"
      },
      "execution_count": null,
      "outputs": []
    }
  ]
}