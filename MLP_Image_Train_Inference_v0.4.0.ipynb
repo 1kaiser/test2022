{
  "nbformat": 4,
  "nbformat_minor": 0,
  "metadata": {
    "colab": {
      "provenance": [],
      "authorship_tag": "ABX9TyNPOtcPEJEVc3wIxyzBBdgm",
      "include_colab_link": true
    },
    "kernelspec": {
      "name": "python3",
      "display_name": "Python 3"
    },
    "language_info": {
      "name": "python"
    }
  },
  "cells": [
    {
      "cell_type": "markdown",
      "metadata": {
        "id": "view-in-github",
        "colab_type": "text"
      },
      "source": [
        "<a href=\"https://colab.research.google.com/github/1kaiser/test2022/blob/main/MLP_Image_Train_Inference_v0.4.0.ipynb\" target=\"_parent\"><img src=\"https://colab.research.google.com/assets/colab-badge.svg\" alt=\"Open In Colab\"/></a>"
      ]
    },
    {
      "cell_type": "markdown",
      "source": [
        "## **RUN** "
      ],
      "metadata": {
        "id": "bwhvgI06xTIu"
      }
    },
    {
      "cell_type": "markdown",
      "metadata": {
        "id": "SI1aeBA-dCqC"
      },
      "source": [
        "### Model and training code\n",
        "\n",
        "Our model is a coordinate-based multilayer perceptron. In this example, for each input image coordinate $(x,y)$, the model predicts the associated color $(r,g,b)$ or any $(gray)$.\n",
        "\n",
        "![Network diagram](https://user-images.githubusercontent.com/3310961/85066930-ad444580-b164-11ea-9cc0-17494679e71f.png)"
      ]
    },
    {
      "cell_type": "markdown",
      "source": [
        "[--xla_force_host_platform_device_count](https://jax.readthedocs.io/en/latest/jax-101/06-parallelism.html#:~:text=When%20running%20on-,CPU,-you%20can%20always)"
      ],
      "metadata": {
        "id": "Zehuof-K_cZH"
      }
    },
    {
      "cell_type": "code",
      "source": [
        "#✅\n",
        "import os\n",
        "os.environ['XLA_FLAGS'] = '--xla_force_host_platform_device_count=8'\n",
        "import jax\n",
        "jax.devices()"
      ],
      "metadata": {
        "id": "rUeQSSu5_Jwv",
        "outputId": "328991a9-315a-488e-fa1a-7d0186eaf67c",
        "colab": {
          "base_uri": "https://localhost:8080/"
        }
      },
      "execution_count": 1,
      "outputs": [
        {
          "output_type": "stream",
          "name": "stderr",
          "text": [
            "WARNING:jax._src.lib.xla_bridge:No GPU/TPU found, falling back to CPU. (Set TF_CPP_MIN_LOG_LEVEL=0 and rerun for more info.)\n"
          ]
        },
        {
          "output_type": "execute_result",
          "data": {
            "text/plain": [
              "[CpuDevice(id=0),\n",
              " CpuDevice(id=1),\n",
              " CpuDevice(id=2),\n",
              " CpuDevice(id=3),\n",
              " CpuDevice(id=4),\n",
              " CpuDevice(id=5),\n",
              " CpuDevice(id=6),\n",
              " CpuDevice(id=7)]"
            ]
          },
          "metadata": {},
          "execution_count": 1
        }
      ]
    },
    {
      "cell_type": "code",
      "source": [
        "#✅\n",
        "import jax\n",
        "import jax.numpy as jnp\n",
        "\n",
        "positional_encoding_dims = 6  # Number of positional encodings applied\n",
        "\n",
        "def positional_encoding(inputs):\n",
        "    print(\"positional_encoding start\")\n",
        "    batch_size, _ = inputs.shape;print(inputs.shape)\n",
        "    inputs_freq = jax.vmap(lambda x: inputs * 2.0 ** x)(jnp.arange(positional_encoding_dims));print(inputs_freq.shape)\n",
        "    x = jnp.stack([jnp.sin(inputs_freq), jnp.cos(inputs_freq)]);print(x.shape)\n",
        "    x = x.swapaxes(0, 2);print(x.shape)\n",
        "    x = x.reshape([batch_size, -1]);print(x.shape)\n",
        "    x = jnp.concatenate([inputs, x], axis=-1);print(x.shape)\n",
        "    print(\"positional_encoding end\")\n",
        "    return x\n",
        "\n"
      ],
      "metadata": {
        "id": "z9aPWpu5iJ1I"
      },
      "execution_count": 2,
      "outputs": []
    },
    {
      "cell_type": "markdown",
      "source": [
        "### MLP MODEL\n",
        "Basically, passing input points through a simple Fourier Feature Mapping enables an MLP to learn high-frequency functions (such as an RGB image) in low-dimensional problem domains (such as a 2D coordinate of pixels)."
      ],
      "metadata": {
        "id": "DllYcUtgovO5"
      }
    },
    {
      "cell_type": "code",
      "source": [
        "#✅\n",
        "!python -m pip install -q -U flax\n",
        "\n",
        "import jax\n",
        "import jax.numpy as jnp\n",
        "\n",
        "import flax\n",
        "import optax\n",
        "from typing import Any\n",
        "\n",
        "from jax import lax\n",
        "import flax.linen as nn\n",
        "from flax.training import train_state, common_utils\n",
        "\n",
        "apply_positional_encoding = True # Apply posittional encoding to the input or not\n",
        "num_dense_layers = 8 # Number of dense layers in MLP\n",
        "dense_layer_width = 256 # Dimentionality of dense layers' output space \n",
        "\n",
        "##########################################<< MLP MODEL >>#########################################\n",
        "class MLPModel(nn.Module):\n",
        "    dtype: Any = jnp.float32\n",
        "    precision: Any = lax.Precision.DEFAULT\n",
        "    apply_positional_encoding: bool = apply_positional_encoding\n",
        "    @nn.compact\n",
        "    def __call__(self, input_points):\n",
        "        x = positional_encoding(input_points) if self.apply_positional_encoding else input_points\n",
        "        print(\"network model start\")\n",
        "        print(x.shape)\n",
        "        for i in range(num_dense_layers):\n",
        "            x = nn.Dense(\n",
        "                dense_layer_width,\n",
        "                dtype=self.dtype,\n",
        "                precision=self.precision\n",
        "                )(x)\n",
        "            x = nn.relu(x)\n",
        "            x = jnp.concatenate([x, input_points], axis=-1) if i == 4 else x\n",
        "            print(x.shape)\n",
        "  \n",
        "        x = nn.Dense(1, dtype=self.dtype, precision=self.precision)(x)\n",
        "        print(x.shape)\n",
        "        print(\"network model end\")\n",
        "        return x\n",
        "##########################################<< MLP MODEL >>#########################################"
      ],
      "metadata": {
        "id": "VRkotxnvvHrX",
        "outputId": "e59fd7ec-3d52-40e0-fd06-131c574ff4c3",
        "colab": {
          "base_uri": "https://localhost:8080/"
        }
      },
      "execution_count": 3,
      "outputs": [
        {
          "output_type": "stream",
          "name": "stdout",
          "text": [
            "\u001b[K     |████████████████████████████████| 197 kB 4.0 MB/s \n",
            "\u001b[K     |████████████████████████████████| 154 kB 43.0 MB/s \n",
            "\u001b[K     |████████████████████████████████| 8.3 MB 24.9 MB/s \n",
            "\u001b[K     |████████████████████████████████| 237 kB 58.0 MB/s \n",
            "\u001b[K     |████████████████████████████████| 66 kB 4.6 MB/s \n",
            "\u001b[K     |████████████████████████████████| 51 kB 5.0 MB/s \n",
            "\u001b[K     |████████████████████████████████| 85 kB 3.9 MB/s \n",
            "\u001b[?25h"
          ]
        }
      ]
    },
    {
      "cell_type": "markdown",
      "source": [
        "### initialize the module"
      ],
      "metadata": {
        "id": "4o02pjAJqdjz"
      }
    },
    {
      "cell_type": "code",
      "source": [
        "#✅\n",
        "!python -m pip install -q -U flax\n",
        "import optax\n",
        "from flax.training import train_state\n",
        "import jax.numpy as jnp\n",
        "import jax\n",
        "\n",
        "\n",
        "def init_train_state(model, r_key, shape, learning_rate ) -> train_state.TrainState:\n",
        "    print(shape)\n",
        "    # BATCH, image_height, image_width, cha = shape\n",
        "    # size = image_height * image_width\n",
        "    # yt = jnp.ones((size, cha))\n",
        "    init_variables = model.init(r_key, jnp.ones(shape))  # Initialize the Model\n",
        "    optimizer = optax.adam(learning_rate) # Create the optimizer\n",
        "    # Create a State\n",
        "    return train_state.TrainState.create(\n",
        "        apply_fn = model.apply,\n",
        "        tx=optimizer,\n",
        "        params=init_variables['params']\n",
        "    )\n",
        "\n",
        "learning_rate = 1e-4\n",
        "batch_size_no = 64\n",
        "\n",
        "model = MLPModel() # Instantiate the Model\n",
        "\n",
        "key, rng = jax.random.split(jax.random.PRNGKey(0))\n",
        "x = jnp.ones(shape=(batch_size_no, 28, 28, 1)) # Dummy Input\n",
        "_, image_height, image_width, channels = x.shape\n",
        "\n",
        "state = init_train_state( model, rng, (image_height * image_width, channels), learning_rate )\n"
      ],
      "metadata": {
        "id": "rJEuhCl5xuR4",
        "outputId": "d847d95e-2a47-40b6-e7ea-acda0de98ff6",
        "colab": {
          "base_uri": "https://localhost:8080/"
        }
      },
      "execution_count": 4,
      "outputs": [
        {
          "output_type": "stream",
          "name": "stdout",
          "text": [
            "(784, 1)\n",
            "positional_encoding start\n",
            "(784, 1)\n",
            "(6, 784, 1)\n",
            "(2, 6, 784, 1)\n",
            "(784, 6, 2, 1)\n",
            "(784, 12)\n",
            "(784, 13)\n",
            "positional_encoding end\n",
            "network model start\n",
            "(784, 13)\n",
            "(784, 256)\n",
            "(784, 256)\n",
            "(784, 256)\n",
            "(784, 256)\n",
            "(784, 257)\n",
            "(784, 256)\n",
            "(784, 256)\n",
            "(784, 256)\n",
            "(784, 1)\n",
            "network model end\n"
          ]
        }
      ]
    },
    {
      "cell_type": "code",
      "source": [
        "def image_difference_loss(logits, labels):\n",
        "    loss = .5 * jnp.mean((logits - labels) ** 2)\n",
        "    return loss\n",
        "def compute_metrics(*, logits, labels):\n",
        "  loss = image_difference_loss(logits, labels)\n",
        "  loss = lax.pmean(loss, axis_name=\"batch\");print(\"ok4\")\n",
        "  metrics = {\n",
        "      'loss': loss,\n",
        "      'logits': logits, #PREDICTED IMAGE\n",
        "      'labels': labels  #ACTUAL IMAGE\n",
        "  }\n",
        "  return metrics"
      ],
      "metadata": {
        "id": "f-6Gf-ee-9Jh"
      },
      "execution_count": 5,
      "outputs": []
    },
    {
      "cell_type": "code",
      "source": [
        "import jax\n",
        "@jax.jit\n",
        "def train_step(state: train_state.TrainState, batch: jnp.ndarray, rng):\n",
        "    print(batch)\n",
        "    image, label = batch\n",
        "    print(image,\"<<<image\")\n",
        "    print(label,\"<<<label\")    \n",
        "    def loss_fn(params):\n",
        "        logits = state.apply_fn({'params': params}, image);print(\"done1\",logits.shape)\n",
        "        loss =  image_difference_loss(logits, label);print(\"done2\",loss.shape)\n",
        "        return loss, logits\n",
        "\n",
        "    print(\"ok1really\")\n",
        "    gradient_fn = jax.value_and_grad(loss_fn, has_aux=True);print(\"ok1\")\n",
        "    (_, logits), grads = gradient_fn(state.params);print(\"ok2\")\n",
        "    #train_loss, gradients_each = jax.value_and_grad(loss_fn)(state.params);print(\"ok3\")\n",
        "    grads = lax.pmean(grads,\"batch\");print(\"ok4\")\n",
        "    # grads = jnp.mean(grads);print(\"ok4\")\n",
        "    state = state.apply_gradients(grads=grads);print(\"ok5\")\n",
        "    # train_loss = jnp.mean(train_loss);print(\"ok6\")\n",
        "    metrics = compute_metrics(logits=logits, labels=label);print(\"ok7\")\n",
        "    return state, metrics\n",
        "\n",
        "parallel_train_step = jax.pmap(train_step, \"batch\")\n",
        "# parallel_train_step = jax.pmap(train_step, axis_name=\"batch\", in_axes = (0, 0, 0))\n",
        "\n",
        "import jax\n",
        "@jax.jit\n",
        "def eval_step(state, batch):\n",
        "    image, label = batch\n",
        "    logits = state.apply_fn({'params': state.params}, image)\n",
        "    return compute_metrics(logits=logits, labels=label)\n"
      ],
      "metadata": {
        "id": "wskhkyy49MIC"
      },
      "execution_count": 6,
      "outputs": []
    },
    {
      "cell_type": "markdown",
      "source": [
        "### train & evaluation function"
      ],
      "metadata": {
        "id": "LvNe_bDIz0Wy"
      }
    },
    {
      "cell_type": "code",
      "source": [
        "!gdown https://drive.google.com/uc?id=1UgWEotThxnP-Vh-h83-VcTPMkKWmgCDe #downloading MAP-DEM "
      ],
      "metadata": {
        "id": "BoQeqWgTkX3Q",
        "outputId": "a840bfe1-acfd-48c4-f508-982986ca829f",
        "colab": {
          "base_uri": "https://localhost:8080/"
        }
      },
      "execution_count": 7,
      "outputs": [
        {
          "output_type": "stream",
          "name": "stdout",
          "text": [
            "Downloading...\n",
            "From: https://drive.google.com/uc?id=1UgWEotThxnP-Vh-h83-VcTPMkKWmgCDe\n",
            "To: /content/HLSL30.020_B04_doy2021057_aid0001_43N.tif\n",
            "100% 10.6M/10.6M [00:00<00:00, 38.0MB/s]\n"
          ]
        }
      ]
    },
    {
      "cell_type": "code",
      "source": [
        "!wget https://live.staticflickr.com/7492/15677707699_d9d67acf9d_b.jpg -O a.jpg\n",
        "\n",
        "newsize = (150, 150) # /.... 233 * 454\n",
        "from PIL import Image\n",
        "import jax.numpy as jnp\n",
        "\n",
        "def imageGRAY(argv):\n",
        "    im = Image.open(argv).convert('L')\n",
        "    tvt, tvu = jnp.asarray(im.resize(newsize)),jnp.asarray(im.resize(newsize)).reshape(-1,1)\n",
        "    return tvt, tvu\n",
        "def imageRGB(argv):\n",
        "    im = Image.open(argv)\n",
        "    tvt, tvu = jnp.asarray(im.resize(newsize)),jnp.asarray(im.resize(newsize)).reshape(-1,3)\n",
        "    return tvt, tvu\n"
      ],
      "metadata": {
        "id": "QjJ1VIiKgs0H",
        "outputId": "d43a6b8d-2be1-433f-d120-3094c6dd46b8",
        "colab": {
          "base_uri": "https://localhost:8080/"
        }
      },
      "execution_count": 8,
      "outputs": [
        {
          "output_type": "stream",
          "name": "stdout",
          "text": [
            "--2022-12-11 08:01:38--  https://live.staticflickr.com/7492/15677707699_d9d67acf9d_b.jpg\n",
            "Resolving live.staticflickr.com (live.staticflickr.com)... 13.35.30.221, 2600:9000:213e:3400:0:5a51:64c9:c681, 2600:9000:213e:c800:0:5a51:64c9:c681, ...\n",
            "Connecting to live.staticflickr.com (live.staticflickr.com)|13.35.30.221|:443... connected.\n",
            "HTTP request sent, awaiting response... 200 OK\n",
            "Length: unspecified [image/jpeg]\n",
            "Saving to: ‘a.jpg’\n",
            "\n",
            "a.jpg                   [ <=>                ] 230.86K  --.-KB/s    in 0.06s   \n",
            "\n",
            "2022-12-11 08:01:39 (3.64 MB/s) - ‘a.jpg’ saved [236398]\n",
            "\n"
          ]
        }
      ]
    },
    {
      "cell_type": "markdown",
      "source": [
        "download [flower dataset](https://www.kaggle.com/datasets/alxmamaev/flowers-recognition?resource=download) from kaggle."
      ],
      "metadata": {
        "id": "go6vwNDjvoSy"
      }
    },
    {
      "cell_type": "code",
      "source": [
        "!wget https://drive.google.com/open?id=1SynswUkxdl6B3c6Uc7Q6MhLG3XirrHd9&authuser=0 "
      ],
      "metadata": {
        "id": "HkhhfqGrNfSb",
        "outputId": "37d02aa1-74f0-4269-f43b-d5b802eb7c74",
        "colab": {
          "base_uri": "https://localhost:8080/"
        }
      },
      "execution_count": 11,
      "outputs": [
        {
          "output_type": "stream",
          "name": "stdout",
          "text": [
            "--2022-12-11 08:03:44--  https://drive.google.com/open?id=1SynswUkxdl6B3c6Uc7Q6MhLG3XirrHd9\n",
            "Resolving drive.google.com (drive.google.com)... 108.177.125.138, 108.177.125.102, 108.177.125.113, ...\n",
            "Connecting to drive.google.com (drive.google.com)|108.177.125.138|:443... connected.\n",
            "HTTP request sent, awaiting response... 307 Temporary Redirect\n",
            "Location: https://drive.google.com/file/d/1SynswUkxdl6B3c6Uc7Q6MhLG3XirrHd9/view?usp=drive_open [following]\n",
            "--2022-12-11 08:03:45--  https://drive.google.com/file/d/1SynswUkxdl6B3c6Uc7Q6MhLG3XirrHd9/view?usp=drive_open\n",
            "Reusing existing connection to drive.google.com:443.\n",
            "HTTP request sent, awaiting response... 200 OK\n",
            "Length: unspecified [text/html]\n",
            "Saving to: ‘open?id=1SynswUkxdl6B3c6Uc7Q6MhLG3XirrHd9’\n",
            "\n",
            "open?id=1SynswUkxdl     [ <=>                ]  72.52K  --.-KB/s    in 0.02s   \n",
            "\n",
            "2022-12-11 08:03:45 (3.64 MB/s) - ‘open?id=1SynswUkxdl6B3c6Uc7Q6MhLG3XirrHd9’ saved [74263]\n",
            "\n"
          ]
        }
      ]
    },
    {
      "cell_type": "code",
      "source": [
        "!gdown https://drive.google.com/uc?id=1SynswUkxdl6B3c6Uc7Q6MhLG3XirrHd9 # downloading from google drive saved location.. \n",
        "!unzip /content/archive.zip #unzipping the flower images from archive.."
      ],
      "metadata": {
        "id": "F_FW-EGUd5EJ",
        "outputId": "b83e2b9c-77e2-49c7-9489-6582aa2541fe",
        "colab": {
          "base_uri": "https://localhost:8080/"
        }
      },
      "execution_count": 10,
      "outputs": [
        {
          "output_type": "stream",
          "name": "stdout",
          "text": [
            "Access denied with the following error:\n",
            "\n",
            " \tCannot retrieve the public link of the file. You may need to change\n",
            "\tthe permission to 'Anyone with the link', or have had many accesses. \n",
            "\n",
            "You may still be able to access the file from the browser:\n",
            "\n",
            "\t https://drive.google.com/uc?id=1SynswUkxdl6B3c6Uc7Q6MhLG3XirrHd9 \n",
            "\n",
            "unzip:  cannot find or open /content/archive.zip, /content/archive.zip.zip or /content/archive.zip.ZIP.\n"
          ]
        }
      ]
    },
    {
      "cell_type": "code",
      "source": [
        "!mkdir -p /content/flowers/all\n",
        "!cp /content/flowers/daisy/* /content/flowers/all\n",
        "!cp /content/flowers/dandelion/* /content/flowers/all\n",
        "!cp /content/flowers/rose/* /content/flowers/all\n",
        "!cp /content/flowers/sunflower/* /content/flowers/all\n",
        "!cp /content/flowers/tulip/* /content/flowers/all"
      ],
      "metadata": {
        "id": "-Zi4PcrcKTFV"
      },
      "execution_count": null,
      "outputs": []
    },
    {
      "cell_type": "code",
      "source": [
        "# testing batching of the dataset frfom the total dataset, by assuming batch size as 8 then running 50 epochs over the batch , then moving processing onto next batch>>>\n",
        "batch_size = jax.device_count()    #///// batchsize depending on number of devices available for processing\n",
        "import os\n",
        "image_dir = r'/content/flowers/rose/'\n",
        "#############################################################################\n",
        "prefix = \"sur_refl_\"\n",
        "bandend = [\"c\",\".jpg\", \"b02\", \"b03\", \"b04\", \"b05\", \"b06\", \"b07\", \"day_of_year\", \"qc_500m\", \"raz\", \"state_500m\", \"szen\", \"vzen\"]\n",
        "DayOY = \"_doy\\[0-9]+_aid0001\"\n",
        "fileExt = r'.jpg'\n",
        "expression_b2 = bandend[1]\n",
        "total_images =  [f for f in os.listdir(image_dir) if f.__contains__(expression_b2)]\n",
        "total_images.sort()\n",
        "total_images_path = [os.path.join(image_dir, i) for i in total_images if i != 'outputs']\n",
        "no_of_batches = int(len(total_images_path)/batch_size)\n",
        "\n",
        "\n"
      ],
      "metadata": {
        "id": "o724RVHZweXt"
      },
      "execution_count": null,
      "outputs": []
    },
    {
      "cell_type": "code",
      "source": [
        "jax.device_count()"
      ],
      "metadata": {
        "id": "uiksWjeoDmWz"
      },
      "execution_count": null,
      "outputs": []
    },
    {
      "cell_type": "markdown",
      "source": [
        "### **tensorboard visualization of loss graph**"
      ],
      "metadata": {
        "id": "h7tUJb9cn4Z5"
      }
    },
    {
      "cell_type": "code",
      "source": [
        "!rm -r /content/ckpts"
      ],
      "metadata": {
        "id": "64H_wYz6LRGE"
      },
      "execution_count": null,
      "outputs": []
    },
    {
      "cell_type": "code",
      "source": [
        "%load_ext tensorboard"
      ],
      "metadata": {
        "id": "8CzwuHhg0I7q"
      },
      "execution_count": null,
      "outputs": []
    },
    {
      "cell_type": "code",
      "source": [
        "from torch.utils.tensorboard import SummaryWriter\n",
        "logdir = \"runs\"\n",
        "\n",
        "writer = SummaryWriter(logdir)"
      ],
      "metadata": {
        "id": "Ykdz88NxG-N3"
      },
      "execution_count": null,
      "outputs": []
    },
    {
      "cell_type": "code",
      "source": [
        "%tensorboard --logdir={logdir}"
      ],
      "metadata": {
        "id": "w1h6oZge0L7S"
      },
      "execution_count": null,
      "outputs": []
    },
    {
      "cell_type": "markdown",
      "source": [
        "## **RUN 2**"
      ],
      "metadata": {
        "id": "Ns6S0Bmrxhyd"
      }
    },
    {
      "cell_type": "code",
      "source": [
        "#@title # **👠HIGH HEELS RUN >>>>>>>>>>>** { vertical-output: true }\n",
        "newsize = (260, 260) # /.... 233 * 454\n",
        "\n",
        "import jax\n",
        "from jax import random\n",
        "def batchedimages(image_locations):\n",
        "  ddyss = jnp.asarray((imageRGB(total_images_path[image_locations[0]])[1],\n",
        "                      imageRGB(total_images_path[image_locations[1]])[1],\n",
        "                      imageRGB(total_images_path[image_locations[2]])[1],\n",
        "                      imageRGB(total_images_path[image_locations[3]])[1],\n",
        "                      imageRGB(total_images_path[image_locations[4]])[1],\n",
        "                      imageRGB(total_images_path[image_locations[5]])[1],\n",
        "                      imageRGB(total_images_path[image_locations[6]])[1],\n",
        "                      imageRGB(total_images_path[image_locations[7]])[1]))\n",
        "  ddxss = jnp.asarray((imageGRAY(total_images_path[image_locations[0]])[1],\n",
        "                      imageGRAY(total_images_path[image_locations[1]])[1],\n",
        "                      imageGRAY(total_images_path[image_locations[2]])[1],\n",
        "                      imageGRAY(total_images_path[image_locations[3]])[1],\n",
        "                      imageGRAY(total_images_path[image_locations[4]])[1],\n",
        "                      imageGRAY(total_images_path[image_locations[5]])[1],\n",
        "                      imageGRAY(total_images_path[image_locations[6]])[1],\n",
        "                      imageGRAY(total_images_path[image_locations[7]])[1]))\n",
        "  #print(ddyss.shape,\"<<<< ddyss.shape???\",ddxss.shape,\"<<<< ddxss.shape???\") #to check shape \n",
        "  batch_ccc = ddyss, ddxss\n",
        "  return batch_ccc\n",
        "  \n",
        "def data_stream():\n",
        "  key = random.PRNGKey(0)\n",
        "  perm = random.permutation(key, len(total_images_path))\n",
        "  for i in range(no_of_batches):\n",
        "    batch_idx = perm[i * batch_size : (i + 1) * batch_size]; #print(batch_idx)\n",
        "    yield batchedimages(batch_idx)\n",
        "\n",
        "batches = data_stream()  ### this stream will utilize the array of paths of images to a folder, then \"generate\" batches into the variable\n",
        "\n",
        "next(batches)[0].shape ### this command starts initial 8 image  stream, if callled inside a iteration loop then it will get next images for calculations>>>\n",
        "vv, shapea, channels = next(batches)[0].shape # seitting values >>> [0] 8 784 3  [1] 8 784 1 ; RGB & GRAYSCALE versions 8 images each converted to 1-D array\n",
        "print(vv, shapea, channels)\n",
        "######################<<< summary writer for tensor board\n",
        "# from torch.utils.tensorboard import SummaryWriter\n",
        "# logdir = \"runs\"\n",
        "# writer = SummaryWriter(logdir)\n",
        "######################\n",
        "######################\n",
        "rng = jax.random.PRNGKey(0)\n",
        "# dropout_rngs = jax.random.split(rng, jax.local_device_count())\n",
        "######################\n",
        "#################################<<< checking if checkpoint already available\n",
        "import os # importing os module\n",
        "import re # to find file using regular expression\n",
        "checkpoint_available = 0\n",
        "pattern = re.compile(\"checkpoint_\\d+\")   # to search for \"checkpoint_*munerical value*\" numerical value of any length is denoted by regular expression \"\\d+\"\n",
        "dir = \"/content/ckpts/\"\n",
        "isFile = os.path.isdir(dir)\n",
        "if isFile:\n",
        "  for filepath in os.listdir(dir):\n",
        "      if pattern.match(filepath):\n",
        "          checkpoint_available = 1\n",
        "#################################\n",
        "##########################################<<< loading checkpoint by checking the Flag available\n",
        "from flax.training import checkpoints\n",
        "if checkpoint_available:\n",
        "  CKPT_DIR = 'ckpts'\n",
        "  restored_state = checkpoints.restore_checkpoint(ckpt_dir=CKPT_DIR, target=state)\n",
        "  #state = flax.jax_utils.replicate(restored_state)\n",
        "  print(\"true <<< File loaded for and replicated to all devices\")\n",
        "##########################################\n",
        "######################<<<< initiating train state\n",
        "count = 0\n",
        "if count == 0 :\n",
        "  state = init_train_state( model, rng, (shapea, channels), learning_rate ) \n",
        "  count = 1\n",
        "state = flax.jax_utils.replicate(state)  # FLAX will replicate the state to every device so that updating can be made easy\n",
        "dropout_rngs = jax.random.split(rng, jax.local_device_count())\n",
        "######################\n",
        "from flax.training import checkpoints\n",
        "import time\n",
        "total_epochs = 50\n",
        "for epochs in range(total_epochs):   # EPOCHS for training & updating the initiated state, metrics may show the loss in each epochs or iteration\n",
        "  start_time = time.time()\n",
        "  batches = data_stream()  ### this stream will utilize the array of paths of images to a folder, then \"generate\" batches into the variable\n",
        "  if checkpoint_available:\n",
        "    CKPT_DIR = 'ckpts'\n",
        "    restored_state = checkpoints.restore_checkpoint(ckpt_dir=CKPT_DIR, target=state)\n",
        "    state = restored_state\n",
        "    checkpoint_available = 0 # << Flag updated >>> to stop loading the same checkpoint in the next iteration then remove the checkpoint directory\n",
        "    !rm -r /content/ckpts\n",
        "  for bbb in range(no_of_batches-5):\n",
        "    print(bbb,\"of total number of batches\",no_of_batches)\n",
        "    state, metrics = parallel_train_step(state, next(batches), dropout_rngs)\n",
        "    print(\"<<✅✅✅epoc : \",epochs,\" complete✅✅✅>>\\n\",metrics['loss'][0]) #printing loss 1 out of 8 processed in 8 devices\n",
        "    \n",
        "    #############################################<<< output visualization 👍🏻\n",
        "    from google.colab.patches import cv2_imshow\n",
        "    import numpy as np        # source : https://www.folkstalk.com/tech/how-to-convert-numpy-array-to-cv2-image-with-code-examples/\n",
        "    \n",
        "    print(\"logits shape ⚡⚡⚡⚡\", metrics['logits'][0].shape)\n",
        "    L1 = metrics['logits'][0]\n",
        "    # predicted_image = np.array(L1,  dtype=np.uint8).reshape(newsize) # This would be your image array\n",
        "    # cv2img = cv2_imshow(predicted_image) # This work the same as passing an image\n",
        "    for i in range(0,metrics['labels'].shape[0]):\n",
        "      print(i)\n",
        "      predicted_image = np.array(metrics['logits'][i],  dtype=np.uint8).reshape(newsize) # This would be your image array\n",
        "      cv2_imshow(predicted_image)\n",
        "\n",
        "      print(\"labels shape ⚡⚡⚡⚡\", metrics['labels'][0].shape)\n",
        "      L2 = metrics['labels'][0]\n",
        "      actual_image = np.array(metrics['labels'][i],  dtype=np.uint8).reshape(newsize) # This would be your image array newsize = image_width , image_height\n",
        "      cv2img = cv2_imshow(actual_image) # This work the same as passing an image\n",
        "    #############################################<<< output visualization 👍🏻\n",
        "    \n",
        "\n",
        "    \n",
        "\n",
        "    writer.add_scalar('Loss', int(metrics['loss'][0]), epochs)\n",
        "  epoch_time = time.time() - start_time\n",
        "  print(f\"Epoch {epochs} in {epoch_time:0.2f} sec\")\n",
        "  ##################################################<<< model saving mechanism for flax model state as checkpoints for each epochs,\"checkpoint\" is a terminology that means all the model weights and biases during the calculation till the completion of 1 epoch were being updated, then this final set of weights and biases including their placement inside the model will be saves as a (schema+weight values) saved as checkpoint in the mentioned <<CKPT_DIR = 'ckpts'>> mentioned folder.  \n",
        "  CKPT_DIR = 'ckpts'\n",
        "  checkpoints.save_checkpoint(ckpt_dir=CKPT_DIR, target=state, step= epochs)     # naming of the checkpoint is \"checkpoint_*\"  where \"*\" => value of the steps variable, i.e. 'epochs'\n",
        "  restored_state = checkpoints.restore_checkpoint(ckpt_dir=CKPT_DIR, target=state) # using to get the checkpoint loaded , it can be latest one , or if already available as checkpoint in the \"CKPT_DIR\" directory then take the file from directory then save in >> restored_checkpoints\n",
        "  ##################################################\n",
        "  # images = total_images_path[batch_idx]\n",
        "writer.flush()"
      ],
      "metadata": {
        "id": "y2IWaBMaWUkD"
      },
      "execution_count": null,
      "outputs": []
    },
    {
      "cell_type": "code",
      "source": [
        "from google.colab.patches import cv2_imshow\n",
        "import numpy        # source : https://www.folkstalk.com/tech/how-to-convert-numpy-array-to-cv2-image-with-code-examples/\n",
        "predicted_image = np.array(L1,  dtype=np.uint8).reshape(newsize) # This would be your image array\n",
        "cv2img = cv2_imshow(predicted_image) # This work the same as passing an image\n",
        "\n",
        "\n",
        "actual_image = np.array(L2,  dtype=np.uint8).reshape(newsize) # This would be your image array\n",
        "cv2img = cv2_imshow(actual_image) # This work the same as passing an image\n",
        "\n"
      ],
      "metadata": {
        "id": "CH6UCd6E-pLz"
      },
      "execution_count": null,
      "outputs": []
    },
    {
      "cell_type": "markdown",
      "source": [
        "## **RUN 3**"
      ],
      "metadata": {
        "id": "8NnOKa3cxn5H"
      }
    },
    {
      "cell_type": "markdown",
      "source": [
        "### **SETING UP INFERENCE** 🖼️🥽."
      ],
      "metadata": {
        "id": "uW052m0EdsrQ"
      }
    },
    {
      "cell_type": "code",
      "source": [
        "def batchedimages(image_locations):\n",
        "  ddyss = jnp.asarray((imageRGB(image_locations)[1],\n",
        "                      imageRGB(image_locations)[1],\n",
        "                      imageRGB(image_locations)[1],\n",
        "                      imageRGB(image_locations)[1],\n",
        "                      imageRGB(image_locations)[1],\n",
        "                      imageRGB(image_locations)[1],\n",
        "                      imageRGB(image_locations)[1],\n",
        "                      imageRGB(image_locations)[1]))\n",
        "  ddxss = jnp.asarray((imageGRAY(image_locations)[1],\n",
        "                      imageGRAY(image_locations)[1],\n",
        "                      imageGRAY(image_locations)[1],\n",
        "                      imageGRAY(image_locations)[1],\n",
        "                      imageGRAY(image_locations)[1],\n",
        "                      imageGRAY(image_locations)[1],\n",
        "                      imageGRAY(image_locations)[1],\n",
        "                      imageGRAY(image_locations)[1]))\n",
        "  #print(ddyss.shape,\"<<<< ddyss.shape???\",ddxss.shape,\"<<<< ddxss.shape???\") #to check shape \n",
        "  batch_ccc = ddyss, ddxss\n",
        "  return batch_ccc\n",
        "\n",
        "IMAGE_PATHS = \"/content/a.jpg\"\n",
        "batches = batchedimages(IMAGE_PATHS)  ### this stream will utilize the array of paths of images to a folder, then \"generate\" batches into the variable\n",
        "\n",
        "batches[0].shape ### this command starts initial 8 image  stream, if callled inside a iteration loop then it will get next images for calculations>>>\n",
        "vv, shapea, channels = batches[0].shape # seitting values >>> [0] 8 784 3  [1] 8 784 1 ; RGB & GRAYSCALE versions 8 images each converted to 1-D array\n",
        "print(vv, shapea, channels)\n",
        "\n",
        "##################################################<<< model saving mechanism for flax model state as checkpoints for each epochs,\"checkpoint\" is a terminology that means all the model weights and biases during the calculation till the completion of 1 epoch were being updated, then this final set of weights and biases including their placement inside the model will be saves as a (schema+weight values) saved as checkpoint in the mentioned <<CKPT_DIR = 'ckpts'>> mentioned folder.  \n",
        "state = init_train_state( model, rng, (shapea, channels), learning_rate ) \n",
        "state = flax.jax_utils.replicate(state)  # FLAX will replicate the state to every device so that updating can be made easy\n",
        "dropout_rngs = jax.random.split(rng, jax.local_device_count())\n",
        "\n",
        "CKPT_DIR = 'ckpts'\n",
        "restored_state = checkpoints.restore_checkpoint(ckpt_dir=CKPT_DIR, target=state) # using to get the checkpoint loaded , it can be latest one , or if already available as checkpoint in the \"CKPT_DIR\" directory then take the file from directory then save in >> restored_checkpoints\n",
        "##################################################\n",
        "\n",
        "state, metrics = parallel_train_step(restored_state, batches, dropout_rngs)\n",
        "print(\"<<Calculations complete✅✅✅ loss: >>\",metrics['loss'][0]) #printing loss 1 out of 8 processed in 8 devices\n",
        "\n",
        "#############################################<<< output visualization 👍🏻\n",
        "from google.colab.patches import cv2_imshow\n",
        "import numpy as np       # source : https://www.folkstalk.com/tech/how-to-convert-numpy-array-to-cv2-image-with-code-examples/\n",
        "\n",
        "print(\"logits shape ⚡⚡⚡⚡\", metrics['logits'][0].shape)\n",
        "L1 = metrics['logits'][0]\n",
        "predicted_image = np.array(L1,  dtype=np.uint8).reshape(newsize) # This would be your image array\n",
        "cv2img = cv2_imshow(predicted_image) # This work the same as passing an image\n",
        "\n",
        "print(\"labels shape ⚡⚡⚡⚡\", metrics['labels'][0].shape)\n",
        "L2 = metrics['labels'][0]\n",
        "actual_image = np.array(L2,  dtype=np.uint8).reshape(newsize) # This would be your image array newsize = image_width , image_height\n",
        "cv2img = cv2_imshow(actual_image) # This work the same as passing an image\n",
        "#############################################<<< output visualization 👍🏻\n"
      ],
      "metadata": {
        "id": "oeUR-giJdwqU"
      },
      "execution_count": null,
      "outputs": []
    },
    {
      "cell_type": "code",
      "source": [
        "metrics['labels'].shape[0]\n",
        "images = []\n",
        "from google.colab.patches import cv2_imshow\n",
        "import cv2\n",
        "for i in range(0,metrics['labels'].shape[0]):\n",
        "  print(i)\n",
        "  predicted_image = np.array(metrics['labels'][i], dtype=np.uint8).reshape(newsize) # This would be your image array\n",
        "  cv2img = cv2_imshow(predicted_image)\n",
        "\n",
        "#  cv2img = cv2_imshow(predicted_image) # This work the same as passing an image\n",
        "# cv2img = cv2_imshow(images)\n",
        "len(images)\n",
        "print(predicted_image)"
      ],
      "metadata": {
        "id": "kgSvOfE9w6zh"
      },
      "execution_count": null,
      "outputs": []
    },
    {
      "cell_type": "markdown",
      "source": [
        "### **GeoTiff to Image & Imahe to GeoTiff Conversion**"
      ],
      "metadata": {
        "id": "8ZkMG_PTunBO"
      }
    },
    {
      "cell_type": "code",
      "source": [
        "!gdown https://drive.google.com/uc?id=1-6Mxg3hroKxXFGBn3y6wIEHK1L6GdgwJ #downloading DEM-MAP https://drive.google.com/file/d/1-6Mxg3hroKxXFGBn3y6wIEHK1L6GdgwJ/view?usp=share_link\n",
        "%cd /content"
      ],
      "metadata": {
        "id": "gJDjAlnav2T4"
      },
      "execution_count": null,
      "outputs": []
    },
    {
      "cell_type": "code",
      "source": [
        "import numpy as np\n",
        "import matplotlib.pyplot as plt\n",
        "import pandas as pd\n",
        "import os.path\n",
        "import re\n",
        "\n",
        "from osgeo import gdal\n",
        "from osgeo import gdal_array\n",
        "from osgeo import osr\n",
        "\n",
        "def get_gain_band(input_file):\n",
        "    \"\"\"get GAIN_BAND from meta file (*.tif.txt)\"\"\"\n",
        "     # define file name of *.tif.txt\n",
        "    ifile_txt = re.sub(r'.tif', '.tif.txt', input_file)\n",
        "    ld = open(ifile_txt)\n",
        "    lines = ld.readlines()\n",
        "    ld.close()\n",
        "    \n",
        "    gain_band = []\n",
        "    for line in lines:\n",
        "        if line.find(\"GAIN_BAND\") >= 0:\n",
        "             gain_band.append(float((re.split(' ', line)[1]).strip()))\n",
        "    return gain_band\n",
        "\n",
        "def tif2array(input_file, calc_gain=True):\n",
        "    \"\"\"\n",
        "    read GeoTiff and convert to numpy.ndarray.\n",
        "    Inputs:\n",
        "        input_file (str) : the name of input GeoTiff file.\n",
        "        calc_gain (bool) : wheter calc GAIN to DN  or not (defaul:True).\n",
        "    return:\n",
        "        image(np.array) : image for each bands\n",
        "        dataset : for gdal's data drive.\n",
        "    \"\"\"\n",
        "    dataset = gdal.Open(input_file, gdal.GA_ReadOnly)\n",
        "    # Allocate our array using the first band's datatype\n",
        "    image_datatype = dataset.GetRasterBand(1).DataType\n",
        "    image = np.zeros((dataset.RasterYSize, dataset.RasterXSize, dataset.RasterCount),\n",
        "                     dtype=float)\n",
        "    \n",
        "    if calc_gain == True:\n",
        "        # get gain\n",
        "        gain = get_gain_band(input_file)\n",
        "    \n",
        "    # Loop over all bands in dataset\n",
        "    for b in range(dataset.RasterCount):\n",
        "        # Remember, GDAL index is on 1, but Python is on 0 -- so we add 1 for our GDAL calls\n",
        "        band = dataset.GetRasterBand(b + 1)\n",
        "        # Read in the band's data into the third dimension of our array\n",
        "        if calc_gain == True:\n",
        "            # calc gain value for each bands\n",
        "            image[:, :, b] = band.ReadAsArray() * gain[b]\n",
        "        else:\n",
        "            image[:, :, b] = band.ReadAsArray()\n",
        "    return image, dataset\n",
        "\n",
        "def array2raster(newRasterfn, dataset, array, dtype):\n",
        "    \"\"\"\n",
        "    save GTiff file from numpy.array\n",
        "    input:\n",
        "        newRasterfn: save file name\n",
        "        dataset : original tif file\n",
        "        array : numpy.array\n",
        "        dtype: Byte or Float32.\n",
        "    \"\"\"\n",
        "    cols = array.shape[1]\n",
        "    rows = array.shape[0]\n",
        "    originX, pixelWidth, b, originY, d, pixelHeight = dataset.GetGeoTransform() \n",
        "\n",
        "    driver = gdal.GetDriverByName('GTiff')\n",
        "\n",
        "    # set data type to save.\n",
        "    GDT_dtype = gdal.GDT_Unknown\n",
        "    if dtype == \"Byte\": \n",
        "        GDT_dtype = gdal.GDT_Byte\n",
        "    elif dtype == \"Float32\":\n",
        "        GDT_dtype = gdal.GDT_Float32\n",
        "    else:\n",
        "        print(\"Not supported data type.\")\n",
        "\n",
        "    # set number of band.\n",
        "    if array.ndim == 2:\n",
        "        band_num = 1\n",
        "    else:\n",
        "        band_num = array.shape[2]\n",
        "\n",
        "    outRaster = driver.Create(newRasterfn, cols, rows, band_num, GDT_dtype)\n",
        "    outRaster.SetGeoTransform((originX, pixelWidth, 0, originY, 0, pixelHeight))\n",
        "\n",
        "    # # Loop over all bands.\n",
        "    # for b in range(band_num):\n",
        "    #     outband = outRaster.GetRasterBand(b + 1)\n",
        "    #     # Read in the band's data into the third dimension of our array\n",
        "    #     if band_num == 1:\n",
        "    #         outband.WriteArray(array)\n",
        "    #     else:\n",
        "    #         outband.WriteArray(array[:,:,b])\n",
        "    outband = outRaster.GetRasterBand(1)\n",
        "    outband.WriteArray(array.reshape(rows, cols))\n",
        "    # setting srs from input tif file.\n",
        "    prj=dataset.GetProjection()\n",
        "    outRasterSRS = osr.SpatialReference(wkt=prj)\n",
        "    outRaster.SetProjection(outRasterSRS.ExportToWkt())\n",
        "    outband.FlushCache()\n",
        "    return newRasterfn"
      ],
      "metadata": {
        "id": "gnDwbyWAi4dT"
      },
      "execution_count": null,
      "outputs": []
    },
    {
      "cell_type": "code",
      "source": [
        "INPUT.ndim\n",
        "INPUT.reshape(INPUT.shape[0],INPUT.shape[1]).shape"
      ],
      "metadata": {
        "id": "PyHqZZoCOccL"
      },
      "execution_count": null,
      "outputs": []
    },
    {
      "cell_type": "code",
      "source": [
        "INPUT_PATH = \"/content/MOD09A1.061_sur_refl_b01_doy2000065_aid0001.tif\"\n",
        "INPUT,Datasetq = tif2array(INPUT_PATH,0) #<<<<<<<<<<<<<<<<<< input\n",
        "type(INPUT)\n",
        "print(INPUT,Datasetq)\n",
        "len(INPUT)\n",
        "INPUT[0].shape\n",
        "dataset = gdal.Open(INPUT_PATH, gdal.GA_ReadOnly)\n",
        "originX, pixelWidth, b, originY, d, pixelHeight = dataset.GetGeoTransform() \n",
        "print(originX, pixelWidth, b, originY, d, pixelHeight)\n",
        "print(INPUT.shape)\n",
        "OUTPUT = array2raster(\"geo1.tif\", Datasetq, INPUT, \"Float32\") #<<<<<<<<<<<<< output\n",
        "\n",
        "type(OUTPUT)\n",
        "OUTPUT"
      ],
      "metadata": {
        "id": "R0BbR6CHwPxV"
      },
      "execution_count": null,
      "outputs": []
    },
    {
      "cell_type": "code",
      "source": [
        "print(INPUT.shape)\n",
        "INPUT[0][:,:].shape\n",
        "from google.colab.patches import cv2_imshow\n",
        "cv2img = cv2_imshow(OUTPUT)\n"
      ],
      "metadata": {
        "id": "BSAC4bI5C_7U"
      },
      "execution_count": null,
      "outputs": []
    },
    {
      "cell_type": "markdown",
      "source": [
        "# image"
      ],
      "metadata": {
        "id": "HZOFzoYMOpTG"
      }
    },
    {
      "cell_type": "code",
      "source": [
        "newsize = (260, 260) # /.... 233 * 454\n",
        "\n",
        "import jax\n",
        "from jax import random\n",
        "def batchedimages(image_locations):\n",
        "  ddyss = jnp.asarray((tif2array((total_images_path[image_locations[0]]),0)[1],\n",
        "                      imageRGB(total_images_path[image_locations[1]])[1],\n",
        "                      imageRGB(total_images_path[image_locations[2]])[1],\n",
        "                      imageRGB(total_images_path[image_locations[3]])[1],\n",
        "                      imageRGB(total_images_path[image_locations[4]])[1],\n",
        "                      imageRGB(total_images_path[image_locations[5]])[1],\n",
        "                      imageRGB(total_images_path[image_locations[6]])[1],\n",
        "                      imageRGB(total_images_path[image_locations[7]])[1]))\n",
        "  ddxss = jnp.asarray((imageGRAY(total_images_path[image_locations[0]])[1],\n",
        "                      imageGRAY(total_images_path[image_locations[1]])[1],\n",
        "                      imageGRAY(total_images_path[image_locations[2]])[1],\n",
        "                      imageGRAY(total_images_path[image_locations[3]])[1],\n",
        "                      imageGRAY(total_images_path[image_locations[4]])[1],\n",
        "                      imageGRAY(total_images_path[image_locations[5]])[1],\n",
        "                      imageGRAY(total_images_path[image_locations[6]])[1],\n",
        "                      imageGRAY(total_images_path[image_locations[7]])[1]))\n",
        "  #print(ddyss.shape,\"<<<< ddyss.shape???\",ddxss.shape,\"<<<< ddxss.shape???\") #to check shape \n",
        "  batch_ccc = ddyss, ddxss\n",
        "  return batch_ccc\n",
        "  \n",
        "def data_stream():\n",
        "  key = random.PRNGKey(0)\n",
        "  perm = random.permutation(key, len(total_images_path))\n",
        "  for i in range(no_of_batches):\n",
        "    batch_idx = perm[i * batch_size : (i + 1) * batch_size]; #print(batch_idx)\n",
        "    yield batchedimages(batch_idx)\n",
        "\n",
        "batches = data_stream() \n",
        "print(next(batches)[0].shape,next(batches)[1].shape)\n"
      ],
      "metadata": {
        "id": "_hc_sz4COoTP"
      },
      "execution_count": null,
      "outputs": []
    },
    {
      "cell_type": "code",
      "source": [
        "from google.colab import drive\n",
        "drive.mount('/content/drive')"
      ],
      "metadata": {
        "id": "Yub1ZwEDPniA"
      },
      "execution_count": null,
      "outputs": []
    },
    {
      "cell_type": "markdown",
      "source": [
        "### **setting up google drive images connection**"
      ],
      "metadata": {
        "id": "p1wwSpndwd35"
      }
    },
    {
      "cell_type": "code",
      "source": [
        "#@title Default title text { vertical-output: true }\n",
        "\n",
        "image_dir = r'/content/drive/MyDrive/OUT/data/MOD09A1061/files/'\n",
        "\n",
        "#############################################################################\n",
        "prefix = \"sur_refl_\"\n",
        "bandend = [\"b01\", \"b02\", \"b03\", \"b04\", \"b05\", \"b06\", \"b07\", \"day_of_year\", \"qc_500m\", \"raz\", \"state_500m\", \"szen\", \"vzen\"]\n",
        "DayOY = \"_doy\\[0-9]+_aid0001\"\n",
        "fileExt = r'.tif'\n",
        "expression_b1 = prefix+bandend[0]\n",
        "expression_b2 = prefix+bandend[1]\n",
        "expression_b3 = prefix+bandend[2]\n",
        "expression_b4 = prefix+bandend[3]\n",
        "expression_b5 = prefix+bandend[4]\n",
        "expression_b6 = prefix+bandend[5]\n",
        "expression_b7 = prefix+bandend[6]\n",
        "\n",
        "temp_dir = r'/content/'\n",
        "import os\n",
        "\n",
        "imgs_list_b2 = [f for f in os.listdir(image_dir) if f.__contains__(expression_b2)] # since the string path item date is same, we just need to change the band number in the string to get other bands, ie. we are doing it by storing image_paths <<< then image_path_b2[i].replace(expression_b2, expression_b4) << to get the b4 band , silimarly bands b1 to b7 image paths can be generated assuming all bands present per image ✅\n",
        "imgs_list_b2.sort(reverse=True)                     #<<<< to start file streaming from the last date 2022 >> 2021 >> 2020 ....\n",
        "\n",
        "imgs_path_b2 = [os.path.join(image_dir, i) for i in imgs_list_b2 if i != 'outputs']\n",
        "\n",
        "print(len(imgs_path_b2))\n",
        "print(imgs_path_b2[5])\n",
        "\n",
        "print(imgs_path_b2[5].replace(expression_b2, expression_b4))\n",
        "\n",
        "batch_size = 8\n",
        "no_of_batches = int(len(imgs_list_b2)/batch_size)\n"
      ],
      "metadata": {
        "id": "uRjgnXp5Plcv"
      },
      "execution_count": null,
      "outputs": []
    },
    {
      "cell_type": "code",
      "source": [
        "print(imgs_list_b2)\n",
        "len(imgs_list_b2)"
      ],
      "metadata": {
        "colab": {
          "base_uri": "https://localhost:8080/"
        },
        "id": "eoTjSXSgTa_l",
        "outputId": "6605c61a-6a43-479a-edcd-0f9c170f4ef2"
      },
      "execution_count": null,
      "outputs": [
        {
          "output_type": "stream",
          "name": "stdout",
          "text": [
            "['MOD09A1.061_sur_refl_b02_doy2022209_aid0001.tif', 'MOD09A1.061_sur_refl_b02_doy2022201_aid0001.tif', 'MOD09A1.061_sur_refl_b02_doy2022193_aid0001.tif', 'MOD09A1.061_sur_refl_b02_doy2022185_aid0001.tif', 'MOD09A1.061_sur_refl_b02_doy2022177_aid0001.tif', 'MOD09A1.061_sur_refl_b02_doy2022169_aid0001.tif', 'MOD09A1.061_sur_refl_b02_doy2022161_aid0001.tif', 'MOD09A1.061_sur_refl_b02_doy2022153_aid0001.tif', 'MOD09A1.061_sur_refl_b02_doy2022145_aid0001.tif', 'MOD09A1.061_sur_refl_b02_doy2022137_aid0001.tif', 'MOD09A1.061_sur_refl_b02_doy2022129_aid0001.tif', 'MOD09A1.061_sur_refl_b02_doy2022121_aid0001.tif', 'MOD09A1.061_sur_refl_b02_doy2022113_aid0001.tif', 'MOD09A1.061_sur_refl_b02_doy2022105_aid0001.tif', 'MOD09A1.061_sur_refl_b02_doy2022097_aid0001.tif', 'MOD09A1.061_sur_refl_b02_doy2022089_aid0001.tif', 'MOD09A1.061_sur_refl_b02_doy2022081_aid0001.tif', 'MOD09A1.061_sur_refl_b02_doy2022073_aid0001.tif', 'MOD09A1.061_sur_refl_b02_doy2022065_aid0001.tif', 'MOD09A1.061_sur_refl_b02_doy2022057_aid0001.tif', 'MOD09A1.061_sur_refl_b02_doy2022049_aid0001.tif', 'MOD09A1.061_sur_refl_b02_doy2022041_aid0001.tif', 'MOD09A1.061_sur_refl_b02_doy2022033_aid0001.tif', 'MOD09A1.061_sur_refl_b02_doy2022025_aid0001.tif', 'MOD09A1.061_sur_refl_b02_doy2022017_aid0001.tif', 'MOD09A1.061_sur_refl_b02_doy2022009_aid0001.tif', 'MOD09A1.061_sur_refl_b02_doy2022001_aid0001.tif', 'MOD09A1.061_sur_refl_b02_doy2021361_aid0001.tif', 'MOD09A1.061_sur_refl_b02_doy2021353_aid0001.tif', 'MOD09A1.061_sur_refl_b02_doy2021345_aid0001.tif', 'MOD09A1.061_sur_refl_b02_doy2021337_aid0001.tif', 'MOD09A1.061_sur_refl_b02_doy2021329_aid0001.tif', 'MOD09A1.061_sur_refl_b02_doy2021321_aid0001.tif', 'MOD09A1.061_sur_refl_b02_doy2021313_aid0001.tif', 'MOD09A1.061_sur_refl_b02_doy2021305_aid0001.tif', 'MOD09A1.061_sur_refl_b02_doy2021297_aid0001.tif', 'MOD09A1.061_sur_refl_b02_doy2021289_aid0001.tif', 'MOD09A1.061_sur_refl_b02_doy2021281_aid0001.tif', 'MOD09A1.061_sur_refl_b02_doy2021273_aid0001.tif', 'MOD09A1.061_sur_refl_b02_doy2021265_aid0001.tif', 'MOD09A1.061_sur_refl_b02_doy2021257_aid0001.tif', 'MOD09A1.061_sur_refl_b02_doy2021249_aid0001.tif', 'MOD09A1.061_sur_refl_b02_doy2021241_aid0001.tif', 'MOD09A1.061_sur_refl_b02_doy2021233_aid0001.tif', 'MOD09A1.061_sur_refl_b02_doy2021225_aid0001.tif', 'MOD09A1.061_sur_refl_b02_doy2021217_aid0001.tif', 'MOD09A1.061_sur_refl_b02_doy2021209_aid0001.tif', 'MOD09A1.061_sur_refl_b02_doy2021201_aid0001.tif', 'MOD09A1.061_sur_refl_b02_doy2021193_aid0001.tif', 'MOD09A1.061_sur_refl_b02_doy2021185_aid0001.tif', 'MOD09A1.061_sur_refl_b02_doy2021177_aid0001.tif', 'MOD09A1.061_sur_refl_b02_doy2021169_aid0001.tif', 'MOD09A1.061_sur_refl_b02_doy2021161_aid0001.tif', 'MOD09A1.061_sur_refl_b02_doy2021153_aid0001.tif', 'MOD09A1.061_sur_refl_b02_doy2021145_aid0001.tif', 'MOD09A1.061_sur_refl_b02_doy2021137_aid0001.tif', 'MOD09A1.061_sur_refl_b02_doy2021129_aid0001.tif', 'MOD09A1.061_sur_refl_b02_doy2021121_aid0001.tif', 'MOD09A1.061_sur_refl_b02_doy2021113_aid0001.tif', 'MOD09A1.061_sur_refl_b02_doy2021105_aid0001.tif', 'MOD09A1.061_sur_refl_b02_doy2021097_aid0001.tif', 'MOD09A1.061_sur_refl_b02_doy2021089_aid0001.tif', 'MOD09A1.061_sur_refl_b02_doy2021081_aid0001.tif', 'MOD09A1.061_sur_refl_b02_doy2021073_aid0001.tif', 'MOD09A1.061_sur_refl_b02_doy2021065_aid0001.tif', 'MOD09A1.061_sur_refl_b02_doy2021057_aid0001.tif', 'MOD09A1.061_sur_refl_b02_doy2021049_aid0001.tif', 'MOD09A1.061_sur_refl_b02_doy2021041_aid0001.tif', 'MOD09A1.061_sur_refl_b02_doy2021033_aid0001.tif', 'MOD09A1.061_sur_refl_b02_doy2021025_aid0001.tif', 'MOD09A1.061_sur_refl_b02_doy2021017_aid0001.tif', 'MOD09A1.061_sur_refl_b02_doy2021009_aid0001.tif', 'MOD09A1.061_sur_refl_b02_doy2021001_aid0001.tif', 'MOD09A1.061_sur_refl_b02_doy2020361_aid0001.tif', 'MOD09A1.061_sur_refl_b02_doy2020353_aid0001.tif', 'MOD09A1.061_sur_refl_b02_doy2020345_aid0001.tif', 'MOD09A1.061_sur_refl_b02_doy2020337_aid0001.tif', 'MOD09A1.061_sur_refl_b02_doy2020329_aid0001.tif', 'MOD09A1.061_sur_refl_b02_doy2020321_aid0001.tif', 'MOD09A1.061_sur_refl_b02_doy2020313_aid0001.tif', 'MOD09A1.061_sur_refl_b02_doy2020305_aid0001.tif', 'MOD09A1.061_sur_refl_b02_doy2020297_aid0001.tif', 'MOD09A1.061_sur_refl_b02_doy2020289_aid0001.tif', 'MOD09A1.061_sur_refl_b02_doy2020281_aid0001.tif', 'MOD09A1.061_sur_refl_b02_doy2020273_aid0001.tif', 'MOD09A1.061_sur_refl_b02_doy2020265_aid0001.tif', 'MOD09A1.061_sur_refl_b02_doy2020257_aid0001.tif', 'MOD09A1.061_sur_refl_b02_doy2020249_aid0001.tif', 'MOD09A1.061_sur_refl_b02_doy2020241_aid0001.tif', 'MOD09A1.061_sur_refl_b02_doy2020233_aid0001.tif', 'MOD09A1.061_sur_refl_b02_doy2020225_aid0001.tif', 'MOD09A1.061_sur_refl_b02_doy2020217_aid0001.tif', 'MOD09A1.061_sur_refl_b02_doy2020209_aid0001.tif', 'MOD09A1.061_sur_refl_b02_doy2020201_aid0001.tif', 'MOD09A1.061_sur_refl_b02_doy2020193_aid0001.tif', 'MOD09A1.061_sur_refl_b02_doy2020185_aid0001.tif', 'MOD09A1.061_sur_refl_b02_doy2020177_aid0001.tif', 'MOD09A1.061_sur_refl_b02_doy2020169_aid0001.tif', 'MOD09A1.061_sur_refl_b02_doy2020161_aid0001.tif', 'MOD09A1.061_sur_refl_b02_doy2020153_aid0001.tif', 'MOD09A1.061_sur_refl_b02_doy2020145_aid0001.tif', 'MOD09A1.061_sur_refl_b02_doy2020137_aid0001.tif', 'MOD09A1.061_sur_refl_b02_doy2020129_aid0001.tif', 'MOD09A1.061_sur_refl_b02_doy2020121_aid0001.tif', 'MOD09A1.061_sur_refl_b02_doy2020113_aid0001.tif', 'MOD09A1.061_sur_refl_b02_doy2020105_aid0001.tif', 'MOD09A1.061_sur_refl_b02_doy2020097_aid0001.tif', 'MOD09A1.061_sur_refl_b02_doy2020089_aid0001.tif', 'MOD09A1.061_sur_refl_b02_doy2020081_aid0001.tif', 'MOD09A1.061_sur_refl_b02_doy2020073_aid0001.tif', 'MOD09A1.061_sur_refl_b02_doy2020065_aid0001.tif', 'MOD09A1.061_sur_refl_b02_doy2020057_aid0001.tif', 'MOD09A1.061_sur_refl_b02_doy2020049_aid0001.tif', 'MOD09A1.061_sur_refl_b02_doy2020041_aid0001.tif', 'MOD09A1.061_sur_refl_b02_doy2020033_aid0001.tif', 'MOD09A1.061_sur_refl_b02_doy2020025_aid0001.tif', 'MOD09A1.061_sur_refl_b02_doy2020017_aid0001.tif', 'MOD09A1.061_sur_refl_b02_doy2020009_aid0001.tif', 'MOD09A1.061_sur_refl_b02_doy2020001_aid0001.tif', 'MOD09A1.061_sur_refl_b02_doy2019361_aid0001.tif', 'MOD09A1.061_sur_refl_b02_doy2019353_aid0001.tif', 'MOD09A1.061_sur_refl_b02_doy2019345_aid0001.tif', 'MOD09A1.061_sur_refl_b02_doy2019337_aid0001.tif', 'MOD09A1.061_sur_refl_b02_doy2019329_aid0001.tif', 'MOD09A1.061_sur_refl_b02_doy2019321_aid0001.tif', 'MOD09A1.061_sur_refl_b02_doy2019313_aid0001.tif', 'MOD09A1.061_sur_refl_b02_doy2019305_aid0001.tif', 'MOD09A1.061_sur_refl_b02_doy2019297_aid0001.tif', 'MOD09A1.061_sur_refl_b02_doy2019289_aid0001.tif', 'MOD09A1.061_sur_refl_b02_doy2019281_aid0001.tif', 'MOD09A1.061_sur_refl_b02_doy2019273_aid0001.tif', 'MOD09A1.061_sur_refl_b02_doy2019265_aid0001.tif', 'MOD09A1.061_sur_refl_b02_doy2019257_aid0001.tif', 'MOD09A1.061_sur_refl_b02_doy2019249_aid0001.tif', 'MOD09A1.061_sur_refl_b02_doy2019241_aid0001.tif', 'MOD09A1.061_sur_refl_b02_doy2019233_aid0001.tif', 'MOD09A1.061_sur_refl_b02_doy2019225_aid0001.tif', 'MOD09A1.061_sur_refl_b02_doy2019217_aid0001.tif', 'MOD09A1.061_sur_refl_b02_doy2019209_aid0001.tif', 'MOD09A1.061_sur_refl_b02_doy2019201_aid0001.tif', 'MOD09A1.061_sur_refl_b02_doy2019193_aid0001.tif', 'MOD09A1.061_sur_refl_b02_doy2019185_aid0001.tif', 'MOD09A1.061_sur_refl_b02_doy2019177_aid0001.tif', 'MOD09A1.061_sur_refl_b02_doy2019169_aid0001.tif', 'MOD09A1.061_sur_refl_b02_doy2019161_aid0001.tif', 'MOD09A1.061_sur_refl_b02_doy2019153_aid0001.tif', 'MOD09A1.061_sur_refl_b02_doy2019145_aid0001.tif', 'MOD09A1.061_sur_refl_b02_doy2019137_aid0001.tif', 'MOD09A1.061_sur_refl_b02_doy2019129_aid0001.tif', 'MOD09A1.061_sur_refl_b02_doy2019121_aid0001.tif', 'MOD09A1.061_sur_refl_b02_doy2019113_aid0001.tif', 'MOD09A1.061_sur_refl_b02_doy2019105_aid0001.tif', 'MOD09A1.061_sur_refl_b02_doy2019097_aid0001.tif', 'MOD09A1.061_sur_refl_b02_doy2019089_aid0001.tif', 'MOD09A1.061_sur_refl_b02_doy2019081_aid0001.tif', 'MOD09A1.061_sur_refl_b02_doy2019073_aid0001.tif', 'MOD09A1.061_sur_refl_b02_doy2019065_aid0001.tif', 'MOD09A1.061_sur_refl_b02_doy2019057_aid0001.tif', 'MOD09A1.061_sur_refl_b02_doy2019049_aid0001.tif', 'MOD09A1.061_sur_refl_b02_doy2019041_aid0001.tif', 'MOD09A1.061_sur_refl_b02_doy2019033_aid0001.tif', 'MOD09A1.061_sur_refl_b02_doy2019025_aid0001.tif', 'MOD09A1.061_sur_refl_b02_doy2019017_aid0001.tif', 'MOD09A1.061_sur_refl_b02_doy2019009_aid0001.tif', 'MOD09A1.061_sur_refl_b02_doy2019001_aid0001.tif', 'MOD09A1.061_sur_refl_b02_doy2018361_aid0001.tif', 'MOD09A1.061_sur_refl_b02_doy2018353_aid0001.tif', 'MOD09A1.061_sur_refl_b02_doy2018345_aid0001.tif', 'MOD09A1.061_sur_refl_b02_doy2018337_aid0001.tif', 'MOD09A1.061_sur_refl_b02_doy2018329_aid0001.tif', 'MOD09A1.061_sur_refl_b02_doy2018321_aid0001.tif', 'MOD09A1.061_sur_refl_b02_doy2018313_aid0001.tif', 'MOD09A1.061_sur_refl_b02_doy2018305_aid0001.tif', 'MOD09A1.061_sur_refl_b02_doy2018297_aid0001.tif', 'MOD09A1.061_sur_refl_b02_doy2018289_aid0001.tif', 'MOD09A1.061_sur_refl_b02_doy2018281_aid0001.tif', 'MOD09A1.061_sur_refl_b02_doy2018273_aid0001.tif', 'MOD09A1.061_sur_refl_b02_doy2018265_aid0001.tif', 'MOD09A1.061_sur_refl_b02_doy2018257_aid0001.tif', 'MOD09A1.061_sur_refl_b02_doy2018249_aid0001.tif', 'MOD09A1.061_sur_refl_b02_doy2018241_aid0001.tif', 'MOD09A1.061_sur_refl_b02_doy2018233_aid0001.tif', 'MOD09A1.061_sur_refl_b02_doy2018225_aid0001.tif', 'MOD09A1.061_sur_refl_b02_doy2018217_aid0001.tif', 'MOD09A1.061_sur_refl_b02_doy2018209_aid0001.tif', 'MOD09A1.061_sur_refl_b02_doy2018201_aid0001.tif', 'MOD09A1.061_sur_refl_b02_doy2018193_aid0001.tif', 'MOD09A1.061_sur_refl_b02_doy2018185_aid0001.tif', 'MOD09A1.061_sur_refl_b02_doy2018177_aid0001.tif', 'MOD09A1.061_sur_refl_b02_doy2018169_aid0001.tif', 'MOD09A1.061_sur_refl_b02_doy2018161_aid0001.tif', 'MOD09A1.061_sur_refl_b02_doy2018153_aid0001.tif', 'MOD09A1.061_sur_refl_b02_doy2018145_aid0001.tif', 'MOD09A1.061_sur_refl_b02_doy2018137_aid0001.tif', 'MOD09A1.061_sur_refl_b02_doy2018129_aid0001.tif', 'MOD09A1.061_sur_refl_b02_doy2018121_aid0001.tif', 'MOD09A1.061_sur_refl_b02_doy2018113_aid0001.tif', 'MOD09A1.061_sur_refl_b02_doy2018105_aid0001.tif', 'MOD09A1.061_sur_refl_b02_doy2018097_aid0001.tif', 'MOD09A1.061_sur_refl_b02_doy2018089_aid0001.tif', 'MOD09A1.061_sur_refl_b02_doy2018081_aid0001.tif', 'MOD09A1.061_sur_refl_b02_doy2018073_aid0001.tif', 'MOD09A1.061_sur_refl_b02_doy2018065_aid0001.tif', 'MOD09A1.061_sur_refl_b02_doy2018057_aid0001.tif', 'MOD09A1.061_sur_refl_b02_doy2018049_aid0001.tif', 'MOD09A1.061_sur_refl_b02_doy2018041_aid0001.tif', 'MOD09A1.061_sur_refl_b02_doy2018033_aid0001.tif', 'MOD09A1.061_sur_refl_b02_doy2018025_aid0001.tif', 'MOD09A1.061_sur_refl_b02_doy2018017_aid0001.tif', 'MOD09A1.061_sur_refl_b02_doy2018009_aid0001.tif', 'MOD09A1.061_sur_refl_b02_doy2018001_aid0001.tif', 'MOD09A1.061_sur_refl_b02_doy2017361_aid0001.tif', 'MOD09A1.061_sur_refl_b02_doy2017353_aid0001.tif', 'MOD09A1.061_sur_refl_b02_doy2017345_aid0001.tif', 'MOD09A1.061_sur_refl_b02_doy2017337_aid0001.tif', 'MOD09A1.061_sur_refl_b02_doy2017329_aid0001.tif', 'MOD09A1.061_sur_refl_b02_doy2017321_aid0001.tif', 'MOD09A1.061_sur_refl_b02_doy2017313_aid0001.tif', 'MOD09A1.061_sur_refl_b02_doy2017305_aid0001.tif', 'MOD09A1.061_sur_refl_b02_doy2017297_aid0001.tif', 'MOD09A1.061_sur_refl_b02_doy2017289_aid0001.tif', 'MOD09A1.061_sur_refl_b02_doy2017281_aid0001.tif', 'MOD09A1.061_sur_refl_b02_doy2017273_aid0001.tif', 'MOD09A1.061_sur_refl_b02_doy2017265_aid0001.tif', 'MOD09A1.061_sur_refl_b02_doy2017257_aid0001.tif', 'MOD09A1.061_sur_refl_b02_doy2017249_aid0001.tif', 'MOD09A1.061_sur_refl_b02_doy2017241_aid0001.tif', 'MOD09A1.061_sur_refl_b02_doy2017233_aid0001.tif', 'MOD09A1.061_sur_refl_b02_doy2017225_aid0001.tif', 'MOD09A1.061_sur_refl_b02_doy2017217_aid0001.tif', 'MOD09A1.061_sur_refl_b02_doy2017209_aid0001.tif', 'MOD09A1.061_sur_refl_b02_doy2017201_aid0001.tif', 'MOD09A1.061_sur_refl_b02_doy2017193_aid0001.tif', 'MOD09A1.061_sur_refl_b02_doy2017185_aid0001.tif', 'MOD09A1.061_sur_refl_b02_doy2017177_aid0001.tif', 'MOD09A1.061_sur_refl_b02_doy2017169_aid0001.tif', 'MOD09A1.061_sur_refl_b02_doy2017161_aid0001.tif', 'MOD09A1.061_sur_refl_b02_doy2017153_aid0001.tif', 'MOD09A1.061_sur_refl_b02_doy2017145_aid0001.tif', 'MOD09A1.061_sur_refl_b02_doy2017137_aid0001.tif', 'MOD09A1.061_sur_refl_b02_doy2017129_aid0001.tif', 'MOD09A1.061_sur_refl_b02_doy2017121_aid0001.tif', 'MOD09A1.061_sur_refl_b02_doy2017113_aid0001.tif', 'MOD09A1.061_sur_refl_b02_doy2017105_aid0001.tif', 'MOD09A1.061_sur_refl_b02_doy2017097_aid0001.tif', 'MOD09A1.061_sur_refl_b02_doy2017089_aid0001.tif', 'MOD09A1.061_sur_refl_b02_doy2017081_aid0001.tif', 'MOD09A1.061_sur_refl_b02_doy2017073_aid0001.tif', 'MOD09A1.061_sur_refl_b02_doy2017065_aid0001.tif', 'MOD09A1.061_sur_refl_b02_doy2017057_aid0001.tif', 'MOD09A1.061_sur_refl_b02_doy2017049_aid0001.tif', 'MOD09A1.061_sur_refl_b02_doy2017041_aid0001.tif', 'MOD09A1.061_sur_refl_b02_doy2017033_aid0001.tif', 'MOD09A1.061_sur_refl_b02_doy2017025_aid0001.tif', 'MOD09A1.061_sur_refl_b02_doy2017017_aid0001.tif', 'MOD09A1.061_sur_refl_b02_doy2017009_aid0001.tif', 'MOD09A1.061_sur_refl_b02_doy2017001_aid0001.tif', 'MOD09A1.061_sur_refl_b02_doy2016361_aid0001.tif', 'MOD09A1.061_sur_refl_b02_doy2016353_aid0001.tif', 'MOD09A1.061_sur_refl_b02_doy2016345_aid0001.tif', 'MOD09A1.061_sur_refl_b02_doy2016337_aid0001.tif', 'MOD09A1.061_sur_refl_b02_doy2016329_aid0001.tif', 'MOD09A1.061_sur_refl_b02_doy2016321_aid0001.tif', 'MOD09A1.061_sur_refl_b02_doy2016313_aid0001.tif', 'MOD09A1.061_sur_refl_b02_doy2016305_aid0001.tif', 'MOD09A1.061_sur_refl_b02_doy2016297_aid0001.tif', 'MOD09A1.061_sur_refl_b02_doy2016289_aid0001.tif', 'MOD09A1.061_sur_refl_b02_doy2016281_aid0001.tif', 'MOD09A1.061_sur_refl_b02_doy2016273_aid0001.tif', 'MOD09A1.061_sur_refl_b02_doy2016265_aid0001.tif', 'MOD09A1.061_sur_refl_b02_doy2016257_aid0001.tif', 'MOD09A1.061_sur_refl_b02_doy2016249_aid0001.tif', 'MOD09A1.061_sur_refl_b02_doy2016241_aid0001.tif', 'MOD09A1.061_sur_refl_b02_doy2016233_aid0001.tif', 'MOD09A1.061_sur_refl_b02_doy2016225_aid0001.tif', 'MOD09A1.061_sur_refl_b02_doy2016217_aid0001.tif', 'MOD09A1.061_sur_refl_b02_doy2016209_aid0001.tif', 'MOD09A1.061_sur_refl_b02_doy2016201_aid0001.tif', 'MOD09A1.061_sur_refl_b02_doy2016193_aid0001.tif', 'MOD09A1.061_sur_refl_b02_doy2016185_aid0001.tif', 'MOD09A1.061_sur_refl_b02_doy2016177_aid0001.tif', 'MOD09A1.061_sur_refl_b02_doy2016169_aid0001.tif', 'MOD09A1.061_sur_refl_b02_doy2016161_aid0001.tif', 'MOD09A1.061_sur_refl_b02_doy2016153_aid0001.tif', 'MOD09A1.061_sur_refl_b02_doy2016145_aid0001.tif', 'MOD09A1.061_sur_refl_b02_doy2016137_aid0001.tif', 'MOD09A1.061_sur_refl_b02_doy2016129_aid0001.tif', 'MOD09A1.061_sur_refl_b02_doy2016121_aid0001.tif', 'MOD09A1.061_sur_refl_b02_doy2016113_aid0001.tif', 'MOD09A1.061_sur_refl_b02_doy2016105_aid0001.tif', 'MOD09A1.061_sur_refl_b02_doy2016097_aid0001.tif', 'MOD09A1.061_sur_refl_b02_doy2016089_aid0001.tif', 'MOD09A1.061_sur_refl_b02_doy2016081_aid0001.tif', 'MOD09A1.061_sur_refl_b02_doy2016073_aid0001.tif', 'MOD09A1.061_sur_refl_b02_doy2016065_aid0001.tif', 'MOD09A1.061_sur_refl_b02_doy2016057_aid0001.tif', 'MOD09A1.061_sur_refl_b02_doy2016049_aid0001.tif', 'MOD09A1.061_sur_refl_b02_doy2016041_aid0001.tif', 'MOD09A1.061_sur_refl_b02_doy2016033_aid0001.tif', 'MOD09A1.061_sur_refl_b02_doy2016025_aid0001.tif', 'MOD09A1.061_sur_refl_b02_doy2016017_aid0001.tif', 'MOD09A1.061_sur_refl_b02_doy2016009_aid0001.tif', 'MOD09A1.061_sur_refl_b02_doy2016001_aid0001.tif', 'MOD09A1.061_sur_refl_b02_doy2015361_aid0001.tif', 'MOD09A1.061_sur_refl_b02_doy2015353_aid0001.tif', 'MOD09A1.061_sur_refl_b02_doy2015345_aid0001.tif', 'MOD09A1.061_sur_refl_b02_doy2015337_aid0001.tif', 'MOD09A1.061_sur_refl_b02_doy2015329_aid0001.tif', 'MOD09A1.061_sur_refl_b02_doy2015321_aid0001.tif', 'MOD09A1.061_sur_refl_b02_doy2015313_aid0001.tif', 'MOD09A1.061_sur_refl_b02_doy2015305_aid0001.tif', 'MOD09A1.061_sur_refl_b02_doy2015297_aid0001.tif', 'MOD09A1.061_sur_refl_b02_doy2015289_aid0001.tif', 'MOD09A1.061_sur_refl_b02_doy2015281_aid0001.tif', 'MOD09A1.061_sur_refl_b02_doy2015273_aid0001.tif', 'MOD09A1.061_sur_refl_b02_doy2015265_aid0001.tif', 'MOD09A1.061_sur_refl_b02_doy2015257_aid0001.tif', 'MOD09A1.061_sur_refl_b02_doy2015249_aid0001.tif', 'MOD09A1.061_sur_refl_b02_doy2015241_aid0001.tif', 'MOD09A1.061_sur_refl_b02_doy2015233_aid0001.tif', 'MOD09A1.061_sur_refl_b02_doy2015225_aid0001.tif', 'MOD09A1.061_sur_refl_b02_doy2015217_aid0001.tif', 'MOD09A1.061_sur_refl_b02_doy2015209_aid0001.tif', 'MOD09A1.061_sur_refl_b02_doy2015201_aid0001.tif', 'MOD09A1.061_sur_refl_b02_doy2015193_aid0001.tif', 'MOD09A1.061_sur_refl_b02_doy2015185_aid0001.tif', 'MOD09A1.061_sur_refl_b02_doy2015177_aid0001.tif', 'MOD09A1.061_sur_refl_b02_doy2015169_aid0001.tif', 'MOD09A1.061_sur_refl_b02_doy2015161_aid0001.tif', 'MOD09A1.061_sur_refl_b02_doy2015153_aid0001.tif', 'MOD09A1.061_sur_refl_b02_doy2015145_aid0001.tif', 'MOD09A1.061_sur_refl_b02_doy2015137_aid0001.tif', 'MOD09A1.061_sur_refl_b02_doy2015129_aid0001.tif', 'MOD09A1.061_sur_refl_b02_doy2015121_aid0001.tif', 'MOD09A1.061_sur_refl_b02_doy2015113_aid0001.tif', 'MOD09A1.061_sur_refl_b02_doy2015105_aid0001.tif', 'MOD09A1.061_sur_refl_b02_doy2015097_aid0001.tif', 'MOD09A1.061_sur_refl_b02_doy2015089_aid0001.tif', 'MOD09A1.061_sur_refl_b02_doy2015081_aid0001.tif', 'MOD09A1.061_sur_refl_b02_doy2015073_aid0001.tif', 'MOD09A1.061_sur_refl_b02_doy2015065_aid0001.tif', 'MOD09A1.061_sur_refl_b02_doy2015057_aid0001.tif', 'MOD09A1.061_sur_refl_b02_doy2015049_aid0001.tif', 'MOD09A1.061_sur_refl_b02_doy2015041_aid0001.tif', 'MOD09A1.061_sur_refl_b02_doy2015033_aid0001.tif', 'MOD09A1.061_sur_refl_b02_doy2015025_aid0001.tif', 'MOD09A1.061_sur_refl_b02_doy2015017_aid0001.tif', 'MOD09A1.061_sur_refl_b02_doy2015009_aid0001.tif', 'MOD09A1.061_sur_refl_b02_doy2015001_aid0001.tif', 'MOD09A1.061_sur_refl_b02_doy2014361_aid0001.tif', 'MOD09A1.061_sur_refl_b02_doy2014353_aid0001.tif', 'MOD09A1.061_sur_refl_b02_doy2014345_aid0001.tif', 'MOD09A1.061_sur_refl_b02_doy2014337_aid0001.tif', 'MOD09A1.061_sur_refl_b02_doy2014329_aid0001.tif', 'MOD09A1.061_sur_refl_b02_doy2014321_aid0001.tif', 'MOD09A1.061_sur_refl_b02_doy2014313_aid0001.tif', 'MOD09A1.061_sur_refl_b02_doy2014305_aid0001.tif', 'MOD09A1.061_sur_refl_b02_doy2014297_aid0001.tif', 'MOD09A1.061_sur_refl_b02_doy2014289_aid0001.tif', 'MOD09A1.061_sur_refl_b02_doy2014281_aid0001.tif', 'MOD09A1.061_sur_refl_b02_doy2014273_aid0001.tif', 'MOD09A1.061_sur_refl_b02_doy2014265_aid0001.tif', 'MOD09A1.061_sur_refl_b02_doy2014257_aid0001.tif', 'MOD09A1.061_sur_refl_b02_doy2014249_aid0001.tif', 'MOD09A1.061_sur_refl_b02_doy2014241_aid0001.tif', 'MOD09A1.061_sur_refl_b02_doy2014233_aid0001.tif', 'MOD09A1.061_sur_refl_b02_doy2014225_aid0001.tif', 'MOD09A1.061_sur_refl_b02_doy2014217_aid0001.tif', 'MOD09A1.061_sur_refl_b02_doy2014209_aid0001.tif', 'MOD09A1.061_sur_refl_b02_doy2014201_aid0001.tif', 'MOD09A1.061_sur_refl_b02_doy2014193_aid0001.tif', 'MOD09A1.061_sur_refl_b02_doy2014185_aid0001.tif', 'MOD09A1.061_sur_refl_b02_doy2014177_aid0001.tif', 'MOD09A1.061_sur_refl_b02_doy2014169_aid0001.tif', 'MOD09A1.061_sur_refl_b02_doy2014161_aid0001.tif', 'MOD09A1.061_sur_refl_b02_doy2014153_aid0001.tif', 'MOD09A1.061_sur_refl_b02_doy2014145_aid0001.tif', 'MOD09A1.061_sur_refl_b02_doy2014137_aid0001.tif', 'MOD09A1.061_sur_refl_b02_doy2014129_aid0001.tif', 'MOD09A1.061_sur_refl_b02_doy2014121_aid0001.tif', 'MOD09A1.061_sur_refl_b02_doy2014113_aid0001.tif', 'MOD09A1.061_sur_refl_b02_doy2014105_aid0001.tif', 'MOD09A1.061_sur_refl_b02_doy2014097_aid0001.tif', 'MOD09A1.061_sur_refl_b02_doy2014089_aid0001.tif', 'MOD09A1.061_sur_refl_b02_doy2014081_aid0001.tif', 'MOD09A1.061_sur_refl_b02_doy2014073_aid0001.tif', 'MOD09A1.061_sur_refl_b02_doy2014065_aid0001.tif', 'MOD09A1.061_sur_refl_b02_doy2014057_aid0001.tif', 'MOD09A1.061_sur_refl_b02_doy2014049_aid0001.tif', 'MOD09A1.061_sur_refl_b02_doy2014041_aid0001.tif', 'MOD09A1.061_sur_refl_b02_doy2014033_aid0001.tif', 'MOD09A1.061_sur_refl_b02_doy2014025_aid0001.tif', 'MOD09A1.061_sur_refl_b02_doy2014017_aid0001.tif', 'MOD09A1.061_sur_refl_b02_doy2014009_aid0001.tif', 'MOD09A1.061_sur_refl_b02_doy2014001_aid0001.tif', 'MOD09A1.061_sur_refl_b02_doy2013361_aid0001.tif', 'MOD09A1.061_sur_refl_b02_doy2013353_aid0001.tif', 'MOD09A1.061_sur_refl_b02_doy2013345_aid0001.tif', 'MOD09A1.061_sur_refl_b02_doy2013337_aid0001.tif', 'MOD09A1.061_sur_refl_b02_doy2013329_aid0001.tif', 'MOD09A1.061_sur_refl_b02_doy2013321_aid0001.tif', 'MOD09A1.061_sur_refl_b02_doy2013313_aid0001.tif', 'MOD09A1.061_sur_refl_b02_doy2013305_aid0001.tif', 'MOD09A1.061_sur_refl_b02_doy2013297_aid0001.tif', 'MOD09A1.061_sur_refl_b02_doy2013289_aid0001.tif', 'MOD09A1.061_sur_refl_b02_doy2013281_aid0001.tif', 'MOD09A1.061_sur_refl_b02_doy2013273_aid0001.tif', 'MOD09A1.061_sur_refl_b02_doy2013265_aid0001.tif', 'MOD09A1.061_sur_refl_b02_doy2013257_aid0001.tif', 'MOD09A1.061_sur_refl_b02_doy2013249_aid0001.tif', 'MOD09A1.061_sur_refl_b02_doy2013241_aid0001.tif', 'MOD09A1.061_sur_refl_b02_doy2013233_aid0001.tif', 'MOD09A1.061_sur_refl_b02_doy2013225_aid0001.tif', 'MOD09A1.061_sur_refl_b02_doy2013217_aid0001.tif', 'MOD09A1.061_sur_refl_b02_doy2013209_aid0001.tif', 'MOD09A1.061_sur_refl_b02_doy2013201_aid0001.tif', 'MOD09A1.061_sur_refl_b02_doy2013193_aid0001.tif', 'MOD09A1.061_sur_refl_b02_doy2013185_aid0001.tif', 'MOD09A1.061_sur_refl_b02_doy2013177_aid0001.tif', 'MOD09A1.061_sur_refl_b02_doy2013169_aid0001.tif', 'MOD09A1.061_sur_refl_b02_doy2013161_aid0001.tif', 'MOD09A1.061_sur_refl_b02_doy2013153_aid0001.tif', 'MOD09A1.061_sur_refl_b02_doy2013145_aid0001.tif', 'MOD09A1.061_sur_refl_b02_doy2013137_aid0001.tif', 'MOD09A1.061_sur_refl_b02_doy2013129_aid0001.tif', 'MOD09A1.061_sur_refl_b02_doy2013121_aid0001.tif', 'MOD09A1.061_sur_refl_b02_doy2013113_aid0001.tif', 'MOD09A1.061_sur_refl_b02_doy2013105_aid0001.tif', 'MOD09A1.061_sur_refl_b02_doy2013097_aid0001.tif', 'MOD09A1.061_sur_refl_b02_doy2013089_aid0001.tif', 'MOD09A1.061_sur_refl_b02_doy2013081_aid0001.tif', 'MOD09A1.061_sur_refl_b02_doy2013073_aid0001.tif', 'MOD09A1.061_sur_refl_b02_doy2013065_aid0001.tif', 'MOD09A1.061_sur_refl_b02_doy2013057_aid0001.tif', 'MOD09A1.061_sur_refl_b02_doy2013049_aid0001.tif', 'MOD09A1.061_sur_refl_b02_doy2013041_aid0001.tif', 'MOD09A1.061_sur_refl_b02_doy2013033_aid0001.tif', 'MOD09A1.061_sur_refl_b02_doy2013025_aid0001.tif', 'MOD09A1.061_sur_refl_b02_doy2013017_aid0001.tif', 'MOD09A1.061_sur_refl_b02_doy2013009_aid0001.tif', 'MOD09A1.061_sur_refl_b02_doy2013001_aid0001.tif', 'MOD09A1.061_sur_refl_b02_doy2012361_aid0001.tif', 'MOD09A1.061_sur_refl_b02_doy2012353_aid0001.tif', 'MOD09A1.061_sur_refl_b02_doy2012345_aid0001.tif', 'MOD09A1.061_sur_refl_b02_doy2012337_aid0001.tif', 'MOD09A1.061_sur_refl_b02_doy2012329_aid0001.tif', 'MOD09A1.061_sur_refl_b02_doy2012321_aid0001.tif', 'MOD09A1.061_sur_refl_b02_doy2012313_aid0001.tif', 'MOD09A1.061_sur_refl_b02_doy2012305_aid0001.tif', 'MOD09A1.061_sur_refl_b02_doy2012297_aid0001.tif', 'MOD09A1.061_sur_refl_b02_doy2012289_aid0001.tif', 'MOD09A1.061_sur_refl_b02_doy2012281_aid0001.tif', 'MOD09A1.061_sur_refl_b02_doy2012273_aid0001.tif', 'MOD09A1.061_sur_refl_b02_doy2012265_aid0001.tif', 'MOD09A1.061_sur_refl_b02_doy2012257_aid0001.tif', 'MOD09A1.061_sur_refl_b02_doy2012249_aid0001.tif', 'MOD09A1.061_sur_refl_b02_doy2012241_aid0001.tif', 'MOD09A1.061_sur_refl_b02_doy2012233_aid0001.tif', 'MOD09A1.061_sur_refl_b02_doy2012225_aid0001.tif', 'MOD09A1.061_sur_refl_b02_doy2012217_aid0001.tif', 'MOD09A1.061_sur_refl_b02_doy2012209_aid0001.tif', 'MOD09A1.061_sur_refl_b02_doy2012201_aid0001.tif', 'MOD09A1.061_sur_refl_b02_doy2012193_aid0001.tif', 'MOD09A1.061_sur_refl_b02_doy2012185_aid0001.tif', 'MOD09A1.061_sur_refl_b02_doy2012177_aid0001.tif', 'MOD09A1.061_sur_refl_b02_doy2012169_aid0001.tif', 'MOD09A1.061_sur_refl_b02_doy2012161_aid0001.tif', 'MOD09A1.061_sur_refl_b02_doy2012153_aid0001.tif', 'MOD09A1.061_sur_refl_b02_doy2012145_aid0001.tif', 'MOD09A1.061_sur_refl_b02_doy2012137_aid0001.tif', 'MOD09A1.061_sur_refl_b02_doy2012129_aid0001.tif', 'MOD09A1.061_sur_refl_b02_doy2012121_aid0001.tif', 'MOD09A1.061_sur_refl_b02_doy2012113_aid0001.tif', 'MOD09A1.061_sur_refl_b02_doy2012105_aid0001.tif', 'MOD09A1.061_sur_refl_b02_doy2012097_aid0001.tif', 'MOD09A1.061_sur_refl_b02_doy2012089_aid0001.tif', 'MOD09A1.061_sur_refl_b02_doy2012081_aid0001.tif', 'MOD09A1.061_sur_refl_b02_doy2012073_aid0001.tif', 'MOD09A1.061_sur_refl_b02_doy2012065_aid0001.tif', 'MOD09A1.061_sur_refl_b02_doy2012057_aid0001.tif', 'MOD09A1.061_sur_refl_b02_doy2012049_aid0001.tif', 'MOD09A1.061_sur_refl_b02_doy2012041_aid0001.tif', 'MOD09A1.061_sur_refl_b02_doy2012033_aid0001.tif', 'MOD09A1.061_sur_refl_b02_doy2012025_aid0001.tif', 'MOD09A1.061_sur_refl_b02_doy2012017_aid0001.tif', 'MOD09A1.061_sur_refl_b02_doy2012009_aid0001.tif', 'MOD09A1.061_sur_refl_b02_doy2012001_aid0001.tif', 'MOD09A1.061_sur_refl_b02_doy2011361_aid0001.tif', 'MOD09A1.061_sur_refl_b02_doy2011353_aid0001.tif', 'MOD09A1.061_sur_refl_b02_doy2011345_aid0001.tif', 'MOD09A1.061_sur_refl_b02_doy2011337_aid0001.tif', 'MOD09A1.061_sur_refl_b02_doy2011329_aid0001.tif', 'MOD09A1.061_sur_refl_b02_doy2011321_aid0001.tif', 'MOD09A1.061_sur_refl_b02_doy2011313_aid0001.tif', 'MOD09A1.061_sur_refl_b02_doy2011305_aid0001.tif', 'MOD09A1.061_sur_refl_b02_doy2011297_aid0001.tif', 'MOD09A1.061_sur_refl_b02_doy2011289_aid0001.tif', 'MOD09A1.061_sur_refl_b02_doy2011281_aid0001.tif', 'MOD09A1.061_sur_refl_b02_doy2011273_aid0001.tif', 'MOD09A1.061_sur_refl_b02_doy2011265_aid0001.tif', 'MOD09A1.061_sur_refl_b02_doy2011257_aid0001.tif', 'MOD09A1.061_sur_refl_b02_doy2011249_aid0001.tif', 'MOD09A1.061_sur_refl_b02_doy2011241_aid0001.tif', 'MOD09A1.061_sur_refl_b02_doy2011233_aid0001.tif', 'MOD09A1.061_sur_refl_b02_doy2011225_aid0001.tif', 'MOD09A1.061_sur_refl_b02_doy2011217_aid0001.tif', 'MOD09A1.061_sur_refl_b02_doy2011209_aid0001.tif', 'MOD09A1.061_sur_refl_b02_doy2011201_aid0001.tif', 'MOD09A1.061_sur_refl_b02_doy2011193_aid0001.tif', 'MOD09A1.061_sur_refl_b02_doy2011185_aid0001.tif', 'MOD09A1.061_sur_refl_b02_doy2011177_aid0001.tif', 'MOD09A1.061_sur_refl_b02_doy2011169_aid0001.tif', 'MOD09A1.061_sur_refl_b02_doy2011161_aid0001.tif', 'MOD09A1.061_sur_refl_b02_doy2011153_aid0001.tif', 'MOD09A1.061_sur_refl_b02_doy2011145_aid0001.tif', 'MOD09A1.061_sur_refl_b02_doy2011137_aid0001.tif', 'MOD09A1.061_sur_refl_b02_doy2011129_aid0001.tif', 'MOD09A1.061_sur_refl_b02_doy2011121_aid0001.tif', 'MOD09A1.061_sur_refl_b02_doy2011113_aid0001.tif', 'MOD09A1.061_sur_refl_b02_doy2011105_aid0001.tif', 'MOD09A1.061_sur_refl_b02_doy2011097_aid0001.tif', 'MOD09A1.061_sur_refl_b02_doy2011089_aid0001.tif', 'MOD09A1.061_sur_refl_b02_doy2011081_aid0001.tif', 'MOD09A1.061_sur_refl_b02_doy2011073_aid0001.tif', 'MOD09A1.061_sur_refl_b02_doy2011065_aid0001.tif', 'MOD09A1.061_sur_refl_b02_doy2011057_aid0001.tif', 'MOD09A1.061_sur_refl_b02_doy2011049_aid0001.tif', 'MOD09A1.061_sur_refl_b02_doy2011041_aid0001.tif', 'MOD09A1.061_sur_refl_b02_doy2011033_aid0001.tif', 'MOD09A1.061_sur_refl_b02_doy2011025_aid0001.tif', 'MOD09A1.061_sur_refl_b02_doy2011017_aid0001.tif', 'MOD09A1.061_sur_refl_b02_doy2011009_aid0001.tif', 'MOD09A1.061_sur_refl_b02_doy2011001_aid0001.tif', 'MOD09A1.061_sur_refl_b02_doy2010361_aid0001.tif', 'MOD09A1.061_sur_refl_b02_doy2010353_aid0001.tif', 'MOD09A1.061_sur_refl_b02_doy2010345_aid0001.tif', 'MOD09A1.061_sur_refl_b02_doy2010337_aid0001.tif', 'MOD09A1.061_sur_refl_b02_doy2010329_aid0001.tif', 'MOD09A1.061_sur_refl_b02_doy2010321_aid0001.tif', 'MOD09A1.061_sur_refl_b02_doy2010313_aid0001.tif', 'MOD09A1.061_sur_refl_b02_doy2010305_aid0001.tif', 'MOD09A1.061_sur_refl_b02_doy2010297_aid0001.tif', 'MOD09A1.061_sur_refl_b02_doy2010289_aid0001.tif', 'MOD09A1.061_sur_refl_b02_doy2010281_aid0001.tif', 'MOD09A1.061_sur_refl_b02_doy2010273_aid0001.tif', 'MOD09A1.061_sur_refl_b02_doy2010265_aid0001.tif', 'MOD09A1.061_sur_refl_b02_doy2010257_aid0001.tif', 'MOD09A1.061_sur_refl_b02_doy2010249_aid0001.tif', 'MOD09A1.061_sur_refl_b02_doy2010241_aid0001.tif', 'MOD09A1.061_sur_refl_b02_doy2010233_aid0001.tif', 'MOD09A1.061_sur_refl_b02_doy2010225_aid0001.tif', 'MOD09A1.061_sur_refl_b02_doy2010217_aid0001.tif', 'MOD09A1.061_sur_refl_b02_doy2010209_aid0001.tif', 'MOD09A1.061_sur_refl_b02_doy2010201_aid0001.tif', 'MOD09A1.061_sur_refl_b02_doy2010193_aid0001.tif', 'MOD09A1.061_sur_refl_b02_doy2010185_aid0001.tif', 'MOD09A1.061_sur_refl_b02_doy2010177_aid0001.tif', 'MOD09A1.061_sur_refl_b02_doy2010169_aid0001.tif', 'MOD09A1.061_sur_refl_b02_doy2010161_aid0001.tif', 'MOD09A1.061_sur_refl_b02_doy2010153_aid0001.tif', 'MOD09A1.061_sur_refl_b02_doy2010145_aid0001.tif', 'MOD09A1.061_sur_refl_b02_doy2010137_aid0001.tif', 'MOD09A1.061_sur_refl_b02_doy2010129_aid0001.tif', 'MOD09A1.061_sur_refl_b02_doy2010121_aid0001.tif', 'MOD09A1.061_sur_refl_b02_doy2010113_aid0001.tif', 'MOD09A1.061_sur_refl_b02_doy2010105_aid0001.tif', 'MOD09A1.061_sur_refl_b02_doy2010097_aid0001.tif', 'MOD09A1.061_sur_refl_b02_doy2010089_aid0001.tif', 'MOD09A1.061_sur_refl_b02_doy2010081_aid0001.tif', 'MOD09A1.061_sur_refl_b02_doy2010073_aid0001.tif', 'MOD09A1.061_sur_refl_b02_doy2010065_aid0001.tif', 'MOD09A1.061_sur_refl_b02_doy2010057_aid0001.tif', 'MOD09A1.061_sur_refl_b02_doy2010049_aid0001.tif', 'MOD09A1.061_sur_refl_b02_doy2010041_aid0001.tif', 'MOD09A1.061_sur_refl_b02_doy2010033_aid0001.tif', 'MOD09A1.061_sur_refl_b02_doy2010025_aid0001.tif', 'MOD09A1.061_sur_refl_b02_doy2010017_aid0001.tif', 'MOD09A1.061_sur_refl_b02_doy2010009_aid0001.tif', 'MOD09A1.061_sur_refl_b02_doy2010001_aid0001.tif', 'MOD09A1.061_sur_refl_b02_doy2009361_aid0001.tif', 'MOD09A1.061_sur_refl_b02_doy2009353_aid0001.tif', 'MOD09A1.061_sur_refl_b02_doy2009345_aid0001.tif', 'MOD09A1.061_sur_refl_b02_doy2009337_aid0001.tif', 'MOD09A1.061_sur_refl_b02_doy2009329_aid0001.tif', 'MOD09A1.061_sur_refl_b02_doy2009321_aid0001.tif', 'MOD09A1.061_sur_refl_b02_doy2009313_aid0001.tif', 'MOD09A1.061_sur_refl_b02_doy2009305_aid0001.tif', 'MOD09A1.061_sur_refl_b02_doy2009297_aid0001.tif', 'MOD09A1.061_sur_refl_b02_doy2009289_aid0001.tif', 'MOD09A1.061_sur_refl_b02_doy2009281_aid0001.tif', 'MOD09A1.061_sur_refl_b02_doy2009273_aid0001.tif', 'MOD09A1.061_sur_refl_b02_doy2009265_aid0001.tif', 'MOD09A1.061_sur_refl_b02_doy2009257_aid0001.tif', 'MOD09A1.061_sur_refl_b02_doy2009249_aid0001.tif', 'MOD09A1.061_sur_refl_b02_doy2009241_aid0001.tif', 'MOD09A1.061_sur_refl_b02_doy2009233_aid0001.tif', 'MOD09A1.061_sur_refl_b02_doy2009225_aid0001.tif', 'MOD09A1.061_sur_refl_b02_doy2009217_aid0001.tif', 'MOD09A1.061_sur_refl_b02_doy2009209_aid0001.tif', 'MOD09A1.061_sur_refl_b02_doy2009201_aid0001.tif', 'MOD09A1.061_sur_refl_b02_doy2009193_aid0001.tif', 'MOD09A1.061_sur_refl_b02_doy2009185_aid0001.tif', 'MOD09A1.061_sur_refl_b02_doy2009177_aid0001.tif', 'MOD09A1.061_sur_refl_b02_doy2009169_aid0001.tif', 'MOD09A1.061_sur_refl_b02_doy2009161_aid0001.tif', 'MOD09A1.061_sur_refl_b02_doy2009153_aid0001.tif', 'MOD09A1.061_sur_refl_b02_doy2009145_aid0001.tif', 'MOD09A1.061_sur_refl_b02_doy2009137_aid0001.tif', 'MOD09A1.061_sur_refl_b02_doy2009129_aid0001.tif', 'MOD09A1.061_sur_refl_b02_doy2009121_aid0001.tif', 'MOD09A1.061_sur_refl_b02_doy2009113_aid0001.tif', 'MOD09A1.061_sur_refl_b02_doy2009105_aid0001.tif', 'MOD09A1.061_sur_refl_b02_doy2009097_aid0001.tif', 'MOD09A1.061_sur_refl_b02_doy2009089_aid0001.tif', 'MOD09A1.061_sur_refl_b02_doy2009081_aid0001.tif', 'MOD09A1.061_sur_refl_b02_doy2009073_aid0001.tif', 'MOD09A1.061_sur_refl_b02_doy2009065_aid0001.tif', 'MOD09A1.061_sur_refl_b02_doy2009057_aid0001.tif', 'MOD09A1.061_sur_refl_b02_doy2009049_aid0001.tif', 'MOD09A1.061_sur_refl_b02_doy2009041_aid0001.tif', 'MOD09A1.061_sur_refl_b02_doy2009033_aid0001.tif', 'MOD09A1.061_sur_refl_b02_doy2009025_aid0001.tif', 'MOD09A1.061_sur_refl_b02_doy2009017_aid0001.tif', 'MOD09A1.061_sur_refl_b02_doy2009009_aid0001.tif', 'MOD09A1.061_sur_refl_b02_doy2009001_aid0001.tif', 'MOD09A1.061_sur_refl_b02_doy2008361_aid0001.tif', 'MOD09A1.061_sur_refl_b02_doy2008353_aid0001.tif', 'MOD09A1.061_sur_refl_b02_doy2008345_aid0001.tif', 'MOD09A1.061_sur_refl_b02_doy2008337_aid0001.tif', 'MOD09A1.061_sur_refl_b02_doy2008329_aid0001.tif', 'MOD09A1.061_sur_refl_b02_doy2008321_aid0001.tif', 'MOD09A1.061_sur_refl_b02_doy2008313_aid0001.tif', 'MOD09A1.061_sur_refl_b02_doy2008305_aid0001.tif', 'MOD09A1.061_sur_refl_b02_doy2008297_aid0001.tif', 'MOD09A1.061_sur_refl_b02_doy2008289_aid0001.tif', 'MOD09A1.061_sur_refl_b02_doy2008281_aid0001.tif', 'MOD09A1.061_sur_refl_b02_doy2008273_aid0001.tif', 'MOD09A1.061_sur_refl_b02_doy2008265_aid0001.tif', 'MOD09A1.061_sur_refl_b02_doy2008257_aid0001.tif', 'MOD09A1.061_sur_refl_b02_doy2008249_aid0001.tif', 'MOD09A1.061_sur_refl_b02_doy2008241_aid0001.tif', 'MOD09A1.061_sur_refl_b02_doy2008233_aid0001.tif', 'MOD09A1.061_sur_refl_b02_doy2008225_aid0001.tif', 'MOD09A1.061_sur_refl_b02_doy2008217_aid0001.tif', 'MOD09A1.061_sur_refl_b02_doy2008209_aid0001.tif', 'MOD09A1.061_sur_refl_b02_doy2008201_aid0001.tif', 'MOD09A1.061_sur_refl_b02_doy2008193_aid0001.tif', 'MOD09A1.061_sur_refl_b02_doy2008185_aid0001.tif', 'MOD09A1.061_sur_refl_b02_doy2008177_aid0001.tif', 'MOD09A1.061_sur_refl_b02_doy2008169_aid0001.tif', 'MOD09A1.061_sur_refl_b02_doy2008161_aid0001.tif', 'MOD09A1.061_sur_refl_b02_doy2008153_aid0001.tif', 'MOD09A1.061_sur_refl_b02_doy2008145_aid0001.tif', 'MOD09A1.061_sur_refl_b02_doy2008137_aid0001.tif', 'MOD09A1.061_sur_refl_b02_doy2008129_aid0001.tif', 'MOD09A1.061_sur_refl_b02_doy2008121_aid0001.tif', 'MOD09A1.061_sur_refl_b02_doy2008113_aid0001.tif', 'MOD09A1.061_sur_refl_b02_doy2008105_aid0001.tif', 'MOD09A1.061_sur_refl_b02_doy2008097_aid0001.tif', 'MOD09A1.061_sur_refl_b02_doy2008089_aid0001.tif', 'MOD09A1.061_sur_refl_b02_doy2008081_aid0001.tif', 'MOD09A1.061_sur_refl_b02_doy2008073_aid0001.tif', 'MOD09A1.061_sur_refl_b02_doy2008065_aid0001.tif', 'MOD09A1.061_sur_refl_b02_doy2008057_aid0001.tif', 'MOD09A1.061_sur_refl_b02_doy2008049_aid0001.tif', 'MOD09A1.061_sur_refl_b02_doy2008041_aid0001.tif', 'MOD09A1.061_sur_refl_b02_doy2008033_aid0001.tif', 'MOD09A1.061_sur_refl_b02_doy2008025_aid0001.tif', 'MOD09A1.061_sur_refl_b02_doy2008017_aid0001.tif', 'MOD09A1.061_sur_refl_b02_doy2008009_aid0001.tif', 'MOD09A1.061_sur_refl_b02_doy2008001_aid0001.tif', 'MOD09A1.061_sur_refl_b02_doy2007361_aid0001.tif', 'MOD09A1.061_sur_refl_b02_doy2007353_aid0001.tif', 'MOD09A1.061_sur_refl_b02_doy2007345_aid0001.tif', 'MOD09A1.061_sur_refl_b02_doy2007337_aid0001.tif', 'MOD09A1.061_sur_refl_b02_doy2007329_aid0001.tif', 'MOD09A1.061_sur_refl_b02_doy2007321_aid0001.tif', 'MOD09A1.061_sur_refl_b02_doy2007313_aid0001.tif', 'MOD09A1.061_sur_refl_b02_doy2007305_aid0001.tif', 'MOD09A1.061_sur_refl_b02_doy2007297_aid0001.tif', 'MOD09A1.061_sur_refl_b02_doy2007289_aid0001.tif', 'MOD09A1.061_sur_refl_b02_doy2007281_aid0001.tif', 'MOD09A1.061_sur_refl_b02_doy2007273_aid0001.tif', 'MOD09A1.061_sur_refl_b02_doy2007265_aid0001.tif', 'MOD09A1.061_sur_refl_b02_doy2007257_aid0001.tif', 'MOD09A1.061_sur_refl_b02_doy2007249_aid0001.tif', 'MOD09A1.061_sur_refl_b02_doy2007241_aid0001.tif', 'MOD09A1.061_sur_refl_b02_doy2007233_aid0001.tif', 'MOD09A1.061_sur_refl_b02_doy2007225_aid0001.tif', 'MOD09A1.061_sur_refl_b02_doy2007217_aid0001.tif', 'MOD09A1.061_sur_refl_b02_doy2007209_aid0001.tif', 'MOD09A1.061_sur_refl_b02_doy2007201_aid0001.tif', 'MOD09A1.061_sur_refl_b02_doy2007193_aid0001.tif', 'MOD09A1.061_sur_refl_b02_doy2007185_aid0001.tif', 'MOD09A1.061_sur_refl_b02_doy2007177_aid0001.tif', 'MOD09A1.061_sur_refl_b02_doy2007169_aid0001.tif', 'MOD09A1.061_sur_refl_b02_doy2007161_aid0001.tif', 'MOD09A1.061_sur_refl_b02_doy2007153_aid0001.tif', 'MOD09A1.061_sur_refl_b02_doy2007145_aid0001.tif', 'MOD09A1.061_sur_refl_b02_doy2007137_aid0001.tif', 'MOD09A1.061_sur_refl_b02_doy2007129_aid0001.tif', 'MOD09A1.061_sur_refl_b02_doy2007121_aid0001.tif', 'MOD09A1.061_sur_refl_b02_doy2007113_aid0001.tif', 'MOD09A1.061_sur_refl_b02_doy2007105_aid0001.tif', 'MOD09A1.061_sur_refl_b02_doy2007097_aid0001.tif', 'MOD09A1.061_sur_refl_b02_doy2007089_aid0001.tif', 'MOD09A1.061_sur_refl_b02_doy2007081_aid0001.tif', 'MOD09A1.061_sur_refl_b02_doy2007073_aid0001.tif', 'MOD09A1.061_sur_refl_b02_doy2007065_aid0001.tif', 'MOD09A1.061_sur_refl_b02_doy2007057_aid0001.tif', 'MOD09A1.061_sur_refl_b02_doy2007049_aid0001.tif', 'MOD09A1.061_sur_refl_b02_doy2007041_aid0001.tif', 'MOD09A1.061_sur_refl_b02_doy2007033_aid0001.tif', 'MOD09A1.061_sur_refl_b02_doy2007025_aid0001.tif', 'MOD09A1.061_sur_refl_b02_doy2007017_aid0001.tif', 'MOD09A1.061_sur_refl_b02_doy2007009_aid0001.tif', 'MOD09A1.061_sur_refl_b02_doy2007001_aid0001.tif', 'MOD09A1.061_sur_refl_b02_doy2006361_aid0001.tif', 'MOD09A1.061_sur_refl_b02_doy2006353_aid0001.tif', 'MOD09A1.061_sur_refl_b02_doy2006345_aid0001.tif', 'MOD09A1.061_sur_refl_b02_doy2006337_aid0001.tif', 'MOD09A1.061_sur_refl_b02_doy2006329_aid0001.tif', 'MOD09A1.061_sur_refl_b02_doy2006321_aid0001.tif', 'MOD09A1.061_sur_refl_b02_doy2006313_aid0001.tif', 'MOD09A1.061_sur_refl_b02_doy2006305_aid0001.tif', 'MOD09A1.061_sur_refl_b02_doy2006297_aid0001.tif', 'MOD09A1.061_sur_refl_b02_doy2006289_aid0001.tif', 'MOD09A1.061_sur_refl_b02_doy2006281_aid0001.tif', 'MOD09A1.061_sur_refl_b02_doy2006273_aid0001.tif', 'MOD09A1.061_sur_refl_b02_doy2006265_aid0001.tif', 'MOD09A1.061_sur_refl_b02_doy2006257_aid0001.tif', 'MOD09A1.061_sur_refl_b02_doy2006249_aid0001.tif', 'MOD09A1.061_sur_refl_b02_doy2006241_aid0001.tif', 'MOD09A1.061_sur_refl_b02_doy2006233_aid0001.tif', 'MOD09A1.061_sur_refl_b02_doy2006225_aid0001.tif', 'MOD09A1.061_sur_refl_b02_doy2006217_aid0001.tif', 'MOD09A1.061_sur_refl_b02_doy2006209_aid0001.tif', 'MOD09A1.061_sur_refl_b02_doy2006201_aid0001.tif', 'MOD09A1.061_sur_refl_b02_doy2006193_aid0001.tif', 'MOD09A1.061_sur_refl_b02_doy2006185_aid0001.tif', 'MOD09A1.061_sur_refl_b02_doy2006177_aid0001.tif', 'MOD09A1.061_sur_refl_b02_doy2006169_aid0001.tif', 'MOD09A1.061_sur_refl_b02_doy2006161_aid0001.tif', 'MOD09A1.061_sur_refl_b02_doy2006153_aid0001.tif', 'MOD09A1.061_sur_refl_b02_doy2006145_aid0001.tif', 'MOD09A1.061_sur_refl_b02_doy2006137_aid0001.tif', 'MOD09A1.061_sur_refl_b02_doy2006129_aid0001.tif', 'MOD09A1.061_sur_refl_b02_doy2006121_aid0001.tif', 'MOD09A1.061_sur_refl_b02_doy2006113_aid0001.tif', 'MOD09A1.061_sur_refl_b02_doy2006105_aid0001.tif', 'MOD09A1.061_sur_refl_b02_doy2006097_aid0001.tif', 'MOD09A1.061_sur_refl_b02_doy2006089_aid0001.tif', 'MOD09A1.061_sur_refl_b02_doy2006081_aid0001.tif', 'MOD09A1.061_sur_refl_b02_doy2006073_aid0001.tif', 'MOD09A1.061_sur_refl_b02_doy2006065_aid0001.tif', 'MOD09A1.061_sur_refl_b02_doy2006057_aid0001.tif', 'MOD09A1.061_sur_refl_b02_doy2006049_aid0001.tif', 'MOD09A1.061_sur_refl_b02_doy2006041_aid0001.tif', 'MOD09A1.061_sur_refl_b02_doy2006033_aid0001.tif', 'MOD09A1.061_sur_refl_b02_doy2006025_aid0001.tif', 'MOD09A1.061_sur_refl_b02_doy2006017_aid0001.tif', 'MOD09A1.061_sur_refl_b02_doy2006009_aid0001.tif', 'MOD09A1.061_sur_refl_b02_doy2006001_aid0001.tif', 'MOD09A1.061_sur_refl_b02_doy2005361_aid0001.tif', 'MOD09A1.061_sur_refl_b02_doy2005353_aid0001.tif', 'MOD09A1.061_sur_refl_b02_doy2005345_aid0001.tif', 'MOD09A1.061_sur_refl_b02_doy2005337_aid0001.tif', 'MOD09A1.061_sur_refl_b02_doy2005329_aid0001.tif', 'MOD09A1.061_sur_refl_b02_doy2005321_aid0001.tif', 'MOD09A1.061_sur_refl_b02_doy2005313_aid0001.tif', 'MOD09A1.061_sur_refl_b02_doy2005305_aid0001.tif', 'MOD09A1.061_sur_refl_b02_doy2005297_aid0001.tif', 'MOD09A1.061_sur_refl_b02_doy2005289_aid0001.tif', 'MOD09A1.061_sur_refl_b02_doy2005281_aid0001.tif', 'MOD09A1.061_sur_refl_b02_doy2005273_aid0001.tif', 'MOD09A1.061_sur_refl_b02_doy2005265_aid0001.tif', 'MOD09A1.061_sur_refl_b02_doy2005257_aid0001.tif', 'MOD09A1.061_sur_refl_b02_doy2005249_aid0001.tif', 'MOD09A1.061_sur_refl_b02_doy2005241_aid0001.tif', 'MOD09A1.061_sur_refl_b02_doy2005233_aid0001.tif', 'MOD09A1.061_sur_refl_b02_doy2005225_aid0001.tif', 'MOD09A1.061_sur_refl_b02_doy2005217_aid0001.tif', 'MOD09A1.061_sur_refl_b02_doy2005209_aid0001.tif', 'MOD09A1.061_sur_refl_b02_doy2005201_aid0001.tif', 'MOD09A1.061_sur_refl_b02_doy2005193_aid0001.tif', 'MOD09A1.061_sur_refl_b02_doy2005185_aid0001.tif', 'MOD09A1.061_sur_refl_b02_doy2005177_aid0001.tif', 'MOD09A1.061_sur_refl_b02_doy2005169_aid0001.tif', 'MOD09A1.061_sur_refl_b02_doy2005161_aid0001.tif', 'MOD09A1.061_sur_refl_b02_doy2005153_aid0001.tif', 'MOD09A1.061_sur_refl_b02_doy2005145_aid0001.tif', 'MOD09A1.061_sur_refl_b02_doy2005137_aid0001.tif', 'MOD09A1.061_sur_refl_b02_doy2005129_aid0001.tif', 'MOD09A1.061_sur_refl_b02_doy2005121_aid0001.tif', 'MOD09A1.061_sur_refl_b02_doy2005113_aid0001.tif', 'MOD09A1.061_sur_refl_b02_doy2005105_aid0001.tif', 'MOD09A1.061_sur_refl_b02_doy2005097_aid0001.tif', 'MOD09A1.061_sur_refl_b02_doy2005089_aid0001.tif', 'MOD09A1.061_sur_refl_b02_doy2005081_aid0001.tif', 'MOD09A1.061_sur_refl_b02_doy2005073_aid0001.tif', 'MOD09A1.061_sur_refl_b02_doy2005065_aid0001.tif', 'MOD09A1.061_sur_refl_b02_doy2005057_aid0001.tif', 'MOD09A1.061_sur_refl_b02_doy2005049_aid0001.tif', 'MOD09A1.061_sur_refl_b02_doy2005041_aid0001.tif', 'MOD09A1.061_sur_refl_b02_doy2005033_aid0001.tif', 'MOD09A1.061_sur_refl_b02_doy2005025_aid0001.tif', 'MOD09A1.061_sur_refl_b02_doy2005017_aid0001.tif', 'MOD09A1.061_sur_refl_b02_doy2005009_aid0001.tif', 'MOD09A1.061_sur_refl_b02_doy2005001_aid0001.tif', 'MOD09A1.061_sur_refl_b02_doy2004361_aid0001.tif', 'MOD09A1.061_sur_refl_b02_doy2004353_aid0001.tif', 'MOD09A1.061_sur_refl_b02_doy2004345_aid0001.tif', 'MOD09A1.061_sur_refl_b02_doy2004337_aid0001.tif', 'MOD09A1.061_sur_refl_b02_doy2004329_aid0001.tif', 'MOD09A1.061_sur_refl_b02_doy2004321_aid0001.tif', 'MOD09A1.061_sur_refl_b02_doy2004313_aid0001.tif', 'MOD09A1.061_sur_refl_b02_doy2004305_aid0001.tif', 'MOD09A1.061_sur_refl_b02_doy2004297_aid0001.tif', 'MOD09A1.061_sur_refl_b02_doy2004289_aid0001.tif', 'MOD09A1.061_sur_refl_b02_doy2004281_aid0001.tif', 'MOD09A1.061_sur_refl_b02_doy2004273_aid0001.tif', 'MOD09A1.061_sur_refl_b02_doy2004265_aid0001.tif', 'MOD09A1.061_sur_refl_b02_doy2004257_aid0001.tif', 'MOD09A1.061_sur_refl_b02_doy2004249_aid0001.tif', 'MOD09A1.061_sur_refl_b02_doy2004241_aid0001.tif', 'MOD09A1.061_sur_refl_b02_doy2004233_aid0001.tif', 'MOD09A1.061_sur_refl_b02_doy2004225_aid0001.tif', 'MOD09A1.061_sur_refl_b02_doy2004217_aid0001.tif', 'MOD09A1.061_sur_refl_b02_doy2004209_aid0001.tif', 'MOD09A1.061_sur_refl_b02_doy2004201_aid0001.tif', 'MOD09A1.061_sur_refl_b02_doy2004193_aid0001.tif', 'MOD09A1.061_sur_refl_b02_doy2004185_aid0001.tif', 'MOD09A1.061_sur_refl_b02_doy2004177_aid0001.tif', 'MOD09A1.061_sur_refl_b02_doy2004169_aid0001.tif', 'MOD09A1.061_sur_refl_b02_doy2004161_aid0001.tif', 'MOD09A1.061_sur_refl_b02_doy2004153_aid0001.tif', 'MOD09A1.061_sur_refl_b02_doy2004145_aid0001.tif', 'MOD09A1.061_sur_refl_b02_doy2004137_aid0001.tif', 'MOD09A1.061_sur_refl_b02_doy2004129_aid0001.tif', 'MOD09A1.061_sur_refl_b02_doy2004121_aid0001.tif', 'MOD09A1.061_sur_refl_b02_doy2004113_aid0001.tif', 'MOD09A1.061_sur_refl_b02_doy2004105_aid0001.tif', 'MOD09A1.061_sur_refl_b02_doy2004097_aid0001.tif', 'MOD09A1.061_sur_refl_b02_doy2004089_aid0001.tif', 'MOD09A1.061_sur_refl_b02_doy2004081_aid0001.tif', 'MOD09A1.061_sur_refl_b02_doy2004073_aid0001.tif', 'MOD09A1.061_sur_refl_b02_doy2004065_aid0001.tif', 'MOD09A1.061_sur_refl_b02_doy2004057_aid0001.tif', 'MOD09A1.061_sur_refl_b02_doy2004049_aid0001.tif', 'MOD09A1.061_sur_refl_b02_doy2004041_aid0001.tif', 'MOD09A1.061_sur_refl_b02_doy2004033_aid0001.tif', 'MOD09A1.061_sur_refl_b02_doy2004025_aid0001.tif', 'MOD09A1.061_sur_refl_b02_doy2004017_aid0001.tif', 'MOD09A1.061_sur_refl_b02_doy2004009_aid0001.tif', 'MOD09A1.061_sur_refl_b02_doy2004001_aid0001.tif', 'MOD09A1.061_sur_refl_b02_doy2003361_aid0001.tif', 'MOD09A1.061_sur_refl_b02_doy2003353_aid0001.tif', 'MOD09A1.061_sur_refl_b02_doy2003345_aid0001.tif', 'MOD09A1.061_sur_refl_b02_doy2003337_aid0001.tif', 'MOD09A1.061_sur_refl_b02_doy2003329_aid0001.tif', 'MOD09A1.061_sur_refl_b02_doy2003321_aid0001.tif', 'MOD09A1.061_sur_refl_b02_doy2003313_aid0001.tif', 'MOD09A1.061_sur_refl_b02_doy2003305_aid0001.tif', 'MOD09A1.061_sur_refl_b02_doy2003297_aid0001.tif', 'MOD09A1.061_sur_refl_b02_doy2003289_aid0001.tif', 'MOD09A1.061_sur_refl_b02_doy2003281_aid0001.tif', 'MOD09A1.061_sur_refl_b02_doy2003273_aid0001.tif', 'MOD09A1.061_sur_refl_b02_doy2003265_aid0001.tif', 'MOD09A1.061_sur_refl_b02_doy2003257_aid0001.tif', 'MOD09A1.061_sur_refl_b02_doy2003249_aid0001.tif', 'MOD09A1.061_sur_refl_b02_doy2003241_aid0001.tif', 'MOD09A1.061_sur_refl_b02_doy2003233_aid0001.tif', 'MOD09A1.061_sur_refl_b02_doy2003225_aid0001.tif', 'MOD09A1.061_sur_refl_b02_doy2003217_aid0001.tif', 'MOD09A1.061_sur_refl_b02_doy2003209_aid0001.tif', 'MOD09A1.061_sur_refl_b02_doy2003201_aid0001.tif', 'MOD09A1.061_sur_refl_b02_doy2003193_aid0001.tif', 'MOD09A1.061_sur_refl_b02_doy2003185_aid0001.tif', 'MOD09A1.061_sur_refl_b02_doy2003177_aid0001.tif', 'MOD09A1.061_sur_refl_b02_doy2003169_aid0001.tif', 'MOD09A1.061_sur_refl_b02_doy2003161_aid0001.tif', 'MOD09A1.061_sur_refl_b02_doy2003153_aid0001.tif', 'MOD09A1.061_sur_refl_b02_doy2003145_aid0001.tif', 'MOD09A1.061_sur_refl_b02_doy2003137_aid0001.tif', 'MOD09A1.061_sur_refl_b02_doy2003129_aid0001.tif', 'MOD09A1.061_sur_refl_b02_doy2003121_aid0001.tif', 'MOD09A1.061_sur_refl_b02_doy2003113_aid0001.tif', 'MOD09A1.061_sur_refl_b02_doy2003105_aid0001.tif', 'MOD09A1.061_sur_refl_b02_doy2003097_aid0001.tif', 'MOD09A1.061_sur_refl_b02_doy2003089_aid0001.tif', 'MOD09A1.061_sur_refl_b02_doy2003081_aid0001.tif', 'MOD09A1.061_sur_refl_b02_doy2003073_aid0001.tif', 'MOD09A1.061_sur_refl_b02_doy2003065_aid0001.tif', 'MOD09A1.061_sur_refl_b02_doy2003057_aid0001.tif', 'MOD09A1.061_sur_refl_b02_doy2003049_aid0001.tif', 'MOD09A1.061_sur_refl_b02_doy2003041_aid0001.tif', 'MOD09A1.061_sur_refl_b02_doy2003033_aid0001.tif', 'MOD09A1.061_sur_refl_b02_doy2003025_aid0001.tif', 'MOD09A1.061_sur_refl_b02_doy2003017_aid0001.tif', 'MOD09A1.061_sur_refl_b02_doy2003009_aid0001.tif', 'MOD09A1.061_sur_refl_b02_doy2003001_aid0001.tif', 'MOD09A1.061_sur_refl_b02_doy2002361_aid0001.tif', 'MOD09A1.061_sur_refl_b02_doy2002353_aid0001.tif', 'MOD09A1.061_sur_refl_b02_doy2002345_aid0001.tif', 'MOD09A1.061_sur_refl_b02_doy2002337_aid0001.tif', 'MOD09A1.061_sur_refl_b02_doy2002329_aid0001.tif', 'MOD09A1.061_sur_refl_b02_doy2002321_aid0001.tif', 'MOD09A1.061_sur_refl_b02_doy2002313_aid0001.tif', 'MOD09A1.061_sur_refl_b02_doy2002305_aid0001.tif', 'MOD09A1.061_sur_refl_b02_doy2002297_aid0001.tif', 'MOD09A1.061_sur_refl_b02_doy2002289_aid0001.tif', 'MOD09A1.061_sur_refl_b02_doy2002281_aid0001.tif', 'MOD09A1.061_sur_refl_b02_doy2002273_aid0001.tif', 'MOD09A1.061_sur_refl_b02_doy2002265_aid0001.tif', 'MOD09A1.061_sur_refl_b02_doy2002257_aid0001.tif', 'MOD09A1.061_sur_refl_b02_doy2002249_aid0001.tif', 'MOD09A1.061_sur_refl_b02_doy2002241_aid0001.tif', 'MOD09A1.061_sur_refl_b02_doy2002233_aid0001.tif', 'MOD09A1.061_sur_refl_b02_doy2002225_aid0001.tif', 'MOD09A1.061_sur_refl_b02_doy2002217_aid0001.tif', 'MOD09A1.061_sur_refl_b02_doy2002209_aid0001.tif', 'MOD09A1.061_sur_refl_b02_doy2002201_aid0001.tif', 'MOD09A1.061_sur_refl_b02_doy2002193_aid0001.tif', 'MOD09A1.061_sur_refl_b02_doy2002185_aid0001.tif', 'MOD09A1.061_sur_refl_b02_doy2002177_aid0001.tif', 'MOD09A1.061_sur_refl_b02_doy2002169_aid0001.tif', 'MOD09A1.061_sur_refl_b02_doy2002161_aid0001.tif', 'MOD09A1.061_sur_refl_b02_doy2002153_aid0001.tif', 'MOD09A1.061_sur_refl_b02_doy2002145_aid0001.tif', 'MOD09A1.061_sur_refl_b02_doy2002137_aid0001.tif', 'MOD09A1.061_sur_refl_b02_doy2002129_aid0001.tif', 'MOD09A1.061_sur_refl_b02_doy2002121_aid0001.tif', 'MOD09A1.061_sur_refl_b02_doy2002113_aid0001.tif', 'MOD09A1.061_sur_refl_b02_doy2002105_aid0001.tif', 'MOD09A1.061_sur_refl_b02_doy2002097_aid0001.tif', 'MOD09A1.061_sur_refl_b02_doy2002089_aid0001.tif', 'MOD09A1.061_sur_refl_b02_doy2002001_aid0001.tif', 'MOD09A1.061_sur_refl_b02_doy2001361_aid0001.tif', 'MOD09A1.061_sur_refl_b02_doy2001353_aid0001.tif', 'MOD09A1.061_sur_refl_b02_doy2001345_aid0001.tif', 'MOD09A1.061_sur_refl_b02_doy2001337_aid0001.tif', 'MOD09A1.061_sur_refl_b02_doy2001329_aid0001.tif', 'MOD09A1.061_sur_refl_b02_doy2001321_aid0001.tif', 'MOD09A1.061_sur_refl_b02_doy2001313_aid0001.tif', 'MOD09A1.061_sur_refl_b02_doy2001305_aid0001.tif', 'MOD09A1.061_sur_refl_b02_doy2001297_aid0001.tif', 'MOD09A1.061_sur_refl_b02_doy2001289_aid0001.tif', 'MOD09A1.061_sur_refl_b02_doy2001281_aid0001.tif', 'MOD09A1.061_sur_refl_b02_doy2001273_aid0001.tif', 'MOD09A1.061_sur_refl_b02_doy2001265_aid0001.tif', 'MOD09A1.061_sur_refl_b02_doy2001257_aid0001.tif', 'MOD09A1.061_sur_refl_b02_doy2001249_aid0001.tif', 'MOD09A1.061_sur_refl_b02_doy2001241_aid0001.tif', 'MOD09A1.061_sur_refl_b02_doy2001233_aid0001.tif', 'MOD09A1.061_sur_refl_b02_doy2001225_aid0001.tif', 'MOD09A1.061_sur_refl_b02_doy2001217_aid0001.tif', 'MOD09A1.061_sur_refl_b02_doy2001209_aid0001.tif', 'MOD09A1.061_sur_refl_b02_doy2001201_aid0001.tif', 'MOD09A1.061_sur_refl_b02_doy2001193_aid0001.tif', 'MOD09A1.061_sur_refl_b02_doy2001185_aid0001.tif', 'MOD09A1.061_sur_refl_b02_doy2001161_aid0001.tif', 'MOD09A1.061_sur_refl_b02_doy2001153_aid0001.tif', 'MOD09A1.061_sur_refl_b02_doy2001145_aid0001.tif', 'MOD09A1.061_sur_refl_b02_doy2001137_aid0001.tif', 'MOD09A1.061_sur_refl_b02_doy2001129_aid0001.tif', 'MOD09A1.061_sur_refl_b02_doy2001121_aid0001.tif', 'MOD09A1.061_sur_refl_b02_doy2001113_aid0001.tif', 'MOD09A1.061_sur_refl_b02_doy2001105_aid0001.tif', 'MOD09A1.061_sur_refl_b02_doy2001097_aid0001.tif', 'MOD09A1.061_sur_refl_b02_doy2001089_aid0001.tif', 'MOD09A1.061_sur_refl_b02_doy2001081_aid0001.tif', 'MOD09A1.061_sur_refl_b02_doy2001073_aid0001.tif', 'MOD09A1.061_sur_refl_b02_doy2001065_aid0001.tif', 'MOD09A1.061_sur_refl_b02_doy2001057_aid0001.tif', 'MOD09A1.061_sur_refl_b02_doy2001049_aid0001.tif', 'MOD09A1.061_sur_refl_b02_doy2001041_aid0001.tif', 'MOD09A1.061_sur_refl_b02_doy2001033_aid0001.tif', 'MOD09A1.061_sur_refl_b02_doy2001025_aid0001.tif', 'MOD09A1.061_sur_refl_b02_doy2001017_aid0001.tif', 'MOD09A1.061_sur_refl_b02_doy2001009_aid0001.tif', 'MOD09A1.061_sur_refl_b02_doy2001001_aid0001.tif', 'MOD09A1.061_sur_refl_b02_doy2000361_aid0001.tif', 'MOD09A1.061_sur_refl_b02_doy2000353_aid0001.tif', 'MOD09A1.061_sur_refl_b02_doy2000345_aid0001.tif', 'MOD09A1.061_sur_refl_b02_doy2000337_aid0001.tif', 'MOD09A1.061_sur_refl_b02_doy2000329_aid0001.tif', 'MOD09A1.061_sur_refl_b02_doy2000321_aid0001.tif', 'MOD09A1.061_sur_refl_b02_doy2000313_aid0001.tif', 'MOD09A1.061_sur_refl_b02_doy2000305_aid0001.tif', 'MOD09A1.061_sur_refl_b02_doy2000297_aid0001.tif', 'MOD09A1.061_sur_refl_b02_doy2000289_aid0001.tif', 'MOD09A1.061_sur_refl_b02_doy2000281_aid0001.tif', 'MOD09A1.061_sur_refl_b02_doy2000273_aid0001.tif', 'MOD09A1.061_sur_refl_b02_doy2000265_aid0001.tif', 'MOD09A1.061_sur_refl_b02_doy2000257_aid0001.tif', 'MOD09A1.061_sur_refl_b02_doy2000249_aid0001.tif', 'MOD09A1.061_sur_refl_b02_doy2000241_aid0001.tif', 'MOD09A1.061_sur_refl_b02_doy2000233_aid0001.tif', 'MOD09A1.061_sur_refl_b02_doy2000225_aid0001.tif', 'MOD09A1.061_sur_refl_b02_doy2000217_aid0001.tif', 'MOD09A1.061_sur_refl_b02_doy2000209_aid0001.tif', 'MOD09A1.061_sur_refl_b02_doy2000201_aid0001.tif', 'MOD09A1.061_sur_refl_b02_doy2000193_aid0001.tif', 'MOD09A1.061_sur_refl_b02_doy2000185_aid0001.tif', 'MOD09A1.061_sur_refl_b02_doy2000177_aid0001.tif', 'MOD09A1.061_sur_refl_b02_doy2000169_aid0001.tif', 'MOD09A1.061_sur_refl_b02_doy2000161_aid0001.tif', 'MOD09A1.061_sur_refl_b02_doy2000153_aid0001.tif', 'MOD09A1.061_sur_refl_b02_doy2000145_aid0001.tif', 'MOD09A1.061_sur_refl_b02_doy2000137_aid0001.tif', 'MOD09A1.061_sur_refl_b02_doy2000129_aid0001.tif', 'MOD09A1.061_sur_refl_b02_doy2000121_aid0001.tif', 'MOD09A1.061_sur_refl_b02_doy2000113_aid0001.tif', 'MOD09A1.061_sur_refl_b02_doy2000105_aid0001.tif', 'MOD09A1.061_sur_refl_b02_doy2000097_aid0001.tif', 'MOD09A1.061_sur_refl_b02_doy2000089_aid0001.tif', 'MOD09A1.061_sur_refl_b02_doy2000081_aid0001.tif', 'MOD09A1.061_sur_refl_b02_doy2000073_aid0001.tif', 'MOD09A1.061_sur_refl_b02_doy2000065_aid0001.tif', 'MOD09A1.061_sur_refl_b02_doy2000057_aid0001.tif', 'MOD09A1.061_sur_refl_b02_doy2000049_aid0001.tif']\n"
          ]
        },
        {
          "output_type": "execute_result",
          "data": {
            "text/plain": [
              "1021"
            ]
          },
          "metadata": {},
          "execution_count": 30
        }
      ]
    },
    {
      "cell_type": "code",
      "source": [
        "imgs_list_b2[1]\n",
        "os.path.join(image_dir, imgs_list_b2[1])"
      ],
      "metadata": {
        "colab": {
          "base_uri": "https://localhost:8080/",
          "height": 35
        },
        "id": "KbxeSMCWXWiu",
        "outputId": "4490e22a-7de5-4c18-b0e5-893b13fd6a78"
      },
      "execution_count": null,
      "outputs": [
        {
          "output_type": "execute_result",
          "data": {
            "text/plain": [
              "'/content/drive/MyDrive/OUT/data/MOD09A1061/files/MOD09A1.061_sur_refl_b02_doy2022201_aid0001.tif'"
            ],
            "application/vnd.google.colaboratory.intrinsic+json": {
              "type": "string"
            }
          },
          "metadata": {},
          "execution_count": 41
        }
      ]
    },
    {
      "cell_type": "code",
      "source": [
        "prefix = \"sur_refl_\"\n",
        "bandend = [\"b01\", \"b02\", \"b03\", \"b04\", \"b05\", \"b06\", \"b07\"]\n",
        "DayOY = \"_doy\\[0-9]+_aid0001\"\n",
        "fileExt = r'.tif'\n",
        "expression_b1 = prefix+bandend[0]\n",
        "expression_b2 = prefix+bandend[1]\n",
        "expression_b3 = prefix+bandend[2]\n",
        "expression_b4 = prefix+bandend[3]\n",
        "expression_b5 = prefix+bandend[4]\n",
        "expression_b6 = prefix+bandend[5]\n",
        "expression_b7 = prefix+bandend[6]"
      ],
      "metadata": {
        "id": "mkrODo-WZ4ze"
      },
      "execution_count": null,
      "outputs": []
    },
    {
      "cell_type": "code",
      "source": [
        "len(bandend)\n",
        "for i in bandend:\n",
        "  print(i)"
      ],
      "metadata": {
        "colab": {
          "base_uri": "https://localhost:8080/"
        },
        "id": "EMepQIw1avUg",
        "outputId": "8c53a89b-333e-459e-a4b2-13319a220387"
      },
      "execution_count": null,
      "outputs": [
        {
          "output_type": "stream",
          "name": "stdout",
          "text": [
            "b01\n",
            "b02\n",
            "b03\n",
            "b04\n",
            "b05\n",
            "b06\n",
            "b07\n"
          ]
        }
      ]
    },
    {
      "cell_type": "markdown",
      "source": [
        "merging bands into 1 file ie (width, height, 7 bands) <<< file"
      ],
      "metadata": {
        "id": "-jHSpnziw48I"
      }
    },
    {
      "cell_type": "code",
      "source": [
        "image_dir = r'/content/drive/MyDrive/OUT/data/MOD09A1061/files/'\n",
        "path = os.path.join(image_dir, imgs_list_b2[1])\n",
        "v1 = tif2array(path.replace(expression_b2, expression_b1),0)[0]\n",
        "v2 = jax.numpy.append(v1, tif2array(path.replace(expression_b2, expression_b2),0)[0] , axis =2)\n",
        "v3 = jax.numpy.append(v2, tif2array(path.replace(expression_b2, expression_b3),0)[0] , axis =2)\n",
        "v4 = jax.numpy.append(v3, tif2array(path.replace(expression_b2, expression_b4),0)[0] , axis =2)\n",
        "v5 = jax.numpy.append(v4, tif2array(path.replace(expression_b2, expression_b5),0)[0] , axis =2)\n",
        "v6 = jax.numpy.append(v5, tif2array(path.replace(expression_b2, expression_b6),0)[0] , axis =2)\n",
        "v7 = jax.numpy.append(v6, tif2array(path.replace(expression_b2, expression_b7),0)[0] , axis =2)\n",
        "print(v1.shape,v2.shape,v7.shape)\n",
        "type(v2)"
      ],
      "metadata": {
        "colab": {
          "base_uri": "https://localhost:8080/"
        },
        "id": "Y-dPea1ZXC88",
        "outputId": "42ad2f12-282b-46bd-8b41-0c8cd18d4631"
      },
      "execution_count": null,
      "outputs": [
        {
          "output_type": "stream",
          "name": "stdout",
          "text": [
            "(233, 454, 1) (233, 454, 2) (233, 454, 7)\n"
          ]
        },
        {
          "output_type": "execute_result",
          "data": {
            "text/plain": [
              "jaxlib.xla_extension.DeviceArray"
            ]
          },
          "metadata": {},
          "execution_count": 58
        }
      ]
    },
    {
      "cell_type": "code",
      "source": [
        "v8 = v7.reshape(v7.shape[0]*v7.shape[1], v7.shape[2]).shape\n",
        "v8"
      ],
      "metadata": {
        "colab": {
          "base_uri": "https://localhost:8080/"
        },
        "id": "t8OD26_Le-AU",
        "outputId": "814fc7f4-269b-4c65-c125-f913d806781b"
      },
      "execution_count": null,
      "outputs": [
        {
          "output_type": "execute_result",
          "data": {
            "text/plain": [
              "(105782, 7)"
            ]
          },
          "metadata": {},
          "execution_count": 91
        }
      ]
    },
    {
      "cell_type": "code",
      "source": [
        "from google.colab.patches import cv2_imshow\n",
        "import numpy as np     \n",
        "predicted_image = np.array(v7[:,:,2],  dtype=np.float32) # This would be your image array\n",
        "cv2img = cv2_imshow(predicted_image) # This work the same as passing an image"
      ],
      "metadata": {
        "colab": {
          "base_uri": "https://localhost:8080/",
          "height": 250
        },
        "id": "WxePQFzrdvC8",
        "outputId": "5a89bc31-beae-4fd8-d8d0-d0fbe7307698"
      },
      "execution_count": null,
      "outputs": [
        {
          "output_type": "display_data",
          "data": {
            "text/plain": [
              "<PIL.Image.Image image mode=L size=454x233 at 0x7FE9BFC7CA10>"
            ],
            "image/png": "[encoded data removed]"
          },
          "metadata": {}
        }
      ]
    },
    {
      "cell_type": "markdown",
      "source": [
        "clipping into parts "
      ],
      "metadata": {
        "id": "99-i4UgexIdn"
      }
    },
    {
      "cell_type": "code",
      "source": [
        "import os, sys\n",
        "from osgeo import gdal\n",
        "\n",
        "dset = gdal.Open(path)\n",
        "\n",
        "width = dset.RasterXSize\n",
        "height = dset.RasterYSize\n",
        "\n",
        "print(width, 'x', height)\n",
        "\n",
        "tilesize = 200\n",
        "\n",
        "for i in range(0, width, tilesize):\n",
        "    for j in range(0, height, tilesize):\n",
        "        w = min(i+tilesize, width) - i\n",
        "        h = min(j+tilesize, height) - j\n",
        "        gdaltranString = \"gdal_translate -of GTIFF -srcwin \"+str(i)+\", \"+str(j)+\", \"+str(w)+\", \" \\\n",
        "            +str(h)+\" \" + path + \" \" + \"/content/\" + \"_\"+str(i)+\"_\"+str(j)+\".tif\"\n",
        "        os.system(gdaltranString)"
      ],
      "metadata": {
        "id": "wNKSkAmmkFuo"
      },
      "execution_count": null,
      "outputs": []
    },
    {
      "cell_type": "code",
      "source": [
        "c1 = tif2array(\"/content/_200_200.tif\",0)[0]\n",
        "predicted_image = np.array(c1,  dtype=np.float32) # This would be your image array\n",
        "cv2img = cv2_imshow(predicted_image)"
      ],
      "metadata": {
        "colab": {
          "base_uri": "https://localhost:8080/",
          "height": 50
        },
        "id": "F_849rgIlAcz",
        "outputId": "9af11017-ee1b-4018-e91e-fbf88cd2048d"
      },
      "execution_count": null,
      "outputs": [
        {
          "output_type": "display_data",
          "data": {
            "text/plain": [
              "<PIL.Image.Image image mode=RGB size=200x33 at 0x7FE9BFB6EE90>"
            ],
            "image/png": "[encoded data removed]"
          },
          "metadata": {}
        }
      ]
    },
    {
      "cell_type": "markdown",
      "source": [
        "testing  clip centre location >> "
      ],
      "metadata": {
        "id": "qKqd3l2HeA0f"
      }
    },
    {
      "cell_type": "code",
      "source": [
        "shape =[454, 233]\n",
        "clip_s = [200, 200]\n",
        "list = []\n",
        "col = int(shape[0]/clip_s[0])+1\n",
        "row = int(shape[1]/clip_s[1])+1\n",
        "in_col = int(((shape[0]-clip_s[0]/2)-(clip_s[0]/2))/(col -1))+1\n",
        "in_row = int(((shape[1]-clip_s[1]/2)-(clip_s[1]/2))/(col -1))+1\n",
        "import numpy as np\n",
        "import matplotlib.pyplot as plt\n",
        "\n",
        "x = []\n",
        "y = []\n",
        "f = plt.figure()\n",
        "f.set_figwidth(shape[0]/50)\n",
        "f.set_figheight(shape[1]/50)\n",
        "plt.plot(x, y)\n",
        "import matplotlib.patches as patches\n",
        "ax = plt.gca()\n",
        "for i in range(0, col):\n",
        "  for j in range(0, row):\n",
        "    if(i==0):\n",
        "      x.append(int(clip_s[0]/2 ))\n",
        "      y.append(int(j*in_row + clip_s[1]/2 ))\n",
        "    if(i==col-1):\n",
        "      x.append(int(i*in_col + clip_s[0]/2 ))\n",
        "    if(j==0):\n",
        "      y.append(int(j*in_row + clip_s[1]/2 ))\n",
        "    if(j==row-1):\n",
        "      y.append(int(j*in_row + clip_s[1]/2 ))\n",
        "    else:\n",
        "      x.append(int(i*in_col + clip_s[0]/2 ))\n",
        "      y.append(int(j*in_row + clip_s[1]/2 ))\n",
        "    print(x, y)\n",
        "    rect = patches.Rectangle((x[i]-clip_s[0]/2, y[j]-clip_s[1]/2), clip_s[0], clip_s[1], linewidth=1, edgecolor='r', facecolor='none')\n",
        "    print((x[i]-clip_s[0]/2, y[j]-clip_s[1]/2))\n",
        "    ax.add_patch(rect)\n",
        "plt.plot(x, y)\n",
        "\n",
        "# Create a Rectangle patch\n",
        "\n",
        "\n",
        "# Add the patch to the Axes\n",
        "# plt.grid()\n",
        "\n",
        "\n",
        "plt.show()"
      ],
      "metadata": {
        "colab": {
          "base_uri": "https://localhost:8080/",
          "height": 872
        },
        "id": "54_HApDicgDV",
        "outputId": "c391d4b8-2cd6-4bf1-8e0f-2e3a5668cb40"
      },
      "execution_count": null,
      "outputs": [
        {
          "output_type": "stream",
          "name": "stdout",
          "text": [
            "[100, 100] [100, 100]\n",
            "(0.0, 0.0)\n",
            "[100, 100, 100] [100, 100, 117]\n",
            "(0.0, 0.0)\n",
            "[100, 100, 100, 228] [100, 100, 117, 100, 100]\n",
            "(0.0, 0.0)\n",
            "[100, 100, 100, 228] [100, 100, 117, 100, 100, 117]\n",
            "(0.0, 0.0)\n",
            "[100, 100, 100, 228, 356, 356] [100, 100, 117, 100, 100, 117, 100, 100]\n",
            "(0.0, 0.0)\n",
            "[100, 100, 100, 228, 356, 356, 356] [100, 100, 117, 100, 100, 117, 100, 100, 117]\n",
            "(0.0, 0.0)\n"
          ]
        },
        {
          "output_type": "error",
          "ename": "ValueError",
          "evalue": "ignored",
          "traceback": [
            "\u001b[0;31m---------------------------------------------------------------------------\u001b[0m",
            "\u001b[0;31mValueError\u001b[0m                                Traceback (most recent call last)",
            "\u001b[0;32m<ipython-input-38-9d30248106ad>\u001b[0m in \u001b[0;36m<module>\u001b[0;34m\u001b[0m\n\u001b[1;32m     34\u001b[0m     \u001b[0mprint\u001b[0m\u001b[0;34m(\u001b[0m\u001b[0;34m(\u001b[0m\u001b[0mx\u001b[0m\u001b[0;34m[\u001b[0m\u001b[0mi\u001b[0m\u001b[0;34m]\u001b[0m\u001b[0;34m-\u001b[0m\u001b[0mclip_s\u001b[0m\u001b[0;34m[\u001b[0m\u001b[0;36m0\u001b[0m\u001b[0;34m]\u001b[0m\u001b[0;34m/\u001b[0m\u001b[0;36m2\u001b[0m\u001b[0;34m,\u001b[0m \u001b[0my\u001b[0m\u001b[0;34m[\u001b[0m\u001b[0mj\u001b[0m\u001b[0;34m]\u001b[0m\u001b[0;34m-\u001b[0m\u001b[0mclip_s\u001b[0m\u001b[0;34m[\u001b[0m\u001b[0;36m1\u001b[0m\u001b[0;34m]\u001b[0m\u001b[0;34m/\u001b[0m\u001b[0;36m2\u001b[0m\u001b[0;34m)\u001b[0m\u001b[0;34m)\u001b[0m\u001b[0;34m\u001b[0m\u001b[0;34m\u001b[0m\u001b[0m\n\u001b[1;32m     35\u001b[0m     \u001b[0max\u001b[0m\u001b[0;34m.\u001b[0m\u001b[0madd_patch\u001b[0m\u001b[0;34m(\u001b[0m\u001b[0mrect\u001b[0m\u001b[0;34m)\u001b[0m\u001b[0;34m\u001b[0m\u001b[0;34m\u001b[0m\u001b[0m\n\u001b[0;32m---> 36\u001b[0;31m \u001b[0mplt\u001b[0m\u001b[0;34m.\u001b[0m\u001b[0mplot\u001b[0m\u001b[0;34m(\u001b[0m\u001b[0mx\u001b[0m\u001b[0;34m,\u001b[0m \u001b[0my\u001b[0m\u001b[0;34m)\u001b[0m\u001b[0;34m\u001b[0m\u001b[0;34m\u001b[0m\u001b[0m\n\u001b[0m\u001b[1;32m     37\u001b[0m \u001b[0;34m\u001b[0m\u001b[0m\n\u001b[1;32m     38\u001b[0m \u001b[0;31m# Create a Rectangle patch\u001b[0m\u001b[0;34m\u001b[0m\u001b[0;34m\u001b[0m\u001b[0;34m\u001b[0m\u001b[0m\n",
            "\u001b[0;32m/usr/local/lib/python3.7/dist-packages/matplotlib/pyplot.py\u001b[0m in \u001b[0;36mplot\u001b[0;34m(scalex, scaley, data, *args, **kwargs)\u001b[0m\n\u001b[1;32m   2761\u001b[0m     return gca().plot(\n\u001b[1;32m   2762\u001b[0m         *args, scalex=scalex, scaley=scaley, **({\"data\": data} if data\n\u001b[0;32m-> 2763\u001b[0;31m         is not None else {}), **kwargs)\n\u001b[0m\u001b[1;32m   2764\u001b[0m \u001b[0;34m\u001b[0m\u001b[0m\n\u001b[1;32m   2765\u001b[0m \u001b[0;34m\u001b[0m\u001b[0m\n",
            "\u001b[0;32m/usr/local/lib/python3.7/dist-packages/matplotlib/axes/_axes.py\u001b[0m in \u001b[0;36mplot\u001b[0;34m(self, scalex, scaley, data, *args, **kwargs)\u001b[0m\n\u001b[1;32m   1645\u001b[0m         \"\"\"\n\u001b[1;32m   1646\u001b[0m         \u001b[0mkwargs\u001b[0m \u001b[0;34m=\u001b[0m \u001b[0mcbook\u001b[0m\u001b[0;34m.\u001b[0m\u001b[0mnormalize_kwargs\u001b[0m\u001b[0;34m(\u001b[0m\u001b[0mkwargs\u001b[0m\u001b[0;34m,\u001b[0m \u001b[0mmlines\u001b[0m\u001b[0;34m.\u001b[0m\u001b[0mLine2D\u001b[0m\u001b[0;34m)\u001b[0m\u001b[0;34m\u001b[0m\u001b[0;34m\u001b[0m\u001b[0m\n\u001b[0;32m-> 1647\u001b[0;31m         \u001b[0mlines\u001b[0m \u001b[0;34m=\u001b[0m \u001b[0;34m[\u001b[0m\u001b[0;34m*\u001b[0m\u001b[0mself\u001b[0m\u001b[0;34m.\u001b[0m\u001b[0m_get_lines\u001b[0m\u001b[0;34m(\u001b[0m\u001b[0;34m*\u001b[0m\u001b[0margs\u001b[0m\u001b[0;34m,\u001b[0m \u001b[0mdata\u001b[0m\u001b[0;34m=\u001b[0m\u001b[0mdata\u001b[0m\u001b[0;34m,\u001b[0m \u001b[0;34m**\u001b[0m\u001b[0mkwargs\u001b[0m\u001b[0;34m)\u001b[0m\u001b[0;34m]\u001b[0m\u001b[0;34m\u001b[0m\u001b[0;34m\u001b[0m\u001b[0m\n\u001b[0m\u001b[1;32m   1648\u001b[0m         \u001b[0;32mfor\u001b[0m \u001b[0mline\u001b[0m \u001b[0;32min\u001b[0m \u001b[0mlines\u001b[0m\u001b[0;34m:\u001b[0m\u001b[0;34m\u001b[0m\u001b[0;34m\u001b[0m\u001b[0m\n\u001b[1;32m   1649\u001b[0m             \u001b[0mself\u001b[0m\u001b[0;34m.\u001b[0m\u001b[0madd_line\u001b[0m\u001b[0;34m(\u001b[0m\u001b[0mline\u001b[0m\u001b[0;34m)\u001b[0m\u001b[0;34m\u001b[0m\u001b[0;34m\u001b[0m\u001b[0m\n",
            "\u001b[0;32m/usr/local/lib/python3.7/dist-packages/matplotlib/axes/_base.py\u001b[0m in \u001b[0;36m__call__\u001b[0;34m(self, *args, **kwargs)\u001b[0m\n\u001b[1;32m    214\u001b[0m                 \u001b[0mthis\u001b[0m \u001b[0;34m+=\u001b[0m \u001b[0margs\u001b[0m\u001b[0;34m[\u001b[0m\u001b[0;36m0\u001b[0m\u001b[0;34m]\u001b[0m\u001b[0;34m,\u001b[0m\u001b[0;34m\u001b[0m\u001b[0;34m\u001b[0m\u001b[0m\n\u001b[1;32m    215\u001b[0m                 \u001b[0margs\u001b[0m \u001b[0;34m=\u001b[0m \u001b[0margs\u001b[0m\u001b[0;34m[\u001b[0m\u001b[0;36m1\u001b[0m\u001b[0;34m:\u001b[0m\u001b[0;34m]\u001b[0m\u001b[0;34m\u001b[0m\u001b[0;34m\u001b[0m\u001b[0m\n\u001b[0;32m--> 216\u001b[0;31m             \u001b[0;32myield\u001b[0m \u001b[0;32mfrom\u001b[0m \u001b[0mself\u001b[0m\u001b[0;34m.\u001b[0m\u001b[0m_plot_args\u001b[0m\u001b[0;34m(\u001b[0m\u001b[0mthis\u001b[0m\u001b[0;34m,\u001b[0m \u001b[0mkwargs\u001b[0m\u001b[0;34m)\u001b[0m\u001b[0;34m\u001b[0m\u001b[0;34m\u001b[0m\u001b[0m\n\u001b[0m\u001b[1;32m    217\u001b[0m \u001b[0;34m\u001b[0m\u001b[0m\n\u001b[1;32m    218\u001b[0m     \u001b[0;32mdef\u001b[0m \u001b[0mget_next_color\u001b[0m\u001b[0;34m(\u001b[0m\u001b[0mself\u001b[0m\u001b[0;34m)\u001b[0m\u001b[0;34m:\u001b[0m\u001b[0;34m\u001b[0m\u001b[0;34m\u001b[0m\u001b[0m\n",
            "\u001b[0;32m/usr/local/lib/python3.7/dist-packages/matplotlib/axes/_base.py\u001b[0m in \u001b[0;36m_plot_args\u001b[0;34m(self, tup, kwargs)\u001b[0m\n\u001b[1;32m    340\u001b[0m \u001b[0;34m\u001b[0m\u001b[0m\n\u001b[1;32m    341\u001b[0m         \u001b[0;32mif\u001b[0m \u001b[0mx\u001b[0m\u001b[0;34m.\u001b[0m\u001b[0mshape\u001b[0m\u001b[0;34m[\u001b[0m\u001b[0;36m0\u001b[0m\u001b[0;34m]\u001b[0m \u001b[0;34m!=\u001b[0m \u001b[0my\u001b[0m\u001b[0;34m.\u001b[0m\u001b[0mshape\u001b[0m\u001b[0;34m[\u001b[0m\u001b[0;36m0\u001b[0m\u001b[0;34m]\u001b[0m\u001b[0;34m:\u001b[0m\u001b[0;34m\u001b[0m\u001b[0;34m\u001b[0m\u001b[0m\n\u001b[0;32m--> 342\u001b[0;31m             raise ValueError(f\"x and y must have same first dimension, but \"\n\u001b[0m\u001b[1;32m    343\u001b[0m                              f\"have shapes {x.shape} and {y.shape}\")\n\u001b[1;32m    344\u001b[0m         \u001b[0;32mif\u001b[0m \u001b[0mx\u001b[0m\u001b[0;34m.\u001b[0m\u001b[0mndim\u001b[0m \u001b[0;34m>\u001b[0m \u001b[0;36m2\u001b[0m \u001b[0;32mor\u001b[0m \u001b[0my\u001b[0m\u001b[0;34m.\u001b[0m\u001b[0mndim\u001b[0m \u001b[0;34m>\u001b[0m \u001b[0;36m2\u001b[0m\u001b[0;34m:\u001b[0m\u001b[0;34m\u001b[0m\u001b[0;34m\u001b[0m\u001b[0m\n",
            "\u001b[0;31mValueError\u001b[0m: x and y must have same first dimension, but have shapes (7,) and (9,)"
          ]
        },
        {
          "output_type": "display_data",
          "data": {
            "text/plain": [
              "<Figure size 653.76x335.52 with 1 Axes>"
            ],
            "image/png": "[encoded data removed]"
          },
          "metadata": {
            "needs_background": "light"
          }
        }
      ]
    }
  ]
}