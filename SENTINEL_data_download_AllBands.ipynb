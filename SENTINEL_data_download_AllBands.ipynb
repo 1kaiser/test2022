{
  "nbformat": 4,
  "nbformat_minor": 0,
  "metadata": {
    "colab": {
      "name": "SENTINEL_data_download_AllBands.ipynb",
      "provenance": [],
      "authorship_tag": "ABX9TyNgmBezoHoDrsE3WC3O185I",
      "include_colab_link": true
    },
    "kernelspec": {
      "name": "python3",
      "display_name": "Python 3"
    },
    "language_info": {
      "name": "python"
    }
  },
  "cells": [
    {
      "cell_type": "markdown",
      "metadata": {
        "id": "view-in-github",
        "colab_type": "text"
      },
      "source": [
        "<a href=\"https://colab.research.google.com/github/1kaiser/test2022/blob/main/SENTINEL_data_download_AllBands.ipynb\" target=\"_parent\"><img src=\"https://colab.research.google.com/assets/colab-badge.svg\" alt=\"Open In Colab\"/></a>"
      ]
    },
    {
      "cell_type": "code",
      "source": [
        "from google.colab import drive\n",
        "drive.mount('/content/drive')"
      ],
      "metadata": {
        "colab": {
          "base_uri": "https://localhost:8080/"
        },
        "id": "zyhN-dL6wOjD",
        "outputId": "a6bec863-df38-47ae-954d-4201f4430a3d"
      },
      "execution_count": null,
      "outputs": [
        {
          "output_type": "stream",
          "name": "stdout",
          "text": [
            "Mounted at /content/drive\n"
          ]
        }
      ]
    },
    {
      "cell_type": "markdown",
      "source": [
        "# googlecloud data"
      ],
      "metadata": {
        "id": "3bPV3b0FfR2k"
      }
    },
    {
      "cell_type": "code",
      "source": [
        "from google.cloud import storage\n",
        "\n",
        "\n",
        "def list_blobs(bucket_name):\n",
        "    \"\"\"Lists all the blobs in the bucket.\"\"\"\n",
        "    # bucket_name = \"your-bucket-name\"\n",
        "\n",
        "    storage_client = storage.Client()\n",
        "\n",
        "    # Note: Client.list_blobs requires at least package version 1.17.0.\n",
        "    blobs = storage_client.list_blobs(bucket_name)\n",
        "\n",
        "    for blob in blobs:\n",
        "        print(blob.name)\n",
        "\n"
      ],
      "metadata": {
        "id": "xr0-f_IKfXkk"
      },
      "execution_count": 5,
      "outputs": []
    },
    {
      "cell_type": "code",
      "source": [
        "!gsutil -m cp \\\n",
        "  \"gs://gcp-public-data-sentinel-2/tiles/43/S/FR/S2B_MSIL1C_20220820T053649_N0400_R005_T43SFR_20220820T073622.SAFE/GRANULE/L1C_T43SFR_A028488_20220820T054215/IMG_DATA/T43SFR_20220820T053649_B03.jp2\" \\\n",
        "  \"gs://gcp-public-data-sentinel-2/tiles/43/S/FR/S2B_MSIL1C_20220820T053649_N0400_R005_T43SFR_20220820T073622.SAFE/GRANULE/L1C_T43SFR_A028488_20220820T054215/IMG_DATA/T43SFR_20220820T053649_B11.jp2\" \\\n",
        "  ."
      ],
      "metadata": {
        "colab": {
          "base_uri": "https://localhost:8080/"
        },
        "id": "suR4hOxDfn6X",
        "outputId": "2089fb3b-db32-4168-8272-ecfe09f1a2dc"
      },
      "execution_count": 8,
      "outputs": [
        {
          "output_type": "stream",
          "name": "stdout",
          "text": [
            "Copying gs://gcp-public-data-sentinel-2/tiles/43/S/FR/S2B_MSIL1C_20220820T053649_N0400_R005_T43SFR_20220820T073622.SAFE/GRANULE/L1C_T43SFR_A028488_20220820T054215/IMG_DATA/T43SFR_20220820T053649_B03.jp2...\n",
            "Copying gs://gcp-public-data-sentinel-2/tiles/43/S/FR/S2B_MSIL1C_20220820T053649_N0400_R005_T43SFR_20220820T073622.SAFE/GRANULE/L1C_T43SFR_A028488_20220820T054215/IMG_DATA/T43SFR_20220820T053649_B11.jp2...\n",
            "/ [2/2 files][ 92.2 MiB/ 92.2 MiB] 100% Done                                    \n",
            "Operation completed over 2 objects/92.2 MiB.                                     \n"
          ]
        }
      ]
    },
    {
      "cell_type": "code",
      "source": [
        "!gcloud auth login"
      ],
      "metadata": {
        "colab": {
          "base_uri": "https://localhost:8080/"
        },
        "id": "xQSd3xv3m9w1",
        "outputId": "ef9876e8-8019-46b7-cb82-97848eee8479"
      },
      "execution_count": 93,
      "outputs": [
        {
          "output_type": "stream",
          "name": "stdout",
          "text": [
            "Go to the following link in your browser:\n",
            "\n",
            "    https://accounts.google.com/o/oauth2/auth?response_type=code&client_id=32555940559.apps.googleusercontent.com&redirect_uri=https%3A%2F%2Fsdk.cloud.google.com%2Fauthcode.html&scope=openid+https%3A%2F%2Fwww.googleapis.com%2Fauth%2Fuserinfo.email+https%3A%2F%2Fwww.googleapis.com%2Fauth%2Fcloud-platform+https%3A%2F%2Fwww.googleapis.com%2Fauth%2Fappengine.admin+https%3A%2F%2Fwww.googleapis.com%2Fauth%2Fsqlservice.login+https%3A%2F%2Fwww.googleapis.com%2Fauth%2Fcompute+https%3A%2F%2Fwww.googleapis.com%2Fauth%2Faccounts.reauth&state=KNebFiVUlFO2cDP3gtrz2dChFnE142&prompt=consent&access_type=offline&code_challenge=T4b9eNfT4i_MWO6qNw3KFB-9C1TMv-AK1uh4QPudnXU&code_challenge_method=S256\n",
            "\n",
            "Enter authorization code: 4/0AdQt8qigTdVOz4KxIDxH3ppGBrRB02_eieLOc2qFESaikTL2i4aKFXmynPWPhPsCzbEqtA\n",
            "\n",
            "You are now logged in as [21mce312@nith.ac.in].\n",
            "Your current project is [None].  You can change this setting by running:\n",
            "  $ gcloud config set project PROJECT_ID\n"
          ]
        }
      ]
    },
    {
      "cell_type": "code",
      "source": [
        "FRdata = []\n",
        "GRdata = []\n",
        "ERdata = []\n",
        "FQdata = []\n",
        "GQdata = []\n",
        "expression = \".SAFE/\"\n",
        "ERdata = !gsutil ls \"gs://gcp-public-data-sentinel-2/tiles/43/S/ER/\"\n",
        "FRdata = !gsutil ls \"gs://gcp-public-data-sentinel-2/tiles/43/S/FR/\"\n",
        "GRdata = !gsutil ls \"gs://gcp-public-data-sentinel-2/tiles/43/S/GR/\"\n",
        "FQdata = !gsutil ls \"gs://gcp-public-data-sentinel-2/tiles/43/R/FQ/\"\n",
        "GQdata = !gsutil ls \"gs://gcp-public-data-sentinel-2/tiles/43/R/GQ/\"\n",
        "ERdata =  [f for f in ERdata if f.__contains__(expression)]\n",
        "ERdata.sort()\n",
        "FRdata =  [f for f in FRdata if f.__contains__(expression)]\n",
        "FRdata.sort()\n",
        "GRdata =  [f for f in GRdata if f.__contains__(expression)]\n",
        "GRdata.sort()\n",
        "FQdata =  [f for f in FQdata if f.__contains__(expression)]\n",
        "FQdata.sort()\n",
        "GQdata =  [f for f in GQdata if f.__contains__(expression)]\n",
        "GQdata.sort()\n",
        "print(len(ERdata),len(FRdata),len(GRdata),len(FQdata),len(GQdata))\n",
        "# len(data)\n",
        "\n"
      ],
      "metadata": {
        "colab": {
          "base_uri": "https://localhost:8080/"
        },
        "id": "xZAzj3r_hTj8",
        "outputId": "a556ab3c-a748-4989-b5b4-311860bdc7af"
      },
      "execution_count": 94,
      "outputs": [
        {
          "output_type": "stream",
          "name": "stdout",
          "text": [
            "484 829 414 904 409\n"
          ]
        }
      ]
    },
    {
      "cell_type": "code",
      "source": [
        "ERdata[4][57:-49]\n"
      ],
      "metadata": {
        "colab": {
          "base_uri": "https://localhost:8080/",
          "height": 35
        },
        "id": "E-F4_QNQefDK",
        "outputId": "800cd050-f1be-4b56-b498-c9664cc04f74"
      },
      "execution_count": 95,
      "outputs": [
        {
          "output_type": "execute_result",
          "data": {
            "text/plain": [
              "'201509'"
            ],
            "application/vnd.google.colaboratory.intrinsic+json": {
              "type": "string"
            }
          },
          "metadata": {},
          "execution_count": 95
        }
      ]
    },
    {
      "cell_type": "code",
      "source": [
        "ERdata_dates = []\n",
        "for i, f in enumerate(ERdata):\n",
        "  ERdata_dates.append(ERdata[i][57:-49])\n",
        "ERdata_dates.sort()\n",
        "len(ERdata_dates)\n",
        "############################################\n",
        "FRdata_dates = []\n",
        "for i, f in enumerate(FRdata):\n",
        "  FRdata_dates.append(FRdata[i][57:-49])\n",
        "FRdata_dates.sort()\n",
        "len(FRdata_dates)\n",
        "############################################\n",
        "GRdata_dates = []\n",
        "for i, f in enumerate(GRdata):\n",
        "  GRdata_dates.append(GRdata[i][57:-49])\n",
        "GRdata_dates.sort()\n",
        "len(GRdata_dates)\\\n",
        "############################################\n",
        "FQdata_dates = []\n",
        "for i, f in enumerate(FQdata):\n",
        "  FQdata_dates.append(FQdata[i][57:-49])\n",
        "FQdata_dates.sort()\n",
        "len(FQdata_dates)\n",
        "############################################\n",
        "GQdata_dates = []\n",
        "for i, f in enumerate(GQdata):\n",
        "  GQdata_dates.append(GQdata[i][57:-49])\n",
        "GQdata_dates.sort()\n",
        "len(GQdata_dates)\n",
        "\n",
        "common = set(ERdata_dates) & set(FRdata_dates) & set(GRdata_dates) & set(FQdata_dates) & set(GQdata_dates)\n",
        "common = list(common)\n",
        "\n",
        "# common = [x for x in ERdata_dates if x in FRdata_dates]\n",
        "# print(len(common))\n",
        "# common = [x for x in GRdata_dates if x in common]\n",
        "# print(len(common))\n",
        "# common = [x for x in FQdata_dates if x in common]\n",
        "# print(len(common))\n",
        "# common = [x for x in GQdata_dates if x in common]\n",
        "# print(len(common))\n",
        "len(common)\n",
        "common.sort()"
      ],
      "metadata": {
        "id": "5683aWe_WyzZ"
      },
      "execution_count": null,
      "outputs": []
    },
    {
      "cell_type": "code",
      "source": [
        "# taking the common values 80 values granules to get an ER, FE, GR, FQ, GQ mosaic creation\n",
        "ERdata_emp_lst = []\n",
        "for date in common:\n",
        "    for link in ERdata:\n",
        "        if(date in link):\n",
        "            ERdata_emp_lst.append(link)\n",
        "            break\n",
        "FRdata_emp_lst = []\n",
        "for date in common:\n",
        "    for link in FRdata:\n",
        "        if(date in link):\n",
        "            FRdata_emp_lst.append(link)\n",
        "            break\n",
        "GRdata_emp_lst = []\n",
        "for date in common:\n",
        "    for link in GRdata:\n",
        "        if(date in link):\n",
        "            GRdata_emp_lst.append(link)\n",
        "            break\n",
        "FQdata_emp_lst = []\n",
        "for date in common:\n",
        "    for link in FQdata:\n",
        "        if(date in link):\n",
        "            FQdata_emp_lst.append(link)\n",
        "            break\n",
        "GQdata_emp_lst = []\n",
        "for date in common:\n",
        "    for link in GQdata:\n",
        "        if(date in link):\n",
        "            GQdata_emp_lst.append(link)\n",
        "            break\n"
      ],
      "metadata": {
        "id": "SZ1WKVA2Fs6_"
      },
      "execution_count": 114,
      "outputs": []
    },
    {
      "cell_type": "code",
      "source": [
        "GQdata_emp_lst"
      ],
      "metadata": {
        "id": "EsEvtAKJGb2T"
      },
      "execution_count": null,
      "outputs": []
    },
    {
      "cell_type": "code",
      "source": [
        "ERast = []\n",
        "FRast = []\n",
        "GRast = []\n",
        "FQast = []\n",
        "GQast = []\n",
        "#!gsutil ls \"{data[5]}\"GRANULE\n",
        "ERast = !gsutil ls \"{ERdata_emp_lst[5]}\"GRANULE\n",
        "FRast = !gsutil ls \"{FRdata_emp_lst[5]}\"GRANULE\n",
        "GRast = !gsutil ls \"{GRdata_emp_lst[5]}\"GRANULE\n",
        "FQast = !gsutil ls \"{FQdata_emp_lst[5]}\"GRANULE\n",
        "GQast = !gsutil ls \"{GQdata_emp_lst[5]}\"GRANULE\n",
        "expression_bxxx = \"/\"\n",
        "ERast = [f for f in ERast if f.endswith(expression_bxxx)]\n",
        "FRast = [f for f in FRast if f.endswith(expression_bxxx)]\n",
        "GRast = [f for f in GRast if f.endswith(expression_bxxx)]\n",
        "FQast = [f for f in FQast if f.endswith(expression_bxxx)]\n",
        "GQast = [f for f in GQast if f.endswith(expression_bxxx)]\n"
      ],
      "metadata": {
        "id": "Sw4pWxFCGvhn"
      },
      "execution_count": 118,
      "outputs": []
    },
    {
      "cell_type": "code",
      "source": [
        "GQast\n"
      ],
      "metadata": {
        "colab": {
          "base_uri": "https://localhost:8080/"
        },
        "id": "OA6m6-i8PQWD",
        "outputId": "14c026c2-3981-4832-9ffd-d1f597078064"
      },
      "execution_count": 119,
      "outputs": [
        {
          "output_type": "execute_result",
          "data": {
            "text/plain": [
              "['gs://gcp-public-data-sentinel-2/tiles/43/R/GQ/S2A_MSIL1C_20160604T052652_N0202_R105_T43RGQ_20160604T053931.SAFE/GRANULE/L1C_T43RGQ_A004964_20160604T053931/']"
            ]
          },
          "metadata": {},
          "execution_count": 119
        }
      ]
    },
    {
      "cell_type": "code",
      "source": [
        "ERimg_datas =[]\n",
        "ERimg_datas = !gsutil ls \"{ERast[0]}\"IMG_DATA\n",
        "FRimg_datas =[]\n",
        "FRimg_datas = !gsutil ls \"{FRast[0]}\"IMG_DATA\n",
        "GRimg_datas =[]\n",
        "GRimg_datas = !gsutil ls \"{GRast[0]}\"IMG_DATA\n",
        "FQimg_datas =[]\n",
        "FQimg_datas = !gsutil ls \"{FQast[0]}\"IMG_DATA\n",
        "GQimg_datas =[]\n",
        "GQimg_datas = !gsutil ls \"{GQast[0]}\"IMG_DATA\n",
        "\n",
        "expression_b3 = \"B03.jp2\"\n",
        "expression_b11 = \"B11.jp2\"\n",
        "\n",
        "ERband_b3 =  [f for f in ERimg_datas if f.__contains__(expression_b3)]\n",
        "ERband_b11 =  [f for f in ERimg_datas if f.__contains__(expression_b11)]\n",
        "ERband_b3[0]\n",
        "ERband_b11[0]\n",
        "FRband_b3 =  [f for f in FRimg_datas if f.__contains__(expression_b3)]\n",
        "FRband_b11 =  [f for f in FRimg_datas if f.__contains__(expression_b11)]\n",
        "FRband_b3[0]\n",
        "FRband_b11[0]\n",
        "GRband_b3 =  [f for f in GRimg_datas if f.__contains__(expression_b3)]\n",
        "GRband_b11 =  [f for f in GRimg_datas if f.__contains__(expression_b11)]\n",
        "GRband_b3[0]\n",
        "GRband_b11[0]\n",
        "FQband_b3 =  [f for f in FQimg_datas if f.__contains__(expression_b3)]\n",
        "FQband_b11 =  [f for f in FQimg_datas if f.__contains__(expression_b11)]\n",
        "FQband_b3[0]\n",
        "FQband_b11[0]\n",
        "GQband_b3 =  [f for f in GQimg_datas if f.__contains__(expression_b3)]\n",
        "GQband_b11 =  [f for f in GQimg_datas if f.__contains__(expression_b11)]\n",
        "GQband_b3[0]\n",
        "GQband_b11[0]\n",
        "!gsutil -m cp \\\n",
        "  \"{ERband_b3[0]}\" \\\n",
        "  \"{FRband_b3[0]}\" \\\n",
        "  \"{GRband_b3[0]}\" \\\n",
        "  \"{FQband_b3[0]}\" \\\n",
        "  \"{GQband_b3[0]}\" \\\n",
        "  /content/B3\n",
        "!gsutil -m cp \\\n",
        "  \"{ERband_b11[0]}\" \\\n",
        "  \"{FRband_b11[0]}\" \\\n",
        "  \"{GRband_b11[0]}\" \\\n",
        "  \"{FQband_b11[0]}\" \\\n",
        "  \"{GQband_b11[0]}\" \\\n",
        "  /content/B11"
      ],
      "metadata": {
        "colab": {
          "base_uri": "https://localhost:8080/"
        },
        "id": "uTtZTwzxHO9R",
        "outputId": "fd6932be-0c4d-4a11-95fe-dc96ae4d7926"
      },
      "execution_count": 121,
      "outputs": [
        {
          "output_type": "stream",
          "name": "stdout",
          "text": [
            "Copying gs://gcp-public-data-sentinel-2/tiles/43/S/ER/S2A_MSIL1C_20160607T053642_N0202_R005_T43SER_20160607T054014.SAFE/GRANULE/L1C_T43SER_A005007_20160607T054014/IMG_DATA/T43SER_20160607T053642_B03.jp2...\n",
            "Copying gs://gcp-public-data-sentinel-2/tiles/43/S/FR/S2A_MSIL1C_20160604T052652_N0202_R105_T43SFR_20160604T053931.SAFE/GRANULE/L1C_T43SFR_A004964_20160604T053931/IMG_DATA/T43SFR_20160604T052652_B03.jp2...\n",
            "Copying gs://gcp-public-data-sentinel-2/tiles/43/S/GR/S2A_MSIL1C_20160604T052652_N0202_R105_T43SGR_20160604T053931.SAFE/GRANULE/L1C_T43SGR_A004964_20160604T053931/IMG_DATA/T43SGR_20160604T052652_B03.jp2...\n",
            "Copying gs://gcp-public-data-sentinel-2/tiles/43/R/FQ/S2A_MSIL1C_20160604T052652_N0202_R105_T43RFQ_20160604T053931.SAFE/GRANULE/L1C_T43RFQ_A004964_20160604T053931/IMG_DATA/T43RFQ_20160604T052652_B03.jp2...\n",
            "Copying gs://gcp-public-data-sentinel-2/tiles/43/R/GQ/S2A_MSIL1C_20160604T052652_N0202_R105_T43RGQ_20160604T053931.SAFE/GRANULE/L1C_T43RGQ_A004964_20160604T053931/IMG_DATA/T43RGQ_20160604T052652_B03.jp2...\n",
            "/ [5/5 files][536.7 MiB/536.7 MiB] 100% Done                                    \n",
            "Operation completed over 5 objects/536.7 MiB.                                    \n",
            "Copying gs://gcp-public-data-sentinel-2/tiles/43/S/ER/S2A_MSIL1C_20160607T053642_N0202_R005_T43SER_20160607T054014.SAFE/GRANULE/L1C_T43SER_A005007_20160607T054014/IMG_DATA/T43SER_20160607T053642_B11.jp2...\n",
            "Copying gs://gcp-public-data-sentinel-2/tiles/43/S/FR/S2A_MSIL1C_20160604T052652_N0202_R105_T43SFR_20160604T053931.SAFE/GRANULE/L1C_T43SFR_A004964_20160604T053931/IMG_DATA/T43SFR_20160604T052652_B11.jp2...\n",
            "Copying gs://gcp-public-data-sentinel-2/tiles/43/S/GR/S2A_MSIL1C_20160604T052652_N0202_R105_T43SGR_20160604T053931.SAFE/GRANULE/L1C_T43SGR_A004964_20160604T053931/IMG_DATA/T43SGR_20160604T052652_B11.jp2...\n",
            "Copying gs://gcp-public-data-sentinel-2/tiles/43/R/FQ/S2A_MSIL1C_20160604T052652_N0202_R105_T43RFQ_20160604T053931.SAFE/GRANULE/L1C_T43RFQ_A004964_20160604T053931/IMG_DATA/T43RFQ_20160604T052652_B11.jp2...\n",
            "Copying gs://gcp-public-data-sentinel-2/tiles/43/R/GQ/S2A_MSIL1C_20160604T052652_N0202_R105_T43RGQ_20160604T053931.SAFE/GRANULE/L1C_T43RGQ_A004964_20160604T053931/IMG_DATA/T43RGQ_20160604T052652_B11.jp2...\n",
            "| [5/5 files][156.2 MiB/156.2 MiB] 100% Done                                    \n",
            "Operation completed over 5 objects/156.2 MiB.                                    \n"
          ]
        }
      ]
    },
    {
      "cell_type": "code",
      "source": [
        "!gdown https://drive.google.com/uc?id=1oyqXeHZgaTOjLod-Vqz-VAzS88O13JDr\n",
        "!unzip /content/beasBasinShapeFile.zip -d /content"
      ],
      "metadata": {
        "colab": {
          "base_uri": "https://localhost:8080/"
        },
        "id": "mH9wYC7IVJ_K",
        "outputId": "952a52b5-8934-4a1e-833d-1d8f23c366d8"
      },
      "execution_count": 2,
      "outputs": [
        {
          "output_type": "stream",
          "name": "stdout",
          "text": [
            "Downloading...\n",
            "From: https://drive.google.com/uc?id=1oyqXeHZgaTOjLod-Vqz-VAzS88O13JDr\n",
            "To: /content/beasBasinShapeFile.zip\n",
            "\r  0% 0.00/8.65k [00:00<?, ?B/s]\r100% 8.65k/8.65k [00:00<00:00, 10.7MB/s]\n",
            "Archive:  /content/beasBasinShapeFile.zip\n",
            " extracting: /content/beasBasinShapeFile.cpg  \n",
            "  inflating: /content/beasBasinShapeFile.dbf  \n",
            "  inflating: /content/beasBasinShapeFile.prj  \n",
            "  inflating: /content/beasBasinShapeFile.qmd  \n",
            "  inflating: /content/beasBasinShapeFile.shp  \n",
            "  inflating: /content/beasBasinShapeFile.shx  \n"
          ]
        }
      ]
    },
    {
      "cell_type": "code",
      "source": [
        "!gdal_merge.py \\\n",
        "  -o outB11.tif \\\n",
        "  /content/B11/*.jp2\n",
        "\n",
        "!gdal_merge.py \\\n",
        "  -o outB3.tif \\\n",
        "  /content/B3/*.jp2\n"
      ],
      "metadata": {
        "colab": {
          "base_uri": "https://localhost:8080/"
        },
        "id": "mYy2GFPcX-mJ",
        "outputId": "f69935a4-5d54-46dd-c7cc-08510c31435b"
      },
      "execution_count": 3,
      "outputs": [
        {
          "output_type": "stream",
          "name": "stdout",
          "text": [
            "0...10...20...30...40...50...60...70...80...90...100 - done.\n",
            "0...10...20...30...40...50...60...70...80...90...100 - done.\n"
          ]
        }
      ]
    },
    {
      "cell_type": "code",
      "source": [
        "import cv2\n",
        "\n",
        "img = cv2.imread('/content/outB11.tif')\n",
        "\n",
        "# Get original height and width\n",
        "print(f\"Original Dimensions : {img.shape}\")\n",
        "width, height, c = img.shape # 400x266\n",
        "\n",
        "\n",
        "# resize image by specifying custom width and height\n",
        "resized = cv2.resize(img, (height*2, width*2))\n",
        "\n",
        "print(f\"Resized Dimensions : {resized.shape}\")\n",
        "cv2.imwrite('/content/outB11.tif', resized)\n"
      ],
      "metadata": {
        "colab": {
          "base_uri": "https://localhost:8080/"
        },
        "id": "e541hFLngKW-",
        "outputId": "f61bb0a4-3db8-40a2-c173-a03715b8f263"
      },
      "execution_count": 4,
      "outputs": [
        {
          "output_type": "stream",
          "name": "stdout",
          "text": [
            "Original Dimensions : (10488, 15489, 3)\n",
            "Resized Dimensions : (20976, 30978, 3)\n"
          ]
        },
        {
          "output_type": "execute_result",
          "data": {
            "text/plain": [
              "True"
            ]
          },
          "metadata": {},
          "execution_count": 4
        }
      ]
    },
    {
      "cell_type": "code",
      "source": [
        "\n",
        "\n",
        "!gdal_calc.py \\\n",
        "  --overwrite \\\n",
        "  --type=Float32 \\\n",
        "  -A /content/outB3.tif \\\n",
        "  --A_band 1 \\\n",
        "  -B /content/outB11.tif \\\n",
        "  --B_band 1 \\\n",
        "  --outfile=/content/BothCheck_result.tif \\\n",
        "  --calc=\"(A.astype(float) - B)/(A.astype(float) + B)\"\n",
        "\n",
        "# !gdal_calc.py \\\n",
        "#   --overwrite \\\n",
        "#   --type=Float32 \\\n",
        "#   -A /content/NDSI_result.tif \\\n",
        "#   --A_band 1 \\\n",
        "#   --outfile=/content/BothCheck_result.tif \\\n",
        "#   --calc=\"(A.astype(float)>=0.4)\"\n",
        "\n",
        "!gdalwarp \\\n",
        "  -ot Float32 \\\n",
        "  -cutline /content/beasBasinShapeFile.shp -crop_to_cutline \\\n",
        "  /content/BothCheck_result.tif \\\n",
        "  /content/BothCheck_resultOK.tif\n",
        "\n",
        "import os\n",
        "import subprocess\n",
        "from osgeo import gdal\n",
        "import matplotlib.pyplot as plt\n",
        "\n",
        "\n",
        "\n",
        "#os.system (cmd)\n",
        "slp1=gdal.Open(\"/content/BothCheck_resultOK.tif\")\n",
        "slp1Array= slp1.GetRasterBand(1).ReadAsArray()\n",
        "plt.figure()\n",
        "plt.imshow(slp1Array)\n",
        "plt.colorbar()\n",
        "plt.show()"
      ],
      "metadata": {
        "colab": {
          "base_uri": "https://localhost:8080/",
          "height": 387
        },
        "id": "S1sLsF8TOiYM",
        "outputId": "e5467c6c-37f1-4cb7-c463-87a3186d55c2"
      },
      "execution_count": 6,
      "outputs": [
        {
          "output_type": "stream",
          "name": "stdout",
          "text": [
            "<string>:1: RuntimeWarning: invalid value encountered in divide\n",
            "0 .. 10 .. 20 .. 30 .. 40 .. 50 .. 60 .. 70 .. 80 .. 90 .. 100 - Done\n",
            "Creating output file that is 17854P x 10716L.\n",
            "Processing input file /content/BothCheck_result.tif.\n",
            "Using internal nodata values (e.g. 3.40282e+38) for image /content/BothCheck_result.tif.\n",
            "Copying nodata values from source /content/BothCheck_result.tif to destination /content/BothCheck_resultOK.tif.\n",
            "0...10...20...30...40...50...60...70...80...90...100 - done.\n"
          ]
        },
        {
          "output_type": "display_data",
          "data": {
            "text/plain": [
              "<Figure size 432x288 with 2 Axes>"
            ],
            "image/png": "[encoded data removed]"
          },
          "metadata": {
            "needs_background": "light"
          }
        }
      ]
    },
    {
      "cell_type": "markdown",
      "source": [
        "# connect to copernicus eu"
      ],
      "metadata": {
        "id": "ogb1ZmqVfIO0"
      }
    },
    {
      "cell_type": "code",
      "source": [
        "!wget https://scihub.copernicus.eu/twiki/pub/SciHubUserGuide/BatchScripting/dhusget.sh"
      ],
      "metadata": {
        "colab": {
          "base_uri": "https://localhost:8080/"
        },
        "id": "4cUgmwbguRbl",
        "outputId": "a43112f1-ae21-47ce-d280-ba9c8d101a82"
      },
      "execution_count": null,
      "outputs": [
        {
          "output_type": "stream",
          "name": "stdout",
          "text": [
            "--2022-08-16 15:01:03--  https://scihub.copernicus.eu/twiki/pub/SciHubUserGuide/BatchScripting/dhusget.sh\n",
            "Resolving scihub.copernicus.eu (scihub.copernicus.eu)... 146.59.215.226\n",
            "Connecting to scihub.copernicus.eu (scihub.copernicus.eu)|146.59.215.226|:443... connected.\n",
            "HTTP request sent, awaiting response... 200 OK\n",
            "Length: 36971 (36K) [application/x-sh]\n",
            "Saving to: ‘dhusget.sh’\n",
            "\n",
            "dhusget.sh          100%[===================>]  36.10K  --.-KB/s    in 0.09s   \n",
            "\n",
            "2022-08-16 15:01:04 (389 KB/s) - ‘dhusget.sh’ saved [36971/36971]\n",
            "\n"
          ]
        }
      ]
    },
    {
      "cell_type": "code",
      "source": [
        "#@title downloading the links per page from the query { vertical-output: true }\n",
        "pages = 40 #@param {type:\"integer\"}\n",
        "start_date = \"2000-08-15\" #@param {type:\"date\"}\n",
        "end_date = \"2022-08-15\" #@param {type:\"date\"}\n",
        "links_per_page = 50\n",
        "\n",
        "from google.colab import output\n",
        "temp_dir = \"/content/gogogo/\"\n",
        "!mkdir -p {temp_dir}\n",
        "\n",
        "for i in range(1,pages):\n",
        "  !bash /content/dhusget.sh \\\n",
        "    -u 1kaiser -p hV@dkL4x7yTkzp+ \\\n",
        "    -d https://scihub.copernicus.eu/dhus/ \\\n",
        "    -m Sentinel-2 \\\n",
        "    -s {start_date}T06:00:00.000Z \\\n",
        "    -e {end_date}T06:00:00.000Z \\\n",
        "    -c 75.71,32.47:78.02,31.34 \\\n",
        "    -C {temp_dir}products-list{i}.csv \\\n",
        "    -T S2MSI2A \\\n",
        "    -l 100 \\\n",
        "    -P {i} \n",
        "  output.clear() #to_clear_the_output_console_everytime"
      ],
      "metadata": {
        "cellView": "form",
        "id": "LrvWvjj0uNgm"
      },
      "execution_count": null,
      "outputs": []
    },
    {
      "cell_type": "code",
      "execution_count": null,
      "metadata": {
        "id": "glbchvZWt5zu"
      },
      "outputs": [],
      "source": [
        "import pandas as pd\n",
        "import glob\n",
        "import os\n",
        "from google.colab import output\n",
        "temp_dir = \"/content/gogogo/\"\n",
        "################################################################################\n",
        "!gdown https://drive.google.com/uc?id=1WsPIKyvrV8vVrJEySp6S2y-23Mu_s7eF\n",
        "\n",
        "################################################################################\n",
        "files = os.path.join(temp_dir, \"products-list*.csv\")\n",
        "print(glob.glob(files))\n",
        "files = glob.glob(files)\n",
        "master_file = pd.read_csv('/content/output.csv')\n",
        "for csv_file in files:\n",
        "  df = pd.read_csv(csv_file)\n",
        "  df.to_csv('/content/output.csv', mode = 'a', header = False, index = False)\n",
        "################################################################################ \n",
        "# 1. Open the CSV file in reading mode and the TXT file in writing mode\n",
        "with open('/content/output.csv', 'r') as f_in, open('/content/my_file.txt', 'w') as f_out:\n",
        "    # 2. Read the CSV file and store in variable\n",
        "    content = f_in.read()\n",
        "    # 3. Write the content into the TXT file\n",
        "    f_out.write(content)\n",
        "################################################################################\n",
        "yoyo =[]\n",
        "links =open(\"/content/my_file.txt\", 'r')\n",
        "link_list = [f for f in links]\n",
        "for i in range(len(link_list)):\n",
        "  yoyo.append(link_list[i].split(\",\"))\n",
        "K = yoyo[7][1][:-1]\n"
      ]
    },
    {
      "cell_type": "code",
      "source": [
        "################################################################################\n",
        "%cd /content/drive/MyDrive/OUT/data/sentinel/S2MSI2A_1/\n",
        "################################################################################\n",
        "print(K)\n",
        "for i in range(len(yoyo)):\n",
        "  K = yoyo[i][1][:-1]\n",
        "  t1 = str('/\\$value')\n",
        "  B = K+t1\n",
        "  !wget --content-disposition --continue --user=1kaiser --password=hV@dkL4x7yTkzp+ \"{B}\"\n",
        "  output.clear() #to_clear_the_output_console_everytime\n",
        "################################################################################\n",
        "%cd /content/\n",
        "################################################################################"
      ],
      "metadata": {
        "id": "etTZymzwXRKv"
      },
      "execution_count": null,
      "outputs": []
    },
    {
      "cell_type": "code",
      "source": [
        "!wget --content-disposition --continue --user=1kaiser --password=hV@dkL4x7yTkzp+ \"https://scihub.copernicus.eu/dhus/odata/v1/Products('87494e58-978e-48a2-8d76-0c573ad0050b')/\\$value\""
      ],
      "metadata": {
        "colab": {
          "base_uri": "https://localhost:8080/"
        },
        "id": "9rdhcwsLXtma",
        "outputId": "b0cc7640-84bf-4978-f148-3b3958773c5d"
      },
      "execution_count": null,
      "outputs": [
        {
          "output_type": "stream",
          "name": "stdout",
          "text": [
            "--2022-08-16 15:56:50--  https://scihub.copernicus.eu/dhus/odata/v1/Products('87494e58-978e-48a2-8d76-0c573ad0050b')/$value\n",
            "Resolving scihub.copernicus.eu (scihub.copernicus.eu)... 146.59.215.226\n",
            "Connecting to scihub.copernicus.eu (scihub.copernicus.eu)|146.59.215.226|:443... connected.\n",
            "HTTP request sent, awaiting response... 401 Unauthorized\n",
            "Authentication selected: Basic realm=\"OData service\"\n",
            "Connecting to scihub.copernicus.eu (scihub.copernicus.eu)|146.59.215.226|:443... connected.\n",
            "HTTP request sent, awaiting response... 202 Accepted\n",
            "Length: 0 [text/plain]\n",
            "--2022-08-16 15:56:51--  https://scihub.copernicus.eu/dhus/odata/v1/Products('87494e58-978e-48a2-8d76-0c573ad0050b')/$value\n",
            "Reusing existing connection to scihub.copernicus.eu:443.\n",
            "HTTP request sent, awaiting response... 403 Forbidden\n",
            "2022-08-16 15:56:53 ERROR 403: Forbidden.\n",
            "\n"
          ]
        }
      ]
    }
  ]
}