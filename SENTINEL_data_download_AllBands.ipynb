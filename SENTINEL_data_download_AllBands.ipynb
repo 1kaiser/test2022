{
  "nbformat": 4,
  "nbformat_minor": 0,
  "metadata": {
    "colab": {
      "name": "SENTINEL_data_download_AllBands.ipynb",
      "provenance": [],
      "include_colab_link": true
    },
    "kernelspec": {
      "name": "python3",
      "display_name": "Python 3"
    },
    "language_info": {
      "name": "python"
    }
  },
  "cells": [
    {
      "cell_type": "markdown",
      "metadata": {
        "id": "view-in-github",
        "colab_type": "text"
      },
      "source": [
        "<a href=\"https://colab.research.google.com/github/1kaiser/test2022/blob/main/SENTINEL_data_download_AllBands.ipynb\" target=\"_parent\"><img src=\"https://colab.research.google.com/assets/colab-badge.svg\" alt=\"Open In Colab\"/></a>"
      ]
    },
    {
      "cell_type": "code",
      "source": [
        "from google.colab import drive\n",
        "drive.mount('/content/drive')"
      ],
      "metadata": {
        "colab": {
          "base_uri": "https://localhost:8080/"
        },
        "id": "zyhN-dL6wOjD",
        "outputId": "36458f78-a919-4c66-e3a5-38a68ac84bb6"
      },
      "execution_count": 1,
      "outputs": [
        {
          "output_type": "stream",
          "name": "stdout",
          "text": [
            "Mounted at /content/drive\n"
          ]
        }
      ]
    },
    {
      "cell_type": "markdown",
      "source": [
        "# googlecloud data"
      ],
      "metadata": {
        "id": "3bPV3b0FfR2k"
      }
    },
    {
      "cell_type": "code",
      "source": [
        "from google.cloud import storage\n",
        "\n",
        "\n",
        "def list_blobs(bucket_name):\n",
        "    \"\"\"Lists all the blobs in the bucket.\"\"\"\n",
        "    # bucket_name = \"your-bucket-name\"\n",
        "\n",
        "    storage_client = storage.Client()\n",
        "\n",
        "    # Note: Client.list_blobs requires at least package version 1.17.0.\n",
        "    blobs = storage_client.list_blobs(bucket_name)\n",
        "\n",
        "    for blob in blobs:\n",
        "        print(blob.name)\n",
        "\n"
      ],
      "metadata": {
        "id": "xr0-f_IKfXkk"
      },
      "execution_count": null,
      "outputs": []
    },
    {
      "cell_type": "code",
      "source": [
        "!gsutil -m cp \\\n",
        "  \"gs://gcp-public-data-sentinel-2/tiles/43/S/FR/S2B_MSIL1C_20220820T053649_N0400_R005_T43SFR_20220820T073622.SAFE/GRANULE/L1C_T43SFR_A028488_20220820T054215/IMG_DATA/T43SFR_20220820T053649_B03.jp2\" \\\n",
        "  \"gs://gcp-public-data-sentinel-2/tiles/43/S/FR/S2B_MSIL1C_20220820T053649_N0400_R005_T43SFR_20220820T073622.SAFE/GRANULE/L1C_T43SFR_A028488_20220820T054215/IMG_DATA/T43SFR_20220820T053649_B11.jp2\" \\\n",
        "  ."
      ],
      "metadata": {
        "colab": {
          "base_uri": "https://localhost:8080/"
        },
        "id": "suR4hOxDfn6X",
        "outputId": "2089fb3b-db32-4168-8272-ecfe09f1a2dc"
      },
      "execution_count": null,
      "outputs": [
        {
          "output_type": "stream",
          "name": "stdout",
          "text": [
            "Copying gs://gcp-public-data-sentinel-2/tiles/43/S/FR/S2B_MSIL1C_20220820T053649_N0400_R005_T43SFR_20220820T073622.SAFE/GRANULE/L1C_T43SFR_A028488_20220820T054215/IMG_DATA/T43SFR_20220820T053649_B03.jp2...\n",
            "Copying gs://gcp-public-data-sentinel-2/tiles/43/S/FR/S2B_MSIL1C_20220820T053649_N0400_R005_T43SFR_20220820T073622.SAFE/GRANULE/L1C_T43SFR_A028488_20220820T054215/IMG_DATA/T43SFR_20220820T053649_B11.jp2...\n",
            "/ [2/2 files][ 92.2 MiB/ 92.2 MiB] 100% Done                                    \n",
            "Operation completed over 2 objects/92.2 MiB.                                     \n"
          ]
        }
      ]
    },
    {
      "cell_type": "code",
      "source": [
        "!gcloud auth login"
      ],
      "metadata": {
        "colab": {
          "base_uri": "https://localhost:8080/"
        },
        "id": "xQSd3xv3m9w1",
        "outputId": "261f244e-a3b3-4d32-fc07-0f1b4a94ca94"
      },
      "execution_count": 2,
      "outputs": [
        {
          "output_type": "stream",
          "name": "stdout",
          "text": [
            "Go to the following link in your browser:\n",
            "\n",
            "    https://accounts.google.com/o/oauth2/auth?response_type=code&client_id=32555940559.apps.googleusercontent.com&redirect_uri=https%3A%2F%2Fsdk.cloud.google.com%2Fauthcode.html&scope=openid+https%3A%2F%2Fwww.googleapis.com%2Fauth%2Fuserinfo.email+https%3A%2F%2Fwww.googleapis.com%2Fauth%2Fcloud-platform+https%3A%2F%2Fwww.googleapis.com%2Fauth%2Fappengine.admin+https%3A%2F%2Fwww.googleapis.com%2Fauth%2Fsqlservice.login+https%3A%2F%2Fwww.googleapis.com%2Fauth%2Fcompute+https%3A%2F%2Fwww.googleapis.com%2Fauth%2Faccounts.reauth&state=vYqUveqxyLctb9Hkr9zIWrmU1NnvY2&prompt=consent&access_type=offline&code_challenge=vc_kugwPaURTgPTxVUby70fPhUcuCQ7WsnugyESYtvg&code_challenge_method=S256\n",
            "\n",
            "Enter authorization code: 4/0ARtbsJo9BpaWTzXokNZx0EnW1sKJ_jGmsxVrcSSVcsTLXSSuZ8B64H12H1BG6yaVo9iyPw\n",
            "\n",
            "You are now logged in as [schlboy26@gmail.com].\n",
            "Your current project is [None].  You can change this setting by running:\n",
            "  $ gcloud config set project PROJECT_ID\n"
          ]
        }
      ]
    },
    {
      "cell_type": "code",
      "source": [
        "FRdata = []\n",
        "GRdata = []\n",
        "ERdata = []\n",
        "FQdata = []\n",
        "GQdata = []\n",
        "expression = \".SAFE/\"\n",
        "ERdata = !gsutil ls \"gs://gcp-public-data-sentinel-2/tiles/43/S/ER/\"\n",
        "FRdata = !gsutil ls \"gs://gcp-public-data-sentinel-2/tiles/43/S/FR/\"\n",
        "GRdata = !gsutil ls \"gs://gcp-public-data-sentinel-2/tiles/43/S/GR/\"\n",
        "FQdata = !gsutil ls \"gs://gcp-public-data-sentinel-2/tiles/43/R/FQ/\"\n",
        "GQdata = !gsutil ls \"gs://gcp-public-data-sentinel-2/tiles/43/R/GQ/\"\n",
        "ERdata =  [f for f in ERdata if f.__contains__(expression)]\n",
        "ERdata.sort()\n",
        "FRdata =  [f for f in FRdata if f.__contains__(expression)]\n",
        "FRdata.sort()\n",
        "GRdata =  [f for f in GRdata if f.__contains__(expression)]\n",
        "GRdata.sort()\n",
        "FQdata =  [f for f in FQdata if f.__contains__(expression)]\n",
        "FQdata.sort()\n",
        "GQdata =  [f for f in GQdata if f.__contains__(expression)]\n",
        "GQdata.sort()\n",
        "print(len(ERdata),len(FRdata),len(GRdata),len(FQdata),len(GQdata))\n",
        "# len(data)\n",
        "\n"
      ],
      "metadata": {
        "colab": {
          "base_uri": "https://localhost:8080/"
        },
        "id": "xZAzj3r_hTj8",
        "outputId": "a43de089-c8e3-4704-b528-3be685e55915"
      },
      "execution_count": 3,
      "outputs": [
        {
          "output_type": "stream",
          "name": "stdout",
          "text": [
            "490 841 419 916 415\n"
          ]
        }
      ]
    },
    {
      "cell_type": "code",
      "source": [
        "ERdata[4][57:-49]\n"
      ],
      "metadata": {
        "colab": {
          "base_uri": "https://localhost:8080/",
          "height": 35
        },
        "id": "E-F4_QNQefDK",
        "outputId": "e0b9f212-a2f1-472a-91c8-49bdf9693b4d"
      },
      "execution_count": 4,
      "outputs": [
        {
          "output_type": "execute_result",
          "data": {
            "text/plain": [
              "'201509'"
            ],
            "application/vnd.google.colaboratory.intrinsic+json": {
              "type": "string"
            }
          },
          "metadata": {},
          "execution_count": 4
        }
      ]
    },
    {
      "cell_type": "code",
      "source": [
        "ERdata_dates = []\n",
        "for i, f in enumerate(ERdata):\n",
        "  ERdata_dates.append(ERdata[i][57:-49])\n",
        "ERdata_dates.sort()\n",
        "len(ERdata_dates)\n",
        "############################################\n",
        "FRdata_dates = []\n",
        "for i, f in enumerate(FRdata):\n",
        "  FRdata_dates.append(FRdata[i][57:-49])\n",
        "FRdata_dates.sort()\n",
        "len(FRdata_dates)\n",
        "############################################\n",
        "GRdata_dates = []\n",
        "for i, f in enumerate(GRdata):\n",
        "  GRdata_dates.append(GRdata[i][57:-49])\n",
        "GRdata_dates.sort()\n",
        "len(GRdata_dates)\\\n",
        "############################################\n",
        "FQdata_dates = []\n",
        "for i, f in enumerate(FQdata):\n",
        "  FQdata_dates.append(FQdata[i][57:-49])\n",
        "FQdata_dates.sort()\n",
        "len(FQdata_dates)\n",
        "############################################\n",
        "GQdata_dates = []\n",
        "for i, f in enumerate(GQdata):\n",
        "  GQdata_dates.append(GQdata[i][57:-49])\n",
        "GQdata_dates.sort()\n",
        "len(GQdata_dates)\n",
        "\n",
        "common = set(ERdata_dates) & set(FRdata_dates) & set(GRdata_dates) & set(FQdata_dates) & set(GQdata_dates)\n",
        "common = list(common)\n",
        "\n",
        "# common = [x for x in ERdata_dates if x in FRdata_dates]\n",
        "# print(len(common))\n",
        "# common = [x for x in GRdata_dates if x in common]\n",
        "# print(len(common))\n",
        "# common = [x for x in FQdata_dates if x in common]\n",
        "# print(len(common))\n",
        "# common = [x for x in GQdata_dates if x in common]\n",
        "# print(len(common))\n",
        "len(common)\n",
        "common.sort()"
      ],
      "metadata": {
        "id": "5683aWe_WyzZ"
      },
      "execution_count": 5,
      "outputs": []
    },
    {
      "cell_type": "code",
      "source": [
        "# taking the common values 80 values granules to get an ER, FE, GR, FQ, GQ mosaic creation\n",
        "ERdata_emp_lst = []\n",
        "for date in common:\n",
        "    for link in ERdata:\n",
        "        if(date in link):\n",
        "            ERdata_emp_lst.append(link)\n",
        "            break\n",
        "FRdata_emp_lst = []\n",
        "for date in common:\n",
        "    for link in FRdata:\n",
        "        if(date in link):\n",
        "            FRdata_emp_lst.append(link)\n",
        "            break\n",
        "GRdata_emp_lst = []\n",
        "for date in common:\n",
        "    for link in GRdata:\n",
        "        if(date in link):\n",
        "            GRdata_emp_lst.append(link)\n",
        "            break\n",
        "FQdata_emp_lst = []\n",
        "for date in common:\n",
        "    for link in FQdata:\n",
        "        if(date in link):\n",
        "            FQdata_emp_lst.append(link)\n",
        "            break\n",
        "GQdata_emp_lst = []\n",
        "for date in common:\n",
        "    for link in GQdata:\n",
        "        if(date in link):\n",
        "            GQdata_emp_lst.append(link)\n",
        "            break\n"
      ],
      "metadata": {
        "id": "SZ1WKVA2Fs6_"
      },
      "execution_count": 6,
      "outputs": []
    },
    {
      "cell_type": "code",
      "source": [
        "GQdata_emp_lst"
      ],
      "metadata": {
        "id": "EsEvtAKJGb2T",
        "colab": {
          "base_uri": "https://localhost:8080/"
        },
        "outputId": "3ec71d24-8d4e-4762-ee5f-c60beecb3819"
      },
      "execution_count": 7,
      "outputs": [
        {
          "output_type": "execute_result",
          "data": {
            "text/plain": [
              "['gs://gcp-public-data-sentinel-2/tiles/43/R/GQ/S2A_MSIL1C_20151207T053212_N0204_R105_T43RGQ_20151207T053215.SAFE/',\n",
              " 'gs://gcp-public-data-sentinel-2/tiles/43/R/GQ/S2A_MSIL1C_20160106T053222_N0201_R105_T43RGQ_20160106T053218.SAFE/',\n",
              " 'gs://gcp-public-data-sentinel-2/tiles/43/R/GQ/S2A_MSIL1C_20160205T053022_N0201_R105_T43RGQ_20160205T053625.SAFE/',\n",
              " 'gs://gcp-public-data-sentinel-2/tiles/43/R/GQ/S2A_MSIL1C_20160306T052702_N0201_R105_T43RGQ_20160306T053757.SAFE/',\n",
              " 'gs://gcp-public-data-sentinel-2/tiles/43/R/GQ/S2A_MSIL1C_20160515T052652_N0202_R105_T43RGQ_20160515T052948.SAFE/',\n",
              " 'gs://gcp-public-data-sentinel-2/tiles/43/R/GQ/S2A_MSIL1C_20160604T052652_N0202_R105_T43RGQ_20160604T053931.SAFE/',\n",
              " 'gs://gcp-public-data-sentinel-2/tiles/43/R/GQ/S2A_MSIL1C_20160604T052652_N0202_R105_T43RGQ_20160721T172521.SAFE/',\n",
              " 'gs://gcp-public-data-sentinel-2/tiles/43/R/GQ/S2A_MSIL1C_20160803T052652_N0204_R105_T43RGQ_20160803T053916.SAFE/',\n",
              " 'gs://gcp-public-data-sentinel-2/tiles/43/R/GQ/S2A_MSIL1C_20160912T052642_N0204_R105_T43RGQ_20160912T053921.SAFE/',\n",
              " 'gs://gcp-public-data-sentinel-2/tiles/43/R/GQ/S2A_MSIL1C_20161002T052642_N0204_R105_T43RGQ_20161002T053919.SAFE/',\n",
              " 'gs://gcp-public-data-sentinel-2/tiles/43/R/GQ/S2A_MSIL1C_20161101T053832_N0204_R105_T43RGQ_20161101T053832.SAFE/',\n",
              " 'gs://gcp-public-data-sentinel-2/tiles/43/R/GQ/S2A_MSIL1C_20161211T053222_N0204_R105_T43RGQ_20161211T053220.SAFE/',\n",
              " 'gs://gcp-public-data-sentinel-2/tiles/43/R/GQ/S2A_MSIL1C_20170120T053131_N0204_R105_T43RGQ_20170120T053724.SAFE/',\n",
              " 'gs://gcp-public-data-sentinel-2/tiles/43/R/GQ/S2A_MSIL1C_20170209T052951_N0204_R105_T43RGQ_20170209T052947.SAFE/',\n",
              " 'gs://gcp-public-data-sentinel-2/tiles/43/R/GQ/S2A_MSIL1C_20170301T052731_N0204_R105_T43RGQ_20170301T053814.SAFE/',\n",
              " 'gs://gcp-public-data-sentinel-2/tiles/43/R/GQ/S2A_MSIL1C_20170410T052641_N0204_R105_T43RGQ_20170410T053057.SAFE/',\n",
              " 'gs://gcp-public-data-sentinel-2/tiles/43/R/GQ/S2A_MSIL1C_20151207T053212_N0204_R105_T43RGQ_20170528T170547.SAFE/',\n",
              " 'gs://gcp-public-data-sentinel-2/tiles/43/R/GQ/S2A_MSIL1C_20170609T052651_N0205_R105_T43RGQ_20170609T053121.SAFE/',\n",
              " 'gs://gcp-public-data-sentinel-2/tiles/43/R/GQ/S2A_MSIL1C_20170719T052651_N0205_R105_T43RGQ_20170719T053019.SAFE/',\n",
              " 'gs://gcp-public-data-sentinel-2/tiles/43/R/GQ/S2A_MSIL1C_20170808T052651_N0205_R105_T43RGQ_20170808T053049.SAFE/',\n",
              " 'gs://gcp-public-data-sentinel-2/tiles/43/R/GQ/S2A_MSIL1C_20170917T052641_N0205_R105_T43RGQ_20170917T053055.SAFE/',\n",
              " 'gs://gcp-public-data-sentinel-2/tiles/43/R/GQ/S2A_MSIL1C_20171007T052711_N0205_R105_T43RGQ_20171007T053044.SAFE/',\n",
              " 'gs://gcp-public-data-sentinel-2/tiles/43/R/GQ/S2A_MSIL1C_20171116T053101_N0206_R105_T43RGQ_20171116T092219.SAFE/',\n",
              " 'gs://gcp-public-data-sentinel-2/tiles/43/R/GQ/S2A_MSIL1C_20171206T053211_N0206_R105_T43RGQ_20171206T091007.SAFE/',\n",
              " 'gs://gcp-public-data-sentinel-2/tiles/43/R/GQ/S2A_MSIL1C_20180115T053151_N0206_R105_T43RGQ_20180115T092200.SAFE/',\n",
              " 'gs://gcp-public-data-sentinel-2/tiles/43/R/GQ/S2A_MSIL1C_20180214T052921_N0206_R105_T43RGQ_20180214T063657.SAFE/',\n",
              " 'gs://gcp-public-data-sentinel-2/tiles/43/R/GQ/S2A_MSIL1C_20180306T052701_N0206_R105_T43RGQ_20180306T091643.SAFE/',\n",
              " 'gs://gcp-public-data-sentinel-2/tiles/43/R/GQ/S2A_MSIL1C_20180405T052651_N0206_R105_T43RGQ_20180405T091113.SAFE/',\n",
              " 'gs://gcp-public-data-sentinel-2/tiles/43/R/GQ/S2A_MSIL1C_20180505T052651_N0206_R105_T43RGQ_20180505T083805.SAFE/',\n",
              " 'gs://gcp-public-data-sentinel-2/tiles/43/R/GQ/S2A_MSIL1C_20180604T052651_N0206_R105_T43RGQ_20180604T091451.SAFE/',\n",
              " 'gs://gcp-public-data-sentinel-2/tiles/43/R/GQ/S2A_MSIL1C_20180704T052651_N0206_R105_T43RGQ_20180704T105914.SAFE/',\n",
              " 'gs://gcp-public-data-sentinel-2/tiles/43/R/GQ/S2A_MSIL1C_20180803T052651_N0206_R105_T43RGQ_20180803T084157.SAFE/',\n",
              " 'gs://gcp-public-data-sentinel-2/tiles/43/R/GQ/S2A_MSIL1C_20180902T052641_N0206_R105_T43RGQ_20180902T085243.SAFE/',\n",
              " 'gs://gcp-public-data-sentinel-2/tiles/43/R/GQ/S2A_MSIL1C_20181002T052641_N0206_R105_T43RGQ_20181002T084928.SAFE/',\n",
              " 'gs://gcp-public-data-sentinel-2/tiles/43/R/GQ/S2A_MSIL1C_20181101T052951_N0206_R105_T43RGQ_20181104T014824.SAFE/',\n",
              " 'gs://gcp-public-data-sentinel-2/tiles/43/R/GQ/S2A_MSIL1C_20181201T053151_N0207_R105_T43RGQ_20181201T063814.SAFE/',\n",
              " 'gs://gcp-public-data-sentinel-2/tiles/43/R/GQ/S2A_MSIL1C_20190110T053211_N0207_R105_T43RGQ_20190110T082842.SAFE/',\n",
              " 'gs://gcp-public-data-sentinel-2/tiles/43/R/GQ/S2A_MSIL1C_20190209T052951_N0207_R105_T43RGQ_20190209T072523.SAFE/',\n",
              " 'gs://gcp-public-data-sentinel-2/tiles/43/R/GQ/S2A_MSIL1C_20190301T052741_N0207_R105_T43RGQ_20190301T090929.SAFE/',\n",
              " 'gs://gcp-public-data-sentinel-2/tiles/43/R/GQ/S2A_MSIL1C_20190410T052651_N0207_R105_T43RGQ_20190410T091939.SAFE/',\n",
              " 'gs://gcp-public-data-sentinel-2/tiles/43/R/GQ/S2A_MSIL1C_20190510T052651_N0207_R105_T43RGQ_20190510T085931.SAFE/',\n",
              " 'gs://gcp-public-data-sentinel-2/tiles/43/R/GQ/S2A_MSIL1C_20190609T052651_N0207_R105_T43RGQ_20190609T082317.SAFE/',\n",
              " 'gs://gcp-public-data-sentinel-2/tiles/43/R/GQ/S2A_MSIL1C_20190709T052651_N0208_R105_T43RGQ_20190709T082150.SAFE/',\n",
              " 'gs://gcp-public-data-sentinel-2/tiles/43/R/GQ/S2A_MSIL1C_20190808T052651_N0208_R105_T43RGQ_20190808T082245.SAFE/',\n",
              " 'gs://gcp-public-data-sentinel-2/tiles/43/R/GQ/S2A_MSIL1C_20190907T052651_N0208_R105_T43RGQ_20190907T082858.SAFE/',\n",
              " 'gs://gcp-public-data-sentinel-2/tiles/43/R/GQ/S2A_MSIL1C_20191007T052711_N0208_R105_T43RGQ_20191007T082516.SAFE/',\n",
              " 'gs://gcp-public-data-sentinel-2/tiles/43/R/GQ/S2A_MSIL1C_20191106T053021_N0208_R105_T43RGQ_20191106T081907.SAFE/',\n",
              " 'gs://gcp-public-data-sentinel-2/tiles/43/R/GQ/S2A_MSIL1C_20191206T053211_N0208_R105_T43RGQ_20191206T072425.SAFE/',\n",
              " 'gs://gcp-public-data-sentinel-2/tiles/43/R/GQ/S2A_MSIL1C_20200105T053221_N0208_R105_T43RGQ_20200105T072254.SAFE/',\n",
              " 'gs://gcp-public-data-sentinel-2/tiles/43/R/GQ/S2A_MSIL1C_20200204T053021_N0209_R105_T43RGQ_20200204T072423.SAFE/',\n",
              " 'gs://gcp-public-data-sentinel-2/tiles/43/R/GQ/S2A_MSIL1C_20200305T052711_N0209_R105_T43RGQ_20200305T082447.SAFE/',\n",
              " 'gs://gcp-public-data-sentinel-2/tiles/43/R/GQ/S2A_MSIL1C_20200404T052641_N0209_R105_T43RGQ_20200404T082606.SAFE/',\n",
              " 'gs://gcp-public-data-sentinel-2/tiles/43/R/GQ/S2A_MSIL1C_20200504T052651_N0209_R105_T43RGQ_20200504T082502.SAFE/',\n",
              " 'gs://gcp-public-data-sentinel-2/tiles/43/R/GQ/S2A_MSIL1C_20200603T052651_N0209_R105_T43RGQ_20200603T091952.SAFE/',\n",
              " 'gs://gcp-public-data-sentinel-2/tiles/43/R/GQ/S2A_MSIL1C_20200703T052651_N0209_R105_T43RGQ_20200703T082644.SAFE/',\n",
              " 'gs://gcp-public-data-sentinel-2/tiles/43/R/GQ/S2A_MSIL1C_20200802T052651_N0209_R105_T43RGQ_20200802T082148.SAFE/',\n",
              " 'gs://gcp-public-data-sentinel-2/tiles/43/R/GQ/S2A_MSIL1C_20200901T052651_N0209_R105_T43RGQ_20200901T074106.SAFE/',\n",
              " 'gs://gcp-public-data-sentinel-2/tiles/43/R/GQ/S2A_MSIL1C_20201001T052651_N0209_R105_T43RGQ_20201001T080756.SAFE/',\n",
              " 'gs://gcp-public-data-sentinel-2/tiles/43/R/GQ/S2A_MSIL1C_20201110T053041_N0209_R105_T43RGQ_20201110T064537.SAFE/',\n",
              " 'gs://gcp-public-data-sentinel-2/tiles/43/R/GQ/S2A_MSIL1C_20201210T053221_N0209_R105_T43RGQ_20201210T064126.SAFE/',\n",
              " 'gs://gcp-public-data-sentinel-2/tiles/43/R/GQ/S2A_MSIL1C_20210109T053211_N0209_R105_T43RGQ_20210109T064138.SAFE/',\n",
              " 'gs://gcp-public-data-sentinel-2/tiles/43/R/GQ/S2A_MSIL1C_20210208T053001_N0209_R105_T43RGQ_20210208T074243.SAFE/',\n",
              " 'gs://gcp-public-data-sentinel-2/tiles/43/R/GQ/S2A_MSIL1C_20210310T052651_N0209_R105_T43RGQ_20210310T075004.SAFE/',\n",
              " 'gs://gcp-public-data-sentinel-2/tiles/43/R/GQ/S2A_MSIL1C_20210409T052641_N0300_R105_T43RGQ_20210409T074750.SAFE/',\n",
              " 'gs://gcp-public-data-sentinel-2/tiles/43/R/GQ/S2A_MSIL1C_20210509T052651_N0300_R105_T43RGQ_20210509T074019.SAFE/',\n",
              " 'gs://gcp-public-data-sentinel-2/tiles/43/R/GQ/S2A_MSIL1C_20210608T052651_N0300_R105_T43RGQ_20210608T074116.SAFE/',\n",
              " 'gs://gcp-public-data-sentinel-2/tiles/43/R/GQ/S2A_MSIL1C_20210708T052651_N0301_R105_T43RGQ_20210708T074840.SAFE/',\n",
              " 'gs://gcp-public-data-sentinel-2/tiles/43/R/GQ/S2A_MSIL1C_20210807T052651_N0301_R105_T43RGQ_20210807T073546.SAFE/',\n",
              " 'gs://gcp-public-data-sentinel-2/tiles/43/R/GQ/S2A_MSIL1C_20210906T052651_N0301_R105_T43RGQ_20210906T074550.SAFE/',\n",
              " 'gs://gcp-public-data-sentinel-2/tiles/43/R/GQ/S2A_MSIL1C_20211006T052711_N0301_R105_T43RGQ_20211007T130502.SAFE/',\n",
              " 'gs://gcp-public-data-sentinel-2/tiles/43/R/GQ/S2A_MSIL1C_20211105T053021_N0301_R105_T43RGQ_20211111T140858.SAFE/',\n",
              " 'gs://gcp-public-data-sentinel-2/tiles/43/R/GQ/S2A_MSIL1C_20211205T053211_N0301_R105_T43RGQ_20211205T062358.SAFE/',\n",
              " 'gs://gcp-public-data-sentinel-2/tiles/43/R/GQ/S2A_MSIL1C_20220114T053201_N0301_R105_T43RGQ_20220114T063959.SAFE/',\n",
              " 'gs://gcp-public-data-sentinel-2/tiles/43/R/GQ/S2A_MSIL1C_20220203T053031_N0400_R105_T43RGQ_20220203T063900.SAFE/',\n",
              " 'gs://gcp-public-data-sentinel-2/tiles/43/R/GQ/S2A_MSIL1C_20220305T052721_N0400_R105_T43RGQ_20220305T072638.SAFE/',\n",
              " 'gs://gcp-public-data-sentinel-2/tiles/43/R/GQ/S2A_MSIL1C_20220404T052651_N0400_R105_T43RGQ_20220404T072629.SAFE/',\n",
              " 'gs://gcp-public-data-sentinel-2/tiles/43/R/GQ/S2A_MSIL1C_20220504T052651_N0400_R105_T43RGQ_20220504T072428.SAFE/',\n",
              " 'gs://gcp-public-data-sentinel-2/tiles/43/R/GQ/S2A_MSIL1C_20220603T052651_N0400_R105_T43RGQ_20220603T072438.SAFE/',\n",
              " 'gs://gcp-public-data-sentinel-2/tiles/43/R/GQ/S2A_MSIL1C_20220703T052701_N0400_R105_T43RGQ_20220703T072433.SAFE/',\n",
              " 'gs://gcp-public-data-sentinel-2/tiles/43/R/GQ/S2A_MSIL1C_20220802T052701_N0400_R105_T43RGQ_20220802T084231.SAFE/',\n",
              " 'gs://gcp-public-data-sentinel-2/tiles/43/R/GQ/S2A_MSIL1C_20220901T052701_N0400_R105_T43RGQ_20220901T072345.SAFE/']"
            ]
          },
          "metadata": {},
          "execution_count": 7
        }
      ]
    },
    {
      "cell_type": "code",
      "source": [
        "ERast = []\n",
        "FRast = []\n",
        "GRast = []\n",
        "FQast = []\n",
        "GQast = []\n",
        "#!gsutil ls \"{data[5]}\"GRANULE\n",
        "ERast = !gsutil ls \"{ERdata_emp_lst[5]}\"GRANULE\n",
        "FRast = !gsutil ls \"{FRdata_emp_lst[5]}\"GRANULE\n",
        "GRast = !gsutil ls \"{GRdata_emp_lst[5]}\"GRANULE\n",
        "FQast = !gsutil ls \"{FQdata_emp_lst[5]}\"GRANULE\n",
        "GQast = !gsutil ls \"{GQdata_emp_lst[5]}\"GRANULE\n",
        "expression_bxxx = \"/\"\n",
        "ERast = [f for f in ERast if f.endswith(expression_bxxx)]\n",
        "FRast = [f for f in FRast if f.endswith(expression_bxxx)]\n",
        "GRast = [f for f in GRast if f.endswith(expression_bxxx)]\n",
        "FQast = [f for f in FQast if f.endswith(expression_bxxx)]\n",
        "GQast = [f for f in GQast if f.endswith(expression_bxxx)]\n"
      ],
      "metadata": {
        "id": "Sw4pWxFCGvhn"
      },
      "execution_count": 8,
      "outputs": []
    },
    {
      "cell_type": "code",
      "source": [
        "GQast\n"
      ],
      "metadata": {
        "colab": {
          "base_uri": "https://localhost:8080/"
        },
        "id": "OA6m6-i8PQWD",
        "outputId": "b9cfde45-9e4a-4560-839d-f23bc8f0b921"
      },
      "execution_count": 9,
      "outputs": [
        {
          "output_type": "execute_result",
          "data": {
            "text/plain": [
              "['gs://gcp-public-data-sentinel-2/tiles/43/R/GQ/S2A_MSIL1C_20160604T052652_N0202_R105_T43RGQ_20160604T053931.SAFE/GRANULE/L1C_T43RGQ_A004964_20160604T053931/']"
            ]
          },
          "metadata": {},
          "execution_count": 9
        }
      ]
    },
    {
      "cell_type": "code",
      "source": [
        "ERimg_datas =[]\n",
        "ERimg_datas = !gsutil ls \"{ERast[0]}\"IMG_DATA\n",
        "FRimg_datas =[]\n",
        "FRimg_datas = !gsutil ls \"{FRast[0]}\"IMG_DATA\n",
        "GRimg_datas =[]\n",
        "GRimg_datas = !gsutil ls \"{GRast[0]}\"IMG_DATA\n",
        "FQimg_datas =[]\n",
        "FQimg_datas = !gsutil ls \"{FQast[0]}\"IMG_DATA\n",
        "GQimg_datas =[]\n",
        "GQimg_datas = !gsutil ls \"{GQast[0]}\"IMG_DATA\n",
        "\n",
        "expression_b3 = \"B03.jp2\"\n",
        "expression_b11 = \"B11.jp2\"\n",
        "\n",
        "ERband_b3 =  [f for f in ERimg_datas if f.__contains__(expression_b3)]\n",
        "ERband_b11 =  [f for f in ERimg_datas if f.__contains__(expression_b11)]\n",
        "ERband_b3[0]\n",
        "ERband_b11[0]\n",
        "FRband_b3 =  [f for f in FRimg_datas if f.__contains__(expression_b3)]\n",
        "FRband_b11 =  [f for f in FRimg_datas if f.__contains__(expression_b11)]\n",
        "FRband_b3[0]\n",
        "FRband_b11[0]\n",
        "GRband_b3 =  [f for f in GRimg_datas if f.__contains__(expression_b3)]\n",
        "GRband_b11 =  [f for f in GRimg_datas if f.__contains__(expression_b11)]\n",
        "GRband_b3[0]\n",
        "GRband_b11[0]\n",
        "FQband_b3 =  [f for f in FQimg_datas if f.__contains__(expression_b3)]\n",
        "FQband_b11 =  [f for f in FQimg_datas if f.__contains__(expression_b11)]\n",
        "FQband_b3[0]\n",
        "FQband_b11[0]\n",
        "GQband_b3 =  [f for f in GQimg_datas if f.__contains__(expression_b3)]\n",
        "GQband_b11 =  [f for f in GQimg_datas if f.__contains__(expression_b11)]\n",
        "GQband_b3[0]\n",
        "GQband_b11[0]\n",
        "!mkdir -p /content/B3 /content/B11\n",
        "!gsutil -m cp \\\n",
        "  \"{ERband_b3[0]}\" \\\n",
        "  \"{FRband_b3[0]}\" \\\n",
        "  \"{GRband_b3[0]}\" \\\n",
        "  \"{FQband_b3[0]}\" \\\n",
        "  \"{GQband_b3[0]}\" \\\n",
        "  /content/B3\n",
        "!gsutil -m cp \\\n",
        "  \"{ERband_b11[0]}\" \\\n",
        "  \"{FRband_b11[0]}\" \\\n",
        "  \"{GRband_b11[0]}\" \\\n",
        "  \"{FQband_b11[0]}\" \\\n",
        "  \"{GQband_b11[0]}\" \\\n",
        "  /content/B11"
      ],
      "metadata": {
        "colab": {
          "base_uri": "https://localhost:8080/"
        },
        "id": "uTtZTwzxHO9R",
        "outputId": "7dba8780-b359-4ebc-f91a-9cd3e4293fee"
      },
      "execution_count": 11,
      "outputs": [
        {
          "output_type": "stream",
          "name": "stdout",
          "text": [
            "Copying gs://gcp-public-data-sentinel-2/tiles/43/S/ER/S2A_MSIL1C_20160607T053642_N0202_R005_T43SER_20160607T054014.SAFE/GRANULE/L1C_T43SER_A005007_20160607T054014/IMG_DATA/T43SER_20160607T053642_B03.jp2...\n",
            "Copying gs://gcp-public-data-sentinel-2/tiles/43/S/FR/S2A_MSIL1C_20160604T052652_N0202_R105_T43SFR_20160604T053931.SAFE/GRANULE/L1C_T43SFR_A004964_20160604T053931/IMG_DATA/T43SFR_20160604T052652_B03.jp2...\n",
            "Copying gs://gcp-public-data-sentinel-2/tiles/43/S/GR/S2A_MSIL1C_20160604T052652_N0202_R105_T43SGR_20160604T053931.SAFE/GRANULE/L1C_T43SGR_A004964_20160604T053931/IMG_DATA/T43SGR_20160604T052652_B03.jp2...\n",
            "Copying gs://gcp-public-data-sentinel-2/tiles/43/R/FQ/S2A_MSIL1C_20160604T052652_N0202_R105_T43RFQ_20160604T053931.SAFE/GRANULE/L1C_T43RFQ_A004964_20160604T053931/IMG_DATA/T43RFQ_20160604T052652_B03.jp2...\n",
            "Copying gs://gcp-public-data-sentinel-2/tiles/43/R/GQ/S2A_MSIL1C_20160604T052652_N0202_R105_T43RGQ_20160604T053931.SAFE/GRANULE/L1C_T43RGQ_A004964_20160604T053931/IMG_DATA/T43RGQ_20160604T052652_B03.jp2...\n",
            "- [5/5 files][536.7 MiB/536.7 MiB] 100% Done                                    \n",
            "Operation completed over 5 objects/536.7 MiB.                                    \n",
            "Copying gs://gcp-public-data-sentinel-2/tiles/43/S/ER/S2A_MSIL1C_20160607T053642_N0202_R005_T43SER_20160607T054014.SAFE/GRANULE/L1C_T43SER_A005007_20160607T054014/IMG_DATA/T43SER_20160607T053642_B11.jp2...\n",
            "Copying gs://gcp-public-data-sentinel-2/tiles/43/S/FR/S2A_MSIL1C_20160604T052652_N0202_R105_T43SFR_20160604T053931.SAFE/GRANULE/L1C_T43SFR_A004964_20160604T053931/IMG_DATA/T43SFR_20160604T052652_B11.jp2...\n",
            "Copying gs://gcp-public-data-sentinel-2/tiles/43/S/GR/S2A_MSIL1C_20160604T052652_N0202_R105_T43SGR_20160604T053931.SAFE/GRANULE/L1C_T43SGR_A004964_20160604T053931/IMG_DATA/T43SGR_20160604T052652_B11.jp2...\n",
            "Copying gs://gcp-public-data-sentinel-2/tiles/43/R/FQ/S2A_MSIL1C_20160604T052652_N0202_R105_T43RFQ_20160604T053931.SAFE/GRANULE/L1C_T43RFQ_A004964_20160604T053931/IMG_DATA/T43RFQ_20160604T052652_B11.jp2...\n",
            "Copying gs://gcp-public-data-sentinel-2/tiles/43/R/GQ/S2A_MSIL1C_20160604T052652_N0202_R105_T43RGQ_20160604T053931.SAFE/GRANULE/L1C_T43RGQ_A004964_20160604T053931/IMG_DATA/T43RGQ_20160604T052652_B11.jp2...\n",
            "/ [5/5 files][156.2 MiB/156.2 MiB] 100% Done                                    \n",
            "Operation completed over 5 objects/156.2 MiB.                                    \n"
          ]
        }
      ]
    },
    {
      "cell_type": "code",
      "source": [
        "!gdown https://drive.google.com/uc?id=1oyqXeHZgaTOjLod-Vqz-VAzS88O13JDr\n",
        "!unzip /content/beasBasinShapeFile.zip -d /content"
      ],
      "metadata": {
        "colab": {
          "base_uri": "https://localhost:8080/"
        },
        "id": "mH9wYC7IVJ_K",
        "outputId": "ed3aab88-4b25-4212-8f13-cc1b2c7d4633"
      },
      "execution_count": 12,
      "outputs": [
        {
          "output_type": "stream",
          "name": "stdout",
          "text": [
            "Downloading...\n",
            "From: https://drive.google.com/uc?id=1oyqXeHZgaTOjLod-Vqz-VAzS88O13JDr\n",
            "To: /content/beasBasinShapeFile.zip\n",
            "\r  0% 0.00/8.65k [00:00<?, ?B/s]\r100% 8.65k/8.65k [00:00<00:00, 8.16MB/s]\n",
            "Archive:  /content/beasBasinShapeFile.zip\n",
            " extracting: /content/beasBasinShapeFile.cpg  \n",
            "  inflating: /content/beasBasinShapeFile.dbf  \n",
            "  inflating: /content/beasBasinShapeFile.prj  \n",
            "  inflating: /content/beasBasinShapeFile.qmd  \n",
            "  inflating: /content/beasBasinShapeFile.shp  \n",
            "  inflating: /content/beasBasinShapeFile.shx  \n"
          ]
        }
      ]
    },
    {
      "cell_type": "code",
      "source": [
        "!gdal_merge.py \\\n",
        "  -n 0 -a_nodata 0 \\\n",
        "  -o outB11.tif \\\n",
        "  /content/B11/*.jp2\n",
        "\n",
        "!gdal_merge.py \\\n",
        "  -n 0 -a_nodata 0 \\\n",
        "  -o outB3.tif \\\n",
        "  /content/B3/*.jp2\n"
      ],
      "metadata": {
        "colab": {
          "base_uri": "https://localhost:8080/"
        },
        "id": "mYy2GFPcX-mJ",
        "outputId": "4d6f16ad-a341-48b6-cb99-3875c2b67409"
      },
      "execution_count": 13,
      "outputs": [
        {
          "output_type": "stream",
          "name": "stdout",
          "text": [
            "0...10...20...30...40...50...60...70...80...90...100 - done.\n",
            "0...10...20...30...40...50...60...70...80...90...100 - done.\n"
          ]
        }
      ]
    },
    {
      "cell_type": "code",
      "source": [
        "import cv2\n",
        "\n",
        "img = cv2.imread('/content/outB11.tif')\n",
        "\n",
        "# Get original height and width\n",
        "print(f\"Original Dimensions : {img.shape}\")\n",
        "width, height, c = img.shape # 400x266\n",
        "\n",
        "\n",
        "# resize image by specifying custom width and height\n",
        "resized = cv2.resize(img, (height*2, width*2))\n",
        "\n",
        "print(f\"Resized Dimensions : {resized.shape}\")\n",
        "cv2.imwrite('/content/outB11.tif', resized)\n"
      ],
      "metadata": {
        "colab": {
          "base_uri": "https://localhost:8080/"
        },
        "id": "e541hFLngKW-",
        "outputId": "9e6cd54f-7bab-4ed1-d9ea-d740d7dcf388"
      },
      "execution_count": 14,
      "outputs": [
        {
          "output_type": "stream",
          "name": "stdout",
          "text": [
            "Original Dimensions : (10488, 15489, 3)\n",
            "Resized Dimensions : (20976, 30978, 3)\n"
          ]
        },
        {
          "output_type": "execute_result",
          "data": {
            "text/plain": [
              "True"
            ]
          },
          "metadata": {},
          "execution_count": 14
        }
      ]
    },
    {
      "cell_type": "code",
      "source": [
        "\n",
        "\n",
        "!gdal_calc.py \\\n",
        "  --overwrite \\\n",
        "  --type=Float32 \\\n",
        "  -A /content/outB3.tif \\\n",
        "  --A_band 1 \\\n",
        "  -B /content/outB11.tif \\\n",
        "  --B_band 1 \\\n",
        "  --outfile=/content/BothCheck_result.tif \\\n",
        "  --calc=\"(A.astype(float) - B)/(A.astype(float) + B)\"\n",
        "\n",
        "# !gdal_calc.py \\\n",
        "#   --overwrite \\\n",
        "#   --type=Float32 \\\n",
        "#   -A /content/NDSI_result.tif \\\n",
        "#   --A_band 1 \\\n",
        "#   --outfile=/content/BothCheck_result.tif \\\n",
        "#   --calc=\"(A.astype(float)>=0.4)\"\n",
        "\n",
        "!gdalwarp \\\n",
        "  --config GDAL_CACHEMAX 3000 -wm 3000 -multi -co NUM_THREADS=ALL_CPUS \\\n",
        "  -overwrite -of GTiff -ot Float32 \\\n",
        "  -cutline /content/beasBasinShapeFile.shp -crop_to_cutline \\\n",
        "  /content/BothCheck_result.tif \\\n",
        "  /content/BothCheck_resultOK.tif\n",
        "\n",
        "import os\n",
        "import subprocess\n",
        "from osgeo import gdal\n",
        "import matplotlib.pyplot as plt\n",
        "\n",
        "\n",
        "\n",
        "#os.system (cmd)\n",
        "slp1=gdal.Open(\"/content/BothCheck_resultOK.tif\")\n",
        "slp1Array= slp1.GetRasterBand(1).ReadAsArray()\n",
        "plt.figure()\n",
        "plt.imshow(slp1Array, cmap='gray', vmin = 0, vmax = 255,interpolation='none')\n",
        "plt.colorbar()\n",
        "plt.show()"
      ],
      "metadata": {
        "colab": {
          "base_uri": "https://localhost:8080/",
          "height": 376
        },
        "id": "S1sLsF8TOiYM",
        "outputId": "ef276f8a-4562-46b7-84e0-b725f3d4c946"
      },
      "execution_count": 17,
      "outputs": [
        {
          "output_type": "stream",
          "name": "stdout",
          "text": [
            "<string>:1: RuntimeWarning: invalid value encountered in divide\n",
            "0 .. 10 .. 20 .. 30 .. 40 .. 50 .. 60 .. 70 .. 80 .. 90 .. 100 - Done\n",
            "Creating output file that is 17854P x 10716L.\n",
            "Processing input file /content/BothCheck_result.tif.\n",
            "Using internal nodata values (e.g. 3.40282e+38) for image /content/BothCheck_result.tif.\n",
            "Copying nodata values from source /content/BothCheck_result.tif to destination /content/BothCheck_resultOK.tif.\n",
            "0...10...20...30...40...50...60...70...80...90...100 - done.\n"
          ]
        },
        {
          "output_type": "display_data",
          "data": {
            "text/plain": [
              "<Figure size 432x288 with 2 Axes>"
            ],
            "image/png": "[encoded data removed]"
          },
          "metadata": {
            "needs_background": "light"
          }
        }
      ]
    },
    {
      "cell_type": "markdown",
      "source": [
        "# connect to copernicus eu"
      ],
      "metadata": {
        "id": "ogb1ZmqVfIO0"
      }
    },
    {
      "cell_type": "code",
      "source": [
        "!wget https://scihub.copernicus.eu/twiki/pub/SciHubUserGuide/BatchScripting/dhusget.sh"
      ],
      "metadata": {
        "colab": {
          "base_uri": "https://localhost:8080/"
        },
        "id": "4cUgmwbguRbl",
        "outputId": "9a916605-0555-4225-8964-88a3e798e41c"
      },
      "execution_count": 18,
      "outputs": [
        {
          "output_type": "stream",
          "name": "stdout",
          "text": [
            "--2022-09-21 12:24:02--  https://scihub.copernicus.eu/twiki/pub/SciHubUserGuide/BatchScripting/dhusget.sh\n",
            "Resolving scihub.copernicus.eu (scihub.copernicus.eu)... 146.59.215.226\n",
            "Connecting to scihub.copernicus.eu (scihub.copernicus.eu)|146.59.215.226|:443... connected.\n",
            "HTTP request sent, awaiting response... 200 OK\n",
            "Length: 36971 (36K) [application/x-sh]\n",
            "Saving to: ‘dhusget.sh’\n",
            "\n",
            "dhusget.sh          100%[===================>]  36.10K  --.-KB/s    in 0s      \n",
            "\n",
            "2022-09-21 12:24:03 (218 MB/s) - ‘dhusget.sh’ saved [36971/36971]\n",
            "\n"
          ]
        }
      ]
    },
    {
      "cell_type": "code",
      "source": [
        "#@title downloading the links per page from the query { vertical-output: true }\n",
        "pages = 40 #@param {type:\"integer\"}\n",
        "start_date = \"2000-08-15\" #@param {type:\"date\"}\n",
        "end_date = \"2022-08-15\" #@param {type:\"date\"}\n",
        "links_per_page = 50\n",
        "\n",
        "from google.colab import output\n",
        "temp_dir = \"/content/gogogo/\"\n",
        "!mkdir -p {temp_dir}\n",
        "\n",
        "for i in range(1,pages):\n",
        "  !bash /content/dhusget.sh \\\n",
        "    -u 1kaiser -p hV@dkL4x7yTkzp+ \\\n",
        "    -d https://scihub.copernicus.eu/dhus/ \\\n",
        "    -m Sentinel-2 \\\n",
        "    -s {start_date}T06:00:00.000Z \\\n",
        "    -e {end_date}T06:00:00.000Z \\\n",
        "    -c 75.71,32.47:78.02,31.34 \\\n",
        "    -C {temp_dir}products-list{i}.csv \\\n",
        "    -T S2MSI2A \\\n",
        "    -l 100 \\\n",
        "    -P {i} \n",
        "  output.clear() #to_clear_the_output_console_everytime"
      ],
      "metadata": {
        "cellView": "form",
        "id": "LrvWvjj0uNgm"
      },
      "execution_count": 19,
      "outputs": []
    },
    {
      "cell_type": "code",
      "execution_count": 20,
      "metadata": {
        "id": "glbchvZWt5zu",
        "colab": {
          "base_uri": "https://localhost:8080/"
        },
        "outputId": "4fe48ad4-6a11-4abd-ab94-46f99d42b5a4"
      },
      "outputs": [
        {
          "output_type": "stream",
          "name": "stdout",
          "text": [
            "Downloading...\n",
            "From: https://drive.google.com/uc?id=1WsPIKyvrV8vVrJEySp6S2y-23Mu_s7eF\n",
            "To: /content/output.csv\n",
            "\r  0% 0.00/154 [00:00<?, ?B/s]\r100% 154/154 [00:00<00:00, 103kB/s]\n",
            "['/content/gogogo/products-list25.csv', '/content/gogogo/products-list36.csv', '/content/gogogo/products-list5.csv', '/content/gogogo/products-list31.csv', '/content/gogogo/products-list26.csv', '/content/gogogo/products-list19.csv', '/content/gogogo/products-list38.csv', '/content/gogogo/products-list11.csv', '/content/gogogo/products-list37.csv', '/content/gogogo/products-list24.csv', '/content/gogogo/products-list9.csv', '/content/gogogo/products-list6.csv', '/content/gogogo/products-list4.csv', '/content/gogogo/products-list21.csv', '/content/gogogo/products-list2.csv', '/content/gogogo/products-list15.csv', '/content/gogogo/products-list35.csv', '/content/gogogo/products-list20.csv', '/content/gogogo/products-list28.csv', '/content/gogogo/products-list22.csv', '/content/gogogo/products-list3.csv', '/content/gogogo/products-list8.csv', '/content/gogogo/products-list18.csv', '/content/gogogo/products-list13.csv', '/content/gogogo/products-list34.csv', '/content/gogogo/products-list30.csv', '/content/gogogo/products-list39.csv', '/content/gogogo/products-list17.csv', '/content/gogogo/products-list16.csv', '/content/gogogo/products-list14.csv', '/content/gogogo/products-list27.csv', '/content/gogogo/products-list23.csv', '/content/gogogo/products-list12.csv', '/content/gogogo/products-list32.csv', '/content/gogogo/products-list1.csv', '/content/gogogo/products-list7.csv', '/content/gogogo/products-list10.csv', '/content/gogogo/products-list29.csv', '/content/gogogo/products-list33.csv']\n"
          ]
        }
      ],
      "source": [
        "import pandas as pd\n",
        "import glob\n",
        "import os\n",
        "from google.colab import output\n",
        "temp_dir = \"/content/gogogo/\"\n",
        "################################################################################\n",
        "!gdown https://drive.google.com/uc?id=1WsPIKyvrV8vVrJEySp6S2y-23Mu_s7eF\n",
        "\n",
        "################################################################################\n",
        "files = os.path.join(temp_dir, \"products-list*.csv\")\n",
        "print(glob.glob(files))\n",
        "files = glob.glob(files)\n",
        "master_file = pd.read_csv('/content/output.csv')\n",
        "for csv_file in files:\n",
        "  df = pd.read_csv(csv_file)\n",
        "  df.to_csv('/content/output.csv', mode = 'a', header = False, index = False)\n",
        "################################################################################ \n",
        "# 1. Open the CSV file in reading mode and the TXT file in writing mode\n",
        "with open('/content/output.csv', 'r') as f_in, open('/content/my_file.txt', 'w') as f_out:\n",
        "    # 2. Read the CSV file and store in variable\n",
        "    content = f_in.read()\n",
        "    # 3. Write the content into the TXT file\n",
        "    f_out.write(content)\n",
        "################################################################################\n",
        "yoyo =[]\n",
        "links =open(\"/content/my_file.txt\", 'r')\n",
        "link_list = [f for f in links]\n",
        "for i in range(len(link_list)):\n",
        "  yoyo.append(link_list[i].split(\",\"))\n",
        "K = yoyo[7][1][:-1]\n"
      ]
    },
    {
      "cell_type": "code",
      "source": [
        "################################################################################\n",
        "%cd /content/drive/MyDrive/OUT/data/sentinel/S2MSI2A_1/\n",
        "################################################################################\n",
        "print(K)\n",
        "for i in range(len(yoyo)):\n",
        "  K = yoyo[i][1][:-1]\n",
        "  t1 = str('/\\$value')\n",
        "  B = K+t1\n",
        "  !wget --content-disposition --continue --user=1kaiser --password=hV@dkL4x7yTkzp+ \"{B}\"\n",
        "  output.clear() #to_clear_the_output_console_everytime\n",
        "################################################################################\n",
        "%cd /content/\n",
        "################################################################################"
      ],
      "metadata": {
        "id": "etTZymzwXRKv",
        "colab": {
          "base_uri": "https://localhost:8080/"
        },
        "outputId": "e8799924-1a54-4209-c680-e9fc47854139"
      },
      "execution_count": null,
      "outputs": [
        {
          "output_type": "stream",
          "name": "stdout",
          "text": [
            "--2022-09-21 12:31:56--  https://scihub.copernicus.eu/dhus/odata/v1/Products('a5471132-8d37-4036-8719-4203ba71ce81')/$value\n",
            "Resolving scihub.copernicus.eu (scihub.copernicus.eu)... 146.59.215.226\n",
            "Connecting to scihub.copernicus.eu (scihub.copernicus.eu)|146.59.215.226|:443... connected.\n",
            "HTTP request sent, awaiting response... 401 \n",
            "Authentication selected: Basic realm=\"OData service\"\n",
            "Connecting to scihub.copernicus.eu (scihub.copernicus.eu)|146.59.215.226|:443... "
          ]
        }
      ]
    },
    {
      "cell_type": "code",
      "source": [
        "!wget --content-disposition --continue --user=1kaiser --password=hV@dkL4x7yTkzp+ \"https://scihub.copernicus.eu/dhus/odata/v1/Products('87494e58-978e-48a2-8d76-0c573ad0050b')/\\$value\""
      ],
      "metadata": {
        "colab": {
          "base_uri": "https://localhost:8080/"
        },
        "id": "9rdhcwsLXtma",
        "outputId": "b0cc7640-84bf-4978-f148-3b3958773c5d"
      },
      "execution_count": null,
      "outputs": [
        {
          "output_type": "stream",
          "name": "stdout",
          "text": [
            "--2022-08-16 15:56:50--  https://scihub.copernicus.eu/dhus/odata/v1/Products('87494e58-978e-48a2-8d76-0c573ad0050b')/$value\n",
            "Resolving scihub.copernicus.eu (scihub.copernicus.eu)... 146.59.215.226\n",
            "Connecting to scihub.copernicus.eu (scihub.copernicus.eu)|146.59.215.226|:443... connected.\n",
            "HTTP request sent, awaiting response... 401 Unauthorized\n",
            "Authentication selected: Basic realm=\"OData service\"\n",
            "Connecting to scihub.copernicus.eu (scihub.copernicus.eu)|146.59.215.226|:443... connected.\n",
            "HTTP request sent, awaiting response... 202 Accepted\n",
            "Length: 0 [text/plain]\n",
            "--2022-08-16 15:56:51--  https://scihub.copernicus.eu/dhus/odata/v1/Products('87494e58-978e-48a2-8d76-0c573ad0050b')/$value\n",
            "Reusing existing connection to scihub.copernicus.eu:443.\n",
            "HTTP request sent, awaiting response... 403 Forbidden\n",
            "2022-08-16 15:56:53 ERROR 403: Forbidden.\n",
            "\n"
          ]
        }
      ]
    }
  ]
}