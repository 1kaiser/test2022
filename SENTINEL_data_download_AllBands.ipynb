{
  "nbformat": 4,
  "nbformat_minor": 0,
  "metadata": {
    "colab": {
      "name": "SENTINEL_data_download_AllBands.ipynb",
      "provenance": [],
      "authorship_tag": "ABX9TyNJIt9WzaAclR6GhnfR1yCx",
      "include_colab_link": true
    },
    "kernelspec": {
      "name": "python3",
      "display_name": "Python 3"
    },
    "language_info": {
      "name": "python"
    }
  },
  "cells": [
    {
      "cell_type": "markdown",
      "metadata": {
        "id": "view-in-github",
        "colab_type": "text"
      },
      "source": [
        "<a href=\"https://colab.research.google.com/github/1kaiser/test2022/blob/main/SENTINEL_data_download_AllBands.ipynb\" target=\"_parent\"><img src=\"https://colab.research.google.com/assets/colab-badge.svg\" alt=\"Open In Colab\"/></a>"
      ]
    },
    {
      "cell_type": "code",
      "source": [
        "from google.colab import drive\n",
        "drive.mount('/content/drive')"
      ],
      "metadata": {
        "colab": {
          "base_uri": "https://localhost:8080/"
        },
        "id": "zyhN-dL6wOjD",
        "outputId": "c7f21ae3-30eb-4c50-97ff-663a0a7871cd"
      },
      "execution_count": null,
      "outputs": [
        {
          "output_type": "stream",
          "name": "stdout",
          "text": [
            "Mounted at /content/drive\n"
          ]
        }
      ]
    },
    {
      "cell_type": "code",
      "source": [
        "!wget https://scihub.copernicus.eu/twiki/pub/SciHubUserGuide/BatchScripting/dhusget.sh"
      ],
      "metadata": {
        "colab": {
          "base_uri": "https://localhost:8080/"
        },
        "id": "4cUgmwbguRbl",
        "outputId": "a5064738-2fcd-4e73-a53f-ec3421c58d77"
      },
      "execution_count": null,
      "outputs": [
        {
          "output_type": "stream",
          "name": "stdout",
          "text": [
            "--2022-08-15 13:54:11--  https://scihub.copernicus.eu/twiki/pub/SciHubUserGuide/BatchScripting/dhusget.sh\n",
            "Resolving scihub.copernicus.eu (scihub.copernicus.eu)... 146.59.215.226\n",
            "Connecting to scihub.copernicus.eu (scihub.copernicus.eu)|146.59.215.226|:443... connected.\n",
            "HTTP request sent, awaiting response... 200 OK\n",
            "Length: 36971 (36K) [application/x-sh]\n",
            "Saving to: ‘dhusget.sh’\n",
            "\n",
            "dhusget.sh          100%[===================>]  36.10K  --.-KB/s    in 0s      \n",
            "\n",
            "2022-08-15 13:54:12 (226 MB/s) - ‘dhusget.sh’ saved [36971/36971]\n",
            "\n"
          ]
        }
      ]
    },
    {
      "cell_type": "code",
      "source": [
        "#@title downloading the links per page from the query { vertical-output: true }\n",
        "pages = 40 #@param {type:\"integer\"}\n",
        "start_date = \"2000-08-15\" #@param {type:\"date\"}\n",
        "end_date = \"2022-08-15\" #@param {type:\"date\"}\n",
        "links_per_page = 100 #@param {type:\"integer\"}\n",
        "\n",
        "from google.colab import output\n",
        "temp_dir = \"/content/gogogo/\"\n",
        "!mkdir -p {temp_dir}\n",
        "\n",
        "for i in range(1,pages):\n",
        "  !bash /content/dhusget.sh \\\n",
        "    -u 1kaiser -p hV@dkL4x7yTkzp+ \\\n",
        "    -d https://scihub.copernicus.eu/dhus/ \\\n",
        "    -m Sentinel-2 \\\n",
        "    -s {start_date}T06:00:00.000Z \\\n",
        "    -e {end_date}T06:00:00.000Z \\\n",
        "    -c 75.71,32.47:78.02,31.34 \\\n",
        "    -C {temp_dir}products-list{i}.csv \\\n",
        "    -T S2MSI2A \\\n",
        "    -l links_per_page \\\n",
        "    -P {i} \n",
        "  output.clear() #to_clear_the_output_console_everytime"
      ],
      "metadata": {
        "cellView": "form",
        "id": "LrvWvjj0uNgm"
      },
      "execution_count": null,
      "outputs": []
    },
    {
      "cell_type": "code",
      "execution_count": null,
      "metadata": {
        "colab": {
          "base_uri": "https://localhost:8080/"
        },
        "id": "glbchvZWt5zu",
        "outputId": "05395343-4ff3-4e6b-fc41-7e1a3bb903b2"
      },
      "outputs": [
        {
          "output_type": "stream",
          "name": "stdout",
          "text": [
            "--2022-08-15 20:00:02--  https://scihub.copernicus.eu/dhus/odata/v1/Products('815ae325-4680-41ce-9366-d91ffe5fff03')/$value\n",
            "Resolving scihub.copernicus.eu (scihub.copernicus.eu)... 146.59.215.226\n",
            "Connecting to scihub.copernicus.eu (scihub.copernicus.eu)|146.59.215.226|:443... connected.\n",
            "HTTP request sent, awaiting response... 401 Unauthorized\n",
            "Authentication selected: Basic realm=\"OData service\"\n",
            "Connecting to scihub.copernicus.eu (scihub.copernicus.eu)|146.59.215.226|:443... connected.\n",
            "HTTP request sent, awaiting response... 200 OK\n",
            "Length: 1202585548 (1.1G) [application/octet-stream]\n",
            "Last-modified header invalid -- time-stamp ignored.\n",
            "--2022-08-15 20:00:03--  https://scihub.copernicus.eu/dhus/odata/v1/Products('815ae325-4680-41ce-9366-d91ffe5fff03')/$value\n",
            "Reusing existing connection to scihub.copernicus.eu:443.\n",
            "HTTP request sent, awaiting response... 416 Requested Range Not Satisfiable\n",
            "\n",
            "    The file is already fully retrieved; nothing to do.\n",
            "\n"
          ]
        }
      ],
      "source": [
        "import pandas as pd\n",
        "import glob\n",
        "import os\n",
        "from google.colab import output\n",
        "temp_dir = \"/content/gogogo/\"\n",
        "################################################################################\n",
        "!gdown https://drive.google.com/uc?id=1WsPIKyvrV8vVrJEySp6S2y-23Mu_s7eF\n",
        "\n",
        "################################################################################\n",
        "files = os.path.join(temp_dir, \"products-list*.csv\")\n",
        "print(glob.glob(files))\n",
        "files = glob.glob(files)\n",
        "master_file = pd.read_csv('/content/output.csv')\n",
        "for csv_file in files:\n",
        "  df = pd.read_csv(csv_file)\n",
        "  df.to_csv('/content/output.csv', mode = 'a', header = False, index = False)\n",
        "################################################################################ \n",
        "# 1. Open the CSV file in reading mode and the TXT file in writing mode\n",
        "with open('/content/output.csv', 'r') as f_in, open('/content/my_file.txt', 'w') as f_out:\n",
        "    # 2. Read the CSV file and store in variable\n",
        "    content = f_in.read()\n",
        "    # 3. Write the content into the TXT file\n",
        "    f_out.write(content)\n",
        "################################################################################\n",
        "yoyo =[]\n",
        "links =open(\"/content/my_file.txt\", 'r')\n",
        "link_list = [f for f in links]\n",
        "for i in range(len(link_list)):\n",
        "  yoyo.append(link_list[i].split(\",\"))\n",
        "K = yoyo[7][1][:-1]\n",
        "################################################################################\n",
        "%cd /content/drive/MyDrive/OUT/data/sentinel/S2MSI2A/\n",
        "################################################################################\n",
        "print(K)\n",
        "for i in range(len(yoyo)):\n",
        "  K = yoyo[i][1][:-1]\n",
        "  t1 = str('/\\$value')\n",
        "  B = K+t1\n",
        "  !wget --content-disposition --continue --user=1kaiser --password=hV@dkL4x7yTkzp+ \"{B}\"\n",
        "  output.clear() #to_clear_the_output_console_everytime\n",
        "################################################################################\n",
        "%cd /content/\n",
        "################################################################################"
      ]
    }
  ]
}