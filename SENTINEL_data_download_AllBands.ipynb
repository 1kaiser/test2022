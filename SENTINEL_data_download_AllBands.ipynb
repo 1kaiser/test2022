{
  "nbformat": 4,
  "nbformat_minor": 0,
  "metadata": {
    "colab": {
      "name": "SENTINEL_data_download_AllBands.ipynb",
      "provenance": [],
      "authorship_tag": "ABX9TyPyWd7ufycqbLwujMDhhRTw",
      "include_colab_link": true
    },
    "kernelspec": {
      "name": "python3",
      "display_name": "Python 3"
    },
    "language_info": {
      "name": "python"
    }
  },
  "cells": [
    {
      "cell_type": "markdown",
      "metadata": {
        "id": "view-in-github",
        "colab_type": "text"
      },
      "source": [
        "<a href=\"https://colab.research.google.com/github/1kaiser/test2022/blob/main/SENTINEL_data_download_AllBands.ipynb\" target=\"_parent\"><img src=\"https://colab.research.google.com/assets/colab-badge.svg\" alt=\"Open In Colab\"/></a>"
      ]
    },
    {
      "cell_type": "code",
      "source": [
        "from google.colab import drive\n",
        "drive.mount('/content/drive')"
      ],
      "metadata": {
        "colab": {
          "base_uri": "https://localhost:8080/"
        },
        "id": "zyhN-dL6wOjD",
        "outputId": "a6bec863-df38-47ae-954d-4201f4430a3d"
      },
      "execution_count": 1,
      "outputs": [
        {
          "output_type": "stream",
          "name": "stdout",
          "text": [
            "Mounted at /content/drive\n"
          ]
        }
      ]
    },
    {
      "cell_type": "code",
      "source": [
        "!wget https://scihub.copernicus.eu/twiki/pub/SciHubUserGuide/BatchScripting/dhusget.sh"
      ],
      "metadata": {
        "colab": {
          "base_uri": "https://localhost:8080/"
        },
        "id": "4cUgmwbguRbl",
        "outputId": "a43112f1-ae21-47ce-d280-ba9c8d101a82"
      },
      "execution_count": 2,
      "outputs": [
        {
          "output_type": "stream",
          "name": "stdout",
          "text": [
            "--2022-08-16 15:01:03--  https://scihub.copernicus.eu/twiki/pub/SciHubUserGuide/BatchScripting/dhusget.sh\n",
            "Resolving scihub.copernicus.eu (scihub.copernicus.eu)... 146.59.215.226\n",
            "Connecting to scihub.copernicus.eu (scihub.copernicus.eu)|146.59.215.226|:443... connected.\n",
            "HTTP request sent, awaiting response... 200 OK\n",
            "Length: 36971 (36K) [application/x-sh]\n",
            "Saving to: ‘dhusget.sh’\n",
            "\n",
            "dhusget.sh          100%[===================>]  36.10K  --.-KB/s    in 0.09s   \n",
            "\n",
            "2022-08-16 15:01:04 (389 KB/s) - ‘dhusget.sh’ saved [36971/36971]\n",
            "\n"
          ]
        }
      ]
    },
    {
      "cell_type": "code",
      "source": [
        "#@title downloading the links per page from the query { vertical-output: true }\n",
        "pages = 40 #@param {type:\"integer\"}\n",
        "start_date = \"2000-08-15\" #@param {type:\"date\"}\n",
        "end_date = \"2022-08-15\" #@param {type:\"date\"}\n",
        "links_per_page = 50\n",
        "\n",
        "from google.colab import output\n",
        "temp_dir = \"/content/gogogo/\"\n",
        "!mkdir -p {temp_dir}\n",
        "\n",
        "for i in range(1,pages):\n",
        "  !bash /content/dhusget.sh \\\n",
        "    -u 1kaiser -p hV@dkL4x7yTkzp+ \\\n",
        "    -d https://scihub.copernicus.eu/dhus/ \\\n",
        "    -m Sentinel-2 \\\n",
        "    -s {start_date}T06:00:00.000Z \\\n",
        "    -e {end_date}T06:00:00.000Z \\\n",
        "    -c 75.71,32.47:78.02,31.34 \\\n",
        "    -C {temp_dir}products-list{i}.csv \\\n",
        "    -T S2MSI2A \\\n",
        "    -l 100 \\\n",
        "    -P {i} \n",
        "  output.clear() #to_clear_the_output_console_everytime"
      ],
      "metadata": {
        "cellView": "form",
        "id": "LrvWvjj0uNgm"
      },
      "execution_count": 2,
      "outputs": []
    },
    {
      "cell_type": "code",
      "execution_count": null,
      "metadata": {
        "id": "glbchvZWt5zu"
      },
      "outputs": [],
      "source": [
        "import pandas as pd\n",
        "import glob\n",
        "import os\n",
        "from google.colab import output\n",
        "temp_dir = \"/content/gogogo/\"\n",
        "################################################################################\n",
        "!gdown https://drive.google.com/uc?id=1WsPIKyvrV8vVrJEySp6S2y-23Mu_s7eF\n",
        "\n",
        "################################################################################\n",
        "files = os.path.join(temp_dir, \"products-list*.csv\")\n",
        "print(glob.glob(files))\n",
        "files = glob.glob(files)\n",
        "master_file = pd.read_csv('/content/output.csv')\n",
        "for csv_file in files:\n",
        "  df = pd.read_csv(csv_file)\n",
        "  df.to_csv('/content/output.csv', mode = 'a', header = False, index = False)\n",
        "################################################################################ \n",
        "# 1. Open the CSV file in reading mode and the TXT file in writing mode\n",
        "with open('/content/output.csv', 'r') as f_in, open('/content/my_file.txt', 'w') as f_out:\n",
        "    # 2. Read the CSV file and store in variable\n",
        "    content = f_in.read()\n",
        "    # 3. Write the content into the TXT file\n",
        "    f_out.write(content)\n",
        "################################################################################\n",
        "yoyo =[]\n",
        "links =open(\"/content/my_file.txt\", 'r')\n",
        "link_list = [f for f in links]\n",
        "for i in range(len(link_list)):\n",
        "  yoyo.append(link_list[i].split(\",\"))\n",
        "K = yoyo[7][1][:-1]\n"
      ]
    },
    {
      "cell_type": "code",
      "source": [
        "################################################################################\n",
        "%cd /content/drive/MyDrive/OUT/data/sentinel/S2MSI2A_1/\n",
        "################################################################################\n",
        "print(K)\n",
        "for i in range(len(yoyo)):\n",
        "  K = yoyo[i][1][:-1]\n",
        "  t1 = str('/\\$value')\n",
        "  B = K+t1\n",
        "  !wget --content-disposition --continue --user=1kaiser --password=hV@dkL4x7yTkzp+ \"{B}\"\n",
        "  output.clear() #to_clear_the_output_console_everytime\n",
        "################################################################################\n",
        "%cd /content/\n",
        "################################################################################"
      ],
      "metadata": {
        "id": "etTZymzwXRKv"
      },
      "execution_count": null,
      "outputs": []
    },
    {
      "cell_type": "code",
      "source": [
        "!wget --content-disposition --continue --user=1kaiser --password=hV@dkL4x7yTkzp+ \"https://scihub.copernicus.eu/dhus/odata/v1/Products('87494e58-978e-48a2-8d76-0c573ad0050b')/\\$value\""
      ],
      "metadata": {
        "colab": {
          "base_uri": "https://localhost:8080/"
        },
        "id": "9rdhcwsLXtma",
        "outputId": "b0cc7640-84bf-4978-f148-3b3958773c5d"
      },
      "execution_count": 1,
      "outputs": [
        {
          "output_type": "stream",
          "name": "stdout",
          "text": [
            "--2022-08-16 15:56:50--  https://scihub.copernicus.eu/dhus/odata/v1/Products('87494e58-978e-48a2-8d76-0c573ad0050b')/$value\n",
            "Resolving scihub.copernicus.eu (scihub.copernicus.eu)... 146.59.215.226\n",
            "Connecting to scihub.copernicus.eu (scihub.copernicus.eu)|146.59.215.226|:443... connected.\n",
            "HTTP request sent, awaiting response... 401 Unauthorized\n",
            "Authentication selected: Basic realm=\"OData service\"\n",
            "Connecting to scihub.copernicus.eu (scihub.copernicus.eu)|146.59.215.226|:443... connected.\n",
            "HTTP request sent, awaiting response... 202 Accepted\n",
            "Length: 0 [text/plain]\n",
            "--2022-08-16 15:56:51--  https://scihub.copernicus.eu/dhus/odata/v1/Products('87494e58-978e-48a2-8d76-0c573ad0050b')/$value\n",
            "Reusing existing connection to scihub.copernicus.eu:443.\n",
            "HTTP request sent, awaiting response... 403 Forbidden\n",
            "2022-08-16 15:56:53 ERROR 403: Forbidden.\n",
            "\n"
          ]
        }
      ]
    }
  ]
}