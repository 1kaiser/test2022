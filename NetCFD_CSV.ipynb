{
  "nbformat": 4,
  "nbformat_minor": 0,
  "metadata": {
    "colab": {
      "name": "NetCFD_CSV.ipynb",
      "provenance": [],
      "authorship_tag": "ABX9TyPwh1buypRXlAEcobkOUpBU",
      "include_colab_link": true
    },
    "kernelspec": {
      "name": "python3",
      "display_name": "Python 3"
    },
    "language_info": {
      "name": "python"
    }
  },
  "cells": [
    {
      "cell_type": "markdown",
      "metadata": {
        "id": "view-in-github",
        "colab_type": "text"
      },
      "source": [
        "<a href=\"https://colab.research.google.com/github/1kaiser/test2022/blob/main/NetCFD_CSV.ipynb\" target=\"_parent\"><img src=\"https://colab.research.google.com/assets/colab-badge.svg\" alt=\"Open In Colab\"/></a>"
      ]
    },
    {
      "cell_type": "markdown",
      "source": [
        "# **Convert NetCDF file(s) to CSV file(s)** \n",
        "[source link](https://gist.github.com/copernicusmarinegist/b57417225d0d4ea47c5d6200f9d8cac3)"
      ],
      "metadata": {
        "id": "xD3a3GGD55bO"
      }
    },
    {
      "cell_type": "markdown",
      "source": [
        "### create directories"
      ],
      "metadata": {
        "id": "I4e-tjx1HYuK"
      }
    },
    {
      "cell_type": "code",
      "source": [
        "# Replace 'local_storage_directory', 'netcdf_dir' and 'csv_dir' by respectively\n",
        "# the directory path to Copernicus Marine data, the directory path to netcdf files\n",
        "# and the directory path to csv files\n",
        "local_storage_directory = '/content/'\n",
        "netcdf_dir = local_storage_directory + 'netcdf/'\n",
        "!mkdir -p {netcdf_dir}\n",
        "csv_dir = local_storage_directory + 'csv/'\n",
        "!mkdir -p {csv_dir}\n",
        "!python -m pip install xarray"
      ],
      "metadata": {
        "colab": {
          "base_uri": "https://localhost:8080/"
        },
        "id": "lgmP5MeYy4NT",
        "outputId": "3ebb4992-dd69-4495-ebd6-7902abe67f08"
      },
      "execution_count": null,
      "outputs": [
        {
          "output_type": "stream",
          "name": "stdout",
          "text": [
            "Looking in indexes: https://pypi.org/simple, https://us-python.pkg.dev/colab-wheels/public/simple/\n",
            "Requirement already satisfied: xarray in /usr/local/lib/python3.7/dist-packages (0.20.2)\n",
            "Requirement already satisfied: pandas>=1.1 in /usr/local/lib/python3.7/dist-packages (from xarray) (1.3.5)\n",
            "Requirement already satisfied: typing-extensions>=3.7 in /usr/local/lib/python3.7/dist-packages (from xarray) (4.1.1)\n",
            "Requirement already satisfied: importlib-metadata in /usr/local/lib/python3.7/dist-packages (from xarray) (4.12.0)\n",
            "Requirement already satisfied: numpy>=1.18 in /usr/local/lib/python3.7/dist-packages (from xarray) (1.21.6)\n",
            "Requirement already satisfied: python-dateutil>=2.7.3 in /usr/local/lib/python3.7/dist-packages (from pandas>=1.1->xarray) (2.8.2)\n",
            "Requirement already satisfied: pytz>=2017.3 in /usr/local/lib/python3.7/dist-packages (from pandas>=1.1->xarray) (2022.1)\n",
            "Requirement already satisfied: six>=1.5 in /usr/local/lib/python3.7/dist-packages (from python-dateutil>=2.7.3->pandas>=1.1->xarray) (1.15.0)\n",
            "Requirement already satisfied: zipp>=0.5 in /usr/local/lib/python3.7/dist-packages (from importlib-metadata->xarray) (3.8.1)\n"
          ]
        }
      ]
    },
    {
      "cell_type": "markdown",
      "source": [
        "### conversion to **CSV** from **NetCFD**"
      ],
      "metadata": {
        "id": "qnLTg2I2HofI"
      }
    },
    {
      "cell_type": "code",
      "source": [
        "import xarray as xr\n",
        "import os\n",
        "\n",
        "# Set a new directory path where the list of netcdf files (.nc) is stored.\n",
        "# Path should end with a 'slash (/)'\n",
        "files_to_convert = local_storage_directory + 'netcdf/'\n",
        "# Set a loop to create a .csv file for each .nc file listed in `files_to_convert`\n",
        "for netcdf_file_name in os.listdir(files_to_convert):\n",
        "    ds = xr.open_dataset(files_to_convert + netcdf_file_name)\n",
        "    df = ds.to_dataframe()\n",
        "    df.to_csv(csv_dir + netcdf_file_name[:-3] + '.csv')\n",
        "    print (netcdf_file_name + ' has been processed to .csv')\n",
        "    print (df)"
      ],
      "metadata": {
        "colab": {
          "base_uri": "https://localhost:8080/"
        },
        "id": "OaGhWcQtwFBX",
        "outputId": "7f600cad-7f39-45d5-e9a7-c68ffe9f136d"
      },
      "execution_count": null,
      "outputs": [
        {
          "output_type": "stream",
          "name": "stdout",
          "text": [
            "PBLH202104_V1.nc has been processed to .csv\n",
            "         latitude  longitude    pblh\n",
            "lt  ln                              \n",
            "0   0       5.125     50.125 -9999.0\n",
            "    1       5.125     50.375 -9999.0\n",
            "    2       5.125     50.625 -9999.0\n",
            "    3       5.125     50.875 -9999.0\n",
            "    4       5.125     51.125 -9999.0\n",
            "...           ...        ...     ...\n",
            "139 235    39.875    108.875 -9999.0\n",
            "    236    39.875    109.125 -9999.0\n",
            "    237    39.875    109.375 -9999.0\n",
            "    238    39.875    109.625 -9999.0\n",
            "    239    39.875    109.875 -9999.0\n",
            "\n",
            "[33600 rows x 3 columns]\n",
            "_Clim_Pred_LRF_New_RF25_IMD0p252021.nc has been processed to .csv\n",
            "                               RAINFALL\n",
            "LONGITUDE LATITUDE TIME                \n",
            "66.5      6.5      2021-01-01       NaN\n",
            "                   2021-01-02       NaN\n",
            "                   2021-01-03       NaN\n",
            "                   2021-01-04       NaN\n",
            "                   2021-01-05       NaN\n",
            "...                                 ...\n",
            "100.0     38.5     2021-12-27       NaN\n",
            "                   2021-12-28       NaN\n",
            "                   2021-12-29       NaN\n",
            "                   2021-12-30       NaN\n",
            "                   2021-12-31       NaN\n",
            "\n",
            "[6356475 rows x 1 columns]\n"
          ]
        }
      ]
    },
    {
      "cell_type": "markdown",
      "source": [
        "### cleaning data with rows having column '-9999'"
      ],
      "metadata": {
        "id": "D02vCW7uH7-z"
      }
    },
    {
      "cell_type": "code",
      "source": [
        "!rm -rf `find -type d -name .ipynb_checkpoints`\n",
        "import pandas as pd\n",
        "import os\n",
        "\n",
        "for csv_file_name in os.listdir(csv_dir):\n",
        "    csv_uncleaned_in = csv_file_name[:-4] + '.csv'\n",
        "    csv_cleaned_out = csv_uncleaned_in[:-4] + '_cleaned.csv'\n",
        "    data = pd.read_csv(csv_dir + csv_uncleaned_in)\n",
        "    data = data[data.pblh > 0]\n",
        "    print(data.dropna())\n",
        "    data.dropna().to_csv(csv_dir + csv_cleaned_out, index = False)\n",
        "    \n"
      ],
      "metadata": {
        "colab": {
          "base_uri": "https://localhost:8080/"
        },
        "id": "xmAI2Tz13uS6",
        "outputId": "fed87b9d-cfa1-49f3-b1bc-3f9ab0c6726e"
      },
      "execution_count": null,
      "outputs": [
        {
          "output_type": "stream",
          "name": "stdout",
          "text": [
            "        lt   ln  latitude  longitude         pblh\n",
            "182      0  182     5.125     95.625  1787.625605\n",
            "183      0  183     5.125     95.875  2002.014425\n",
            "184      0  184     5.125     96.125  1813.101425\n",
            "185      0  185     5.125     96.375  2140.641231\n",
            "186      0  186     5.125     96.625  2240.990078\n",
            "...    ...  ...       ...        ...          ...\n",
            "31858  132  178    38.125     94.625   261.200955\n",
            "32072  133  152    38.375     88.125   111.200955\n",
            "32102  133  182    38.375     95.625   859.752433\n",
            "32313  134  153    38.625     88.375   259.173411\n",
            "32340  134  180    38.625     95.125    24.331306\n",
            "\n",
            "[10338 rows x 5 columns]\n"
          ]
        }
      ]
    },
    {
      "cell_type": "markdown",
      "source": [
        "#  imd data rainfall<<<"
      ],
      "metadata": {
        "id": "vsWr5tR6HPKu"
      }
    },
    {
      "cell_type": "code",
      "source": [
        "!python -m pip install imdlib"
      ],
      "metadata": {
        "id": "xZJAHBJY96sJ"
      },
      "execution_count": null,
      "outputs": []
    },
    {
      "cell_type": "code",
      "execution_count": null,
      "metadata": {
        "id": "5-bVTWmQuh0X",
        "colab": {
          "base_uri": "https://localhost:8080/"
        },
        "outputId": "42defce9-a523-4bd1-ae5b-16bfe465a5bf"
      },
      "outputs": [
        {
          "output_type": "stream",
          "name": "stdout",
          "text": [
            "Downloading: rain for year 2000\n",
            "Downloading: rain for year 2001\n"
          ]
        }
      ],
      "source": [
        "#@title Default title text { vertical-output: true }\n",
        "START_YEAR = 2000 #@param {type:\"integer\"}\n",
        "END_YEAR =  2022#@param {type:\"integer\"}\n",
        "\n",
        "import imdlib as imd\n",
        "import numpy as np\n",
        "import pandas as pd\n",
        "file_directory = \"/content/\"\n",
        "csv_dir = file_directory + 'csv/'\n",
        "!mkdir -p {csv_dir}\n",
        "\"\"\" \n",
        "# install imdlib python library\n",
        "# you should be connected to internet for downloading the data\n",
        "#-9999 value is for no data in saved csv file\n",
        "# This code will download the imd data first and then convert the data to csv file\n",
        "if you have data already downloaded then create folder named rain/tmax/tmin inside any folder and \n",
        "copy yearly data files in the respective folder and rename yearly data file as year name i.e 1951.GRD 1952.GRD etc and \n",
        "comment the line imd.get_data(variable,start_yr) and run the code it will convert the binary .GRD data into csv file\n",
        "\"\"\"\n",
        "start_yr = START_YEAR # give starting year from which you want to download/convert data: 1901 ownwards for rainfall, 1951 for tmax and tmin\n",
        "end_yr = END_YEAR # give ending year upto which you want to download/convert data\n",
        "variable = 'rain' # give variable name (rain for rainfall, tmax or tmin for min or max temperature)\n",
        "file_format = 'yearwise' # other option (None), which will assume deafult imd naming convention\n",
        "imd.get_data(variable, start_yr, end_yr, fn_format='yearwise', file_dir=file_directory) # download IMD data: just change path as per your requirement\n",
        "file_dir = file_directory # this path should be same as mentioned in previous line\n",
        "data = imd.open_data(variable, start_yr, end_yr,'yearwise', file_dir) # this will open the data downloaded and saved in the location mentioned in previous line\n",
        "if variable == 'rain':\n",
        "    grid_size = 0.25 # grid spacing in deg\n",
        "    y_count = 129 # no of grids in y direction\n",
        "    x_count = 135 # no of grids in x direction\n",
        "    x = 66.5 # starting longitude taken from control file (.ctl)\n",
        "    y = 6.5 # starting latitude taken from control file (.ctl)\n",
        "elif variable == 'tmax' or variable == 'tmin':\n",
        "    grid_size = 1 # grid spacing in deg\n",
        "    y_count = 31 # no of grids in y direction\n",
        "    x_count = 31 # no of grids in x direction\n",
        "    x = 67.5 # starting longitude taken from control file (.ctl)\n",
        "    y = 7.5 # starting latitude taken from control file (.ctl)\n",
        "\n",
        "#print(grid_size,x_count, y_count, x, y)\n",
        "data\n",
        "data.shape\n",
        "np_array = data.data\n",
        "#print(np_array[0,0,0])\n",
        "#xr_objecct = data.get_xarray()\n",
        "#type(xr_objecct)\n",
        "#xr_objecct.mean('time').plot()\n",
        "years_no = (end_yr - start_yr) + 1\n",
        "#print(years_no)\n",
        "day = 0\n",
        "for yr in range(0,years_no):\n",
        "    f = open(csv_dir +str(start_yr+yr)+\"_\"+str(variable)+\".csv\",'w') # just change the path where you want to save csv file\n",
        "    if ((start_yr+yr) % 4 == 0) and ((start_yr+yr) % 100 != 0):  # check for leap year\n",
        "        days = 366\n",
        "        count = yr + days\n",
        "    elif ((start_yr+yr) % 4 == 0) and ((start_yr+yr) % 100 == 0) and ((start_yr+yr) % 400 == 0):\n",
        "        days = 366\n",
        "        count = yr + days\n",
        "    else:\n",
        "        days = 365\n",
        "        count = yr + days\n",
        "\n",
        "    day = day + days\n",
        "\n",
        "    f.write(\"X,Y,\")\n",
        "    for d in range(0, days):\n",
        "        f.write(str(d+1))\n",
        "        f.write(\",\")\n",
        "    f.write(\"\\n\")\n",
        "    #print(np_array[364,0,0])\n",
        "    for j in range(0, y_count):\n",
        "\n",
        "        for i in range(0, x_count):\n",
        "\n",
        "            f.write(str((i * grid_size) + x))\n",
        "            f.write(\",\")\n",
        "            f.write(str((j * grid_size) + y))\n",
        "            f.write(\",\")\n",
        "            time = 0\n",
        "            for k in range(day-days, day):\n",
        "\n",
        "                val = np_array[k,i,j]\n",
        "                if val == 99.9000015258789 or val == -999:\n",
        "                    f.write(str(-9999))\n",
        "                    f.write(\",\")\n",
        "                else:\n",
        "                    f.write(str(val))\n",
        "                    f.write(\",\")\n",
        "\n",
        "\n",
        "            f.write(\"\\n\")\n",
        "    print(\"File for \" + str(start_yr + yr) + \"_\" + str(variable) + \" is saved\")\n",
        "print(\"CSV conversion successful !\")"
      ]
    },
    {
      "cell_type": "code",
      "source": [
        "!rm -rf `find -type d -name .ipynb_checkpoints`\n",
        "import pandas as pd\n",
        "import os\n",
        "\n",
        "for csv_file_name in os.listdir(csv_dir):\n",
        "    csv_uncleaned_in = csv_file_name[:-4] + '.csv'\n",
        "    csv_cleaned_out = csv_uncleaned_in[:-4] + '_cleaned.csv'\n",
        "    data = pd.read_csv(csv_dir + csv_uncleaned_in)\n",
        "    !rm -r {csv_dir + csv_uncleaned_in}\n",
        "    data = data.drop(data[data['1'] < 0].index)\n",
        "    print(data)\n",
        "    data.to_csv(csv_dir + csv_cleaned_out, index = False)\n",
        "    \n"
      ],
      "metadata": {
        "colab": {
          "base_uri": "https://localhost:8080/"
        },
        "id": "www98wmzD_S5",
        "outputId": "4f0bc298-f0de-4eb0-f768-718627cdd0cc"
      },
      "execution_count": null,
      "outputs": [
        {
          "output_type": "stream",
          "name": "stdout",
          "text": [
            "           X      Y          1    2         3         4         5          6  \\\n",
            "987    77.00   8.25   2.326143  0.0  0.000000  1.322984  4.881387   1.753134   \n",
            "988    77.25   8.25   3.664898  0.0  0.000000  0.000000  1.788203   0.000000   \n",
            "989    77.50   8.25  18.975653  0.0  0.000000  2.973083  0.040350   0.059946   \n",
            "990    77.75   8.25  18.582087  0.0  0.000000  2.183249  3.511944   3.103261   \n",
            "1121   76.75   8.50   3.746353  0.0  0.000000  2.663133  8.128388   0.518859   \n",
            "...      ...    ...        ...  ...       ...       ...       ...        ...   \n",
            "16506  75.50  37.00   0.000000  0.0  1.367865  2.418013  4.591004  27.251225   \n",
            "16637  74.50  37.25   0.000000  0.0  0.425546  2.268913  3.766507  19.281239   \n",
            "16638  74.75  37.25   0.000000  0.0  0.639639  2.472864  4.178602  22.422531   \n",
            "16639  75.00  37.25   0.000000  0.0  0.880022  2.544067  4.391771  24.844952   \n",
            "16640  75.25  37.25   0.000000  0.0  1.097578  2.527547  4.458756  26.400146   \n",
            "\n",
            "                  7    8  ...  357       358  359  360       361       362  \\\n",
            "987    1.981730e+01  0.0  ...  0.0  0.000000  0.0  0.0  0.000000  0.000000   \n",
            "988    8.417133e-01  0.0  ...  0.0  0.000000  0.0  0.0  0.000000  0.000000   \n",
            "989    5.063120e-03  0.0  ...  0.0  0.000000  0.0  0.0  0.000000  0.000000   \n",
            "990    0.000000e+00  0.0  ...  0.0  0.000000  0.0  0.0  0.000000  0.000000   \n",
            "1121   1.214741e+01  0.0  ...  0.0  0.000000  0.0  0.0  0.000000  0.000000   \n",
            "...             ...  ...  ...  ...       ...  ...  ...       ...       ...   \n",
            "16506  3.380816e-06  0.0  ...  0.0  0.058296  0.0  0.0  2.750311  2.036243   \n",
            "16637  0.000000e+00  0.0  ...  0.0  0.128549  0.0  0.0  0.764727  1.927083   \n",
            "16638  0.000000e+00  0.0  ...  0.0  0.127851  0.0  0.0  1.193487  2.123125   \n",
            "16639  4.610204e-07  0.0  ...  0.0  0.116058  0.0  0.0  1.682228  2.221140   \n",
            "16640  1.383061e-06  0.0  ...  0.0  0.098026  0.0  0.0  2.135597  2.227249   \n",
            "\n",
            "       363  364       365  Unnamed: 367  \n",
            "987    0.0  0.0  0.000000           NaN  \n",
            "988    0.0  0.0  0.000000           NaN  \n",
            "989    0.0  0.0  0.053952           NaN  \n",
            "990    0.0  0.0  0.721149           NaN  \n",
            "1121   0.0  0.0  0.000000           NaN  \n",
            "...    ...  ...       ...           ...  \n",
            "16506  0.0  0.0  0.000000           NaN  \n",
            "16637  0.0  0.0  0.000000           NaN  \n",
            "16638  0.0  0.0  0.000000           NaN  \n",
            "16639  0.0  0.0  0.000000           NaN  \n",
            "16640  0.0  0.0  0.000000           NaN  \n",
            "\n",
            "[4964 rows x 368 columns]\n",
            "           X      Y    1    2    3         4          5         6         7  \\\n",
            "987    77.00   8.25  0.0  0.0  0.0  0.000000   0.000000  0.000000  0.000000   \n",
            "988    77.25   8.25  0.0  0.0  0.0  0.000000   0.130649  0.000000  0.000000   \n",
            "989    77.50   8.25  0.0  0.0  0.0  0.000000   0.000000  0.000000  0.000000   \n",
            "990    77.75   8.25  0.0  0.0  0.0  0.000000   0.000000  0.000000  0.000000   \n",
            "1121   76.75   8.50  0.0  0.0  0.0  0.000000  61.796970  0.000000  0.000000   \n",
            "...      ...    ...  ...  ...  ...       ...        ...       ...       ...   \n",
            "16506  75.50  37.00  0.0  0.0  0.0  1.863681   0.000000  0.330843  2.224359   \n",
            "16637  74.50  37.25  0.0  0.0  0.0  3.404090   0.000000  0.566966  3.994522   \n",
            "16638  74.75  37.25  0.0  0.0  0.0  3.584005   0.000000  0.596979  4.202065   \n",
            "16639  75.00  37.25  0.0  0.0  0.0  3.378346   0.000000  0.562753  3.958774   \n",
            "16640  75.25  37.25  0.0  0.0  0.0  2.929640   0.000000  0.488028  3.431687   \n",
            "\n",
            "               8  ...       358  359  360  361  362       363       364  365  \\\n",
            "987     0.000000  ...  0.000000  0.0  0.0  0.0  0.0  0.000000  5.724969  0.0   \n",
            "988     0.000000  ...  0.000000  0.0  0.0  0.0  0.0  0.000000  0.000000  0.0   \n",
            "989     0.000000  ...  0.000000  0.0  0.0  0.0  0.0  0.000000  0.000000  0.0   \n",
            "990     0.000000  ...  0.000000  0.0  0.0  0.0  0.0  0.000000  0.000000  0.0   \n",
            "1121   21.530844  ...  1.514154  0.0  0.0  0.0  0.0  0.000000  0.000000  0.0   \n",
            "...          ...  ...       ...  ...  ...  ...  ...       ...       ...  ...   \n",
            "16506   3.103310  ...  0.000000  0.0  0.0  0.0  0.0  0.000000  0.375697  0.0   \n",
            "16637   4.407683  ...  0.000000  0.0  0.0  0.0  0.0  0.174770  0.709919  0.0   \n",
            "16638   4.735528  ...  0.000000  0.0  0.0  0.0  0.0  0.183302  0.743025  0.0   \n",
            "16639   4.601704  ...  0.000000  0.0  0.0  0.0  0.0  0.172356  0.697706  0.0   \n",
            "16640   4.167539  ...  0.000000  0.0  0.0  0.0  0.0  0.149210  0.603437  0.0   \n",
            "\n",
            "           366  Unnamed: 368  \n",
            "987    0.00000           NaN  \n",
            "988    0.00000           NaN  \n",
            "989    0.00000           NaN  \n",
            "990    0.00000           NaN  \n",
            "1121   0.62528           NaN  \n",
            "...        ...           ...  \n",
            "16506  0.00000           NaN  \n",
            "16637  0.00000           NaN  \n",
            "16638  0.00000           NaN  \n",
            "16639  0.00000           NaN  \n",
            "16640  0.00000           NaN  \n",
            "\n",
            "[4964 rows x 369 columns]\n"
          ]
        }
      ]
    }
  ]
}