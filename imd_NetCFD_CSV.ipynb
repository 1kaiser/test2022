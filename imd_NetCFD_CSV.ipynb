{
  "nbformat": 4,
  "nbformat_minor": 0,
  "metadata": {
    "colab": {
      "name": "imd_NetCFD_CSV.ipynb",
      "provenance": [],
      "authorship_tag": "ABX9TyNGbk2a/5Vl3e9W2XaKUHgj",
      "include_colab_link": true
    },
    "kernelspec": {
      "name": "python3",
      "display_name": "Python 3"
    },
    "language_info": {
      "name": "python"
    }
  },
  "cells": [
    {
      "cell_type": "markdown",
      "metadata": {
        "id": "view-in-github",
        "colab_type": "text"
      },
      "source": [
        "<a href=\"https://colab.research.google.com/github/1kaiser/test2022/blob/main/imd_NetCFD_CSV.ipynb\" target=\"_parent\"><img src=\"https://colab.research.google.com/assets/colab-badge.svg\" alt=\"Open In Colab\"/></a>"
      ]
    },
    {
      "cell_type": "markdown",
      "source": [
        "# **Convert NetCDF file(s) to CSV file(s)**"
      ],
      "metadata": {
        "id": "xD3a3GGD55bO"
      }
    },
    {
      "cell_type": "code",
      "source": [
        "# Replace 'local_storage_directory', 'netcdf_dir' and 'csv_dir' by respectively\n",
        "# the directory path to Copernicus Marine data, the directory path to netcdf files\n",
        "# and the directory path to csv files\n",
        "local_storage_directory = '/content/'\n",
        "netcdf_dir = local_storage_directory + 'netcdf/'\n",
        "!mkdir -p {netcdf_dir}\n",
        "csv_dir = local_storage_directory + 'csv/'\n",
        "!mkdir -p {csv_dir}\n",
        "!python -m pip install xarray"
      ],
      "metadata": {
        "colab": {
          "base_uri": "https://localhost:8080/"
        },
        "id": "lgmP5MeYy4NT",
        "outputId": "3ebb4992-dd69-4495-ebd6-7902abe67f08"
      },
      "execution_count": null,
      "outputs": [
        {
          "output_type": "stream",
          "name": "stdout",
          "text": [
            "Looking in indexes: https://pypi.org/simple, https://us-python.pkg.dev/colab-wheels/public/simple/\n",
            "Requirement already satisfied: xarray in /usr/local/lib/python3.7/dist-packages (0.20.2)\n",
            "Requirement already satisfied: pandas>=1.1 in /usr/local/lib/python3.7/dist-packages (from xarray) (1.3.5)\n",
            "Requirement already satisfied: typing-extensions>=3.7 in /usr/local/lib/python3.7/dist-packages (from xarray) (4.1.1)\n",
            "Requirement already satisfied: importlib-metadata in /usr/local/lib/python3.7/dist-packages (from xarray) (4.12.0)\n",
            "Requirement already satisfied: numpy>=1.18 in /usr/local/lib/python3.7/dist-packages (from xarray) (1.21.6)\n",
            "Requirement already satisfied: python-dateutil>=2.7.3 in /usr/local/lib/python3.7/dist-packages (from pandas>=1.1->xarray) (2.8.2)\n",
            "Requirement already satisfied: pytz>=2017.3 in /usr/local/lib/python3.7/dist-packages (from pandas>=1.1->xarray) (2022.1)\n",
            "Requirement already satisfied: six>=1.5 in /usr/local/lib/python3.7/dist-packages (from python-dateutil>=2.7.3->pandas>=1.1->xarray) (1.15.0)\n",
            "Requirement already satisfied: zipp>=0.5 in /usr/local/lib/python3.7/dist-packages (from importlib-metadata->xarray) (3.8.1)\n"
          ]
        }
      ]
    },
    {
      "cell_type": "code",
      "source": [
        "import xarray as xr\n",
        "import os\n",
        "\n",
        "# Set a new directory path where the list of netcdf files (.nc) is stored.\n",
        "# Path should end with a 'slash (/)'\n",
        "files_to_convert = local_storage_directory + 'netcdf/'\n",
        "# Set a loop to create a .csv file for each .nc file listed in `files_to_convert`\n",
        "for netcdf_file_name in os.listdir(files_to_convert):\n",
        "    ds = xr.open_dataset(files_to_convert + netcdf_file_name)\n",
        "    df = ds.to_dataframe()\n",
        "    df.to_csv(csv_dir + netcdf_file_name[:-3] + '.csv')\n",
        "    print (netcdf_file_name + ' has been processed to .csv')\n",
        "    print (df)\n",
        "\n",
        "\n",
        "\n",
        "\n"
      ],
      "metadata": {
        "colab": {
          "base_uri": "https://localhost:8080/"
        },
        "id": "OaGhWcQtwFBX",
        "outputId": "7f600cad-7f39-45d5-e9a7-c68ffe9f136d"
      },
      "execution_count": 23,
      "outputs": [
        {
          "output_type": "stream",
          "name": "stdout",
          "text": [
            "PBLH202104_V1.nc has been processed to .csv\n",
            "         latitude  longitude    pblh\n",
            "lt  ln                              \n",
            "0   0       5.125     50.125 -9999.0\n",
            "    1       5.125     50.375 -9999.0\n",
            "    2       5.125     50.625 -9999.0\n",
            "    3       5.125     50.875 -9999.0\n",
            "    4       5.125     51.125 -9999.0\n",
            "...           ...        ...     ...\n",
            "139 235    39.875    108.875 -9999.0\n",
            "    236    39.875    109.125 -9999.0\n",
            "    237    39.875    109.375 -9999.0\n",
            "    238    39.875    109.625 -9999.0\n",
            "    239    39.875    109.875 -9999.0\n",
            "\n",
            "[33600 rows x 3 columns]\n",
            "_Clim_Pred_LRF_New_RF25_IMD0p252021.nc has been processed to .csv\n",
            "                               RAINFALL\n",
            "LONGITUDE LATITUDE TIME                \n",
            "66.5      6.5      2021-01-01       NaN\n",
            "                   2021-01-02       NaN\n",
            "                   2021-01-03       NaN\n",
            "                   2021-01-04       NaN\n",
            "                   2021-01-05       NaN\n",
            "...                                 ...\n",
            "100.0     38.5     2021-12-27       NaN\n",
            "                   2021-12-28       NaN\n",
            "                   2021-12-29       NaN\n",
            "                   2021-12-30       NaN\n",
            "                   2021-12-31       NaN\n",
            "\n",
            "[6356475 rows x 1 columns]\n"
          ]
        }
      ]
    },
    {
      "cell_type": "code",
      "source": [
        "import pandas as pd\n",
        "import os\n",
        "\n",
        "for csv_file_name in os.listdir(csv_dir):\n",
        "    csv_uncleaned_in = csv_file_name[:-4] + '.csv'\n",
        "    csv_cleaned_out = csv_uncleaned_in[:-4] + '_cleaned.csv'\n",
        "    data = pd.read_csv(csv_dir + csv_uncleaned_in)\n",
        "    print(data.dropna())\n",
        "\n",
        "    data.dropna().to_csv(csv_dir + csv_cleaned_out, index = False)\n"
      ],
      "metadata": {
        "colab": {
          "base_uri": "https://localhost:8080/"
        },
        "id": "xmAI2Tz13uS6",
        "outputId": "d1b0cc36-1011-4150-9ed7-5894ba93eb95"
      },
      "execution_count": 26,
      "outputs": [
        {
          "output_type": "stream",
          "name": "stdout",
          "text": [
            "         LONGITUDE  LATITUDE        TIME  RAINFALL\n",
            "307695       68.00     23.75  2021-01-01       0.0\n",
            "307696       68.00     23.75  2021-01-02       0.0\n",
            "307697       68.00     23.75  2021-01-03       0.0\n",
            "307698       68.00     23.75  2021-01-04       0.0\n",
            "307699       68.00     23.75  2021-01-05       0.0\n",
            "...            ...       ...         ...       ...\n",
            "5823570      97.25     28.25  2021-12-27       0.0\n",
            "5823571      97.25     28.25  2021-12-28       0.0\n",
            "5823572      97.25     28.25  2021-12-29       0.0\n",
            "5823573      97.25     28.25  2021-12-30       0.0\n",
            "5823574      97.25     28.25  2021-12-31       0.0\n",
            "\n",
            "[1811860 rows x 4 columns]\n",
            "         LONGITUDE  LATITUDE        TIME  RAINFALL\n",
            "0            68.00     23.75  2021-01-01       0.0\n",
            "1            68.00     23.75  2021-01-02       0.0\n",
            "2            68.00     23.75  2021-01-03       0.0\n",
            "3            68.00     23.75  2021-01-04       0.0\n",
            "4            68.00     23.75  2021-01-05       0.0\n",
            "...            ...       ...         ...       ...\n",
            "1811855      97.25     28.25  2021-12-27       0.0\n",
            "1811856      97.25     28.25  2021-12-28       0.0\n",
            "1811857      97.25     28.25  2021-12-29       0.0\n",
            "1811858      97.25     28.25  2021-12-30       0.0\n",
            "1811859      97.25     28.25  2021-12-31       0.0\n",
            "\n",
            "[1811860 rows x 4 columns]\n",
            "        lt   ln  latitude  longitude    pblh\n",
            "0        0    0     5.125     50.125 -9999.0\n",
            "1        0    1     5.125     50.375 -9999.0\n",
            "2        0    2     5.125     50.625 -9999.0\n",
            "3        0    3     5.125     50.875 -9999.0\n",
            "4        0    4     5.125     51.125 -9999.0\n",
            "...    ...  ...       ...        ...     ...\n",
            "33595  139  235    39.875    108.875 -9999.0\n",
            "33596  139  236    39.875    109.125 -9999.0\n",
            "33597  139  237    39.875    109.375 -9999.0\n",
            "33598  139  238    39.875    109.625 -9999.0\n",
            "33599  139  239    39.875    109.875 -9999.0\n",
            "\n",
            "[33600 rows x 5 columns]\n"
          ]
        }
      ]
    },
    {
      "cell_type": "code",
      "source": [
        "!python -m pip install imdlib"
      ],
      "metadata": {
        "id": "xZJAHBJY96sJ",
        "outputId": "e1bf0d97-8860-4ce6-9e87-37ab267d41da",
        "colab": {
          "base_uri": "https://localhost:8080/"
        }
      },
      "execution_count": 27,
      "outputs": [
        {
          "output_type": "stream",
          "name": "stdout",
          "text": [
            "Looking in indexes: https://pypi.org/simple, https://us-python.pkg.dev/colab-wheels/public/simple/\n",
            "Collecting imdlib\n",
            "  Downloading imdlib-0.1.12-py3-none-any.whl (8.5 kB)\n",
            "Requirement already satisfied: scipy in /usr/local/lib/python3.7/dist-packages (from imdlib) (1.7.3)\n",
            "Requirement already satisfied: pandas in /usr/local/lib/python3.7/dist-packages (from imdlib) (1.3.5)\n",
            "Requirement already satisfied: matplotlib in /usr/local/lib/python3.7/dist-packages (from imdlib) (3.2.2)\n",
            "Requirement already satisfied: numpy in /usr/local/lib/python3.7/dist-packages (from imdlib) (1.21.6)\n",
            "Requirement already satisfied: pytz in /usr/local/lib/python3.7/dist-packages (from imdlib) (2022.1)\n",
            "Requirement already satisfied: urllib3 in /usr/local/lib/python3.7/dist-packages (from imdlib) (1.24.3)\n",
            "Requirement already satisfied: python-dateutil in /usr/local/lib/python3.7/dist-packages (from imdlib) (2.8.2)\n",
            "Requirement already satisfied: six in /usr/local/lib/python3.7/dist-packages (from imdlib) (1.15.0)\n",
            "Requirement already satisfied: xarray in /usr/local/lib/python3.7/dist-packages (from imdlib) (0.20.2)\n",
            "Requirement already satisfied: requests in /usr/local/lib/python3.7/dist-packages (from imdlib) (2.23.0)\n",
            "Requirement already satisfied: cycler>=0.10 in /usr/local/lib/python3.7/dist-packages (from matplotlib->imdlib) (0.11.0)\n",
            "Requirement already satisfied: pyparsing!=2.0.4,!=2.1.2,!=2.1.6,>=2.0.1 in /usr/local/lib/python3.7/dist-packages (from matplotlib->imdlib) (3.0.9)\n",
            "Requirement already satisfied: kiwisolver>=1.0.1 in /usr/local/lib/python3.7/dist-packages (from matplotlib->imdlib) (1.4.4)\n",
            "Requirement already satisfied: typing-extensions in /usr/local/lib/python3.7/dist-packages (from kiwisolver>=1.0.1->matplotlib->imdlib) (4.1.1)\n",
            "Requirement already satisfied: chardet<4,>=3.0.2 in /usr/local/lib/python3.7/dist-packages (from requests->imdlib) (3.0.4)\n",
            "Requirement already satisfied: idna<3,>=2.5 in /usr/local/lib/python3.7/dist-packages (from requests->imdlib) (2.10)\n",
            "Requirement already satisfied: certifi>=2017.4.17 in /usr/local/lib/python3.7/dist-packages (from requests->imdlib) (2022.6.15)\n",
            "Requirement already satisfied: importlib-metadata in /usr/local/lib/python3.7/dist-packages (from xarray->imdlib) (4.12.0)\n",
            "Requirement already satisfied: zipp>=0.5 in /usr/local/lib/python3.7/dist-packages (from importlib-metadata->xarray->imdlib) (3.8.1)\n",
            "Installing collected packages: imdlib\n",
            "Successfully installed imdlib-0.1.12\n"
          ]
        }
      ]
    },
    {
      "cell_type": "code",
      "execution_count": 30,
      "metadata": {
        "id": "5-bVTWmQuh0X",
        "colab": {
          "base_uri": "https://localhost:8080/"
        },
        "outputId": "68ad5321-82da-4bd0-fb65-3eccb7e826af"
      },
      "outputs": [
        {
          "output_type": "stream",
          "name": "stdout",
          "text": [
            "Downloading: rain for year 2020\n",
            "Downloading: rain for year 2021\n",
            "Download Successful !!!\n",
            "(731, 135, 129)\n",
            "File for 2020_rain is saved\n",
            "File for 2021_rain is saved\n",
            "CSV conversion successful !\n"
          ]
        }
      ],
      "source": [
        "import imdlib as imd\n",
        "import numpy as np\n",
        "import pandas as pd\n",
        "\"\"\" \n",
        "# install imdlib python library\n",
        "# you should be connected to internet for downloading the data\n",
        "#-9999 value is for no data in saved csv file\n",
        "# This code will download the imd data first and then convert the data to csv file\n",
        "if you have data already downloaded then create folder named rain/tmax/tmin inside any folder and \n",
        "copy yearly data files in the respective folder and rename yearly data file as year name i.e 1951.GRD 1952.GRD etc and \n",
        "comment the line imd.get_data(variable,start_yr) and run the code it will convert the binary .GRD data into csv file\n",
        "\"\"\"\n",
        "start_yr = 2020 # give starting year from which you want to download/convert data: 1901 ownwards for rainfall, 1951 for tmax and tmin\n",
        "end_yr = 2021 # give ending year upto which you want to download/convert data\n",
        "variable = 'rain' # give variable name (rain for rainfall, tmax or tmin for min or max temperature)\n",
        "file_format = 'yearwise' # other option (None), which will assume deafult imd naming convention\n",
        "imd.get_data(variable, start_yr, end_yr, fn_format='yearwise', file_dir='/content/') # download IMD data: just change path as per your requirement\n",
        "file_dir = '/content/' # this path should be same as mentioned in previous line\n",
        "data = imd.open_data(variable, start_yr, end_yr,'yearwise', file_dir) # this will open the data downloaded and saved in the location mentioned in previous line\n",
        "if variable == 'rain':\n",
        "    grid_size = 0.25 # grid spacing in deg\n",
        "    y_count = 129 # no of grids in y direction\n",
        "    x_count = 135 # no of grids in x direction\n",
        "    x = 66.5 # starting longitude taken from control file (.ctl)\n",
        "    y = 6.5 # starting latitude taken from control file (.ctl)\n",
        "elif variable == 'tmax' or variable == 'tmin':\n",
        "    grid_size = 1 # grid spacing in deg\n",
        "    y_count = 31 # no of grids in y direction\n",
        "    x_count = 31 # no of grids in x direction\n",
        "    x = 67.5 # starting longitude taken from control file (.ctl)\n",
        "    y = 7.5 # starting latitude taken from control file (.ctl)\n",
        "\n",
        "#print(grid_size,x_count, y_count, x, y)\n",
        "data\n",
        "data.shape\n",
        "np_array = data.data\n",
        "#print(np_array[0,0,0])\n",
        "#xr_objecct = data.get_xarray()\n",
        "#type(xr_objecct)\n",
        "#xr_objecct.mean('time').plot()\n",
        "years_no = (end_yr - start_yr) + 1\n",
        "#print(years_no)\n",
        "day = 0\n",
        "for yr in range(0,years_no):\n",
        "    f = open(\"/content/\"+str(start_yr+yr)+\"_\"+str(variable)+\".csv\",'w') # just change the path where you want to save csv file\n",
        "    if ((start_yr+yr) % 4 == 0) and ((start_yr+yr) % 100 != 0):  # check for leap year\n",
        "        days = 366\n",
        "        count = yr + days\n",
        "    elif ((start_yr+yr) % 4 == 0) and ((start_yr+yr) % 100 == 0) and ((start_yr+yr) % 400 == 0):\n",
        "        days = 366\n",
        "        count = yr + days\n",
        "    else:\n",
        "        days = 365\n",
        "        count = yr + days\n",
        "\n",
        "    day = day + days\n",
        "\n",
        "    f.write(\"X,Y,\")\n",
        "    for d in range(0, days):\n",
        "        f.write(str(d+1))\n",
        "        f.write(\",\")\n",
        "    f.write(\"\\n\")\n",
        "    #print(np_array[364,0,0])\n",
        "    for j in range(0, y_count):\n",
        "\n",
        "        for i in range(0, x_count):\n",
        "\n",
        "            f.write(str((i * grid_size) + x))\n",
        "            f.write(\",\")\n",
        "            f.write(str((j * grid_size) + y))\n",
        "            f.write(\",\")\n",
        "            time = 0\n",
        "            for k in range(day-days, day):\n",
        "\n",
        "                val = np_array[k,i,j]\n",
        "                if val == 99.9000015258789 or val == -999:\n",
        "                    f.write(str(-9999))\n",
        "                    f.write(\",\")\n",
        "                else:\n",
        "                    f.write(str(val))\n",
        "                    f.write(\",\")\n",
        "\n",
        "\n",
        "            f.write(\"\\n\")\n",
        "    print(\"File for \" + str(start_yr + yr) + \"_\" + str(variable) + \" is saved\")\n",
        "print(\"CSV conversion successful !\")"
      ]
    }
  ]
}