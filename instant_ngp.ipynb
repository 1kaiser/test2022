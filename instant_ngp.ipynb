{
  "cells": [
    {
      "cell_type": "markdown",
      "metadata": {
        "id": "view-in-github",
        "colab_type": "text"
      },
      "source": [
        "<a href=\"https://colab.research.google.com/github/1kaiser/test2022/blob/main/instant_ngp.ipynb\" target=\"_parent\"><img src=\"https://colab.research.google.com/assets/colab-badge.svg\" alt=\"Open In Colab\"/></a>"
      ]
    },
    {
      "cell_type": "code",
      "execution_count": 1,
      "metadata": {
        "id": "QJC-0GitoJEh",
        "outputId": "bd322d64-871a-4fad-c635-33804036c55f",
        "colab": {
          "base_uri": "https://localhost:8080/"
        }
      },
      "outputs": [
        {
          "output_type": "stream",
          "name": "stdout",
          "text": [
            "Sat Jul 23 16:57:10 2022       \n",
            "+-----------------------------------------------------------------------------+\n",
            "| NVIDIA-SMI 460.32.03    Driver Version: 460.32.03    CUDA Version: 11.2     |\n",
            "|-------------------------------+----------------------+----------------------+\n",
            "| GPU  Name        Persistence-M| Bus-Id        Disp.A | Volatile Uncorr. ECC |\n",
            "| Fan  Temp  Perf  Pwr:Usage/Cap|         Memory-Usage | GPU-Util  Compute M. |\n",
            "|                               |                      |               MIG M. |\n",
            "|===============================+======================+======================|\n",
            "|   0  Tesla T4            Off  | 00000000:00:04.0 Off |                    0 |\n",
            "| N/A   65C    P8    11W /  70W |      0MiB / 15109MiB |      0%      Default |\n",
            "|                               |                      |                  N/A |\n",
            "+-------------------------------+----------------------+----------------------+\n",
            "                                                                               \n",
            "+-----------------------------------------------------------------------------+\n",
            "| Processes:                                                                  |\n",
            "|  GPU   GI   CI        PID   Type   Process name                  GPU Memory |\n",
            "|        ID   ID                                                   Usage      |\n",
            "|=============================================================================|\n",
            "|  No running processes found                                                 |\n",
            "+-----------------------------------------------------------------------------+\n"
          ]
        }
      ],
      "source": [
        "!nvidia-smi"
      ]
    },
    {
      "cell_type": "code",
      "execution_count": 2,
      "metadata": {
        "id": "yKFsL8wSdQ8Q",
        "outputId": "7b5ba812-d6c5-427c-ace6-32f135348e2c",
        "colab": {
          "base_uri": "https://localhost:8080/"
        }
      },
      "outputs": [
        {
          "output_type": "stream",
          "name": "stdout",
          "text": [
            "Get:1 https://developer.download.nvidia.com/compute/cuda/repos/ubuntu1804/x86_64  InRelease [1,581 B]\n",
            "Get:2 https://cloud.r-project.org/bin/linux/ubuntu bionic-cran40/ InRelease [3,626 B]\n",
            "Get:3 http://ppa.launchpad.net/c2d4u.team/c2d4u4.0+/ubuntu bionic InRelease [15.9 kB]\n",
            "Get:4 http://security.ubuntu.com/ubuntu bionic-security InRelease [88.7 kB]\n",
            "Ign:5 https://developer.download.nvidia.com/compute/machine-learning/repos/ubuntu1804/x86_64  InRelease\n",
            "Get:6 https://developer.download.nvidia.com/compute/cuda/repos/ubuntu1804/x86_64  Packages [817 kB]\n",
            "Hit:7 http://archive.ubuntu.com/ubuntu bionic InRelease\n",
            "Hit:8 https://developer.download.nvidia.com/compute/machine-learning/repos/ubuntu1804/x86_64  Release\n",
            "Get:9 https://cloud.r-project.org/bin/linux/ubuntu bionic-cran40/ Packages [85.6 kB]\n",
            "Get:10 http://archive.ubuntu.com/ubuntu bionic-updates InRelease [88.7 kB]\n",
            "Hit:11 http://ppa.launchpad.net/cran/libgit2/ubuntu bionic InRelease\n",
            "Hit:13 http://ppa.launchpad.net/deadsnakes/ppa/ubuntu bionic InRelease\n",
            "Get:14 http://security.ubuntu.com/ubuntu bionic-security/restricted amd64 Packages [1,063 kB]\n",
            "Get:15 http://archive.ubuntu.com/ubuntu bionic-backports InRelease [74.6 kB]\n",
            "Hit:16 http://ppa.launchpad.net/graphics-drivers/ppa/ubuntu bionic InRelease\n",
            "Get:17 http://archive.ubuntu.com/ubuntu bionic-updates/universe amd64 Packages [2,304 kB]\n",
            "Get:18 http://ppa.launchpad.net/c2d4u.team/c2d4u4.0+/ubuntu bionic/main Sources [2,075 kB]\n",
            "Get:19 http://security.ubuntu.com/ubuntu bionic-security/main amd64 Packages [2,901 kB]\n",
            "Get:20 http://security.ubuntu.com/ubuntu bionic-security/universe amd64 Packages [1,527 kB]\n",
            "Get:21 http://archive.ubuntu.com/ubuntu bionic-updates/main amd64 Packages [3,333 kB]\n",
            "Get:22 http://archive.ubuntu.com/ubuntu bionic-updates/restricted amd64 Packages [1,105 kB]\n",
            "Get:23 http://ppa.launchpad.net/c2d4u.team/c2d4u4.0+/ubuntu bionic/main amd64 Packages [1,063 kB]\n",
            "Fetched 16.5 MB in 5s (3,481 kB/s)\n",
            "Reading package lists... Done\n",
            "Building dependency tree       \n",
            "Reading state information... Done\n",
            "71 packages can be upgraded. Run 'apt list --upgradable' to see them.\n",
            "Reading package lists... Done\n",
            "Building dependency tree       \n",
            "Reading state information... Done\n",
            "build-essential is already the newest version (12.4ubuntu1).\n",
            "libxi-dev is already the newest version (2:1.7.9-1).\n",
            "libxi-dev set to manually installed.\n",
            "git is already the newest version (1:2.17.1-1ubuntu0.12).\n",
            "libopenexr-dev is already the newest version (2.2.0-11.1ubuntu1.9).\n",
            "libopenexr-dev set to manually installed.\n",
            "python3-dev is already the newest version (3.6.7-1~18.04).\n",
            "python3-dev set to manually installed.\n",
            "The following package was automatically installed and is no longer required:\n",
            "  libnvidia-common-460\n",
            "Use 'apt autoremove' to remove it.\n",
            "The following additional packages will be installed:\n",
            "  libglew2.0 libglfw3 libomp5 libvulkan-dev libvulkan1 libxrandr-dev\n",
            "  mesa-vulkan-drivers python-pip-whl python3-asn1crypto python3-cffi-backend\n",
            "  python3-crypto python3-cryptography python3-idna python3-keyring\n",
            "  python3-keyrings.alt python3-pkg-resources python3-secretstorage\n",
            "  python3-setuptools python3-six python3-wheel python3-xdg x11proto-randr-dev\n",
            "  x11proto-xinerama-dev\n",
            "Suggested packages:\n",
            "  glew-utils libegl1-mesa | libegl1-x11 libomp-doc python-crypto-doc\n",
            "  python-cryptography-doc python3-cryptography-vectors gnome-keyring\n",
            "  libkf5wallet-bin gir1.2-gnomekeyring-1.0 python-secretstorage-doc\n",
            "  python-setuptools-doc\n",
            "The following NEW packages will be installed:\n",
            "  libglew-dev libglew2.0 libglfw3 libglfw3-dev libomp-dev libomp5\n",
            "  libvulkan-dev libvulkan1 libxcursor-dev libxinerama-dev libxrandr-dev\n",
            "  mesa-vulkan-drivers python-pip-whl python3-asn1crypto python3-cffi-backend\n",
            "  python3-crypto python3-cryptography python3-idna python3-keyring\n",
            "  python3-keyrings.alt python3-pip python3-pkg-resources python3-secretstorage\n",
            "  python3-setuptools python3-six python3-wheel python3-xdg x11proto-randr-dev\n",
            "  x11proto-xinerama-dev\n",
            "0 upgraded, 29 newly installed, 0 to remove and 71 not upgraded.\n",
            "Need to get 7,158 kB of archives.\n",
            "After this operation, 34.5 MB of additional disk space will be used.\n",
            "Get:1 http://archive.ubuntu.com/ubuntu bionic/universe amd64 libglew2.0 amd64 2.0.0-5 [140 kB]\n",
            "Get:2 http://ppa.launchpad.net/graphics-drivers/ppa/ubuntu bionic/main amd64 libvulkan1 amd64 1.1.126.0-2~gpu18.04.1 [101 kB]\n",
            "Get:3 http://archive.ubuntu.com/ubuntu bionic/universe amd64 libglew-dev amd64 2.0.0-5 [120 kB]\n",
            "Get:4 http://ppa.launchpad.net/graphics-drivers/ppa/ubuntu bionic/main amd64 libvulkan-dev amd64 1.1.126.0-2~gpu18.04.1 [472 kB]\n",
            "Get:5 http://archive.ubuntu.com/ubuntu bionic/universe amd64 libglfw3 amd64 3.2.1-1 [49.2 kB]\n",
            "Get:6 http://archive.ubuntu.com/ubuntu bionic/universe amd64 libglfw3-dev amd64 3.2.1-1 [30.9 kB]\n",
            "Get:7 http://archive.ubuntu.com/ubuntu bionic/main amd64 libxcursor-dev amd64 1:1.1.15-1 [26.5 kB]\n",
            "Get:8 http://archive.ubuntu.com/ubuntu bionic/main amd64 x11proto-xinerama-dev all 2018.4-4 [2,628 B]\n",
            "Get:9 http://archive.ubuntu.com/ubuntu bionic/main amd64 libxinerama-dev amd64 2:1.1.3-1 [8,404 B]\n",
            "Get:10 http://archive.ubuntu.com/ubuntu bionic/main amd64 x11proto-randr-dev all 2018.4-4 [2,620 B]\n",
            "Get:11 http://archive.ubuntu.com/ubuntu bionic/main amd64 libxrandr-dev amd64 2:1.5.1-1 [24.0 kB]\n",
            "Get:12 http://archive.ubuntu.com/ubuntu bionic-updates/universe amd64 mesa-vulkan-drivers amd64 20.0.8-0ubuntu1~18.04.1 [3,059 kB]\n",
            "Get:13 http://archive.ubuntu.com/ubuntu bionic-updates/universe amd64 python-pip-whl all 9.0.1-2.3~ubuntu1.18.04.5 [1,653 kB]\n",
            "Get:14 http://archive.ubuntu.com/ubuntu bionic/main amd64 python3-asn1crypto all 0.24.0-1 [72.8 kB]\n",
            "Get:15 http://archive.ubuntu.com/ubuntu bionic/main amd64 python3-cffi-backend amd64 1.11.5-1 [64.6 kB]\n",
            "Get:16 http://archive.ubuntu.com/ubuntu bionic/main amd64 python3-crypto amd64 2.6.1-8ubuntu2 [244 kB]\n",
            "Get:17 http://archive.ubuntu.com/ubuntu bionic/main amd64 python3-idna all 2.6-1 [32.5 kB]\n",
            "Get:18 http://archive.ubuntu.com/ubuntu bionic/main amd64 python3-six all 1.11.0-2 [11.4 kB]\n",
            "Get:19 http://archive.ubuntu.com/ubuntu bionic-updates/main amd64 python3-cryptography amd64 2.1.4-1ubuntu1.4 [220 kB]\n",
            "Get:20 http://archive.ubuntu.com/ubuntu bionic/main amd64 python3-secretstorage all 2.3.1-2 [12.1 kB]\n",
            "Get:21 http://archive.ubuntu.com/ubuntu bionic/main amd64 python3-keyring all 10.6.0-1 [26.7 kB]\n",
            "Get:22 http://archive.ubuntu.com/ubuntu bionic/main amd64 python3-keyrings.alt all 3.0-1 [16.6 kB]\n",
            "Get:23 http://archive.ubuntu.com/ubuntu bionic-updates/universe amd64 python3-pip all 9.0.1-2.3~ubuntu1.18.04.5 [114 kB]\n",
            "Get:24 http://archive.ubuntu.com/ubuntu bionic/main amd64 python3-pkg-resources all 39.0.1-2 [98.8 kB]\n",
            "Get:25 http://archive.ubuntu.com/ubuntu bionic/main amd64 python3-setuptools all 39.0.1-2 [248 kB]\n",
            "Get:26 http://archive.ubuntu.com/ubuntu bionic/universe amd64 python3-wheel all 0.30.0-0.2 [36.5 kB]\n",
            "Get:27 http://archive.ubuntu.com/ubuntu bionic-updates/main amd64 python3-xdg all 0.25-4ubuntu1.1 [31.3 kB]\n",
            "Get:28 http://archive.ubuntu.com/ubuntu bionic/universe amd64 libomp5 amd64 5.0.1-1 [234 kB]\n",
            "Get:29 http://archive.ubuntu.com/ubuntu bionic/universe amd64 libomp-dev amd64 5.0.1-1 [5,088 B]\n",
            "Fetched 7,158 kB in 2s (2,888 kB/s)\n",
            "Selecting previously unselected package libglew2.0:amd64.\n",
            "(Reading database ... 155653 files and directories currently installed.)\n",
            "Preparing to unpack .../00-libglew2.0_2.0.0-5_amd64.deb ...\n",
            "Unpacking libglew2.0:amd64 (2.0.0-5) ...\n",
            "Selecting previously unselected package libglew-dev:amd64.\n",
            "Preparing to unpack .../01-libglew-dev_2.0.0-5_amd64.deb ...\n",
            "Unpacking libglew-dev:amd64 (2.0.0-5) ...\n",
            "Selecting previously unselected package libglfw3:amd64.\n",
            "Preparing to unpack .../02-libglfw3_3.2.1-1_amd64.deb ...\n",
            "Unpacking libglfw3:amd64 (3.2.1-1) ...\n",
            "Selecting previously unselected package libglfw3-dev:amd64.\n",
            "Preparing to unpack .../03-libglfw3-dev_3.2.1-1_amd64.deb ...\n",
            "Unpacking libglfw3-dev:amd64 (3.2.1-1) ...\n",
            "Selecting previously unselected package libvulkan1:amd64.\n",
            "Preparing to unpack .../04-libvulkan1_1.1.126.0-2~gpu18.04.1_amd64.deb ...\n",
            "Unpacking libvulkan1:amd64 (1.1.126.0-2~gpu18.04.1) ...\n",
            "Selecting previously unselected package libvulkan-dev:amd64.\n",
            "Preparing to unpack .../05-libvulkan-dev_1.1.126.0-2~gpu18.04.1_amd64.deb ...\n",
            "Unpacking libvulkan-dev:amd64 (1.1.126.0-2~gpu18.04.1) ...\n",
            "Selecting previously unselected package libxcursor-dev:amd64.\n",
            "Preparing to unpack .../06-libxcursor-dev_1%3a1.1.15-1_amd64.deb ...\n",
            "Unpacking libxcursor-dev:amd64 (1:1.1.15-1) ...\n",
            "Selecting previously unselected package x11proto-xinerama-dev.\n",
            "Preparing to unpack .../07-x11proto-xinerama-dev_2018.4-4_all.deb ...\n",
            "Unpacking x11proto-xinerama-dev (2018.4-4) ...\n",
            "Selecting previously unselected package libxinerama-dev:amd64.\n",
            "Preparing to unpack .../08-libxinerama-dev_2%3a1.1.3-1_amd64.deb ...\n",
            "Unpacking libxinerama-dev:amd64 (2:1.1.3-1) ...\n",
            "Selecting previously unselected package x11proto-randr-dev.\n",
            "Preparing to unpack .../09-x11proto-randr-dev_2018.4-4_all.deb ...\n",
            "Unpacking x11proto-randr-dev (2018.4-4) ...\n",
            "Selecting previously unselected package libxrandr-dev:amd64.\n",
            "Preparing to unpack .../10-libxrandr-dev_2%3a1.5.1-1_amd64.deb ...\n",
            "Unpacking libxrandr-dev:amd64 (2:1.5.1-1) ...\n",
            "Selecting previously unselected package mesa-vulkan-drivers:amd64.\n",
            "Preparing to unpack .../11-mesa-vulkan-drivers_20.0.8-0ubuntu1~18.04.1_amd64.deb ...\n",
            "Unpacking mesa-vulkan-drivers:amd64 (20.0.8-0ubuntu1~18.04.1) ...\n",
            "Selecting previously unselected package python-pip-whl.\n",
            "Preparing to unpack .../12-python-pip-whl_9.0.1-2.3~ubuntu1.18.04.5_all.deb ...\n",
            "Unpacking python-pip-whl (9.0.1-2.3~ubuntu1.18.04.5) ...\n",
            "Selecting previously unselected package python3-asn1crypto.\n",
            "Preparing to unpack .../13-python3-asn1crypto_0.24.0-1_all.deb ...\n",
            "Unpacking python3-asn1crypto (0.24.0-1) ...\n",
            "Selecting previously unselected package python3-cffi-backend.\n",
            "Preparing to unpack .../14-python3-cffi-backend_1.11.5-1_amd64.deb ...\n",
            "Unpacking python3-cffi-backend (1.11.5-1) ...\n",
            "Selecting previously unselected package python3-crypto.\n",
            "Preparing to unpack .../15-python3-crypto_2.6.1-8ubuntu2_amd64.deb ...\n",
            "Unpacking python3-crypto (2.6.1-8ubuntu2) ...\n",
            "Selecting previously unselected package python3-idna.\n",
            "Preparing to unpack .../16-python3-idna_2.6-1_all.deb ...\n",
            "Unpacking python3-idna (2.6-1) ...\n",
            "Selecting previously unselected package python3-six.\n",
            "Preparing to unpack .../17-python3-six_1.11.0-2_all.deb ...\n",
            "Unpacking python3-six (1.11.0-2) ...\n",
            "Selecting previously unselected package python3-cryptography.\n",
            "Preparing to unpack .../18-python3-cryptography_2.1.4-1ubuntu1.4_amd64.deb ...\n",
            "Unpacking python3-cryptography (2.1.4-1ubuntu1.4) ...\n",
            "Selecting previously unselected package python3-secretstorage.\n",
            "Preparing to unpack .../19-python3-secretstorage_2.3.1-2_all.deb ...\n",
            "Unpacking python3-secretstorage (2.3.1-2) ...\n",
            "Selecting previously unselected package python3-keyring.\n",
            "Preparing to unpack .../20-python3-keyring_10.6.0-1_all.deb ...\n",
            "Unpacking python3-keyring (10.6.0-1) ...\n",
            "Selecting previously unselected package python3-keyrings.alt.\n",
            "Preparing to unpack .../21-python3-keyrings.alt_3.0-1_all.deb ...\n",
            "Unpacking python3-keyrings.alt (3.0-1) ...\n",
            "Selecting previously unselected package python3-pip.\n",
            "Preparing to unpack .../22-python3-pip_9.0.1-2.3~ubuntu1.18.04.5_all.deb ...\n",
            "Unpacking python3-pip (9.0.1-2.3~ubuntu1.18.04.5) ...\n",
            "Selecting previously unselected package python3-pkg-resources.\n",
            "Preparing to unpack .../23-python3-pkg-resources_39.0.1-2_all.deb ...\n",
            "Unpacking python3-pkg-resources (39.0.1-2) ...\n",
            "Selecting previously unselected package python3-setuptools.\n",
            "Preparing to unpack .../24-python3-setuptools_39.0.1-2_all.deb ...\n",
            "Unpacking python3-setuptools (39.0.1-2) ...\n",
            "Selecting previously unselected package python3-wheel.\n",
            "Preparing to unpack .../25-python3-wheel_0.30.0-0.2_all.deb ...\n",
            "Unpacking python3-wheel (0.30.0-0.2) ...\n",
            "Selecting previously unselected package python3-xdg.\n",
            "Preparing to unpack .../26-python3-xdg_0.25-4ubuntu1.1_all.deb ...\n",
            "Unpacking python3-xdg (0.25-4ubuntu1.1) ...\n",
            "Selecting previously unselected package libomp5:amd64.\n",
            "Preparing to unpack .../27-libomp5_5.0.1-1_amd64.deb ...\n",
            "Unpacking libomp5:amd64 (5.0.1-1) ...\n",
            "Selecting previously unselected package libomp-dev.\n",
            "Preparing to unpack .../28-libomp-dev_5.0.1-1_amd64.deb ...\n",
            "Unpacking libomp-dev (5.0.1-1) ...\n",
            "Setting up libvulkan1:amd64 (1.1.126.0-2~gpu18.04.1) ...\n",
            "Setting up python-pip-whl (9.0.1-2.3~ubuntu1.18.04.5) ...\n",
            "Setting up libxcursor-dev:amd64 (1:1.1.15-1) ...\n",
            "Setting up mesa-vulkan-drivers:amd64 (20.0.8-0ubuntu1~18.04.1) ...\n",
            "Setting up libomp5:amd64 (5.0.1-1) ...\n",
            "Setting up python3-cffi-backend (1.11.5-1) ...\n",
            "Setting up python3-crypto (2.6.1-8ubuntu2) ...\n",
            "Setting up libvulkan-dev:amd64 (1.1.126.0-2~gpu18.04.1) ...\n",
            "Setting up python3-idna (2.6-1) ...\n",
            "Setting up python3-xdg (0.25-4ubuntu1.1) ...\n",
            "Setting up libglfw3:amd64 (3.2.1-1) ...\n",
            "Setting up python3-six (1.11.0-2) ...\n",
            "Setting up python3-wheel (0.30.0-0.2) ...\n",
            "Setting up python3-pkg-resources (39.0.1-2) ...\n",
            "Setting up python3-asn1crypto (0.24.0-1) ...\n",
            "Setting up x11proto-xinerama-dev (2018.4-4) ...\n",
            "Setting up x11proto-randr-dev (2018.4-4) ...\n",
            "Setting up libxinerama-dev:amd64 (2:1.1.3-1) ...\n",
            "Setting up python3-pip (9.0.1-2.3~ubuntu1.18.04.5) ...\n",
            "Setting up libomp-dev (5.0.1-1) ...\n",
            "Setting up libglew2.0:amd64 (2.0.0-5) ...\n",
            "Setting up python3-setuptools (39.0.1-2) ...\n",
            "Setting up libglew-dev:amd64 (2.0.0-5) ...\n",
            "Setting up libglfw3-dev:amd64 (3.2.1-1) ...\n",
            "Setting up python3-cryptography (2.1.4-1ubuntu1.4) ...\n",
            "Setting up libxrandr-dev:amd64 (2:1.5.1-1) ...\n",
            "Setting up python3-keyrings.alt (3.0-1) ...\n",
            "Setting up python3-secretstorage (2.3.1-2) ...\n",
            "Setting up python3-keyring (10.6.0-1) ...\n",
            "Processing triggers for man-db (2.8.3-2ubuntu0.1) ...\n",
            "Processing triggers for libc-bin (2.27-3ubuntu1.3) ...\n",
            "/sbin/ldconfig.real: /usr/local/lib/python3.7/dist-packages/ideep4py/lib/libmkldnn.so.0 is not a symbolic link\n",
            "\n",
            "Looking in indexes: https://pypi.org/simple, https://us-python.pkg.dev/colab-wheels/public/simple/\n",
            "Requirement already satisfied: cmake in /usr/local/lib/python3.7/dist-packages (3.22.5)\n"
          ]
        }
      ],
      "source": [
        "!apt update && apt install build-essential git python3-dev python3-pip libopenexr-dev libxi-dev libglfw3-dev libglew-dev libomp-dev libxinerama-dev libxcursor-dev\n",
        "!pip install --upgrade cmake"
      ]
    },
    {
      "cell_type": "code",
      "source": [
        "from google.colab import drive\n",
        "drive.mount('/content/drive')"
      ],
      "metadata": {
        "id": "Y7wQacTRHYCp",
        "outputId": "a94269ea-78c0-44dc-da1b-d8a21e0a5225",
        "colab": {
          "base_uri": "https://localhost:8080/"
        }
      },
      "execution_count": 3,
      "outputs": [
        {
          "output_type": "stream",
          "name": "stdout",
          "text": [
            "Mounted at /content/drive\n"
          ]
        }
      ]
    },
    {
      "cell_type": "markdown",
      "source": [
        "# ***RUN***\n",
        "if rebuilding required for DIFFERENT GPU or CPU cores currently its [ 2 core(s)+TESLA T4 ] gpu composition"
      ],
      "metadata": {
        "id": "NAdJRyJHirIp"
      }
    },
    {
      "cell_type": "code",
      "source": [
        "%cd /content/drive/MyDrive/Colab\\ Notebooks/\n",
        "!git clone --recursive https://github.com/nvlabs/instant-ngp\n",
        "%cd instant-ngp\n",
        "!git pull\n",
        "!git submodule update"
      ],
      "metadata": {
        "id": "lJn_ZhDXHnjg"
      },
      "execution_count": null,
      "outputs": []
    },
    {
      "cell_type": "code",
      "execution_count": null,
      "metadata": {
        "id": "B7E55zXYc1gD"
      },
      "outputs": [],
      "source": [
        "%cd /content/drive/MyDrive/Colab\\ Notebooks/instant-ngp\n",
        "#%env TCNN_CUDA_ARCHITECTURES=75\n",
        "!cmake . -B build -DNGP_BUILD_WITH_GUI=OFF"
      ]
    },
    {
      "cell_type": "code",
      "execution_count": null,
      "metadata": {
        "id": "cpuhlQmJcDPJ"
      },
      "outputs": [],
      "source": [
        "%cd /content/drive/MyDrive/Colab\\ Notebooks/instant-ngp\n",
        "!cmake --build build --config RelWithDebInfo -j `nproc`"
      ]
    },
    {
      "cell_type": "markdown",
      "source": [
        "# ***RUN***\n",
        "from here after previously entering google drive"
      ],
      "metadata": {
        "id": "sytmwXQRiOy9"
      }
    },
    {
      "cell_type": "code",
      "execution_count": null,
      "metadata": {
        "id": "TRfrshaCdpY8",
        "outputId": "3f260938-127e-4a71-e10f-7d17067b4264",
        "colab": {
          "base_uri": "https://localhost:8080/"
        }
      },
      "outputs": [
        {
          "output_type": "stream",
          "name": "stdout",
          "text": [
            "/content/drive/MyDrive/Colab Notebooks/instant-ngp\n",
            "Looking in indexes: https://pypi.org/simple, https://us-python.pkg.dev/colab-wheels/public/simple/\n",
            "Collecting commentjson~=0.9.0\n",
            "  Downloading commentjson-0.9.0.tar.gz (8.7 kB)\n",
            "Collecting imageio~=2.16.0\n",
            "  Downloading imageio-2.16.2-py3-none-any.whl (3.3 MB)\n",
            "\u001b[K     |████████████████████████████████| 3.3 MB 37.5 MB/s \n",
            "\u001b[?25hRequirement already satisfied: numpy~=1.21.2 in /usr/local/lib/python3.7/dist-packages (from -r requirements.txt (line 3)) (1.21.6)\n",
            "Collecting pybind11~=2.7.1\n",
            "  Downloading pybind11-2.7.1-py2.py3-none-any.whl (200 kB)\n",
            "\u001b[K     |████████████████████████████████| 200 kB 64.6 MB/s \n",
            "\u001b[?25hRequirement already satisfied: scipy~=1.7.1 in /usr/local/lib/python3.7/dist-packages (from -r requirements.txt (line 5)) (1.7.3)\n",
            "Collecting tqdm~=4.62.2\n",
            "  Downloading tqdm-4.62.3-py2.py3-none-any.whl (76 kB)\n",
            "\u001b[K     |████████████████████████████████| 76 kB 4.9 MB/s \n",
            "\u001b[?25hCollecting opencv-python~=4.5.5.62\n",
            "  Downloading opencv_python-4.5.5.64-cp36-abi3-manylinux_2_17_x86_64.manylinux2014_x86_64.whl (60.5 MB)\n",
            "\u001b[K     |████████████████████████████████| 60.5 MB 1.2 MB/s \n",
            "\u001b[?25hCollecting lark-parser<0.8.0,>=0.7.1\n",
            "  Downloading lark-parser-0.7.8.tar.gz (276 kB)\n",
            "\u001b[K     |████████████████████████████████| 276 kB 71.4 MB/s \n",
            "\u001b[?25hCollecting pillow>=8.3.2\n",
            "  Downloading Pillow-9.2.0-cp37-cp37m-manylinux_2_17_x86_64.manylinux2014_x86_64.whl (3.1 MB)\n",
            "\u001b[K     |████████████████████████████████| 3.1 MB 58.1 MB/s \n",
            "\u001b[?25hBuilding wheels for collected packages: commentjson, lark-parser\n",
            "  Building wheel for commentjson (setup.py) ... \u001b[?25l\u001b[?25hdone\n",
            "  Created wheel for commentjson: filename=commentjson-0.9.0-py3-none-any.whl size=12092 sha256=250ac5ae41a4362e6664c7c03386f6ef7fcc4d6c73a4cb817b0869c4015a083c\n",
            "  Stored in directory: /root/.cache/pip/wheels/eb/bb/07/25a7f0718ee3fe137384011b8e56070f91cf950ee6047c287f\n",
            "  Building wheel for lark-parser (setup.py) ... \u001b[?25l\u001b[?25hdone\n",
            "  Created wheel for lark-parser: filename=lark_parser-0.7.8-py2.py3-none-any.whl size=62527 sha256=c635af46ce65ad394221a71b111e9149ed5a3ca24a45f877ab6ff9ea022c5f80\n",
            "  Stored in directory: /root/.cache/pip/wheels/92/e3/af/1dc0fdca93232d700ac176af6554cf22b85f3d7e8aeee5ac08\n",
            "Successfully built commentjson lark-parser\n",
            "Installing collected packages: pillow, lark-parser, tqdm, pybind11, opencv-python, imageio, commentjson\n",
            "  Attempting uninstall: pillow\n",
            "    Found existing installation: Pillow 7.1.2\n",
            "    Uninstalling Pillow-7.1.2:\n",
            "      Successfully uninstalled Pillow-7.1.2\n",
            "  Attempting uninstall: tqdm\n",
            "    Found existing installation: tqdm 4.64.0\n",
            "    Uninstalling tqdm-4.64.0:\n",
            "      Successfully uninstalled tqdm-4.64.0\n",
            "  Attempting uninstall: opencv-python\n",
            "    Found existing installation: opencv-python 4.6.0.66\n",
            "    Uninstalling opencv-python-4.6.0.66:\n",
            "      Successfully uninstalled opencv-python-4.6.0.66\n"
          ]
        }
      ],
      "source": [
        "%cd /content/drive/MyDrive/Colab\\ Notebooks/instant-ngp\n",
        "!pip3 install -r requirements.txt"
      ]
    },
    {
      "cell_type": "code",
      "source": [
        "!sudo apt-get install colmap ffmpeg"
      ],
      "metadata": {
        "id": "GKpM5mMfmOrL"
      },
      "execution_count": null,
      "outputs": []
    },
    {
      "cell_type": "code",
      "source": [
        "#%cd /content/drive/MyDrive/Colab\\ Notebooks/instant-ngp\n",
        "#!python scripts/run.py --scene fox --n_steps 200000 --load_snapshot fox100000.msgpack --save_snapshot fox200000.msgpack\n",
        "#%cd /content/drive/MyDrive/Colab\\ Notebooks/instant-ngp\n",
        "#!python scripts/run.py --scene fox --n_steps 100000 --load_snapshot fox100000.msgpack --save_mesh out300.ply --marching_cubes_res 300"
      ],
      "metadata": {
        "id": "H8t_s7uKPjtv"
      },
      "execution_count": null,
      "outputs": []
    },
    {
      "cell_type": "code",
      "execution_count": null,
      "metadata": {
        "id": "iBgasygW4QJ_"
      },
      "outputs": [],
      "source": [
        "#!./build/testbed --scene data/nerf/fox"
      ]
    },
    {
      "cell_type": "code",
      "source": [
        "#!wget https://video-downloads.googleusercontent.com/AJ1zp9McPi3F31KFS0gVwjmBFa0eE7y0TvxnSihtlz3gWr0A9Xk2sUupjYNNpnM552RbcDVwpx7t7Wv_mee0A1hblnrDSCgSTPTSFOo1yNYIZGf7VizbRDUBrkC11FpfijzkA19_S-JWBnWhqD2wlJLSZacI8-m6PkaFqCi1M-3O-xvPy4vX4lws53M1EhSaCH_Y5QKgs0Go5S9t2wRYgh_xpYSZO02FGyw49GHBhNcJ4KIoYyc_G34TdUb2RGSJeAE3afyiXAq8cRd8WGfLwGMxPhOEvqypWRuREnn3VTGX8ORN5R5zO8hPt7v7Wh1uBALX2dk-FLwkPBCLb_UfCj_bRQkLvS0DBJ3RH2CGgHLr95xAcBmyqP9nzV-u-xRyhjHkoGOPipgcdwK8Z_AezcT-a3GZ6cdyygYvWr0w_6HYBcB0ICwuD9f2SJEr1oNXghSei9Uld9hcPVs7uD0wveui6z8ifcQ19NjRKJ4xlKeblFnM8QYOFdtS2URpEYNLXUHadUi-uhWdAWwcqYDOqQQXUYJtJzGSB_jDFyhOHLi7ai52JTTc8zGL8BwR86e_xmcclrYNXTI3-pC1rod-pCiVfwW1-EC7rtj0hNHTIZA7VfZXBHR39JOjyDP_zOcnlh6Tdn51i5wwp-Mtk0SXbkrkkGYfiHb6wfQToZGWimv1W18tBzEA12kyPl_WLnCPNzSuRXWhTD2BaDgzHnG68Fx__XHW7BefOnPhvEVVMkpsAyYjxViiNWBMShxgW440WIAY3Hn0JuFLAecKJ0pXa520lfm_F2ekd-KVbH9Sq5DUw8fIzrBT9H4CO3LvXjIcf7-wRpuG45cr_vFz9bATntUBkF2a7DVs1cB5Z97V-YcnKlquef4e4N6gMnZopiFOkZ_kb1b7aZ1H5ScXy1bqfPi9r0q-7PoohTUYaHpvLlQE6aWf5fUkm82w_en6vHFXQAyx1YAXuvvj1upOHeCmwNd6FYLKLGCXMw?authuser=0 -O /content/drive/MyDrive/Colab\\ Notebooks/instant-ngp/data/nerf/test/m.mp4"
      ],
      "metadata": {
        "id": "aijHZB0zJwWB"
      },
      "execution_count": null,
      "outputs": []
    },
    {
      "cell_type": "code",
      "source": [
        "#%cd /content/drive/MyDrive/Colab\\ Notebooks/instant-ngp/data/nerf/test\n",
        "#!python /content/drive/MyDrive/Colab\\ Notebooks/instant-ngp/scripts/colmap2nerf.py \\\n",
        "#    --video_in m.mp4 \\\n",
        "#    --video_fps 2 \\\n",
        "#    --run_colmap \\\n",
        "#    --aabb_scale 16 \\\n",
        "#    --out /content/drive/MyDrive/Colab\\ Notebooks/instant-ngp/data/nerf/test"
      ],
      "metadata": {
        "id": "ZhdhumQiYno3"
      },
      "execution_count": null,
      "outputs": []
    },
    {
      "cell_type": "code",
      "source": [
        "%cd /content/drive/MyDrive/Colab\\ Notebooks/instant-ngp\n",
        "!python scripts/run.py \\\n",
        "    --mode nerf \\\n",
        "    --training_data /content/drive/MyDrive/Colab\\ Notebooks/instant-ngp/data/nerf/test \\\n",
        "    --n_steps 100000 \\\n",
        "    --save_snapshot fox200000.msgpack \\\n",
        "    --save_mesh out300.ply \\\n",
        "    --marching_cubes_res 300"
      ],
      "metadata": {
        "id": "3NeTLcHaZ9P7",
        "outputId": "31069a13-9d60-4f67-b8c8-5a2ddce72056",
        "colab": {
          "base_uri": "https://localhost:8080/"
        }
      },
      "execution_count": null,
      "outputs": [
        {
          "output_type": "stream",
          "name": "stdout",
          "text": [
            "Training: 100% 99996/100000 [43:41<00:00, 38.15step/s, loss=0.00715]\n",
            "Saving snapshot  fox200000.msgpack\n",
            "Generating mesh via marching cubes and saving to out300.ply. Resolution=[300,300,300]\n",
            "15:57:00 \u001b[0;36mINFO     \u001b[0m#vertices=1018772 #triangles=1685162\u001b[K\u001b[0m\n",
            "\u001b[0m"
          ]
        }
      ]
    },
    {
      "cell_type": "code",
      "source": [
        "%cd /content/drive/MyDrive/Colab\\ Notebooks/instant-ngp\n",
        "!python scripts/run.py \\\n",
        "    --mode nerf \\\n",
        "    --training_data /content/drive/MyDrive/Colab\\ Notebooks/instant-ngp/data/nerf/test \\\n",
        "    --n_steps 100000 \\\n",
        "    --load_snapshot fox200000.msgpack \\\n",
        "    --save_mesh out700.ply \\\n",
        "    --marching_cubes_res 700 \\\n",
        "    --video_camera_path \"\"\\\n",
        "    --video_output k.mp4"
      ],
      "metadata": {
        "colab": {
          "base_uri": "https://localhost:8080/"
        },
        "id": "0eI7J8SWqSWo",
        "outputId": "4ac02668-c170-4038-9c9b-a16917f25c55"
      },
      "execution_count": null,
      "outputs": [
        {
          "output_type": "stream",
          "name": "stdout",
          "text": [
            "/content/drive/MyDrive/Colab Notebooks/instant-ngp\n",
            "\u001b[0m16:12:59 \u001b[0;36mINFO     \u001b[0mLoading NeRF dataset from\u001b[K\u001b[0m\n",
            "16:12:59 \u001b[0;36mINFO     \u001b[0m  /content/drive/MyDrive/Colab Notebooks/instant-ngp/data/nerf/test/transforms.json\u001b[K\u001b[0m\n",
            "16:12:59 \u001b[0;34mPROGRESS \u001b[0m[]   0% (  0/142)  0s/inf\u001b[K\u001b[0m\u001b[0G16:12:59 \u001b[0;34mPROGRESS \u001b[0m[]   1% (  1/142)  0s/12s\u001b[K\u001b[0m\u001b[0G16:12:59 \u001b[0;34mPROGRESS \u001b[0m[]   1% (  2/142) 0s/8s\u001b[K\u001b[0m\u001b[0G16:12:59 \u001b[0;34mPROGRESS \u001b[0m[]   2% (  3/142) 0s/8s\u001b[K\u001b[0m\u001b[0G16:12:59 \u001b[0;34mPROGRESS \u001b[0m[]   3% (  4/142) 0s/8s\u001b[K\u001b[0m\u001b[0G16:12:59 \u001b[0;34mPROGRESS \u001b[0m[]   4% (  5/142) 0s/8s\u001b[K\u001b[0m\u001b[0G16:12:59 \u001b[0;34mPROGRESS \u001b[0m[]   4% (  6/142) 0s/8s\u001b[K\u001b[0m\u001b[0G16:12:59 \u001b[0;34mPROGRESS \u001b[0m[]   5% (  7/142) 0s/8s\u001b[K\u001b[0m\u001b[0G16:12:59 \u001b[0;34mPROGRESS \u001b[0m[]   6% (  8/142) 0s/8s\u001b[K\u001b[0m\u001b[0G16:12:59 \u001b[0;34mPROGRESS \u001b[0m[]   6% (  9/142) 0s/8s\u001b[K\u001b[0m\u001b[0G16:13:00 \u001b[0;34mPROGRESS \u001b[0m[]   7% ( 10/142) 0s/8s\u001b[K\u001b[0m\u001b[0G16:13:00 \u001b[0;34mPROGRESS \u001b[0m[]   8% ( 11/142) 0s/8s\u001b[K\u001b[0m\u001b[0G16:13:00 \u001b[0;34mPROGRESS \u001b[0m[]   8% ( 12/142) 0s/8s\u001b[K\u001b[0m\u001b[0G16:13:00 \u001b[0;34mPROGRESS \u001b[0m[]   9% ( 13/142) 0s/8s\u001b[K\u001b[0m\u001b[0G16:13:00 \u001b[0;34mPROGRESS \u001b[0m[]  10% ( 14/142) 0s/8s\u001b[K\u001b[0m\u001b[0G16:13:00 \u001b[0;34mPROGRESS \u001b[0m[]  11% ( 15/142) 0s/8s\u001b[K\u001b[0m\u001b[0G16:13:00 \u001b[0;34mPROGRESS \u001b[0m[]  11% ( 16/142) 0s/8s\u001b[K\u001b[0m\u001b[0G16:13:00 \u001b[0;34mPROGRESS \u001b[0m[]  12% ( 17/142) 1s/8s\u001b[K\u001b[0m\u001b[0G16:13:00 \u001b[0;34mPROGRESS \u001b[0m[]  13% ( 18/142) 1s/8s\u001b[K\u001b[0m\u001b[0G16:13:00 \u001b[0;34mPROGRESS \u001b[0m[]  13% ( 19/142) 1s/8s\u001b[K\u001b[0m\u001b[0G16:13:00 \u001b[0;34mPROGRESS \u001b[0m[]  14% ( 20/142) 1s/8s\u001b[K\u001b[0m\u001b[0G16:13:00 \u001b[0;34mPROGRESS \u001b[0m[]  15% ( 21/142) 1s/8s\u001b[K\u001b[0m\u001b[0G16:13:00 \u001b[0;34mPROGRESS \u001b[0m[]  15% ( 22/142) 1s/8s\u001b[K\u001b[0m\u001b[0G16:13:00 \u001b[0;34mPROGRESS \u001b[0m[]  16% ( 23/142) 1s/8s\u001b[K\u001b[0m\u001b[0G16:13:00 \u001b[0;34mPROGRESS \u001b[0m[]  17% ( 24/142) 1s/8s\u001b[K\u001b[0m\u001b[0G16:13:00 \u001b[0;34mPROGRESS \u001b[0m[]  18% ( 25/142) 1s/8s\u001b[K\u001b[0m\u001b[0G16:13:00 \u001b[0;34mPROGRESS \u001b[0m[]  18% ( 26/142) 1s/8s\u001b[K\u001b[0m\u001b[0G16:13:01 \u001b[0;34mPROGRESS \u001b[0m[]  19% ( 27/142) 1s/8s\u001b[K\u001b[0m\u001b[0G16:13:01 \u001b[0;34mPROGRESS \u001b[0m[]  20% ( 28/142) 1s/8s\u001b[K\u001b[0m\u001b[0G16:13:01 \u001b[0;34mPROGRESS \u001b[0m[]  20% ( 29/142) 1s/8s\u001b[K\u001b[0m\u001b[0G16:13:01 \u001b[0;34mPROGRESS \u001b[0m[]  21% ( 30/142) 1s/8s\u001b[K\u001b[0m\u001b[0G16:13:01 \u001b[0;34mPROGRESS \u001b[0m[]  22% ( 31/142) 1s/8s\u001b[K\u001b[0m\u001b[0G16:13:01 \u001b[0;34mPROGRESS \u001b[0m[]  23% ( 32/142) 1s/8s\u001b[K\u001b[0m\u001b[0G16:13:01 \u001b[0;34mPROGRESS \u001b[0m[]  23% ( 33/142) 1s/8s\u001b[K\u001b[0m\u001b[0G16:13:01 \u001b[0;34mPROGRESS \u001b[0m[]  24% ( 34/142) 2s/8s\u001b[K\u001b[0m\u001b[0G16:13:01 \u001b[0;34mPROGRESS \u001b[0m[]  25% ( 35/142) 2s/8s\u001b[K\u001b[0m\u001b[0G16:13:01 \u001b[0;34mPROGRESS \u001b[0m[]  25% ( 36/142) 2s/8s\u001b[K\u001b[0m\u001b[0G16:13:01 \u001b[0;34mPROGRESS \u001b[0m[]  26% ( 37/142) 2s/8s\u001b[K\u001b[0m\u001b[0G16:13:01 \u001b[0;34mPROGRESS \u001b[0m[]  27% ( 38/142) 2s/8s\u001b[K\u001b[0m\u001b[0G16:13:01 \u001b[0;34mPROGRESS \u001b[0m[]  27% ( 39/142) 2s/8s\u001b[K\u001b[0m\u001b[0G16:13:01 \u001b[0;34mPROGRESS \u001b[0m[]  28% ( 40/142) 2s/8s\u001b[K\u001b[0m\u001b[0G16:13:01 \u001b[0;34mPROGRESS \u001b[0m[]  29% ( 41/142) 2s/8s\u001b[K\u001b[0m\u001b[0G16:13:01 \u001b[0;34mPROGRESS \u001b[0m[]  30% ( 42/142) 2s/8s\u001b[K\u001b[0m\u001b[0G16:13:01 \u001b[0;34mPROGRESS \u001b[0m[]  30% ( 43/142) 2s/8s\u001b[K\u001b[0m\u001b[0G16:13:02 \u001b[0;34mPROGRESS \u001b[0m[]  31% ( 44/142) 2s/8s\u001b[K\u001b[0m\u001b[0G16:13:02 \u001b[0;34mPROGRESS \u001b[0m[]  32% ( 45/142) 2s/8s\u001b[K\u001b[0m\u001b[0G16:13:02 \u001b[0;34mPROGRESS \u001b[0m[]  32% ( 46/142) 2s/8s\u001b[K\u001b[0m\u001b[0G16:13:02 \u001b[0;34mPROGRESS \u001b[0m[]  33% ( 47/142) 2s/8s\u001b[K\u001b[0m\u001b[0G16:13:02 \u001b[0;34mPROGRESS \u001b[0m[]  34% ( 48/142) 2s/8s\u001b[K\u001b[0m\u001b[0G16:13:02 \u001b[0;34mPROGRESS \u001b[0m[]  35% ( 49/142) 2s/8s\u001b[K\u001b[0m\u001b[0G16:13:02 \u001b[0;34mPROGRESS \u001b[0m[]  35% ( 50/142) 2s/8s\u001b[K\u001b[0m\u001b[0G16:13:02 \u001b[0;34mPROGRESS \u001b[0m[]  36% ( 51/142) 2s/8s\u001b[K\u001b[0m\u001b[0G16:13:02 \u001b[0;34mPROGRESS \u001b[0m[]  37% ( 52/142) 3s/8s\u001b[K\u001b[0m\u001b[0G16:13:02 \u001b[0;34mPROGRESS \u001b[0m[]  37% ( 53/142) 3s/8s\u001b[K\u001b[0m\u001b[0G16:13:02 \u001b[0;34mPROGRESS \u001b[0m[]  38% ( 54/142) 3s/8s\u001b[K\u001b[0m\u001b[0G16:13:02 \u001b[0;34mPROGRESS \u001b[0m[]  39% ( 55/142) 3s/8s\u001b[K\u001b[0m\u001b[0G16:13:02 \u001b[0;34mPROGRESS \u001b[0m[]  39% ( 56/142) 3s/8s\u001b[K\u001b[0m\u001b[0G16:13:02 \u001b[0;34mPROGRESS \u001b[0m[]  40% ( 57/142) 3s/8s\u001b[K\u001b[0m\u001b[0G16:13:02 \u001b[0;34mPROGRESS \u001b[0m[]  41% ( 58/142) 3s/8s\u001b[K\u001b[0m\u001b[0G16:13:02 \u001b[0;34mPROGRESS \u001b[0m[]  42% ( 59/142) 3s/8s\u001b[K\u001b[0m\u001b[0G16:13:02 \u001b[0;34mPROGRESS \u001b[0m[]  42% ( 60/142) 3s/8s\u001b[K\u001b[0m\u001b[0G16:13:03 \u001b[0;34mPROGRESS \u001b[0m[]  43% ( 61/142) 3s/8s\u001b[K\u001b[0m\u001b[0G16:13:03 \u001b[0;34mPROGRESS \u001b[0m[]  44% ( 62/142) 3s/8s\u001b[K\u001b[0m\u001b[0G16:13:03 \u001b[0;34mPROGRESS \u001b[0m[]  44% ( 63/142) 3s/8s\u001b[K\u001b[0m\u001b[0G16:13:03 \u001b[0;34mPROGRESS \u001b[0m[]  45% ( 64/142) 3s/8s\u001b[K\u001b[0m\u001b[0G16:13:03 \u001b[0;34mPROGRESS \u001b[0m[]  46% ( 65/142) 3s/8s\u001b[K\u001b[0m\u001b[0G16:13:03 \u001b[0;34mPROGRESS \u001b[0m[]  46% ( 66/142) 3s/8s\u001b[K\u001b[0m\u001b[0G16:13:03 \u001b[0;34mPROGRESS \u001b[0m[]  47% ( 67/142) 3s/8s\u001b[K\u001b[0m\u001b[0G16:13:03 \u001b[0;34mPROGRESS \u001b[0m[]  48% ( 68/142) 3s/8s\u001b[K\u001b[0m\u001b[0G16:13:03 \u001b[0;34mPROGRESS \u001b[0m[]  49% ( 69/142) 4s/8s\u001b[K\u001b[0m\u001b[0G16:13:03 \u001b[0;34mPROGRESS \u001b[0m[]  49% ( 70/142) 4s/8s\u001b[K\u001b[0m\u001b[0G16:13:03 \u001b[0;34mPROGRESS \u001b[0m[]  50% ( 71/142) 4s/8s\u001b[K\u001b[0m\u001b[0G16:13:03 \u001b[0;34mPROGRESS \u001b[0m[]  51% ( 72/142) 4s/8s\u001b[K\u001b[0m\u001b[0G16:13:03 \u001b[0;34mPROGRESS \u001b[0m[]  51% ( 73/142) 4s/8s\u001b[K\u001b[0m\u001b[0G16:13:03 \u001b[0;34mPROGRESS \u001b[0m[]  52% ( 74/142) 4s/8s\u001b[K\u001b[0m\u001b[0G16:13:03 \u001b[0;34mPROGRESS \u001b[0m[]  53% ( 75/142) 4s/8s\u001b[K\u001b[0m\u001b[0G16:13:03 \u001b[0;34mPROGRESS \u001b[0m[]  54% ( 76/142) 4s/8s\u001b[K\u001b[0m\u001b[0G16:13:03 \u001b[0;34mPROGRESS \u001b[0m[]  54% ( 77/142) 4s/8s\u001b[K\u001b[0m\u001b[0G16:13:04 \u001b[0;34mPROGRESS \u001b[0m[]  55% ( 78/142) 4s/8s\u001b[K\u001b[0m\u001b[0G16:13:04 \u001b[0;34mPROGRESS \u001b[0m[]  56% ( 79/142) 4s/8s\u001b[K\u001b[0m\u001b[0G16:13:04 \u001b[0;34mPROGRESS \u001b[0m[]  56% ( 80/142) 4s/8s\u001b[K\u001b[0m\u001b[0G16:13:04 \u001b[0;34mPROGRESS \u001b[0m[]  57% ( 81/142) 4s/8s\u001b[K\u001b[0m\u001b[0G16:13:04 \u001b[0;34mPROGRESS \u001b[0m[]  58% ( 82/142) 4s/8s\u001b[K\u001b[0m\u001b[0G16:13:04 \u001b[0;34mPROGRESS \u001b[0m[]  58% ( 83/142) 4s/8s\u001b[K\u001b[0m\u001b[0G16:13:04 \u001b[0;34mPROGRESS \u001b[0m[]  59% ( 84/142) 4s/8s\u001b[K\u001b[0m\u001b[0G16:13:04 \u001b[0;34mPROGRESS \u001b[0m[]  60% ( 85/142) 5s/8s\u001b[K\u001b[0m\u001b[0G16:13:04 \u001b[0;34mPROGRESS \u001b[0m[]  61% ( 86/142) 5s/8s\u001b[K\u001b[0m\u001b[0G16:13:04 \u001b[0;34mPROGRESS \u001b[0m[]  61% ( 87/142) 5s/8s\u001b[K\u001b[0m\u001b[0G16:13:04 \u001b[0;34mPROGRESS \u001b[0m[]  62% ( 88/142) 5s/8s\u001b[K\u001b[0m\u001b[0G16:13:04 \u001b[0;34mPROGRESS \u001b[0m[]  63% ( 89/142) 5s/8s\u001b[K\u001b[0m\u001b[0G16:13:04 \u001b[0;34mPROGRESS \u001b[0m[]  63% ( 90/142) 5s/8s\u001b[K\u001b[0m\u001b[0G16:13:04 \u001b[0;34mPROGRESS \u001b[0m[]  64% ( 91/142) 5s/8s\u001b[K\u001b[0m\u001b[0G16:13:04 \u001b[0;34mPROGRESS \u001b[0m[]  65% ( 92/142) 5s/8s\u001b[K\u001b[0m\u001b[0G16:13:04 \u001b[0;34mPROGRESS \u001b[0m[]  65% ( 93/142) 5s/8s\u001b[K\u001b[0m\u001b[0G16:13:05 \u001b[0;34mPROGRESS \u001b[0m[]  66% ( 94/142) 5s/8s\u001b[K\u001b[0m\u001b[0G16:13:05 \u001b[0;34mPROGRESS \u001b[0m[]  67% ( 95/142) 5s/8s\u001b[K\u001b[0m\u001b[0G16:13:05 \u001b[0;34mPROGRESS \u001b[0m[]  68% ( 96/142) 5s/8s\u001b[K\u001b[0m\u001b[0G16:13:05 \u001b[0;34mPROGRESS \u001b[0m[]  68% ( 97/142) 5s/8s\u001b[K\u001b[0m\u001b[0G16:13:05 \u001b[0;34mPROGRESS \u001b[0m[]  69% ( 98/142) 5s/8s\u001b[K\u001b[0m\u001b[0G16:13:05 \u001b[0;34mPROGRESS \u001b[0m[]  70% ( 99/142) 5s/8s\u001b[K\u001b[0m\u001b[0G16:13:05 \u001b[0;34mPROGRESS \u001b[0m[]  70% (100/142) 5s/8s\u001b[K\u001b[0m\u001b[0G16:13:05 \u001b[0;34mPROGRESS \u001b[0m[]  71% (101/142) 5s/8s\u001b[K\u001b[0m\u001b[0G16:13:05 \u001b[0;34mPROGRESS \u001b[0m[]  72% (102/142) 6s/8s\u001b[K\u001b[0m\u001b[0G16:13:05 \u001b[0;34mPROGRESS \u001b[0m[]  73% (103/142) 6s/8s\u001b[K\u001b[0m\u001b[0G16:13:05 \u001b[0;34mPROGRESS \u001b[0m[]  73% (104/142) 6s/8s\u001b[K\u001b[0m\u001b[0G16:13:05 \u001b[0;34mPROGRESS \u001b[0m[]  74% (105/142) 6s/8s\u001b[K\u001b[0m\u001b[0G16:13:05 \u001b[0;34mPROGRESS \u001b[0m[]  75% (106/142) 6s/8s\u001b[K\u001b[0m\u001b[0G16:13:05 \u001b[0;34mPROGRESS \u001b[0m[]  75% (107/142) 6s/8s\u001b[K\u001b[0m\u001b[0G16:13:05 \u001b[0;34mPROGRESS \u001b[0m[]  76% (108/142) 6s/8s\u001b[K\u001b[0m\u001b[0G16:13:05 \u001b[0;34mPROGRESS \u001b[0m[]  77% (109/142) 6s/8s\u001b[K\u001b[0m\u001b[0G16:13:05 \u001b[0;34mPROGRESS \u001b[0m[]  77% (110/142) 6s/8s\u001b[K\u001b[0m\u001b[0G16:13:06 \u001b[0;34mPROGRESS \u001b[0m[]  78% (111/142) 6s/8s\u001b[K\u001b[0m\u001b[0G16:13:06 \u001b[0;34mPROGRESS \u001b[0m[]  79% (112/142) 6s/8s\u001b[K\u001b[0m\u001b[0G16:13:06 \u001b[0;34mPROGRESS \u001b[0m[]  80% (113/142) 6s/8s\u001b[K\u001b[0m\u001b[0G16:13:06 \u001b[0;34mPROGRESS \u001b[0m[]  80% (114/142) 6s/8s\u001b[K\u001b[0m\u001b[0G16:13:06 \u001b[0;34mPROGRESS \u001b[0m[]  81% (115/142) 6s/8s\u001b[K\u001b[0m\u001b[0G16:13:06 \u001b[0;34mPROGRESS \u001b[0m[]  82% (116/142) 6s/8s\u001b[K\u001b[0m\u001b[0G16:13:06 \u001b[0;34mPROGRESS \u001b[0m[]  82% (117/142) 6s/8s\u001b[K\u001b[0m\u001b[0G16:13:06 \u001b[0;34mPROGRESS \u001b[0m[]  83% (118/142) 7s/8s\u001b[K\u001b[0m\u001b[0G16:13:06 \u001b[0;34mPROGRESS \u001b[0m[]  84% (119/142) 7s/8s\u001b[K\u001b[0m\u001b[0G16:13:06 \u001b[0;34mPROGRESS \u001b[0m[]  85% (120/142) 7s/8s\u001b[K\u001b[0m\u001b[0G16:13:06 \u001b[0;34mPROGRESS \u001b[0m[]  85% (121/142) 7s/8s\u001b[K\u001b[0m\u001b[0G16:13:06 \u001b[0;34mPROGRESS \u001b[0m[]  86% (122/142) 7s/8s\u001b[K\u001b[0m\u001b[0G16:13:06 \u001b[0;34mPROGRESS \u001b[0m[]  87% (123/142) 7s/8s\u001b[K\u001b[0m\u001b[0G16:13:06 \u001b[0;34mPROGRESS \u001b[0m[]  87% (124/142) 7s/8s\u001b[K\u001b[0m\u001b[0G16:13:06 \u001b[0;34mPROGRESS \u001b[0m[]  88% (125/142) 7s/8s\u001b[K\u001b[0m\u001b[0G16:13:06 \u001b[0;34mPROGRESS \u001b[0m[]  89% (126/142) 7s/8s\u001b[K\u001b[0m\u001b[0G16:13:07 \u001b[0;34mPROGRESS \u001b[0m[]  89% (127/142) 7s/8s\u001b[K\u001b[0m\u001b[0G16:13:07 \u001b[0;34mPROGRESS \u001b[0m[]  90% (128/142) 7s/8s\u001b[K\u001b[0m\u001b[0G16:13:07 \u001b[0;34mPROGRESS \u001b[0m[]  91% (129/142) 7s/8s\u001b[K\u001b[0m\u001b[0G16:13:07 \u001b[0;34mPROGRESS \u001b[0m[]  92% (130/142) 7s/8s\u001b[K\u001b[0m\u001b[0G16:13:07 \u001b[0;34mPROGRESS \u001b[0m[]  92% (131/142) 7s/8s\u001b[K\u001b[0m\u001b[0G16:13:07 \u001b[0;34mPROGRESS \u001b[0m[]  93% (132/142) 7s/8s\u001b[K\u001b[0m\u001b[0G16:13:07 \u001b[0;34mPROGRESS \u001b[0m[]  94% (133/142) 7s/8s\u001b[K\u001b[0m\u001b[0G16:13:07 \u001b[0;34mPROGRESS \u001b[0m[]  94% (134/142) 7s/8s\u001b[K\u001b[0m\u001b[0G16:13:07 \u001b[0;34mPROGRESS \u001b[0m[]  95% (135/142) 8s/8s\u001b[K\u001b[0m\u001b[0G16:13:07 \u001b[0;34mPROGRESS \u001b[0m[]  96% (136/142) 8s/8s\u001b[K\u001b[0m\u001b[0G16:13:07 \u001b[0;34mPROGRESS \u001b[0m[]  96% (137/142) 8s/8s\u001b[K\u001b[0m\u001b[0G16:13:07 \u001b[0;34mPROGRESS \u001b[0m[]  97% (138/142) 8s/8s\u001b[K\u001b[0m\u001b[0G16:13:07 \u001b[0;34mPROGRESS \u001b[0m[]  98% (139/142) 8s/8s\u001b[K\u001b[0m\u001b[0G16:13:07 \u001b[0;34mPROGRESS \u001b[0m[]  99% (140/142) 8s/8s\u001b[K\u001b[0m\u001b[0G16:13:07 \u001b[0;34mPROGRESS \u001b[0m[]  99% (141/142) 8s/8s\u001b[K\u001b[0m\u001b[0G16:13:07 \u001b[0;34mPROGRESS \u001b[0m[] 100% (142/142) 8s/8s\u001b[K\u001b[0m\u001b[0G16:13:07 \u001b[0;32mSUCCESS  \u001b[0mLoaded 142 images after 8s\u001b[K\u001b[0m\n",
            "16:13:07 \u001b[0;36mINFO     \u001b[0m  cam_aabb=[min=[-1.93026,0.392116,0.435864], max=[2.41495,1.69888,0.716924]]\u001b[K\u001b[0m\n",
            "Loading snapshot  fox200000.msgpack\n",
            "16:13:11 \u001b[0;36mINFO     \u001b[0mLoading network config from: fox200000.msgpack\u001b[K\u001b[0m\n",
            "16:13:11 \u001b[0;36mINFO     \u001b[0mGridEncoding:  Nmin=16 b=1.66248 F=2 T=2^19 L=16\u001b[K\u001b[0m\n",
            "16:13:11 \u001b[0;36mINFO     \u001b[0mDensity model: 3--[HashGrid]-->32--[FullyFusedMLP(neurons=64,layers=3)]-->1\u001b[K\u001b[0m\n",
            "16:13:11 \u001b[0;36mINFO     \u001b[0mColor model:   3--[Composite]-->16+16--[FullyFusedMLP(neurons=64,layers=4)]-->3\u001b[K\u001b[0m\n",
            "16:13:11 \u001b[0;36mINFO     \u001b[0m  total_encoding_params=13623184 total_network_params=10240\u001b[K\u001b[0m\n",
            "Training:   0% 0/100000 [00:00<?, ?step/s]\n",
            "Generating mesh via marching cubes and saving to out700.ply. Resolution=[700,700,700]\n",
            "16:13:14 \u001b[0;36mINFO     \u001b[0m#vertices=12811356 #triangles=21871668\u001b[K\u001b[0m\n",
            "\u001b[0m"
          ]
        }
      ]
    },
    {
      "cell_type": "code",
      "source": [
        "%cd /content/drive/MyDrive/Colab\\ Notebooks/instant-ngp\n",
        "!./build/testbed --scene /data/nerf/test"
      ],
      "metadata": {
        "colab": {
          "base_uri": "https://localhost:8080/"
        },
        "id": "Sd1lhx_reFlm",
        "outputId": "3b13de7c-81c6-4e53-bd1e-877f3f389a5d"
      },
      "execution_count": null,
      "outputs": [
        {
          "output_type": "stream",
          "name": "stdout",
          "text": [
            "/content/drive/MyDrive/Colab Notebooks/instant-ngp\n",
            "/bin/bash: ./build/testbed: Permission denied\n"
          ]
        }
      ]
    },
    {
      "cell_type": "code",
      "source": [
        ""
      ],
      "metadata": {
        "id": "1v1OFv7Vjd5j"
      },
      "execution_count": null,
      "outputs": []
    }
  ],
  "metadata": {
    "colab": {
      "collapsed_sections": [],
      "name": "Copy of instant_ngp.ipynb",
      "provenance": [],
      "include_colab_link": true
    },
    "kernelspec": {
      "display_name": "Python 3",
      "name": "python3"
    },
    "language_info": {
      "name": "python"
    },
    "accelerator": "GPU"
  },
  "nbformat": 4,
  "nbformat_minor": 0
}