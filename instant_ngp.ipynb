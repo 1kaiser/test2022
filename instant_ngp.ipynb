{
  "cells": [
    {
      "cell_type": "markdown",
      "metadata": {
        "id": "view-in-github",
        "colab_type": "text"
      },
      "source": [
        "<a href=\"https://colab.research.google.com/github/1kaiser/test2022/blob/main/instant_ngp.ipynb\" target=\"_parent\"><img src=\"https://colab.research.google.com/assets/colab-badge.svg\" alt=\"Open In Colab\"/></a>"
      ]
    },
    {
      "cell_type": "code",
      "execution_count": null,
      "metadata": {
        "id": "QJC-0GitoJEh"
      },
      "outputs": [],
      "source": [
        "!nvidia-smi"
      ]
    },
    {
      "cell_type": "code",
      "execution_count": null,
      "metadata": {
        "id": "yKFsL8wSdQ8Q"
      },
      "outputs": [],
      "source": [
        "!apt update && apt install build-essential git python3-dev python3-pip libopenexr-dev libxi-dev libglfw3-dev libglew-dev libomp-dev libxinerama-dev libxcursor-dev\n",
        "!pip install --upgrade cmake"
      ]
    },
    {
      "cell_type": "code",
      "source": [
        "from google.colab import drive\n",
        "drive.mount('/content/drive')"
      ],
      "metadata": {
        "id": "Y7wQacTRHYCp"
      },
      "execution_count": null,
      "outputs": []
    },
    {
      "cell_type": "markdown",
      "source": [
        "# ***RUN***\n",
        "if rebuilding required for DIFFERENT GPU or CPU cores currently its [ 2 core(s)+TESLA T4 ] gpu composition"
      ],
      "metadata": {
        "id": "NAdJRyJHirIp"
      }
    },
    {
      "cell_type": "code",
      "source": [
        "%cd /content/drive/MyDrive/Colab\\ Notebooks/\n",
        "!git clone --recursive https://github.com/nvlabs/instant-ngp\n",
        "%cd instant-ngp\n",
        "!git pull\n",
        "!git submodule update"
      ],
      "metadata": {
        "id": "lJn_ZhDXHnjg"
      },
      "execution_count": null,
      "outputs": []
    },
    {
      "cell_type": "code",
      "execution_count": null,
      "metadata": {
        "id": "B7E55zXYc1gD"
      },
      "outputs": [],
      "source": [
        "%cd /content/drive/MyDrive/Colab\\ Notebooks/instant-ngp\n",
        "#%env TCNN_CUDA_ARCHITECTURES=75\n",
        "!cmake . -B build -DNGP_BUILD_WITH_GUI=OFF"
      ]
    },
    {
      "cell_type": "code",
      "execution_count": null,
      "metadata": {
        "id": "cpuhlQmJcDPJ"
      },
      "outputs": [],
      "source": [
        "%cd /content/drive/MyDrive/Colab\\ Notebooks/instant-ngp\n",
        "!cmake --build build --config RelWithDebInfo -j `nproc`"
      ]
    },
    {
      "cell_type": "markdown",
      "source": [
        "# ***RUN***\n",
        "from here after previously entering google drive"
      ],
      "metadata": {
        "id": "sytmwXQRiOy9"
      }
    },
    {
      "cell_type": "code",
      "execution_count": null,
      "metadata": {
        "id": "TRfrshaCdpY8"
      },
      "outputs": [],
      "source": [
        "!pip3 install -r requirements.txt"
      ]
    },
    {
      "cell_type": "code",
      "source": [
        "!sudo apt-get install colmap ffmpeg"
      ],
      "metadata": {
        "id": "GKpM5mMfmOrL"
      },
      "execution_count": null,
      "outputs": []
    },
    {
      "cell_type": "code",
      "source": [
        "#%cd /content/drive/MyDrive/Colab\\ Notebooks/instant-ngp\n",
        "#!python scripts/run.py --scene fox --n_steps 200000 --load_snapshot fox100000.msgpack --save_snapshot fox200000.msgpack\n",
        "#%cd /content/drive/MyDrive/Colab\\ Notebooks/instant-ngp\n",
        "#!python scripts/run.py --scene fox --n_steps 100000 --load_snapshot fox100000.msgpack --save_mesh out300.ply --marching_cubes_res 300"
      ],
      "metadata": {
        "id": "H8t_s7uKPjtv"
      },
      "execution_count": null,
      "outputs": []
    },
    {
      "cell_type": "code",
      "execution_count": null,
      "metadata": {
        "id": "iBgasygW4QJ_"
      },
      "outputs": [],
      "source": [
        "#!./build/testbed --scene data/nerf/fox"
      ]
    },
    {
      "cell_type": "code",
      "source": [
        "#!wget https://video-downloads.googleusercontent.com/AJ1zp9McPi3F31KFS0gVwjmBFa0eE7y0TvxnSihtlz3gWr0A9Xk2sUupjYNNpnM552RbcDVwpx7t7Wv_mee0A1hblnrDSCgSTPTSFOo1yNYIZGf7VizbRDUBrkC11FpfijzkA19_S-JWBnWhqD2wlJLSZacI8-m6PkaFqCi1M-3O-xvPy4vX4lws53M1EhSaCH_Y5QKgs0Go5S9t2wRYgh_xpYSZO02FGyw49GHBhNcJ4KIoYyc_G34TdUb2RGSJeAE3afyiXAq8cRd8WGfLwGMxPhOEvqypWRuREnn3VTGX8ORN5R5zO8hPt7v7Wh1uBALX2dk-FLwkPBCLb_UfCj_bRQkLvS0DBJ3RH2CGgHLr95xAcBmyqP9nzV-u-xRyhjHkoGOPipgcdwK8Z_AezcT-a3GZ6cdyygYvWr0w_6HYBcB0ICwuD9f2SJEr1oNXghSei9Uld9hcPVs7uD0wveui6z8ifcQ19NjRKJ4xlKeblFnM8QYOFdtS2URpEYNLXUHadUi-uhWdAWwcqYDOqQQXUYJtJzGSB_jDFyhOHLi7ai52JTTc8zGL8BwR86e_xmcclrYNXTI3-pC1rod-pCiVfwW1-EC7rtj0hNHTIZA7VfZXBHR39JOjyDP_zOcnlh6Tdn51i5wwp-Mtk0SXbkrkkGYfiHb6wfQToZGWimv1W18tBzEA12kyPl_WLnCPNzSuRXWhTD2BaDgzHnG68Fx__XHW7BefOnPhvEVVMkpsAyYjxViiNWBMShxgW440WIAY3Hn0JuFLAecKJ0pXa520lfm_F2ekd-KVbH9Sq5DUw8fIzrBT9H4CO3LvXjIcf7-wRpuG45cr_vFz9bATntUBkF2a7DVs1cB5Z97V-YcnKlquef4e4N6gMnZopiFOkZ_kb1b7aZ1H5ScXy1bqfPi9r0q-7PoohTUYaHpvLlQE6aWf5fUkm82w_en6vHFXQAyx1YAXuvvj1upOHeCmwNd6FYLKLGCXMw?authuser=0 -O /content/drive/MyDrive/Colab\\ Notebooks/instant-ngp/data/nerf/test/m.mp4"
      ],
      "metadata": {
        "id": "aijHZB0zJwWB"
      },
      "execution_count": null,
      "outputs": []
    },
    {
      "cell_type": "code",
      "source": [
        "#%cd /content/drive/MyDrive/Colab\\ Notebooks/instant-ngp/data/nerf/test\n",
        "#!python /content/drive/MyDrive/Colab\\ Notebooks/instant-ngp/scripts/colmap2nerf.py \\\n",
        "#    --video_in m.mp4 \\\n",
        "#    --video_fps 2 \\\n",
        "#    --run_colmap \\\n",
        "#    --aabb_scale 16 \\\n",
        "#    --out /content/drive/MyDrive/Colab\\ Notebooks/instant-ngp/data/nerf/test"
      ],
      "metadata": {
        "id": "ZhdhumQiYno3"
      },
      "execution_count": null,
      "outputs": []
    },
    {
      "cell_type": "code",
      "source": [
        "%cd /content/drive/MyDrive/Colab\\ Notebooks/instant-ngp\n",
        "!python scripts/run.py \\\n",
        "    --mode nerf \\\n",
        "    --training_data /content/drive/MyDrive/Colab\\ Notebooks/instant-ngp/data/nerf/test \\\n",
        "    --n_steps 100000 \\\n",
        "    --save_snapshot fox200000.msgpack \\\n",
        "    --save_mesh out300.ply \\\n",
        "    --marching_cubes_res 300"
      ],
      "metadata": {
        "id": "3NeTLcHaZ9P7",
        "outputId": "31069a13-9d60-4f67-b8c8-5a2ddce72056",
        "colab": {
          "base_uri": "https://localhost:8080/"
        }
      },
      "execution_count": 10,
      "outputs": [
        {
          "output_type": "stream",
          "name": "stdout",
          "text": [
            "Training: 100% 99996/100000 [43:41<00:00, 38.15step/s, loss=0.00715]\n",
            "Saving snapshot  fox200000.msgpack\n",
            "Generating mesh via marching cubes and saving to out300.ply. Resolution=[300,300,300]\n",
            "15:57:00 \u001b[0;36mINFO     \u001b[0m#vertices=1018772 #triangles=1685162\u001b[K\u001b[0m\n",
            "\u001b[0m"
          ]
        }
      ]
    },
    {
      "cell_type": "code",
      "source": [
        "%cd /content/drive/MyDrive/Colab\\ Notebooks/instant-ngp\n",
        "!python scripts/run.py \\\n",
        "    --mode nerf \\\n",
        "    --training_data /content/drive/MyDrive/Colab\\ Notebooks/instant-ngp/data/nerf/test \\\n",
        "    --n_steps 100000 \\\n",
        "    --load_snapshot fox200000.msgpack \\\n",
        "    --save_mesh out700.ply \\\n",
        "    --marching_cubes_res 700 \\\n",
        "    --video_camera_path \"\"\\\n",
        "    --video_output k.mp4"
      ],
      "metadata": {
        "colab": {
          "base_uri": "https://localhost:8080/"
        },
        "id": "0eI7J8SWqSWo",
        "outputId": "4ac02668-c170-4038-9c9b-a16917f25c55"
      },
      "execution_count": 17,
      "outputs": [
        {
          "output_type": "stream",
          "name": "stdout",
          "text": [
            "/content/drive/MyDrive/Colab Notebooks/instant-ngp\n",
            "\u001b[0m16:12:59 \u001b[0;36mINFO     \u001b[0mLoading NeRF dataset from\u001b[K\u001b[0m\n",
            "16:12:59 \u001b[0;36mINFO     \u001b[0m  /content/drive/MyDrive/Colab Notebooks/instant-ngp/data/nerf/test/transforms.json\u001b[K\u001b[0m\n",
            "16:12:59 \u001b[0;34mPROGRESS \u001b[0m[]   0% (  0/142)  0s/inf\u001b[K\u001b[0m\u001b[0G16:12:59 \u001b[0;34mPROGRESS \u001b[0m[]   1% (  1/142)  0s/12s\u001b[K\u001b[0m\u001b[0G16:12:59 \u001b[0;34mPROGRESS \u001b[0m[]   1% (  2/142) 0s/8s\u001b[K\u001b[0m\u001b[0G16:12:59 \u001b[0;34mPROGRESS \u001b[0m[]   2% (  3/142) 0s/8s\u001b[K\u001b[0m\u001b[0G16:12:59 \u001b[0;34mPROGRESS \u001b[0m[]   3% (  4/142) 0s/8s\u001b[K\u001b[0m\u001b[0G16:12:59 \u001b[0;34mPROGRESS \u001b[0m[]   4% (  5/142) 0s/8s\u001b[K\u001b[0m\u001b[0G16:12:59 \u001b[0;34mPROGRESS \u001b[0m[]   4% (  6/142) 0s/8s\u001b[K\u001b[0m\u001b[0G16:12:59 \u001b[0;34mPROGRESS \u001b[0m[]   5% (  7/142) 0s/8s\u001b[K\u001b[0m\u001b[0G16:12:59 \u001b[0;34mPROGRESS \u001b[0m[]   6% (  8/142) 0s/8s\u001b[K\u001b[0m\u001b[0G16:12:59 \u001b[0;34mPROGRESS \u001b[0m[]   6% (  9/142) 0s/8s\u001b[K\u001b[0m\u001b[0G16:13:00 \u001b[0;34mPROGRESS \u001b[0m[]   7% ( 10/142) 0s/8s\u001b[K\u001b[0m\u001b[0G16:13:00 \u001b[0;34mPROGRESS \u001b[0m[]   8% ( 11/142) 0s/8s\u001b[K\u001b[0m\u001b[0G16:13:00 \u001b[0;34mPROGRESS \u001b[0m[]   8% ( 12/142) 0s/8s\u001b[K\u001b[0m\u001b[0G16:13:00 \u001b[0;34mPROGRESS \u001b[0m[]   9% ( 13/142) 0s/8s\u001b[K\u001b[0m\u001b[0G16:13:00 \u001b[0;34mPROGRESS \u001b[0m[]  10% ( 14/142) 0s/8s\u001b[K\u001b[0m\u001b[0G16:13:00 \u001b[0;34mPROGRESS \u001b[0m[]  11% ( 15/142) 0s/8s\u001b[K\u001b[0m\u001b[0G16:13:00 \u001b[0;34mPROGRESS \u001b[0m[]  11% ( 16/142) 0s/8s\u001b[K\u001b[0m\u001b[0G16:13:00 \u001b[0;34mPROGRESS \u001b[0m[]  12% ( 17/142) 1s/8s\u001b[K\u001b[0m\u001b[0G16:13:00 \u001b[0;34mPROGRESS \u001b[0m[]  13% ( 18/142) 1s/8s\u001b[K\u001b[0m\u001b[0G16:13:00 \u001b[0;34mPROGRESS \u001b[0m[]  13% ( 19/142) 1s/8s\u001b[K\u001b[0m\u001b[0G16:13:00 \u001b[0;34mPROGRESS \u001b[0m[]  14% ( 20/142) 1s/8s\u001b[K\u001b[0m\u001b[0G16:13:00 \u001b[0;34mPROGRESS \u001b[0m[]  15% ( 21/142) 1s/8s\u001b[K\u001b[0m\u001b[0G16:13:00 \u001b[0;34mPROGRESS \u001b[0m[]  15% ( 22/142) 1s/8s\u001b[K\u001b[0m\u001b[0G16:13:00 \u001b[0;34mPROGRESS \u001b[0m[]  16% ( 23/142) 1s/8s\u001b[K\u001b[0m\u001b[0G16:13:00 \u001b[0;34mPROGRESS \u001b[0m[]  17% ( 24/142) 1s/8s\u001b[K\u001b[0m\u001b[0G16:13:00 \u001b[0;34mPROGRESS \u001b[0m[]  18% ( 25/142) 1s/8s\u001b[K\u001b[0m\u001b[0G16:13:00 \u001b[0;34mPROGRESS \u001b[0m[]  18% ( 26/142) 1s/8s\u001b[K\u001b[0m\u001b[0G16:13:01 \u001b[0;34mPROGRESS \u001b[0m[]  19% ( 27/142) 1s/8s\u001b[K\u001b[0m\u001b[0G16:13:01 \u001b[0;34mPROGRESS \u001b[0m[]  20% ( 28/142) 1s/8s\u001b[K\u001b[0m\u001b[0G16:13:01 \u001b[0;34mPROGRESS \u001b[0m[]  20% ( 29/142) 1s/8s\u001b[K\u001b[0m\u001b[0G16:13:01 \u001b[0;34mPROGRESS \u001b[0m[]  21% ( 30/142) 1s/8s\u001b[K\u001b[0m\u001b[0G16:13:01 \u001b[0;34mPROGRESS \u001b[0m[]  22% ( 31/142) 1s/8s\u001b[K\u001b[0m\u001b[0G16:13:01 \u001b[0;34mPROGRESS \u001b[0m[]  23% ( 32/142) 1s/8s\u001b[K\u001b[0m\u001b[0G16:13:01 \u001b[0;34mPROGRESS \u001b[0m[]  23% ( 33/142) 1s/8s\u001b[K\u001b[0m\u001b[0G16:13:01 \u001b[0;34mPROGRESS \u001b[0m[]  24% ( 34/142) 2s/8s\u001b[K\u001b[0m\u001b[0G16:13:01 \u001b[0;34mPROGRESS \u001b[0m[]  25% ( 35/142) 2s/8s\u001b[K\u001b[0m\u001b[0G16:13:01 \u001b[0;34mPROGRESS \u001b[0m[]  25% ( 36/142) 2s/8s\u001b[K\u001b[0m\u001b[0G16:13:01 \u001b[0;34mPROGRESS \u001b[0m[]  26% ( 37/142) 2s/8s\u001b[K\u001b[0m\u001b[0G16:13:01 \u001b[0;34mPROGRESS \u001b[0m[]  27% ( 38/142) 2s/8s\u001b[K\u001b[0m\u001b[0G16:13:01 \u001b[0;34mPROGRESS \u001b[0m[]  27% ( 39/142) 2s/8s\u001b[K\u001b[0m\u001b[0G16:13:01 \u001b[0;34mPROGRESS \u001b[0m[]  28% ( 40/142) 2s/8s\u001b[K\u001b[0m\u001b[0G16:13:01 \u001b[0;34mPROGRESS \u001b[0m[]  29% ( 41/142) 2s/8s\u001b[K\u001b[0m\u001b[0G16:13:01 \u001b[0;34mPROGRESS \u001b[0m[]  30% ( 42/142) 2s/8s\u001b[K\u001b[0m\u001b[0G16:13:01 \u001b[0;34mPROGRESS \u001b[0m[]  30% ( 43/142) 2s/8s\u001b[K\u001b[0m\u001b[0G16:13:02 \u001b[0;34mPROGRESS \u001b[0m[]  31% ( 44/142) 2s/8s\u001b[K\u001b[0m\u001b[0G16:13:02 \u001b[0;34mPROGRESS \u001b[0m[]  32% ( 45/142) 2s/8s\u001b[K\u001b[0m\u001b[0G16:13:02 \u001b[0;34mPROGRESS \u001b[0m[]  32% ( 46/142) 2s/8s\u001b[K\u001b[0m\u001b[0G16:13:02 \u001b[0;34mPROGRESS \u001b[0m[]  33% ( 47/142) 2s/8s\u001b[K\u001b[0m\u001b[0G16:13:02 \u001b[0;34mPROGRESS \u001b[0m[]  34% ( 48/142) 2s/8s\u001b[K\u001b[0m\u001b[0G16:13:02 \u001b[0;34mPROGRESS \u001b[0m[]  35% ( 49/142) 2s/8s\u001b[K\u001b[0m\u001b[0G16:13:02 \u001b[0;34mPROGRESS \u001b[0m[]  35% ( 50/142) 2s/8s\u001b[K\u001b[0m\u001b[0G16:13:02 \u001b[0;34mPROGRESS \u001b[0m[]  36% ( 51/142) 2s/8s\u001b[K\u001b[0m\u001b[0G16:13:02 \u001b[0;34mPROGRESS \u001b[0m[]  37% ( 52/142) 3s/8s\u001b[K\u001b[0m\u001b[0G16:13:02 \u001b[0;34mPROGRESS \u001b[0m[]  37% ( 53/142) 3s/8s\u001b[K\u001b[0m\u001b[0G16:13:02 \u001b[0;34mPROGRESS \u001b[0m[]  38% ( 54/142) 3s/8s\u001b[K\u001b[0m\u001b[0G16:13:02 \u001b[0;34mPROGRESS \u001b[0m[]  39% ( 55/142) 3s/8s\u001b[K\u001b[0m\u001b[0G16:13:02 \u001b[0;34mPROGRESS \u001b[0m[]  39% ( 56/142) 3s/8s\u001b[K\u001b[0m\u001b[0G16:13:02 \u001b[0;34mPROGRESS \u001b[0m[]  40% ( 57/142) 3s/8s\u001b[K\u001b[0m\u001b[0G16:13:02 \u001b[0;34mPROGRESS \u001b[0m[]  41% ( 58/142) 3s/8s\u001b[K\u001b[0m\u001b[0G16:13:02 \u001b[0;34mPROGRESS \u001b[0m[]  42% ( 59/142) 3s/8s\u001b[K\u001b[0m\u001b[0G16:13:02 \u001b[0;34mPROGRESS \u001b[0m[]  42% ( 60/142) 3s/8s\u001b[K\u001b[0m\u001b[0G16:13:03 \u001b[0;34mPROGRESS \u001b[0m[]  43% ( 61/142) 3s/8s\u001b[K\u001b[0m\u001b[0G16:13:03 \u001b[0;34mPROGRESS \u001b[0m[]  44% ( 62/142) 3s/8s\u001b[K\u001b[0m\u001b[0G16:13:03 \u001b[0;34mPROGRESS \u001b[0m[]  44% ( 63/142) 3s/8s\u001b[K\u001b[0m\u001b[0G16:13:03 \u001b[0;34mPROGRESS \u001b[0m[]  45% ( 64/142) 3s/8s\u001b[K\u001b[0m\u001b[0G16:13:03 \u001b[0;34mPROGRESS \u001b[0m[]  46% ( 65/142) 3s/8s\u001b[K\u001b[0m\u001b[0G16:13:03 \u001b[0;34mPROGRESS \u001b[0m[]  46% ( 66/142) 3s/8s\u001b[K\u001b[0m\u001b[0G16:13:03 \u001b[0;34mPROGRESS \u001b[0m[]  47% ( 67/142) 3s/8s\u001b[K\u001b[0m\u001b[0G16:13:03 \u001b[0;34mPROGRESS \u001b[0m[]  48% ( 68/142) 3s/8s\u001b[K\u001b[0m\u001b[0G16:13:03 \u001b[0;34mPROGRESS \u001b[0m[]  49% ( 69/142) 4s/8s\u001b[K\u001b[0m\u001b[0G16:13:03 \u001b[0;34mPROGRESS \u001b[0m[]  49% ( 70/142) 4s/8s\u001b[K\u001b[0m\u001b[0G16:13:03 \u001b[0;34mPROGRESS \u001b[0m[]  50% ( 71/142) 4s/8s\u001b[K\u001b[0m\u001b[0G16:13:03 \u001b[0;34mPROGRESS \u001b[0m[]  51% ( 72/142) 4s/8s\u001b[K\u001b[0m\u001b[0G16:13:03 \u001b[0;34mPROGRESS \u001b[0m[]  51% ( 73/142) 4s/8s\u001b[K\u001b[0m\u001b[0G16:13:03 \u001b[0;34mPROGRESS \u001b[0m[]  52% ( 74/142) 4s/8s\u001b[K\u001b[0m\u001b[0G16:13:03 \u001b[0;34mPROGRESS \u001b[0m[]  53% ( 75/142) 4s/8s\u001b[K\u001b[0m\u001b[0G16:13:03 \u001b[0;34mPROGRESS \u001b[0m[]  54% ( 76/142) 4s/8s\u001b[K\u001b[0m\u001b[0G16:13:03 \u001b[0;34mPROGRESS \u001b[0m[]  54% ( 77/142) 4s/8s\u001b[K\u001b[0m\u001b[0G16:13:04 \u001b[0;34mPROGRESS \u001b[0m[]  55% ( 78/142) 4s/8s\u001b[K\u001b[0m\u001b[0G16:13:04 \u001b[0;34mPROGRESS \u001b[0m[]  56% ( 79/142) 4s/8s\u001b[K\u001b[0m\u001b[0G16:13:04 \u001b[0;34mPROGRESS \u001b[0m[]  56% ( 80/142) 4s/8s\u001b[K\u001b[0m\u001b[0G16:13:04 \u001b[0;34mPROGRESS \u001b[0m[]  57% ( 81/142) 4s/8s\u001b[K\u001b[0m\u001b[0G16:13:04 \u001b[0;34mPROGRESS \u001b[0m[]  58% ( 82/142) 4s/8s\u001b[K\u001b[0m\u001b[0G16:13:04 \u001b[0;34mPROGRESS \u001b[0m[]  58% ( 83/142) 4s/8s\u001b[K\u001b[0m\u001b[0G16:13:04 \u001b[0;34mPROGRESS \u001b[0m[]  59% ( 84/142) 4s/8s\u001b[K\u001b[0m\u001b[0G16:13:04 \u001b[0;34mPROGRESS \u001b[0m[]  60% ( 85/142) 5s/8s\u001b[K\u001b[0m\u001b[0G16:13:04 \u001b[0;34mPROGRESS \u001b[0m[]  61% ( 86/142) 5s/8s\u001b[K\u001b[0m\u001b[0G16:13:04 \u001b[0;34mPROGRESS \u001b[0m[]  61% ( 87/142) 5s/8s\u001b[K\u001b[0m\u001b[0G16:13:04 \u001b[0;34mPROGRESS \u001b[0m[]  62% ( 88/142) 5s/8s\u001b[K\u001b[0m\u001b[0G16:13:04 \u001b[0;34mPROGRESS \u001b[0m[]  63% ( 89/142) 5s/8s\u001b[K\u001b[0m\u001b[0G16:13:04 \u001b[0;34mPROGRESS \u001b[0m[]  63% ( 90/142) 5s/8s\u001b[K\u001b[0m\u001b[0G16:13:04 \u001b[0;34mPROGRESS \u001b[0m[]  64% ( 91/142) 5s/8s\u001b[K\u001b[0m\u001b[0G16:13:04 \u001b[0;34mPROGRESS \u001b[0m[]  65% ( 92/142) 5s/8s\u001b[K\u001b[0m\u001b[0G16:13:04 \u001b[0;34mPROGRESS \u001b[0m[]  65% ( 93/142) 5s/8s\u001b[K\u001b[0m\u001b[0G16:13:05 \u001b[0;34mPROGRESS \u001b[0m[]  66% ( 94/142) 5s/8s\u001b[K\u001b[0m\u001b[0G16:13:05 \u001b[0;34mPROGRESS \u001b[0m[]  67% ( 95/142) 5s/8s\u001b[K\u001b[0m\u001b[0G16:13:05 \u001b[0;34mPROGRESS \u001b[0m[]  68% ( 96/142) 5s/8s\u001b[K\u001b[0m\u001b[0G16:13:05 \u001b[0;34mPROGRESS \u001b[0m[]  68% ( 97/142) 5s/8s\u001b[K\u001b[0m\u001b[0G16:13:05 \u001b[0;34mPROGRESS \u001b[0m[]  69% ( 98/142) 5s/8s\u001b[K\u001b[0m\u001b[0G16:13:05 \u001b[0;34mPROGRESS \u001b[0m[]  70% ( 99/142) 5s/8s\u001b[K\u001b[0m\u001b[0G16:13:05 \u001b[0;34mPROGRESS \u001b[0m[]  70% (100/142) 5s/8s\u001b[K\u001b[0m\u001b[0G16:13:05 \u001b[0;34mPROGRESS \u001b[0m[]  71% (101/142) 5s/8s\u001b[K\u001b[0m\u001b[0G16:13:05 \u001b[0;34mPROGRESS \u001b[0m[]  72% (102/142) 6s/8s\u001b[K\u001b[0m\u001b[0G16:13:05 \u001b[0;34mPROGRESS \u001b[0m[]  73% (103/142) 6s/8s\u001b[K\u001b[0m\u001b[0G16:13:05 \u001b[0;34mPROGRESS \u001b[0m[]  73% (104/142) 6s/8s\u001b[K\u001b[0m\u001b[0G16:13:05 \u001b[0;34mPROGRESS \u001b[0m[]  74% (105/142) 6s/8s\u001b[K\u001b[0m\u001b[0G16:13:05 \u001b[0;34mPROGRESS \u001b[0m[]  75% (106/142) 6s/8s\u001b[K\u001b[0m\u001b[0G16:13:05 \u001b[0;34mPROGRESS \u001b[0m[]  75% (107/142) 6s/8s\u001b[K\u001b[0m\u001b[0G16:13:05 \u001b[0;34mPROGRESS \u001b[0m[]  76% (108/142) 6s/8s\u001b[K\u001b[0m\u001b[0G16:13:05 \u001b[0;34mPROGRESS \u001b[0m[]  77% (109/142) 6s/8s\u001b[K\u001b[0m\u001b[0G16:13:05 \u001b[0;34mPROGRESS \u001b[0m[]  77% (110/142) 6s/8s\u001b[K\u001b[0m\u001b[0G16:13:06 \u001b[0;34mPROGRESS \u001b[0m[]  78% (111/142) 6s/8s\u001b[K\u001b[0m\u001b[0G16:13:06 \u001b[0;34mPROGRESS \u001b[0m[]  79% (112/142) 6s/8s\u001b[K\u001b[0m\u001b[0G16:13:06 \u001b[0;34mPROGRESS \u001b[0m[]  80% (113/142) 6s/8s\u001b[K\u001b[0m\u001b[0G16:13:06 \u001b[0;34mPROGRESS \u001b[0m[]  80% (114/142) 6s/8s\u001b[K\u001b[0m\u001b[0G16:13:06 \u001b[0;34mPROGRESS \u001b[0m[]  81% (115/142) 6s/8s\u001b[K\u001b[0m\u001b[0G16:13:06 \u001b[0;34mPROGRESS \u001b[0m[]  82% (116/142) 6s/8s\u001b[K\u001b[0m\u001b[0G16:13:06 \u001b[0;34mPROGRESS \u001b[0m[]  82% (117/142) 6s/8s\u001b[K\u001b[0m\u001b[0G16:13:06 \u001b[0;34mPROGRESS \u001b[0m[]  83% (118/142) 7s/8s\u001b[K\u001b[0m\u001b[0G16:13:06 \u001b[0;34mPROGRESS \u001b[0m[]  84% (119/142) 7s/8s\u001b[K\u001b[0m\u001b[0G16:13:06 \u001b[0;34mPROGRESS \u001b[0m[]  85% (120/142) 7s/8s\u001b[K\u001b[0m\u001b[0G16:13:06 \u001b[0;34mPROGRESS \u001b[0m[]  85% (121/142) 7s/8s\u001b[K\u001b[0m\u001b[0G16:13:06 \u001b[0;34mPROGRESS \u001b[0m[]  86% (122/142) 7s/8s\u001b[K\u001b[0m\u001b[0G16:13:06 \u001b[0;34mPROGRESS \u001b[0m[]  87% (123/142) 7s/8s\u001b[K\u001b[0m\u001b[0G16:13:06 \u001b[0;34mPROGRESS \u001b[0m[]  87% (124/142) 7s/8s\u001b[K\u001b[0m\u001b[0G16:13:06 \u001b[0;34mPROGRESS \u001b[0m[]  88% (125/142) 7s/8s\u001b[K\u001b[0m\u001b[0G16:13:06 \u001b[0;34mPROGRESS \u001b[0m[]  89% (126/142) 7s/8s\u001b[K\u001b[0m\u001b[0G16:13:07 \u001b[0;34mPROGRESS \u001b[0m[]  89% (127/142) 7s/8s\u001b[K\u001b[0m\u001b[0G16:13:07 \u001b[0;34mPROGRESS \u001b[0m[]  90% (128/142) 7s/8s\u001b[K\u001b[0m\u001b[0G16:13:07 \u001b[0;34mPROGRESS \u001b[0m[]  91% (129/142) 7s/8s\u001b[K\u001b[0m\u001b[0G16:13:07 \u001b[0;34mPROGRESS \u001b[0m[]  92% (130/142) 7s/8s\u001b[K\u001b[0m\u001b[0G16:13:07 \u001b[0;34mPROGRESS \u001b[0m[]  92% (131/142) 7s/8s\u001b[K\u001b[0m\u001b[0G16:13:07 \u001b[0;34mPROGRESS \u001b[0m[]  93% (132/142) 7s/8s\u001b[K\u001b[0m\u001b[0G16:13:07 \u001b[0;34mPROGRESS \u001b[0m[]  94% (133/142) 7s/8s\u001b[K\u001b[0m\u001b[0G16:13:07 \u001b[0;34mPROGRESS \u001b[0m[]  94% (134/142) 7s/8s\u001b[K\u001b[0m\u001b[0G16:13:07 \u001b[0;34mPROGRESS \u001b[0m[]  95% (135/142) 8s/8s\u001b[K\u001b[0m\u001b[0G16:13:07 \u001b[0;34mPROGRESS \u001b[0m[]  96% (136/142) 8s/8s\u001b[K\u001b[0m\u001b[0G16:13:07 \u001b[0;34mPROGRESS \u001b[0m[]  96% (137/142) 8s/8s\u001b[K\u001b[0m\u001b[0G16:13:07 \u001b[0;34mPROGRESS \u001b[0m[]  97% (138/142) 8s/8s\u001b[K\u001b[0m\u001b[0G16:13:07 \u001b[0;34mPROGRESS \u001b[0m[]  98% (139/142) 8s/8s\u001b[K\u001b[0m\u001b[0G16:13:07 \u001b[0;34mPROGRESS \u001b[0m[]  99% (140/142) 8s/8s\u001b[K\u001b[0m\u001b[0G16:13:07 \u001b[0;34mPROGRESS \u001b[0m[]  99% (141/142) 8s/8s\u001b[K\u001b[0m\u001b[0G16:13:07 \u001b[0;34mPROGRESS \u001b[0m[] 100% (142/142) 8s/8s\u001b[K\u001b[0m\u001b[0G16:13:07 \u001b[0;32mSUCCESS  \u001b[0mLoaded 142 images after 8s\u001b[K\u001b[0m\n",
            "16:13:07 \u001b[0;36mINFO     \u001b[0m  cam_aabb=[min=[-1.93026,0.392116,0.435864], max=[2.41495,1.69888,0.716924]]\u001b[K\u001b[0m\n",
            "Loading snapshot  fox200000.msgpack\n",
            "16:13:11 \u001b[0;36mINFO     \u001b[0mLoading network config from: fox200000.msgpack\u001b[K\u001b[0m\n",
            "16:13:11 \u001b[0;36mINFO     \u001b[0mGridEncoding:  Nmin=16 b=1.66248 F=2 T=2^19 L=16\u001b[K\u001b[0m\n",
            "16:13:11 \u001b[0;36mINFO     \u001b[0mDensity model: 3--[HashGrid]-->32--[FullyFusedMLP(neurons=64,layers=3)]-->1\u001b[K\u001b[0m\n",
            "16:13:11 \u001b[0;36mINFO     \u001b[0mColor model:   3--[Composite]-->16+16--[FullyFusedMLP(neurons=64,layers=4)]-->3\u001b[K\u001b[0m\n",
            "16:13:11 \u001b[0;36mINFO     \u001b[0m  total_encoding_params=13623184 total_network_params=10240\u001b[K\u001b[0m\n",
            "Training:   0% 0/100000 [00:00<?, ?step/s]\n",
            "Generating mesh via marching cubes and saving to out700.ply. Resolution=[700,700,700]\n",
            "16:13:14 \u001b[0;36mINFO     \u001b[0m#vertices=12811356 #triangles=21871668\u001b[K\u001b[0m\n",
            "\u001b[0m"
          ]
        }
      ]
    },
    {
      "cell_type": "code",
      "source": [
        "%cd /content/drive/MyDrive/Colab\\ Notebooks/instant-ngp\n",
        "!./build/testbed --scene /data/nerf/test"
      ],
      "metadata": {
        "colab": {
          "base_uri": "https://localhost:8080/"
        },
        "id": "Sd1lhx_reFlm",
        "outputId": "3b13de7c-81c6-4e53-bd1e-877f3f389a5d"
      },
      "execution_count": 12,
      "outputs": [
        {
          "output_type": "stream",
          "name": "stdout",
          "text": [
            "/content/drive/MyDrive/Colab Notebooks/instant-ngp\n",
            "/bin/bash: ./build/testbed: Permission denied\n"
          ]
        }
      ]
    },
    {
      "cell_type": "code",
      "source": [
        ""
      ],
      "metadata": {
        "id": "1v1OFv7Vjd5j"
      },
      "execution_count": null,
      "outputs": []
    }
  ],
  "metadata": {
    "colab": {
      "collapsed_sections": [],
      "name": "Copy of instant_ngp.ipynb",
      "provenance": [],
      "include_colab_link": true
    },
    "kernelspec": {
      "display_name": "Python 3",
      "name": "python3"
    },
    "language_info": {
      "name": "python"
    },
    "accelerator": "GPU"
  },
  "nbformat": 4,
  "nbformat_minor": 0
}