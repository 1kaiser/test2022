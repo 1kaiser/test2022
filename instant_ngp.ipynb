{
  "cells": [
    {
      "cell_type": "markdown",
      "metadata": {
        "id": "view-in-github",
        "colab_type": "text"
      },
      "source": [
        "<a href=\"https://colab.research.google.com/github/1kaiser/test2022/blob/main/instant_ngp.ipynb\" target=\"_parent\"><img src=\"https://colab.research.google.com/assets/colab-badge.svg\" alt=\"Open In Colab\"/></a>"
      ]
    },
    {
      "cell_type": "code",
      "execution_count": null,
      "metadata": {
        "id": "QJC-0GitoJEh"
      },
      "outputs": [],
      "source": [
        "!nvidia-smi"
      ]
    },
    {
      "cell_type": "code",
      "execution_count": null,
      "metadata": {
        "id": "yKFsL8wSdQ8Q"
      },
      "outputs": [],
      "source": [
        "!apt update && apt install build-essential git python3-dev python3-pip libopenexr-dev libxi-dev libglfw3-dev libglew-dev libomp-dev libxinerama-dev libxcursor-dev\n",
        "!pip install --upgrade cmake"
      ]
    },
    {
      "cell_type": "code",
      "source": [
        "from google.colab import drive\n",
        "drive.mount('/content/drive')"
      ],
      "metadata": {
        "id": "Y7wQacTRHYCp"
      },
      "execution_count": null,
      "outputs": []
    },
    {
      "cell_type": "code",
      "source": [
        "%cd /content/drive/MyDrive/Colab\\ Notebooks/"
      ],
      "metadata": {
        "id": "lJn_ZhDXHnjg"
      },
      "execution_count": null,
      "outputs": []
    },
    {
      "cell_type": "code",
      "execution_count": null,
      "metadata": {
        "id": "ijgdl-TUcxnd"
      },
      "outputs": [],
      "source": [
        "!git clone --recursive https://github.com/nvlabs/instant-ngp"
      ]
    },
    {
      "cell_type": "code",
      "source": [
        "%cd instant-ngp"
      ],
      "metadata": {
        "id": "FNbpHqnGL7ty"
      },
      "execution_count": null,
      "outputs": []
    },
    {
      "cell_type": "code",
      "source": [
        "!git pull"
      ],
      "metadata": {
        "id": "xmRL54AFUbgZ"
      },
      "execution_count": null,
      "outputs": []
    },
    {
      "cell_type": "code",
      "source": [
        "!git submodule update"
      ],
      "metadata": {
        "id": "uTORTX8eMyZx"
      },
      "execution_count": null,
      "outputs": []
    },
    {
      "cell_type": "code",
      "execution_count": null,
      "metadata": {
        "id": "B7E55zXYc1gD"
      },
      "outputs": [],
      "source": [
        "#%env TCNN_CUDA_ARCHITECTURES=75\n",
        "!cmake . -B build -DNGP_BUILD_WITH_GUI=OFF"
      ]
    },
    {
      "cell_type": "code",
      "execution_count": null,
      "metadata": {
        "id": "cpuhlQmJcDPJ"
      },
      "outputs": [],
      "source": [
        "!cmake --build build --config RelWithDebInfo -j `nproc`"
      ]
    },
    {
      "cell_type": "code",
      "execution_count": null,
      "metadata": {
        "id": "TRfrshaCdpY8"
      },
      "outputs": [],
      "source": [
        "!pip3 install -r requirements.txt"
      ]
    },
    {
      "cell_type": "code",
      "source": [
        "%cd /content/drive/MyDrive/Colab\\ Notebooks/instant-ngp\n",
        "!python scripts/run.py --scene fox --n_steps 200000 --load_snapshot fox100000.msgpack --save_snapshot fox200000.msgpack\n",
        "%cd /content/drive/MyDrive/Colab\\ Notebooks/instant-ngp\n",
        "!python scripts/run.py --scene fox --n_steps 100000 --load_snapshot fox100000.msgpack --save_mesh out300.ply --marching_cubes_res 300"
      ],
      "metadata": {
        "id": "H8t_s7uKPjtv"
      },
      "execution_count": null,
      "outputs": []
    },
    {
      "cell_type": "code",
      "execution_count": null,
      "metadata": {
        "id": "iBgasygW4QJ_"
      },
      "outputs": [],
      "source": [
        "!./build/testbed --scene data/nerf/fox"
      ]
    },
    {
      "cell_type": "code",
      "source": [
        "!wget https://video-downloads.googleusercontent.com/AJ1zp9McPi3F31KFS0gVwjmBFa0eE7y0TvxnSihtlz3gWr0A9Xk2sUupjYNNpnM552RbcDVwpx7t7Wv_mee0A1hblnrDSCgSTPTSFOo1yNYIZGf7VizbRDUBrkC11FpfijzkA19_S-JWBnWhqD2wlJLSZacI8-m6PkaFqCi1M-3O-xvPy4vX4lws53M1EhSaCH_Y5QKgs0Go5S9t2wRYgh_xpYSZO02FGyw49GHBhNcJ4KIoYyc_G34TdUb2RGSJeAE3afyiXAq8cRd8WGfLwGMxPhOEvqypWRuREnn3VTGX8ORN5R5zO8hPt7v7Wh1uBALX2dk-FLwkPBCLb_UfCj_bRQkLvS0DBJ3RH2CGgHLr95xAcBmyqP9nzV-u-xRyhjHkoGOPipgcdwK8Z_AezcT-a3GZ6cdyygYvWr0w_6HYBcB0ICwuD9f2SJEr1oNXghSei9Uld9hcPVs7uD0wveui6z8ifcQ19NjRKJ4xlKeblFnM8QYOFdtS2URpEYNLXUHadUi-uhWdAWwcqYDOqQQXUYJtJzGSB_jDFyhOHLi7ai52JTTc8zGL8BwR86e_xmcclrYNXTI3-pC1rod-pCiVfwW1-EC7rtj0hNHTIZA7VfZXBHR39JOjyDP_zOcnlh6Tdn51i5wwp-Mtk0SXbkrkkGYfiHb6wfQToZGWimv1W18tBzEA12kyPl_WLnCPNzSuRXWhTD2BaDgzHnG68Fx__XHW7BefOnPhvEVVMkpsAyYjxViiNWBMShxgW440WIAY3Hn0JuFLAecKJ0pXa520lfm_F2ekd-KVbH9Sq5DUw8fIzrBT9H4CO3LvXjIcf7-wRpuG45cr_vFz9bATntUBkF2a7DVs1cB5Z97V-YcnKlquef4e4N6gMnZopiFOkZ_kb1b7aZ1H5ScXy1bqfPi9r0q-7PoohTUYaHpvLlQE6aWf5fUkm82w_en6vHFXQAyx1YAXuvvj1upOHeCmwNd6FYLKLGCXMw?authuser=0 -O /content/drive/MyDrive/Colab\\ Notebooks/instant-ngp/data/nerf/test/m.mp4"
      ],
      "metadata": {
        "id": "aijHZB0zJwWB"
      },
      "execution_count": null,
      "outputs": []
    },
    {
      "cell_type": "code",
      "source": [
        "%cd /content/drive/MyDrive/Colab\\ Notebooks/instant-ngp/data/nerf/test\n",
        "!python /content/drive/MyDrive/Colab\\ Notebooks/instant-ngp/scripts/colmap2nerf.py \\\n",
        "    --video_in m.mp4 \\\n",
        "    --video_fps 2 \\\n",
        "    --run_colmap \\\n",
        "    --aabb_scale 16 \\\n",
        "    --out /content/drive/MyDrive/Colab\\ Notebooks/instant-ngp/data/nerf/test"
      ],
      "metadata": {
        "id": "ZhdhumQiYno3"
      },
      "execution_count": null,
      "outputs": []
    },
    {
      "cell_type": "code",
      "source": [
        "%cd /content/drive/MyDrive/Colab\\ Notebooks/instant-ngp\n",
        "!python scripts/run.py \\\n",
        "    --mode nerf \\\n",
        "    --training_data /content/drive/MyDrive/Colab\\ Notebooks/instant-ngp/data/nerf/test \\\n",
        "    --n_steps 100000 \\\n",
        "    --save_snapshot fox200000.msgpack \\\n",
        "    --save_mesh out300.ply \\\n",
        "    --marching_cubes_res 300"
      ],
      "metadata": {
        "id": "3NeTLcHaZ9P7",
        "outputId": "31069a13-9d60-4f67-b8c8-5a2ddce72056",
        "colab": {
          "base_uri": "https://localhost:8080/"
        }
      },
      "execution_count": null,
      "outputs": [
        {
          "output_type": "stream",
          "name": "stdout",
          "text": [
            "Training:   8% 7947/100000 [03:41<39:17, 39.04step/s, loss=0.00786]"
          ]
        }
      ]
    },
    {
      "cell_type": "code",
      "source": [
        "!./build/testbed --scene data/nerf/fox"
      ],
      "metadata": {
        "id": "Sd1lhx_reFlm"
      },
      "execution_count": null,
      "outputs": []
    },
    {
      "cell_type": "code",
      "source": [
        "!sudo apt-get install colmap ffmpeg"
      ],
      "metadata": {
        "id": "GKpM5mMfmOrL"
      },
      "execution_count": null,
      "outputs": []
    }
  ],
  "metadata": {
    "colab": {
      "collapsed_sections": [],
      "name": "Copy of instant_ngp.ipynb",
      "provenance": [],
      "include_colab_link": true
    },
    "kernelspec": {
      "display_name": "Python 3",
      "name": "python3"
    },
    "language_info": {
      "name": "python"
    },
    "accelerator": "GPU"
  },
  "nbformat": 4,
  "nbformat_minor": 0
}