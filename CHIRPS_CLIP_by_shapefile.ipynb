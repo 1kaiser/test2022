{
  "nbformat": 4,
  "nbformat_minor": 0,
  "metadata": {
    "colab": {
      "name": "CHIRPS_CLIP_by_shapefile.ipynb",
      "provenance": [],
      "authorship_tag": "ABX9TyP1n8ButE5prUGioUfCZIqS",
      "include_colab_link": true
    },
    "kernelspec": {
      "name": "python3",
      "display_name": "Python 3"
    },
    "language_info": {
      "name": "python"
    }
  },
  "cells": [
    {
      "cell_type": "markdown",
      "metadata": {
        "id": "view-in-github",
        "colab_type": "text"
      },
      "source": [
        "<a href=\"https://colab.research.google.com/github/1kaiser/test2022/blob/main/CHIRPS_CLIP_by_shapefile.ipynb\" target=\"_parent\"><img src=\"https://colab.research.google.com/assets/colab-badge.svg\" alt=\"Open In Colab\"/></a>"
      ]
    },
    {
      "cell_type": "code",
      "source": [
        "!python -m pip install wget"
      ],
      "metadata": {
        "id": "YYSjS-VyLZo3"
      },
      "execution_count": null,
      "outputs": []
    },
    {
      "cell_type": "code",
      "source": [
        "import os, sys\n",
        "pwd = os.getcwd()\n",
        "print(pwd)"
      ],
      "metadata": {
        "id": "OxCCETKELRba"
      },
      "execution_count": null,
      "outputs": []
    },
    {
      "cell_type": "code",
      "execution_count": null,
      "metadata": {
        "id": "qAgxfZ8VIcVb"
      },
      "outputs": [],
      "source": [
        "os.chdir(pwd)\n",
        "\n",
        "import wget\n",
        "start_year = 1981 #yyyy\n",
        "end_year = 2022 #yyyy\n",
        "\n",
        "\n",
        "path = \"../\"\n",
        "download_dir = os.path.join(path,\"CHIRPS_Rainfall_Global\")\n",
        "if not os.path.exists(download_dir):\n",
        "    os.mkdirs(download_dir)\n",
        "\n",
        "base_site = \"https://data.chc.ucsb.edu/products/CHIRPS-2.0/global_daily/netcdf/p05/\"\n",
        "\n",
        "for year in range(start_year,end_year+1,1):\n",
        "    file_start_name = \"chirps-v2.0.\"\n",
        "    file_end_name = \".days_p05\"\n",
        "    file_ext_name = \".nc\"\n",
        "    file_name = \"{}{}{}{}\".format{file_start_name,year,file_end_name,file_ext_name}\n",
        "    url = \"{}/{}\".format(base_site,file_name)\n",
        "    print(\"{}{}\".format(\"\\nDownloading.....\",file_name))\n",
        "    wget.download(url,download_dir)\n",
        "    print(\"{}{}\".format(file_name,\" Downloaded Successfully!\"))\n",
        "print(\"\\nAll data HAve Been Downloaded Successfully!\\n\\n\\n\")"
      ]
    },
    {
      "cell_type": "markdown",
      "source": [
        "# processing extraction of required variables fro the netCDF files"
      ],
      "metadata": {
        "id": "q-okmo7eLzzR"
      }
    },
    {
      "cell_type": "code",
      "source": [
        "!python -m pip install netCDF4"
      ],
      "metadata": {
        "id": "ve8y4JVsLKNW"
      },
      "execution_count": null,
      "outputs": []
    },
    {
      "cell_type": "code",
      "source": [
        "import os, sys\n",
        "from netCDF4 import Dataset\n",
        "import pandas as pd\n",
        "from datetime import datetime,timedelta\n",
        "import matplotlib.pyplot as plt\n",
        "import numpy as np\n",
        "import datetime\n",
        "import warnings\n",
        "warnings.filterwarnings('ignore')\n",
        "%matplotlib inline"
      ],
      "metadata": {
        "id": "oTu8Ydz_LOZA"
      },
      "execution_count": null,
      "outputs": []
    },
    {
      "cell_type": "code",
      "source": [
        "data = Dataset(\"../CHIRPS_Rainfall_Global/chirps-v2.0.1992.days_p05.nc\",\"r\")\n",
        "print(\"here are all the variables of your data\")\n",
        "print(data.variable.keys())"
      ],
      "metadata": {
        "id": "zbAj8doBNCIS"
      },
      "execution_count": null,
      "outputs": []
    },
    {
      "cell_type": "code",
      "source": [
        "print(data)"
      ],
      "metadata": {
        "id": "p4DpUWdSNZ0U"
      },
      "execution_count": null,
      "outputs": []
    },
    {
      "cell_type": "code",
      "source": [
        "tp = data.variables['precip']\n",
        "tp"
      ],
      "metadata": {
        "id": "ajU9C4alNv-J"
      },
      "execution_count": null,
      "outputs": []
    },
    {
      "cell_type": "code",
      "source": [
        "unitp = data.variables['precip'].units\n",
        "unitp"
      ],
      "metadata": {
        "id": "2VJBd-DMN4Z4"
      },
      "execution_count": null,
      "outputs": []
    },
    {
      "cell_type": "code",
      "source": [
        "lats = data.variables['latitude']\n",
        "lats"
      ],
      "metadata": {
        "id": "BPKp5ROCOLQi"
      },
      "execution_count": null,
      "outputs": []
    },
    {
      "cell_type": "code",
      "source": [
        "lats = data.variables['latitude'][:]#gives all lattitudes data\n",
        "lats\n",
        "lons = data.variables['longitude'][:]\n",
        "lons\n",
        "times = data.variables['time']\n",
        "times\n",
        "times = data.variables['time'][:10] #first 10 time steps\n",
        "times\n",
        "unitt = data.variables['time'].units #take unit of time variables\n",
        "unitt"
      ],
      "metadata": {
        "id": "7dlMdK3EOCTQ"
      },
      "execution_count": null,
      "outputs": []
    },
    {
      "cell_type": "code",
      "source": [
        "#see the data in dayly intervals\n",
        "tp = data.variables['precip'][:]\n",
        "unitp = data.variables['precip'].units\n",
        "unitt = data.variables['time'].units #take unit of time variables\n",
        "times = data.variables['time'][:]\n",
        "lats = data.variables['latitude'][:]#gives all lattitudes data\n",
        "lons = data.variables['longitude'][:]"
      ],
      "metadata": {
        "id": "Om1RMVwtPOCz"
      },
      "execution_count": null,
      "outputs": []
    },
    {
      "cell_type": "code",
      "source": [
        "from mlp_toolkits.basemap import Basemap\n",
        "import matplotlib.pyplot as plt\n",
        "fig = plt.figure(figsize=(12,9))\n",
        "\n",
        "map = Basemap(projection = 'null',\n",
        "              llcrnrlat = -50,\n",
        "              urcrnrlat = 50,\n",
        "              llcrnelon = -180,\n",
        "              urcrnrlon = 180,\n",
        "              resolution = 'c')"
      ],
      "metadata": {
        "id": "xY_SaTRVUmVT"
      },
      "execution_count": null,
      "outputs": []
    },
    {
      "cell_type": "code",
      "source": [
        "map.drawcoastlines()\n",
        "map.drawcountries(colour='red')\n",
        "map.drawstates(colour='blue')\n",
        "map.drawcountries(colour='orange')\n",
        "map.drawrivers(colour='blue')\n",
        "plt.show()"
      ],
      "metadata": {
        "id": "s6VKOa-iV0We"
      },
      "execution_count": null,
      "outputs": []
    },
    {
      "cell_type": "code",
      "source": [
        "map.drawcoastlines()\n",
        "map.drawstates()\n",
        "map.drawcountries()\n",
        "map.drawmasks(land_colour='linen', ocean_color='#CCFFFF')\n",
        "map.drawcountries()\n",
        "plt.show()"
      ],
      "metadata": {
        "id": "dLL3Qd4xWaav"
      },
      "execution_count": null,
      "outputs": []
    },
    {
      "cell_type": "code",
      "source": [
        "lons, lats = np.meshgrid(lon, lat)\n",
        "x, y = map(lons, lats)"
      ],
      "metadata": {
        "id": "rDv2iQkAW1gR"
      },
      "execution_count": null,
      "outputs": []
    },
    {
      "cell_type": "code",
      "source": [
        "precip = map.contourf(x,y,tp[5,:,:])\n",
        "cb = map.colorbar(precip,\"bottom\", size=\"5%\", pad=\"2%\")\n",
        "plt.title('Daily Precipitation')\n",
        "cb.set_label('Rainfall ({})'.format(unitp))"
      ],
      "metadata": {
        "id": "OhN4lj8fXAj7"
      },
      "execution_count": null,
      "outputs": []
    },
    {
      "cell_type": "markdown",
      "source": [
        "making subset of the complete data for computation"
      ],
      "metadata": {
        "id": "ZQqlHCs4Xunl"
      }
    },
    {
      "cell_type": "code",
      "source": [
        "os.chdir(pwd)\n",
        "import os, sys\n",
        "from netCDF4 import Dataset\n",
        "import xarray as xr\n",
        "from numpy import *\n",
        "import time\n",
        "from datetime import date\n",
        "import gc\n",
        "import warnings\n",
        "warnings.filter warnings ('ignore')\n",
        "path \"C:/Users/mxr8032/Downloads/CHIRPS/\"\n",
        "output_dir = os.path.join (path, \"CHIRPS_Rainfaff_India\")\n",
        "if not os.path.exists(output_dir): \n",
        "  os.makedirs(output_dir)\n",
        "input_dir = os.path.join(path, \"CHIRPS_Rainfaff_Global\")\n",
        "latbound = [0,40]\n",
        "longbound [65,100]\n",
        "\n",
        "os.chdir(input_dir)\n",
        "for filename in os.listdir():\n",
        "    if filename.endswith('.nc'):\n",
        "      file_name, file_ext = os.path.splitext(filename)\n",
        "      new_filename = \"{}_{}{}\".format(file_name,'India',file_ext)\n",
        "      name_ncfile = \"{}_{}{}\".format(output_dir,'India',new_filename)\n",
        "      print(\"Noe reading {}\".format(filename))\n",
        "      data = Dataset(filename,'r')\n",
        "      print('\\nReading data from the main NetCDF file !')\n",
        "\n",
        "\n",
        "      times = data.variables['time'][:]\n",
        "      lats = data.variables['latitude'][:]#gives all lattitudes data\n",
        "      lons = data.variables['longitude'][:]\n",
        "      print(\"\\n Reading Completed!\")\n",
        "\n",
        "      lat_lb = argmin(abs(lats-latbound[0]))\n",
        "      lat_ub = argmin(abs(lats-latbound[1]))\n",
        "      lon_lb = argmin(abs(lons-longbound[0]))\n",
        "      lon_ub = argmin(abs(lons-longbound[1]))\n",
        "\n",
        "      print('\\n reading the variables values only between the range of the bounding box ! ')\n",
        "      lat_sub = data.variable['latitude'][lat_lb:lat:ub]\n",
        "      lon_sub = data.variable['latitude'][lon_lb:lon:ub]\n",
        "      print('\\n Reading complete ! ')\n",
        "\n",
        "      my_file = Dataset(new_file, 'w', format = 'NETCDF4')\n",
        "      my_file.Conventions = data.Conventions\n",
        "      my_file.title = data.title\n",
        "      my_file.history = data.history\n",
        "      my_file.version = data.version\n",
        "      my_file.date_created = data.date_created\n",
        "      my_file.creator_name = data.creator_name\n",
        "      my_file.creator_email = data.creator_email\n",
        "      my_file.institution = data.institution\n",
        "      my_file.documentation = data.documentation\n",
        "      my_file.creator_name = data.creator_name\n",
        "      my_file.date_created = data.date_created\n",
        "      my_file.documentation = data.documentation\n",
        "      my_file.date_subsetted = str(date.today ()) #time.ctime (time.time()) \n",
        "      my_file.subsetter_name = 'Md Arifur Rahman, UT Arlington, Tx, USA'\n",
        "      my_file.discription = 'Data Subsetted on: ' + str(date.today ())\n",
        "      my_file.reference = data.reference\n",
        "      my_file.comments = data.comments\n",
        "      my_file.acknowledgements = data. acknowledgements\n",
        "      my_file.ftp_url = data.ftp_url    \n",
        "      my_file.faq = data.faq print (\"\\nSuccessfully created new NetCDF File in the output directory!\n",
        "\n",
        "# Creating the Dimensions of new variables\n",
        "\n",
        "      print (\"\\nCreating Dimensions of new variables!\")\n",
        "      ldim = abs(lat_lb-lat_ub) # getting the no of element\n",
        "      Indim = abs(lon_ub-lon_lb)\n",
        "      tdim = len(tims)\n",
        "      longitude = my_file.createDimension ('longitude', Indim) \n",
        "      latitude = my_file.createDimension ('latitude', ldim)\n",
        "      time = my_file.createDimension ('time', tdim)\n",
        "      #my_file.createDimension ('longitude', Indim)\n",
        "      #my_file.createDimension ('latitude', ldim) #my_file.createDimension ('time', None)\n",
        "      print (\"\\nDone!!!\")   \n",
        "\n",
        "      lat = my_file.createVariable ('latitude', float32, ('latitude',)) \n",
        "      lat.units = data.variables['latitude'].units\n",
        "      lat.standard_name = data.variables['latitude'].standard_name\n",
        "      lat.long_name = data.variables['latitude'].long_name\n",
        "      lat.axis = data.variables['latitude'].axis\n",
        "\n",
        "      lon = my_file.createVariable ('longitude', float32, ('longitude',)) \n",
        "      lon.units = data.variables['longitude'].units\n",
        "      lon.standard_name = data.variables['longitude'].standard_name\n",
        "      lon.long_name = data.variables['longitude'].long_name\n",
        "      lon.axis = data.variables['longitude'].axis\n",
        "\n",
        "      tp = my_file.createVariable ('precip', float32, ('time','lattitude','longitude',),fill_value = -9999.0) \n",
        "      tp.units = data.variables['precip'].units\n",
        "      tp.standard_name = data.variables['precip'].standard_name\n",
        "      tp.long_name = data.variables['precip'].long_name\n",
        "      tp.time_step = data.variables['precip'].time_step\n",
        "\n",
        "      tp.geoststial_lat_min = 0.0\n",
        "      tp.geoststial_lat_max = 40.0\n",
        "      tp.geoststial_lon_min = 50.0\n",
        "      tp.geoststial_lon_max = 110.0\n",
        "\n",
        "      times = my_file.createVariable ('time', float32, ('time',))\n",
        "      times.units = data.variables['time'].units\n",
        "      times.standard_name = data.variables['time'].standard_name\n",
        "      times.calendar = data.variables['time'].calendar\n",
        "      times.axis = data.variables['time'].axis\n",
        "\n",
        "      print(\"\\n Successfully Created the Variables of new NetCDF file!\")\n",
        "      lat[:] = lat_sub\n",
        "      lon[:] = lon_sub\n",
        "      times[:] = tims\n",
        "      tp[:,:,:] = data.variables['precip'][:,lat_lb:lat_ub,lon_lb:lon_ub]\n",
        "      print(\"closing the files and clearing the memory\")\n",
        "      data.close()\n",
        "      my_file.close()\n",
        "      del data\n",
        "      del my_file\n",
        "      del tp\n",
        "      gc.collect()\n",
        "      print(\"memory cleared\")\n",
        "print(\"\\n\")\n",
        "print('!!!!!!!!!!!!!!!!!!!!!')\n",
        "print('!!!subsetting done!!!')\n",
        "print('!!!!!!!!!!!!!!!!!!!!!')\n"
      ],
      "metadata": {
        "id": "zrpWyWnoXzv5"
      },
      "execution_count": null,
      "outputs": []
    },
    {
      "cell_type": "code",
      "source": [
        ""
      ],
      "metadata": {
        "id": "tr6WKRLLhxI8"
      },
      "execution_count": null,
      "outputs": []
    }
  ]
}